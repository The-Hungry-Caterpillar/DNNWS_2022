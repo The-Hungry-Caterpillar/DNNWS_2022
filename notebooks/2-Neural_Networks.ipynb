{
 "cells": [
  {
   "cell_type": "markdown",
   "metadata": {
    "slideshow": {
     "slide_type": "slide"
    }
   },
   "source": [
    "# Intro to Machine Learning in Python\n",
    "\n",
    "Learn how to get started training Neural Networks with keras\n"
   ]
  },
  {
   "cell_type": "markdown",
   "metadata": {
    "slideshow": {
     "slide_type": "slide"
    }
   },
   "source": [
    "# Machine Learning Reminder\n",
    "* Find f(x) such that f(x) best approximates y\n",
    "* Examples:\n",
    "    * Given some pixels (x) tell me the probability it’s a cat (y)\n",
    "    * Given news articles (x) tell me a stocks value (y)\n",
    "    * Given some sequences x find some low dimensional space (z) that represent my data \n",
    "      * f1(x)=z f2(z)=x  \n",
    "\n",
    "# Outline\n",
    "* Dense (Fully Connected Neural Networks)\n",
    "  * Example Linear Fits\n",
    "  * Classifications\n"
   ]
  },
  {
   "cell_type": "markdown",
   "metadata": {
    "slideshow": {
     "slide_type": "slide"
    }
   },
   "source": [
    "# Packages\n",
    "\n",
    "We're going to be working primarily with Keras and Tensorflow. They're some alternatives like PyTorch, but they all allow you to build ML models."
   ]
  },
  {
   "cell_type": "code",
   "execution_count": 2,
   "metadata": {
    "slideshow": {
     "slide_type": "fragment"
    }
   },
   "outputs": [],
   "source": [
    "import tensorflow as tf\n",
    "import numpy as np\n",
    "import matplotlib.pyplot as plt"
   ]
  },
  {
   "cell_type": "markdown",
   "metadata": {},
   "source": [
    "Task 1: Fit a slightly harder straight line\n",
    "\n",
    "We're going to make a data set where x is a series of 5 features, and a target value $y = 2*x_0+1$ \n",
    "$y$ is just a line with respect to $x_0$, and completely ignores $x_{1,2,3,4}$ "
   ]
  },
  {
   "cell_type": "code",
   "execution_count": 26,
   "metadata": {
    "slideshow": {
     "slide_type": "fragment"
    }
   },
   "outputs": [],
   "source": [
    "#Build the Dataset\n",
    "\n",
    "data_dim=5\n",
    "\n",
    "X=np.random.uniform(0,10,size=(10000,data_dim))\n",
    "def func(X):\n",
    "    return 2*X[:,0]+1  # #Ignore all other input have the output only depend on the first dimention\n",
    "Y=func(X)\n",
    "\n",
    "\n",
    "\n",
    "\n",
    "    \n",
    "    "
   ]
  },
  {
   "cell_type": "markdown",
   "metadata": {
    "slideshow": {
     "slide_type": "slide"
    }
   },
   "source": [
    "# Our first Layer\n",
    "A Dense or fully connected layer\n",
    "\n",
    "<img src=\"../assets/dense.png\">\n",
    "\n",
    "A dense layer has a connection between every input variable and every output node. Each connection is represented by a weight $W_{i,n}$ from and input $X_n$ to an output $O_i$. The output is a sum over all the input variables times there weights plus a bias $B_i$\n",
    "<p style=\"text-align: center;\">\n",
    "$O_i = \\sum_n W_{i,n}*X_n+B_i$    \n",
    "</p>\n",
    "\n",
    "We will need to fit this to data, which means finding the best values for $W_{i,n}$ and $B_i$ to approximate our data.\n"
   ]
  },
  {
   "cell_type": "code",
   "execution_count": 17,
   "metadata": {},
   "outputs": [],
   "source": [
    "# All models start out with an input layer\n",
    "input_layer=tf.keras.layers.Input(shape=(data_dim,)) \n",
    "output_layer = tf.keras.layers.Dense(1)(input_layer)\n",
    "#A keras model is class used for fitting it takes input layers and output layers\n",
    "linear_model=tf.keras.models.Model(input_layer,output_layer)\n"
   ]
  },
  {
   "cell_type": "markdown",
   "metadata": {},
   "source": [
    "In the code above we define and Input layer and one Dense (Fully Connected Layer), in our equation above\n",
    "i=1 n=data_dim\n",
    "if data_dim ==1\n",
    "then \n",
    "\n",
    "$O_i = \\sum_n W_{i,n}*X_n+B_i  = O_0 =  W_{0,0}*X_0+B_0$\n",
    "\n",
    "You'll notice from last lecture this is the same form as our linear model.\n",
    "\n",
    "* $y_{pred,i}=\\theta_{1}*x_{i}+\\theta_{2} $\n",
    "\n",
    "* Each 'neuron' in a dense network is one linear model\n",
    "\n",
    "in neural network lingo \n",
    "*  $W$ is called the weight matrix \n",
    "*  $B$ the bias\n",
    "*  $W$ is a matrix and can have several parameters and all the parameters in the network are often represented by just $\\theta$ \n",
    "\n",
    "Just as in our Linear model we are going to use the same loss function\n",
    "* $L=\\frac{1}{N}\\sum_i (y_{pred,i}-y_{true,i})^2$\n",
    "* which is Mean Squared Error or mse for short\n",
    "* and we will pick an optimizer 'adam'\n",
    "\n"
   ]
  },
  {
   "cell_type": "code",
   "execution_count": null,
   "metadata": {},
   "outputs": [],
   "source": []
  },
  {
   "cell_type": "code",
   "execution_count": 37,
   "metadata": {
    "slideshow": {
     "slide_type": "slide"
    }
   },
   "outputs": [
    {
     "name": "stdout",
     "output_type": "stream",
     "text": [
      "Train on 5000 samples, validate on 5000 samples\n",
      "Epoch 1/100\n",
      "5000/5000 [==============================] - 2s 424us/step - loss: 3.9050 - val_loss: 3.9899\n",
      "Epoch 2/100\n",
      "5000/5000 [==============================] - 2s 348us/step - loss: 3.8980 - val_loss: 3.9917\n",
      "Epoch 3/100\n",
      "5000/5000 [==============================] - 2s 341us/step - loss: 3.8950 - val_loss: 3.9820\n",
      "Epoch 4/100\n",
      "5000/5000 [==============================] - 2s 354us/step - loss: 3.8973 - val_loss: 4.0072\n",
      "Epoch 5/100\n",
      "5000/5000 [==============================] - 2s 359us/step - loss: 3.8999 - val_loss: 4.0014\n",
      "Epoch 6/100\n",
      "5000/5000 [==============================] - 2s 353us/step - loss: 3.8982 - val_loss: 4.0001\n",
      "Epoch 7/100\n",
      "5000/5000 [==============================] - 2s 359us/step - loss: 3.8975 - val_loss: 3.9855\n",
      "Epoch 8/100\n",
      "5000/5000 [==============================] - 2s 356us/step - loss: 3.8972 - val_loss: 4.0149\n"
     ]
    },
    {
     "data": {
      "text/plain": [
       "<tensorflow.python.keras.callbacks.History at 0x7f7028447780>"
      ]
     },
     "execution_count": 37,
     "metadata": {},
     "output_type": "execute_result"
    }
   ],
   "source": [
    "\n",
    "\n",
    "#MSE= Mean Squared Error \n",
    "linear_model.compile(loss='mse',optimizer='adam')\n",
    "\n",
    "# Fit Our Simple Neural Network\n",
    "# Stop fitting when the validation loss stops improving\n",
    "es=tf.keras.callbacks.EarlyStopping(monitor='val_loss', min_delta=0, patience=5, verbose=0, mode='auto')\n",
    "#Fit\n",
    "linear_model.fit(X,Y,epochs=100,validation_split=0.5,callbacks=[es]) #Have Keras make a test/validation split for us\n",
    "\n",
    "\n"
   ]
  },
  {
   "cell_type": "code",
   "execution_count": 38,
   "metadata": {
    "slideshow": {
     "slide_type": "slide"
    }
   },
   "outputs": [],
   "source": [
    "#Lets plot the output as a function of X_0\n",
    "\n",
    "#Create some Random 5-d data\n",
    "X_test=np.random.uniform(0,10,size=(100,data_dim))\n",
    "#Set the first dimention to be a line\n",
    "X_test[:,0]=np.linspace(-5,15,100)\n",
    "\n",
    "#Get the True distribution from our test function\n",
    "Y_test=func(X_test)\n",
    "\n",
    "#Get the prediction from our model\n",
    "Y_pred=linear_model.predict(X_test)\n",
    "\n",
    "\n"
   ]
  },
  {
   "cell_type": "code",
   "execution_count": 39,
   "metadata": {},
   "outputs": [
    {
     "data": {
      "image/png": "[encoded data removed]",
      "text/plain": [
       "<Figure size 432x288 with 1 Axes>"
      ]
     },
     "metadata": {
      "needs_background": "light"
     },
     "output_type": "display_data"
    },
    {
     "data": {
      "image/png": "[encoded data removed]",
      "text/plain": [
       "<Figure size 432x288 with 1 Axes>"
      ]
     },
     "metadata": {
      "needs_background": "light"
     },
     "output_type": "display_data"
    }
   ],
   "source": [
    "#Plot\n",
    "\n",
    "plt.scatter(X_test[:,0],Y_pred,label='prediction')\n",
    "plt.scatter(X_test[:,0],Y_test,label='truth')\n",
    "plt.xlabel('X[:,0]')\n",
    "plt.ylabel('Y')\n",
    "plt.legend()\n",
    "plt.show()\n",
    "\n",
    "#Lets Look at it wrt X[:,1]\n",
    "plt.scatter(X_test[:,1],Y_pred,label='prediction')\n",
    "plt.scatter(X_test[:,1],Y_test,label='truth')\n",
    "plt.xlabel('X[:,1]')\n",
    "plt.ylabel('Y')\n",
    "plt.legend()\n",
    "plt.show()\n",
    "\n"
   ]
  },
  {
   "cell_type": "markdown",
   "metadata": {
    "slideshow": {
     "slide_type": "slide"
    }
   },
   "source": [
    "We can look at a models weights"
   ]
  },
  {
   "cell_type": "code",
   "execution_count": 8,
   "metadata": {
    "slideshow": {
     "slide_type": "fragment"
    }
   },
   "outputs": [
    {
     "name": "stdout",
     "output_type": "stream",
     "text": [
      "2\n",
      "(5, 1) (1,)\n",
      "[[ 2.00000024e+00]\n",
      " [-9.19794196e-09]\n",
      " [ 1.15983205e-08]\n",
      " [-1.72250125e-08]\n",
      " [-3.28032570e-08]]\n"
     ]
    }
   ],
   "source": [
    "weights=linear_model.get_weights()\n",
    "print(len(weights))\n",
    "print(weights[0].shape,weights[1].shape)\n",
    "\n",
    "print(weights[0])\n",
    "\n"
   ]
  },
  {
   "cell_type": "markdown",
   "metadata": {
    "slideshow": {
     "slide_type": "fragment"
    }
   },
   "source": [
    "We expect $W_{0,0}$=2, and $B_0$=1"
   ]
  },
  {
   "cell_type": "code",
   "execution_count": 9,
   "metadata": {
    "slideshow": {
     "slide_type": "fragment"
    }
   },
   "outputs": [
    {
     "name": "stdout",
     "output_type": "stream",
     "text": [
      "W= [[ 2.00000024e+00]\n",
      " [-9.19794196e-09]\n",
      " [ 1.15983205e-08]\n",
      " [-1.72250125e-08]\n",
      " [-3.28032570e-08]]\n",
      "W[0,0]= 2.0000002\n",
      "B= [0.99999887]\n"
     ]
    }
   ],
   "source": [
    "print(\"W=\",weights[0])\n",
    "print(\"W[0,0]=\",weights[0][0,0])\n",
    "print(\"B=\",weights[1])\n"
   ]
  },
  {
   "cell_type": "markdown",
   "metadata": {},
   "source": [
    "# Try it yourself \n",
    "Run the cell below to create a similar data set, but this time with some noise\n",
    "\n",
    "$y = 2*x_0+1+N(0,2)$ \n"
   ]
  },
  {
   "cell_type": "code",
   "execution_count": 36,
   "metadata": {},
   "outputs": [],
   "source": [
    "#Build the Dataset\n",
    "\n",
    "data_dim=5\n",
    "\n",
    "X=np.random.uniform(0,10,size=(10000,data_dim))\n",
    "def func(X):\n",
    "    return 2*X[:,0]+1 + np.random.normal(0,2,size=(len(X))) #Ignore all other input have the output only depend on the first dimention\n",
    "Y=func(X)\n",
    "\n"
   ]
  },
  {
   "cell_type": "code",
   "execution_count": null,
   "metadata": {},
   "outputs": [],
   "source": [
    "\"\"\"Write your Model\"\"\"\n",
    "\"Input\"\n",
    "\"Dense Layer\"\n",
    "\"Create Model\"\n",
    "\"Fit\""
   ]
  },
  {
   "cell_type": "code",
   "execution_count": null,
   "metadata": {},
   "outputs": [],
   "source": [
    "\"\"\"Test\"\"\"\n"
   ]
  },
  {
   "cell_type": "code",
   "execution_count": null,
   "metadata": {},
   "outputs": [],
   "source": [
    "\"\"\"Plot\"\"\""
   ]
  },
  {
   "cell_type": "markdown",
   "metadata": {
    "slideshow": {
     "slide_type": "slide"
    }
   },
   "source": [
    "Lets try something a bit more complicated a sin wave"
   ]
  },
  {
   "cell_type": "code",
   "execution_count": 8,
   "metadata": {},
   "outputs": [],
   "source": [
    "X=np.random.uniform(0,10,size=(10000,data_dim))\n",
    "def func(X):\n",
    "    return np.sin(X[:,0]) #Ignore all other input have the output only depend on the first dimention\n",
    "Y=func(X)\n"
   ]
  },
  {
   "cell_type": "code",
   "execution_count": 9,
   "metadata": {
    "slideshow": {
     "slide_type": "skip"
    }
   },
   "outputs": [
    {
     "name": "stdout",
     "output_type": "stream",
     "text": [
      "Train on 5000 samples, validate on 5000 samples\n",
      "Epoch 1/100\n",
      "5000/5000 [==============================] - 1s 103us/sample - loss: 13.5049 - val_loss: 11.1646\n",
      "Epoch 2/100\n",
      "5000/5000 [==============================] - 0s 75us/sample - loss: 9.4012 - val_loss: 7.7225\n",
      "Epoch 3/100\n",
      "5000/5000 [==============================] - 0s 72us/sample - loss: 6.4641 - val_loss: 5.2372\n",
      "Epoch 4/100\n",
      "5000/5000 [==============================] - 0s 70us/sample - loss: 4.3677 - val_loss: 3.5154\n",
      "Epoch 5/100\n",
      "5000/5000 [==============================] - 0s 80us/sample - loss: 2.9073 - val_loss: 2.3337\n",
      "Epoch 6/100\n",
      "5000/5000 [==============================] - 0s 80us/sample - loss: 1.9395 - val_loss: 1.5593\n",
      "Epoch 7/100\n",
      "5000/5000 [==============================] - 0s 73us/sample - loss: 1.3143 - val_loss: 1.0776\n",
      "Epoch 8/100\n",
      "5000/5000 [==============================] - 0s 64us/sample - loss: 0.9255 - val_loss: 0.7865\n",
      "Epoch 9/100\n",
      "5000/5000 [==============================] - 0s 74us/sample - loss: 0.6978 - val_loss: 0.6243\n",
      "Epoch 10/100\n",
      "5000/5000 [==============================] - 0s 68us/sample - loss: 0.5702 - val_loss: 0.5326\n",
      "Epoch 11/100\n",
      "5000/5000 [==============================] - 0s 72us/sample - loss: 0.5014 - val_loss: 0.4870\n",
      "Epoch 12/100\n",
      "5000/5000 [==============================] - 0s 65us/sample - loss: 0.4667 - val_loss: 0.4645\n",
      "Epoch 13/100\n",
      "5000/5000 [==============================] - 0s 67us/sample - loss: 0.4503 - val_loss: 0.4550\n",
      "Epoch 14/100\n",
      "5000/5000 [==============================] - 0s 66us/sample - loss: 0.4423 - val_loss: 0.4513\n",
      "Epoch 15/100\n",
      "5000/5000 [==============================] - 0s 69us/sample - loss: 0.4389 - val_loss: 0.4509\n",
      "Epoch 16/100\n",
      "5000/5000 [==============================] - 0s 66us/sample - loss: 0.4382 - val_loss: 0.4491\n",
      "Epoch 17/100\n",
      "5000/5000 [==============================] - 0s 70us/sample - loss: 0.4379 - val_loss: 0.4491\n",
      "Epoch 18/100\n",
      "5000/5000 [==============================] - 0s 71us/sample - loss: 0.4375 - val_loss: 0.4495\n",
      "Epoch 19/100\n",
      "5000/5000 [==============================] - 0s 68us/sample - loss: 0.4374 - val_loss: 0.4499\n",
      "Epoch 20/100\n",
      "5000/5000 [==============================] - 0s 72us/sample - loss: 0.4372 - val_loss: 0.4495\n",
      "Epoch 21/100\n",
      "5000/5000 [==============================] - 0s 63us/sample - loss: 0.4375 - val_loss: 0.4496\n"
     ]
    },
    {
     "data": {
      "text/plain": [
       "<tensorflow.python.keras.callbacks.History at 0x7fb1000d8f90>"
      ]
     },
     "execution_count": 9,
     "metadata": {},
     "output_type": "execute_result"
    }
   ],
   "source": [
    "\n",
    "# All models start out with an input layer\n",
    "\n",
    "input_layer=tf.keras.layers.Input(shape=(data_dim,)) \n",
    "output_layer = tf.keras.layers.Dense(1)(input_layer)\n",
    "#A keras model is a way of going from one layer to the next\n",
    "sine_model=tf.keras.models.Model(input_layer,output_layer)\n",
    "sine_model.compile(loss='mse',optimizer='adam')\n",
    "sine_model.fit(X,Y,epochs=100,validation_split=0.5,callbacks=[es]) #Have Keras make a test/validation split for us\n",
    "\n",
    "\n",
    "\n"
   ]
  },
  {
   "cell_type": "code",
   "execution_count": 10,
   "metadata": {
    "slideshow": {
     "slide_type": "slide"
    }
   },
   "outputs": [
    {
     "data": {
      "text/plain": [
       "<matplotlib.legend.Legend at 0x7fb0f84554d0>"
      ]
     },
     "execution_count": 10,
     "metadata": {},
     "output_type": "execute_result"
    },
    {
     "data": {
      "image/png": "[encoded data removed]",
      "text/plain": [
       "<Figure size 432x288 with 1 Axes>"
      ]
     },
     "metadata": {
      "needs_background": "light"
     },
     "output_type": "display_data"
    }
   ],
   "source": [
    "X_test=np.random.uniform(0,10,size=(100,data_dim))\n",
    "X_test[:,0]=np.linspace(-5,15,100)\n",
    "Y_test=func(X_test)\n",
    "Y_pred=sine_model.predict(X_test)\n",
    "\n",
    "plt.scatter(X_test[:,0],Y_pred,label='prediction')\n",
    "plt.scatter(X_test[:,0],Y_test,label='truth')\n",
    "plt.xlabel('X[:,0]')\n",
    "plt.ylabel('Y')\n",
    "plt.legend()\n"
   ]
  },
  {
   "cell_type": "markdown",
   "metadata": {
    "slideshow": {
     "slide_type": "slide"
    }
   },
   "source": [
    "Oops this didn't work. So far what we wrote above can only be linear\n",
    "\n",
    "<p style=\"text-align: center;\">\n",
    "$O_i = \\sum_n W_{i,n}*X_n+B_i$    \n",
    "</p>\n",
    "\n",
    "we need to add something called an activation function $\\sigma$\n",
    "\n",
    "<p style=\"text-align: center;\">\n",
    "$O_i = \\sigma(\\sum_n W_{i,n}*X_n+B_i)$    \n",
    "</p>\n",
    "\n",
    "$\\sigma$ has to be non-linear and a good choice is a LeakyReLU\n",
    "\n",
    "<img src='../assets/leakyReLU.png'>\n",
    "\n",
    "Let's also make our model a bit more powerful, but adding more layers $l$\n",
    "\n",
    "<p style=\"text-align: center;\">\n",
    "$O_i,o=X_i$\n",
    "</p>\n",
    " \n",
    "<p style=\"text-align: center;\">  \n",
    "$O_{i,l} = \\sigma(\\sum_n W_{i,l,n}*O_{i,l-1}+B_{i,l})$    \n",
    "</p>\n"
   ]
  },
  {
   "cell_type": "code",
   "execution_count": 11,
   "metadata": {
    "slideshow": {
     "slide_type": "slide"
    }
   },
   "outputs": [
    {
     "name": "stdout",
     "output_type": "stream",
     "text": [
      "Model: \"model_2\"\n",
      "_________________________________________________________________\n",
      "Layer (type)                 Output Shape              Param #   \n",
      "=================================================================\n",
      "input_3 (InputLayer)         [(None, 5)]               0         \n",
      "_________________________________________________________________\n",
      "dense_2 (Dense)              (None, 20)                120       \n",
      "_________________________________________________________________\n",
      "leaky_re_lu (LeakyReLU)      (None, 20)                0         \n",
      "_________________________________________________________________\n",
      "dense_3 (Dense)              (None, 20)                420       \n",
      "_________________________________________________________________\n",
      "leaky_re_lu_1 (LeakyReLU)    (None, 20)                0         \n",
      "_________________________________________________________________\n",
      "dense_4 (Dense)              (None, 20)                420       \n",
      "_________________________________________________________________\n",
      "leaky_re_lu_2 (LeakyReLU)    (None, 20)                0         \n",
      "_________________________________________________________________\n",
      "dense_5 (Dense)              (None, 1)                 21        \n",
      "=================================================================\n",
      "Total params: 981\n",
      "Trainable params: 981\n",
      "Non-trainable params: 0\n",
      "_________________________________________________________________\n"
     ]
    }
   ],
   "source": [
    "input_layer=tf.keras.layers.Input(shape=(data_dim,)) \n",
    "###Lets Add another layer and an Activation###\n",
    "nn = tf.keras.layers.Dense(20)(input_layer)\n",
    "nn = tf.keras.layers.LeakyReLU()(nn)\n",
    "\n",
    "nn = tf.keras.layers.Dense(20)(nn)\n",
    "nn = tf.keras.layers.LeakyReLU()(nn)\n",
    "\n",
    "nn = tf.keras.layers.Dense(20)(nn)\n",
    "nn = tf.keras.layers.LeakyReLU()(nn)\n",
    "\n",
    "output_layer = tf.keras.layers.Dense(1)(nn)\n",
    "#A keras model is a way of going from one layer to the next\n",
    "nn_model=tf.keras.models.Model(input_layer,output_layer)\n",
    "nn_model.summary()\n",
    "nn_model.compile(loss='mse',optimizer='adam')"
   ]
  },
  {
   "cell_type": "code",
   "execution_count": 12,
   "metadata": {
    "slideshow": {
     "slide_type": "skip"
    }
   },
   "outputs": [
    {
     "name": "stdout",
     "output_type": "stream",
     "text": [
      "Train on 5000 samples, validate on 5000 samples\n",
      "Epoch 1/50\n",
      "5000/5000 [==============================] - 1s 146us/sample - loss: 0.5431 - val_loss: 0.4679\n",
      "Epoch 2/50\n",
      "5000/5000 [==============================] - 1s 109us/sample - loss: 0.4452 - val_loss: 0.4573\n",
      "Epoch 3/50\n",
      "5000/5000 [==============================] - 0s 99us/sample - loss: 0.4343 - val_loss: 0.4394\n",
      "Epoch 4/50\n",
      "5000/5000 [==============================] - 1s 112us/sample - loss: 0.4204 - val_loss: 0.4213\n",
      "Epoch 5/50\n",
      "5000/5000 [==============================] - 1s 100us/sample - loss: 0.3980 - val_loss: 0.3920\n",
      "Epoch 6/50\n",
      "5000/5000 [==============================] - 0s 96us/sample - loss: 0.3640 - val_loss: 0.3586\n",
      "Epoch 7/50\n",
      "5000/5000 [==============================] - 0s 95us/sample - loss: 0.3378 - val_loss: 0.3367\n",
      "Epoch 8/50\n",
      "5000/5000 [==============================] - 0s 100us/sample - loss: 0.3191 - val_loss: 0.3101\n",
      "Epoch 9/50\n",
      "5000/5000 [==============================] - 0s 96us/sample - loss: 0.2944 - val_loss: 0.2868\n",
      "Epoch 10/50\n",
      "5000/5000 [==============================] - 0s 93us/sample - loss: 0.2730 - val_loss: 0.2740\n",
      "Epoch 11/50\n",
      "5000/5000 [==============================] - 0s 95us/sample - loss: 0.2519 - val_loss: 0.2431\n",
      "Epoch 12/50\n",
      "5000/5000 [==============================] - 1s 100us/sample - loss: 0.2333 - val_loss: 0.2272\n",
      "Epoch 13/50\n",
      "5000/5000 [==============================] - 0s 90us/sample - loss: 0.2144 - val_loss: 0.2182\n",
      "Epoch 14/50\n",
      "5000/5000 [==============================] - 0s 87us/sample - loss: 0.2018 - val_loss: 0.2041\n",
      "Epoch 15/50\n",
      "5000/5000 [==============================] - 0s 99us/sample - loss: 0.1844 - val_loss: 0.1814\n",
      "Epoch 16/50\n",
      "5000/5000 [==============================] - 0s 91us/sample - loss: 0.1739 - val_loss: 0.1723\n",
      "Epoch 17/50\n",
      "5000/5000 [==============================] - 0s 95us/sample - loss: 0.1657 - val_loss: 0.1644\n",
      "Epoch 18/50\n",
      "5000/5000 [==============================] - 0s 91us/sample - loss: 0.1565 - val_loss: 0.1633\n",
      "Epoch 19/50\n",
      "5000/5000 [==============================] - 0s 97us/sample - loss: 0.1492 - val_loss: 0.1502\n",
      "Epoch 20/50\n",
      "5000/5000 [==============================] - 0s 91us/sample - loss: 0.1439 - val_loss: 0.1506\n",
      "Epoch 21/50\n",
      "5000/5000 [==============================] - 0s 98us/sample - loss: 0.1373 - val_loss: 0.1386\n",
      "Epoch 22/50\n",
      "5000/5000 [==============================] - 0s 94us/sample - loss: 0.1246 - val_loss: 0.1320\n",
      "Epoch 23/50\n",
      "5000/5000 [==============================] - 0s 92us/sample - loss: 0.1167 - val_loss: 0.1139\n",
      "Epoch 24/50\n",
      "5000/5000 [==============================] - 0s 94us/sample - loss: 0.1037 - val_loss: 0.1044\n",
      "Epoch 25/50\n",
      "5000/5000 [==============================] - 0s 95us/sample - loss: 0.0928 - val_loss: 0.0897\n",
      "Epoch 26/50\n",
      "5000/5000 [==============================] - 1s 104us/sample - loss: 0.0820 - val_loss: 0.0745\n",
      "Epoch 27/50\n",
      "5000/5000 [==============================] - 0s 92us/sample - loss: 0.0676 - val_loss: 0.0614\n",
      "Epoch 28/50\n",
      "5000/5000 [==============================] - 0s 95us/sample - loss: 0.0553 - val_loss: 0.0501\n",
      "Epoch 29/50\n",
      "5000/5000 [==============================] - 1s 114us/sample - loss: 0.0454 - val_loss: 0.0496\n",
      "Epoch 30/50\n",
      "5000/5000 [==============================] - 1s 102us/sample - loss: 0.0371 - val_loss: 0.0314\n",
      "Epoch 31/50\n",
      "5000/5000 [==============================] - 1s 100us/sample - loss: 0.0284 - val_loss: 0.0280\n",
      "Epoch 32/50\n",
      "5000/5000 [==============================] - 0s 92us/sample - loss: 0.0234 - val_loss: 0.0197\n",
      "Epoch 33/50\n",
      "5000/5000 [==============================] - 0s 97us/sample - loss: 0.0170 - val_loss: 0.0189\n",
      "Epoch 34/50\n",
      "5000/5000 [==============================] - 0s 96us/sample - loss: 0.0132 - val_loss: 0.0108\n",
      "Epoch 35/50\n",
      "5000/5000 [==============================] - 1s 107us/sample - loss: 0.0112 - val_loss: 0.0100\n",
      "Epoch 36/50\n",
      "5000/5000 [==============================] - 0s 99us/sample - loss: 0.0092 - val_loss: 0.0088\n",
      "Epoch 37/50\n",
      "5000/5000 [==============================] - 0s 93us/sample - loss: 0.0073 - val_loss: 0.0075\n",
      "Epoch 38/50\n",
      "5000/5000 [==============================] - 0s 97us/sample - loss: 0.0066 - val_loss: 0.0086\n",
      "Epoch 39/50\n",
      "5000/5000 [==============================] - 0s 97us/sample - loss: 0.0060 - val_loss: 0.0052\n",
      "Epoch 40/50\n",
      "5000/5000 [==============================] - 0s 91us/sample - loss: 0.0052 - val_loss: 0.0045\n",
      "Epoch 41/50\n",
      "5000/5000 [==============================] - 0s 99us/sample - loss: 0.0048 - val_loss: 0.0038\n",
      "Epoch 42/50\n",
      "5000/5000 [==============================] - 0s 93us/sample - loss: 0.0042 - val_loss: 0.0038\n",
      "Epoch 43/50\n",
      "5000/5000 [==============================] - 1s 105us/sample - loss: 0.0038 - val_loss: 0.0041\n",
      "Epoch 44/50\n",
      "5000/5000 [==============================] - 0s 99us/sample - loss: 0.0045 - val_loss: 0.0085\n",
      "Epoch 45/50\n",
      "5000/5000 [==============================] - 1s 102us/sample - loss: 0.0046 - val_loss: 0.0032\n",
      "Epoch 46/50\n",
      "5000/5000 [==============================] - 1s 102us/sample - loss: 0.0032 - val_loss: 0.0035\n",
      "Epoch 47/50\n",
      "5000/5000 [==============================] - 0s 98us/sample - loss: 0.0032 - val_loss: 0.0027\n",
      "Epoch 48/50\n",
      "5000/5000 [==============================] - 0s 97us/sample - loss: 0.0028 - val_loss: 0.0038\n",
      "Epoch 49/50\n",
      "5000/5000 [==============================] - 1s 101us/sample - loss: 0.0030 - val_loss: 0.0024\n",
      "Epoch 50/50\n",
      "5000/5000 [==============================] - 0s 96us/sample - loss: 0.0024 - val_loss: 0.0024\n"
     ]
    },
    {
     "data": {
      "text/plain": [
       "<tensorflow.python.keras.callbacks.History at 0x7fb0f82f64d0>"
      ]
     },
     "execution_count": 12,
     "metadata": {},
     "output_type": "execute_result"
    }
   ],
   "source": [
    "nn_model.fit(X,Y,epochs=50,validation_split=0.5,callbacks=[es]) #Have Keras make a test/validation split for us\n"
   ]
  },
  {
   "cell_type": "code",
   "execution_count": 13,
   "metadata": {
    "slideshow": {
     "slide_type": "slide"
    }
   },
   "outputs": [
    {
     "data": {
      "text/plain": [
       "<matplotlib.legend.Legend at 0x7fb0e8726050>"
      ]
     },
     "execution_count": 13,
     "metadata": {},
     "output_type": "execute_result"
    },
    {
     "data": {
      "image/png": "[encoded data removed]",
      "text/plain": [
       "<Figure size 432x288 with 1 Axes>"
      ]
     },
     "metadata": {
      "needs_background": "light"
     },
     "output_type": "display_data"
    }
   ],
   "source": [
    "\n",
    "X_test=np.random.uniform(0,10,size=(100,data_dim))\n",
    "X_test[:,0]=np.linspace(-5,15,100)\n",
    "Y_test=func(X_test)\n",
    "Y_pred=nn_model.predict(X_test)\n",
    "\n",
    "plt.scatter(X_test[:,0],Y_pred,label='prediction')\n",
    "plt.scatter(X_test[:,0],Y_test,label='truth')\n",
    "plt.xlabel('X[:,0]')\n",
    "plt.ylabel('Y')\n",
    "plt.legend()\n"
   ]
  },
  {
   "cell_type": "markdown",
   "metadata": {
    "slideshow": {
     "slide_type": "fragment"
    }
   },
   "source": [
    "The data fits the sin curve perfectly where it had seen training data 0-10, and not so well where there was no training data. Neural networks are universal function approximators, you have little control of what they predict when given data that is completely new. \n"
   ]
  },
  {
   "cell_type": "code",
   "execution_count": 40,
   "metadata": {},
   "outputs": [
    {
     "data": {
      "text/plain": [
       "'Try and fix the above plot so the prediction and truth matches the whole range from -5 15'"
      ]
     },
     "execution_count": 40,
     "metadata": {},
     "output_type": "execute_result"
    }
   ],
   "source": [
    "\"\"\"Try and fix the above plot so the prediction and truth matches the whole range from -5 15\"\"\""
   ]
  },
  {
   "cell_type": "markdown",
   "metadata": {},
   "source": [
    "# Classification\n",
    "\n",
    "Classification is problem where each of our examples (x) belongs to a class (y). Since Neural networks are universal function approximators, we can use\n",
    "\n",
    "$P(y|x)$\n",
    "\n",
    "How do we do that? We use a loss function that is minimized when f(x)= $P(y|x)$\n",
    "When we just have 2 class (A or B/True or False) we can use binary cross-entropy\n",
    "\n",
    "$L=-y_{true}*ln(y_{pred})-(1-y_{true})*ln(1-y_{pred})$\n",
    "\n",
    "\n",
    "* if you're curious\n",
    "\n",
    "This is essentially the negative log likelihood of a Bernoulli distribution\n",
    "\n",
    "$P(y,p)=p^{y}(1-p)^{1-y}$\n",
    "\n",
    "$-ln(P(y,p))=-ln(p^{y}(1-p)^{1-y})= -y*ln(p)-(1-y)*ln(1-p)$\n",
    "\n",
    "# What it Means for our Neural Network\n",
    "\n",
    "Be default a layer in keras has no (or linear) Activation which can take on any value from -inf - inf. In the above loss function we're trying to approximate a probability which must be between 0-1. To make this happen when have to add an activation on the output layer. We'll use a sigmoid.\n",
    "\n",
    "$\\sigma(x)=\\frac{1}{1+e^{-x}}$\n",
    "\n",
    "\n",
    "Lets try one last toy problem.\n",
    "\n",
    "1. Class P(y=A|x) = N(1,1)\n",
    "2. Class P(y=B|x) = N(-1,1)\n",
    "\n",
    "\n",
    "\n"
   ]
  },
  {
   "cell_type": "code",
   "execution_count": 100,
   "metadata": {},
   "outputs": [],
   "source": [
    "#Class A\n",
    "n_data=10000\n",
    "\n",
    "y_train=np.ones(n_data) #Class A =1\n",
    "y_develop=np.ones(n_data)\n",
    "y_test=np.ones(n_data)\n",
    "\n",
    "x_train=np.random.normal(1,1,size=n_data)\n",
    "x_develop=np.random.normal(1,1,size=n_data)\n",
    "x_test=np.random.normal(1,1,size=n_data)\n",
    "\n",
    "\n",
    "#Class B\n",
    "y_train=np.append(y_train,np.zeros(n_data)) #Class B=0\n",
    "y_develop=np.append(y_develop,np.zeros(n_data)) \n",
    "y_test=np.append(y_test,np.zeros(n_data)) \n",
    "\n",
    "x_train=np.append(x_train,np.random.normal(-1,1,size=n_data))\n",
    "x_develop=np.append(x_develop,np.random.normal(-1,1,size=n_data))\n",
    "x_test=np.append(x_test,np.random.normal(-1,1,size=n_data))\n",
    "\n",
    "\n"
   ]
  },
  {
   "cell_type": "markdown",
   "metadata": {},
   "source": [
    "# A simple way to look at a feature is a histogram\n",
    "Plot how many times does class A have a feature value within a bin\n"
   ]
  },
  {
   "cell_type": "code",
   "execution_count": 101,
   "metadata": {},
   "outputs": [
    {
     "data": {
      "image/png": "[encoded data removed]",
      "text/plain": [
       "<Figure size 432x288 with 1 Axes>"
      ]
     },
     "metadata": {
      "needs_background": "light"
     },
     "output_type": "display_data"
    }
   ],
   "source": [
    "#Histogram for class A\n",
    "a_mask=y_train==1\n",
    "plt.hist(x_train[a_mask],bins=16,range=(-4,4),histtype='step',label='Class A')\n",
    "\n",
    "#Histogram for Class B\n",
    "b_mask=y_train==0\n",
    "plt.hist(x_train[b_mask],bins=16,range=(-4,4),histtype='step',label='Class B')\n",
    "len(a_mask)\n",
    "plt.xlabel('X')\n",
    "plt.ylabel('N Examples')\n",
    "plt.legend()\n",
    "plt.show()"
   ]
  },
  {
   "cell_type": "code",
   "execution_count": 102,
   "metadata": {},
   "outputs": [
    {
     "name": "stdout",
     "output_type": "stream",
     "text": [
      "_________________________________________________________________\n",
      "Layer (type)                 Output Shape              Param #   \n",
      "=================================================================\n",
      "input_10 (InputLayer)        (None, 1)                 0         \n",
      "_________________________________________________________________\n",
      "dense_27 (Dense)             (None, 20)                40        \n",
      "_________________________________________________________________\n",
      "leaky_re_lu_18 (LeakyReLU)   (None, 20)                0         \n",
      "_________________________________________________________________\n",
      "dense_28 (Dense)             (None, 20)                420       \n",
      "_________________________________________________________________\n",
      "leaky_re_lu_19 (LeakyReLU)   (None, 20)                0         \n",
      "_________________________________________________________________\n",
      "dense_29 (Dense)             (None, 20)                420       \n",
      "_________________________________________________________________\n",
      "leaky_re_lu_20 (LeakyReLU)   (None, 20)                0         \n",
      "_________________________________________________________________\n",
      "dense_30 (Dense)             (None, 1)                 21        \n",
      "=================================================================\n",
      "Total params: 901\n",
      "Trainable params: 901\n",
      "Non-trainable params: 0\n",
      "_________________________________________________________________\n",
      "Train on 20000 samples, validate on 20000 samples\n",
      "Epoch 1/10\n",
      "20000/20000 [==============================] - 10s 476us/step - loss: 0.3727 - acc: 0.8379 - val_loss: 0.3671 - val_acc: 0.8347\n",
      "Epoch 2/10\n",
      "20000/20000 [==============================] - 9s 438us/step - loss: 0.3565 - acc: 0.8397 - val_loss: 0.3671 - val_acc: 0.8358\n",
      "Epoch 3/10\n",
      "20000/20000 [==============================] - 8s 412us/step - loss: 0.3564 - acc: 0.8406 - val_loss: 0.3678 - val_acc: 0.8357\n",
      "Epoch 4/10\n",
      "20000/20000 [==============================] - 7s 371us/step - loss: 0.3566 - acc: 0.8403 - val_loss: 0.3676 - val_acc: 0.8357\n",
      "Epoch 5/10\n",
      "20000/20000 [==============================] - 7s 371us/step - loss: 0.3567 - acc: 0.8406 - val_loss: 0.3666 - val_acc: 0.8357\n",
      "Epoch 6/10\n",
      "20000/20000 [==============================] - 8s 384us/step - loss: 0.3564 - acc: 0.8406 - val_loss: 0.3668 - val_acc: 0.8348\n",
      "Epoch 7/10\n",
      "20000/20000 [==============================] - 9s 437us/step - loss: 0.3566 - acc: 0.8412 - val_loss: 0.3663 - val_acc: 0.8353\n",
      "Epoch 8/10\n",
      "20000/20000 [==============================] - 9s 436us/step - loss: 0.3566 - acc: 0.8404 - val_loss: 0.3675 - val_acc: 0.8356\n",
      "Epoch 9/10\n",
      "20000/20000 [==============================] - 9s 437us/step - loss: 0.3562 - acc: 0.8395 - val_loss: 0.3665 - val_acc: 0.8350\n",
      "Epoch 10/10\n",
      "20000/20000 [==============================] - 9s 436us/step - loss: 0.3561 - acc: 0.8398 - val_loss: 0.3677 - val_acc: 0.8347\n"
     ]
    },
    {
     "data": {
      "text/plain": [
       "<tensorflow.python.keras.callbacks.History at 0x7f6db80eb160>"
      ]
     },
     "execution_count": 102,
     "metadata": {},
     "output_type": "execute_result"
    }
   ],
   "source": [
    "\n",
    "input_layer=tf.keras.layers.Input(shape=(1,)) \n",
    "###Same as Before###\n",
    "nn = tf.keras.layers.Dense(20)(input_layer)\n",
    "nn = tf.keras.layers.LeakyReLU()(nn)\n",
    "\n",
    "nn = tf.keras.layers.Dense(20)(nn)\n",
    "nn = tf.keras.layers.LeakyReLU()(nn)\n",
    "\n",
    "nn = tf.keras.layers.Dense(20)(nn)\n",
    "nn = tf.keras.layers.LeakyReLU()(nn)\n",
    "#Sigmoid!!!!\n",
    "output_layer = tf.keras.layers.Dense(1,activation='sigmoid')(nn)\n",
    "\n",
    "nn_model=tf.keras.models.Model(input_layer,output_layer)\n",
    "nn_model.summary()\n",
    "#Binary Cross Entropy!!!\n",
    "nn_model.compile(loss='binary_crossentropy',optimizer='adam',metrics=['accuracy'])\n",
    "\n",
    "nn_model.fit(x_train,y_train,validation_data=(x_develop,y_develop),epochs=10,callbacks=[es])"
   ]
  },
  {
   "cell_type": "code",
   "execution_count": 104,
   "metadata": {},
   "outputs": [
    {
     "data": {
      "image/png": "[encoded data removed]",
      "text/plain": [
       "<Figure size 432x288 with 1 Axes>"
      ]
     },
     "metadata": {
      "needs_background": "light"
     },
     "output_type": "display_data"
    }
   ],
   "source": [
    "#\n",
    "\n",
    "\n",
    "\n",
    "\n",
    "X_test=np.linspace(-4,4,100)\n",
    "Y_true=1/(1+np.exp(-2*X_test))#Proof Left to Reader\n",
    "\n",
    "Y_pred=nn_model.predict(X_test)\n",
    "plt.scatter(X_test,Y_pred,label='prediction')\n",
    "plt.scatter(X_test,Y_true,label='Truth')\n",
    "\n",
    "plt.xlabel('X')\n",
    "plt.ylabel('P(y=a|x)')\n",
    "plt.legend()\n",
    "plt.show()"
   ]
  },
  {
   "cell_type": "markdown",
   "metadata": {
    "slideshow": {
     "slide_type": "slide"
    }
   },
   "source": [
    "# Dense network summary\n",
    "\n",
    "* Dense networks take fixed length input and have a fixed length output\n",
    "* Like All Neural Network layers they require an activation function\n",
    "* They can be stacked to represent more complicated functions\n",
    "* You're taking your chances when predicting data that's very different from you're training data\n"
   ]
  },
  {
   "cell_type": "markdown",
   "metadata": {},
   "source": [
    "# A Real World Example\n",
    "We're going to use a number of measured values to try and predict good wine.\n",
    "Source:https://archive.ics.uci.edu/ml/datasets/Wine+Quality (Cortez et al., 2009)\n",
    "\n",
    "* Goal: Predict whether a wine is excellent based score given to the wine by an expert panel (1-10)\n",
    "    * Score > 5 Excellent\n",
    "    * Score <=5 Average\n",
    "\n",
    "* Features:\n",
    "  * 1 - fixed acidity\n",
    "  * 2 - volatile acidity\n",
    "  * 3 - citric acid\n",
    "  * 4 - residual sugar\n",
    "  * 5 - chlorides\n",
    "  * 6 - free sulfur dioxide\n",
    "  * 7 - total sulfur dioxide\n",
    "  * 8 - density\n",
    "  * 9 - pH\n",
    "  * 10 - sulphates\n",
    "  * 11 - alcohol\n",
    "  * 12 - Red/White\n",
    "\n",
    "\n"
   ]
  },
  {
   "cell_type": "code",
   "execution_count": 73,
   "metadata": {},
   "outputs": [
    {
     "name": "stdout",
     "output_type": "stream",
     "text": [
      "(4582, 12) (4582,)\n"
     ]
    }
   ],
   "source": [
    "import winedata\n",
    "import importlib\n",
    "importlib.reload(winedata)\n",
    "\n",
    "\n",
    "wd=winedata.WineData()\n",
    "print(wd.x_train.shape,wd.y_train.shape)"
   ]
  },
  {
   "cell_type": "code",
   "execution_count": null,
   "metadata": {},
   "outputs": [],
   "source": []
  },
  {
   "cell_type": "code",
   "execution_count": 15,
   "metadata": {},
   "outputs": [
    {
     "data": {
      "text/plain": [
       "array([False, False, False, ...,  True,  True,  True])"
      ]
     },
     "execution_count": 15,
     "metadata": {},
     "output_type": "execute_result"
    }
   ],
   "source": [
    "wd.y_develop\n"
   ]
  },
  {
   "cell_type": "code",
   "execution_count": 16,
   "metadata": {},
   "outputs": [
    {
     "name": "stdout",
     "output_type": "stream",
     "text": [
      "Model: \"model_3\"\n",
      "_________________________________________________________________\n",
      "Layer (type)                 Output Shape              Param #   \n",
      "=================================================================\n",
      "input_4 (InputLayer)         [(None, 12)]              0         \n",
      "_________________________________________________________________\n",
      "dense_6 (Dense)              (None, 50)                650       \n",
      "_________________________________________________________________\n",
      "leaky_re_lu_3 (LeakyReLU)    (None, 50)                0         \n",
      "_________________________________________________________________\n",
      "dropout (Dropout)            (None, 50)                0         \n",
      "_________________________________________________________________\n",
      "dense_7 (Dense)              (None, 50)                2550      \n",
      "_________________________________________________________________\n",
      "leaky_re_lu_4 (LeakyReLU)    (None, 50)                0         \n",
      "_________________________________________________________________\n",
      "dropout_1 (Dropout)          (None, 50)                0         \n",
      "_________________________________________________________________\n",
      "dense_8 (Dense)              (None, 50)                2550      \n",
      "_________________________________________________________________\n",
      "leaky_re_lu_5 (LeakyReLU)    (None, 50)                0         \n",
      "_________________________________________________________________\n",
      "dropout_2 (Dropout)          (None, 50)                0         \n",
      "_________________________________________________________________\n",
      "dense_9 (Dense)              (None, 1)                 51        \n",
      "=================================================================\n",
      "Total params: 5,801\n",
      "Trainable params: 5,801\n",
      "Non-trainable params: 0\n",
      "_________________________________________________________________\n"
     ]
    },
    {
     "name": "stderr",
     "output_type": "stream",
     "text": [
      "W0712 22:06:54.695634 140400333096704 deprecation.py:323] From /usr/local/lib/python3.7/site-packages/tensorflow/python/ops/nn_impl.py:180: add_dispatch_support.<locals>.wrapper (from tensorflow.python.ops.array_ops) is deprecated and will be removed in a future version.\n",
      "Instructions for updating:\n",
      "Use tf.where in 2.0, which has the same broadcast rule as np.where\n"
     ]
    }
   ],
   "source": [
    "input_layer=tf.keras.layers.Input(shape=(12,)) \n",
    "###Lets Add another layer and an Activation###\n",
    "nn = tf.keras.layers.Dense(50)(input_layer)\n",
    "nn = tf.keras.layers.LeakyReLU()(nn)\n",
    "nn = tf.keras.layers.Dropout(0.3)(nn)\n",
    "nn = tf.keras.layers.Dense(50)(nn)\n",
    "nn = tf.keras.layers.LeakyReLU()(nn)\n",
    "nn = tf.keras.layers.Dropout(0.3)(nn)\n",
    "nn = tf.keras.layers.Dense(50)(nn)\n",
    "nn = tf.keras.layers.LeakyReLU()(nn)\n",
    "nn = tf.keras.layers.Dropout(0.3)(nn)\n",
    "\n",
    "output_layer = tf.keras.layers.Dense(1,activation='sigmoid')(nn)\n",
    "#A keras model is a way of going from one layer to the next\n",
    "wine_model=tf.keras.models.Model(input_layer,output_layer)\n",
    "wine_model.summary()\n",
    "wine_model.compile(loss='binary_crossentropy',optimizer='adam',metrics=['accuracy'])"
   ]
  },
  {
   "cell_type": "code",
   "execution_count": 17,
   "metadata": {},
   "outputs": [
    {
     "name": "stdout",
     "output_type": "stream",
     "text": [
      "Train on 4550 samples, validate on 1947 samples\n",
      "Epoch 1/50\n",
      "4550/4550 [==============================] - 1s 169us/sample - loss: 2.6832 - acc: 0.5376 - val_loss: 0.6511 - val_acc: 0.6374\n",
      "Epoch 2/50\n",
      "4550/4550 [==============================] - 1s 120us/sample - loss: 1.1892 - acc: 0.5534 - val_loss: 0.6655 - val_acc: 0.6405\n",
      "Epoch 3/50\n",
      "4550/4550 [==============================] - 1s 115us/sample - loss: 0.9510 - acc: 0.5578 - val_loss: 0.6442 - val_acc: 0.6502\n",
      "Epoch 4/50\n",
      "4550/4550 [==============================] - 1s 114us/sample - loss: 0.8264 - acc: 0.5622 - val_loss: 0.6406 - val_acc: 0.6410\n",
      "Epoch 5/50\n",
      "4550/4550 [==============================] - 1s 113us/sample - loss: 0.7579 - acc: 0.5919 - val_loss: 0.6479 - val_acc: 0.6507\n",
      "Epoch 6/50\n",
      "4550/4550 [==============================] - 1s 115us/sample - loss: 0.7129 - acc: 0.5967 - val_loss: 0.6369 - val_acc: 0.6415\n",
      "Epoch 7/50\n",
      "4550/4550 [==============================] - 1s 116us/sample - loss: 0.6979 - acc: 0.6033 - val_loss: 0.6351 - val_acc: 0.6436\n",
      "Epoch 8/50\n",
      "4550/4550 [==============================] - 1s 117us/sample - loss: 0.6801 - acc: 0.6220 - val_loss: 0.6337 - val_acc: 0.6502\n",
      "Epoch 9/50\n",
      "4550/4550 [==============================] - 1s 117us/sample - loss: 0.6662 - acc: 0.6218 - val_loss: 0.6305 - val_acc: 0.6471\n",
      "Epoch 10/50\n",
      "4550/4550 [==============================] - 1s 119us/sample - loss: 0.6595 - acc: 0.6211 - val_loss: 0.6242 - val_acc: 0.6538\n",
      "Epoch 11/50\n",
      "4550/4550 [==============================] - 1s 118us/sample - loss: 0.6447 - acc: 0.6327 - val_loss: 0.6176 - val_acc: 0.6487\n",
      "Epoch 12/50\n",
      "4550/4550 [==============================] - 1s 119us/sample - loss: 0.6414 - acc: 0.6332 - val_loss: 0.6086 - val_acc: 0.6513\n",
      "Epoch 13/50\n",
      "4550/4550 [==============================] - 1s 113us/sample - loss: 0.6393 - acc: 0.6327 - val_loss: 0.6108 - val_acc: 0.6620\n",
      "Epoch 14/50\n",
      "4550/4550 [==============================] - 1s 114us/sample - loss: 0.6361 - acc: 0.6391 - val_loss: 0.5985 - val_acc: 0.6631\n",
      "Epoch 15/50\n",
      "4550/4550 [==============================] - 1s 117us/sample - loss: 0.6190 - acc: 0.6422 - val_loss: 0.5916 - val_acc: 0.6626\n",
      "Epoch 16/50\n",
      "4550/4550 [==============================] - 1s 119us/sample - loss: 0.6119 - acc: 0.6571 - val_loss: 0.5808 - val_acc: 0.6759\n",
      "Epoch 17/50\n",
      "4550/4550 [==============================] - 1s 115us/sample - loss: 0.6086 - acc: 0.6490 - val_loss: 0.5717 - val_acc: 0.6754\n",
      "Epoch 18/50\n",
      "4550/4550 [==============================] - 1s 119us/sample - loss: 0.6001 - acc: 0.6611 - val_loss: 0.5662 - val_acc: 0.6769\n",
      "Epoch 19/50\n",
      "4550/4550 [==============================] - 1s 118us/sample - loss: 0.5979 - acc: 0.6642 - val_loss: 0.5693 - val_acc: 0.6862\n",
      "Epoch 20/50\n",
      "4550/4550 [==============================] - 1s 120us/sample - loss: 0.5873 - acc: 0.6708 - val_loss: 0.5731 - val_acc: 0.7026\n",
      "Epoch 21/50\n",
      "4550/4550 [==============================] - 1s 114us/sample - loss: 0.5914 - acc: 0.6754 - val_loss: 0.5565 - val_acc: 0.7052\n",
      "Epoch 22/50\n",
      "4550/4550 [==============================] - 1s 120us/sample - loss: 0.5865 - acc: 0.6719 - val_loss: 0.5558 - val_acc: 0.6980\n",
      "Epoch 23/50\n",
      "4550/4550 [==============================] - 1s 115us/sample - loss: 0.5870 - acc: 0.6763 - val_loss: 0.5496 - val_acc: 0.7093\n",
      "Epoch 24/50\n",
      "4550/4550 [==============================] - 1s 117us/sample - loss: 0.5816 - acc: 0.6804 - val_loss: 0.5515 - val_acc: 0.7134\n",
      "Epoch 25/50\n",
      "4550/4550 [==============================] - 1s 115us/sample - loss: 0.5754 - acc: 0.6818 - val_loss: 0.5408 - val_acc: 0.7129\n",
      "Epoch 26/50\n",
      "4550/4550 [==============================] - 1s 115us/sample - loss: 0.5763 - acc: 0.6899 - val_loss: 0.5615 - val_acc: 0.6980\n",
      "Epoch 27/50\n",
      "4550/4550 [==============================] - 1s 115us/sample - loss: 0.5732 - acc: 0.6912 - val_loss: 0.5450 - val_acc: 0.7211\n",
      "Epoch 28/50\n",
      "4550/4550 [==============================] - 1s 116us/sample - loss: 0.5726 - acc: 0.6866 - val_loss: 0.5416 - val_acc: 0.7103\n",
      "Epoch 29/50\n",
      "4550/4550 [==============================] - 1s 118us/sample - loss: 0.5751 - acc: 0.6884 - val_loss: 0.5615 - val_acc: 0.7026\n",
      "Epoch 30/50\n",
      "4550/4550 [==============================] - 1s 118us/sample - loss: 0.5658 - acc: 0.6945 - val_loss: 0.5462 - val_acc: 0.7196\n"
     ]
    },
    {
     "data": {
      "text/plain": [
       "<tensorflow.python.keras.callbacks.History at 0x7fb0f83cae10>"
      ]
     },
     "execution_count": 17,
     "metadata": {},
     "output_type": "execute_result"
    }
   ],
   "source": [
    "wine_model.fit(wd.x_train,wd.y_train,epochs=50,validation_data=(wd.x_develop,wd.y_develop),callbacks=[es]) #Have Keras make a test/validation split for us\n"
   ]
  },
  {
   "cell_type": "code",
   "execution_count": 19,
   "metadata": {},
   "outputs": [
    {
     "name": "stdout",
     "output_type": "stream",
     "text": [
      "(1947, 1) (1947,)\n"
     ]
    },
    {
     "data": {
      "image/png": "[encoded data removed]",
      "text/plain": [
       "<Figure size 432x288 with 1 Axes>"
      ]
     },
     "metadata": {
      "needs_background": "light"
     },
     "output_type": "display_data"
    }
   ],
   "source": [
    "print(pred.shape,wd.y_develop.shape)\n",
    "\n",
    "plt.hist([p for i,p in zip(wd.y_develop,np.squeeze(pred)) if i],bins=50,range=(0,1),density=True,histtype='step',label=\"Good\")\n",
    "plt.hist([p for i,p in zip(wd.y_develop,np.squeeze(pred)) if not i],bins=50,range=(0,1),density=True,histtype='step',label=\"Bad\")\n",
    "\n",
    "plt.legend()\n",
    "plt.xlabel('NN Output')\n",
    "plt.show()\n"
   ]
  },
  {
   "cell_type": "code",
   "execution_count": 22,
   "metadata": {
    "scrolled": false
   },
   "outputs": [
    {
     "name": "stdout",
     "output_type": "stream",
     "text": [
      "(1947, 1)\n",
      "487 1460\n"
     ]
    },
    {
     "data": {
      "image/png": "[encoded data removed]",
      "text/plain": [
       "<Figure size 432x288 with 1 Axes>"
      ]
     },
     "metadata": {
      "needs_background": "light"
     },
     "output_type": "display_data"
    },
    {
     "name": "stdout",
     "output_type": "stream",
     "text": [
      "487 1460\n"
     ]
    },
    {
     "data": {
      "image/png": "[encoded data removed]",
      "text/plain": [
       "<Figure size 432x288 with 1 Axes>"
      ]
     },
     "metadata": {
      "needs_background": "light"
     },
     "output_type": "display_data"
    },
    {
     "name": "stdout",
     "output_type": "stream",
     "text": [
      "487 1460\n"
     ]
    },
    {
     "data": {
      "image/png": "[encoded data removed]",
      "text/plain": [
       "<Figure size 432x288 with 1 Axes>"
      ]
     },
     "metadata": {
      "needs_background": "light"
     },
     "output_type": "display_data"
    },
    {
     "name": "stdout",
     "output_type": "stream",
     "text": [
      "487 1460\n"
     ]
    },
    {
     "data": {
      "image/png": "[encoded data removed]",
      "text/plain": [
       "<Figure size 432x288 with 1 Axes>"
      ]
     },
     "metadata": {
      "needs_background": "light"
     },
     "output_type": "display_data"
    },
    {
     "name": "stdout",
     "output_type": "stream",
     "text": [
      "487 1460\n"
     ]
    },
    {
     "data": {
      "image/png": "[encoded data removed]",
      "text/plain": [
       "<Figure size 432x288 with 1 Axes>"
      ]
     },
     "metadata": {
      "needs_background": "light"
     },
     "output_type": "display_data"
    },
    {
     "name": "stdout",
     "output_type": "stream",
     "text": [
      "487 1460\n"
     ]
    },
    {
     "data": {
      "image/png": "[encoded data removed]",
      "text/plain": [
       "<Figure size 432x288 with 1 Axes>"
      ]
     },
     "metadata": {
      "needs_background": "light"
     },
     "output_type": "display_data"
    },
    {
     "name": "stdout",
     "output_type": "stream",
     "text": [
      "487 1460\n"
     ]
    },
    {
     "data": {
      "image/png": "[encoded data removed]",
      "text/plain": [
       "<Figure size 432x288 with 1 Axes>"
      ]
     },
     "metadata": {
      "needs_background": "light"
     },
     "output_type": "display_data"
    },
    {
     "name": "stdout",
     "output_type": "stream",
     "text": [
      "487 1460\n"
     ]
    },
    {
     "data": {
      "image/png": "[encoded data removed]",
      "text/plain": [
       "<Figure size 432x288 with 1 Axes>"
      ]
     },
     "metadata": {
      "needs_background": "light"
     },
     "output_type": "display_data"
    },
    {
     "name": "stdout",
     "output_type": "stream",
     "text": [
      "487 1460\n"
     ]
    },
    {
     "data": {
      "image/png": "[encoded data removed]",
      "text/plain": [
       "<Figure size 432x288 with 1 Axes>"
      ]
     },
     "metadata": {
      "needs_background": "light"
     },
     "output_type": "display_data"
    },
    {
     "name": "stdout",
     "output_type": "stream",
     "text": [
      "487 1460\n"
     ]
    },
    {
     "data": {
      "image/png": "[encoded data removed]",
      "text/plain": [
       "<Figure size 432x288 with 1 Axes>"
      ]
     },
     "metadata": {
      "needs_background": "light"
     },
     "output_type": "display_data"
    },
    {
     "name": "stdout",
     "output_type": "stream",
     "text": [
      "487 1460\n"
     ]
    },
    {
     "data": {
      "image/png": "[encoded data removed]",
      "text/plain": [
       "<Figure size 432x288 with 1 Axes>"
      ]
     },
     "metadata": {
      "needs_background": "light"
     },
     "output_type": "display_data"
    },
    {
     "name": "stdout",
     "output_type": "stream",
     "text": [
      "487 1460\n"
     ]
    },
    {
     "data": {
      "image/png": "[encoded data removed]",
      "text/plain": [
       "<Figure size 432x288 with 1 Axes>"
      ]
     },
     "metadata": {
      "needs_background": "light"
     },
     "output_type": "display_data"
    }
   ],
   "source": [
    "print(pred.shape)\n",
    "for n in range(12):\n",
    "    good=[]\n",
    "    bad=[]\n",
    "    for i,v in enumerate(pred[:,0]):\n",
    "        if v >.8:\n",
    "            good.append(wd.x_develop[i,n])\n",
    "        else:\n",
    "            bad.append(wd.x_develop[i,n])\n",
    "    print(len(good),len(bad))\n",
    "    label=wd.header[n]\n",
    "    max_range=max([max(good),max(bad)])\n",
    "    min_range=min([min(good),min(bad)])\n",
    "    \n",
    "    plt.hist(good,density=True,histtype='step',label='good',range=(min_range,max_range),bins=20)\n",
    "    plt.hist(bad,density=True,histtype='step',label='bad',range=(min_range,max_range),bins=20)\n",
    "    plt.xlabel(label)\n",
    "    plt.legend()\n",
    "    plt.show()"
   ]
  }
 ],
 "metadata": {
  "celltoolbar": "Slideshow",
  "kernelspec": {
   "display_name": "Python 3",
   "language": "python",
   "name": "python3"
  },
  "language_info": {
   "codemirror_mode": {
    "name": "ipython",
    "version": 3
   },
   "file_extension": ".py",
   "mimetype": "text/x-python",
   "name": "python",
   "nbconvert_exporter": "python",
   "pygments_lexer": "ipython3",
   "version": "3.6.7"
  }
 },
 "nbformat": 4,
 "nbformat_minor": 2
}
