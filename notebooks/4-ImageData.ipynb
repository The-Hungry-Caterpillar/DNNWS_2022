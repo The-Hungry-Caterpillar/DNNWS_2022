{
 "cells": [
  {
   "cell_type": "markdown",
   "metadata": {},
   "source": [
    "# Quick Programming Powerup\n",
    "\n",
    "Numpy arrays have a large number of useful ways to access data, we'll talk about two in this powerup!\n",
    "\n",
    "## Masking\n",
    "A handy way to select elements in NumPy is masking:\n",
    "\n",
    "* This lets you easily do things like Select X's for example where Y=True\n"
   ]
  },
  {
   "cell_type": "code",
   "execution_count": 4,
   "metadata": {},
   "outputs": [
    {
     "name": "stdout",
     "output_type": "stream",
     "text": [
      "[0.0129913  0.1350447  0.43519475 0.85722029 0.46612966 0.722513\n",
      " 0.96810181 0.76660633 0.47225005 0.45984653 0.16579585 0.26137607\n",
      " 0.57862681 0.75780473 0.88455274 0.28249776 0.79484981 0.24979557\n",
      " 0.39032885 0.85789395]\n",
      "[False False False False False  True False False  True False  True  True\n",
      "  True  True False False False False False False]\n",
      "[False False False False False  True False False  True False  True  True\n",
      "  True  True False False False False False False]\n",
      "[0.722513   0.47225005 0.16579585 0.26137607 0.57862681 0.75780473]\n",
      "[0.722513   0.47225005 0.16579585 0.26137607 0.57862681 0.75780473]\n"
     ]
    }
   ],
   "source": [
    "import numpy as np\n",
    "\n",
    "#Here is some fake data\n",
    "Xs=np.random.uniform(size=(20))\n",
    "Ys=np.random.uniform(size=(20)) > .8 #80% of our Ys should be true\n",
    "\n",
    "print(Xs)\n",
    "print(Ys)\n",
    "\n",
    "# Here we'll use as mask to grab all True Xs\n",
    "mask=(Ys==1)\n",
    "\n",
    "print(mask)\n",
    "\n",
    "print(Xs[mask])\n",
    "#Or since Ys are true or false \n",
    "print(Xs[Ys])\n",
    "\n"
   ]
  },
  {
   "cell_type": "markdown",
   "metadata": {},
   "source": [
    "## Using Lists as Indices\n",
    "A handy way to select elements in NumPy is using lists:\n",
    "\n",
    "* This lets you easily do things like Select The 3 Biggest Elements in X "
   ]
  },
  {
   "cell_type": "code",
   "execution_count": 12,
   "metadata": {},
   "outputs": [
    {
     "name": "stdout",
     "output_type": "stream",
     "text": [
      "Xs [0.55712163 0.17338359 0.41835592 0.5216988  0.07878809]\n",
      "Ys [0.55712163 0.17338359 0.41835592 0.5216988  0.07878809]\n",
      "Selected Xs [0.17338359 0.41835592 0.07878809]\n",
      "Sorted Xs [0.07878809 0.17338359 0.41835592 0.5216988  0.55712163]\n",
      "Largest 3 Xs [0.41835592 0.5216988  0.55712163]\n",
      "Label for Largest X  False\n",
      "Label for Smallest X  True\n",
      "The Same X 4 Times  [0.17338359 0.17338359 0.17338359 0.17338359]\n"
     ]
    }
   ],
   "source": [
    "#Some other Handy Tricks\n",
    "\n",
    "Xs=np.random.uniform(size=(5)) #Input Data\n",
    "Ys=np.random.uniform(size=(5)) >.5 #Target Data\n",
    "\n",
    "print(\"Xs\",Xs)\n",
    "print(\"Ys\",Xs)\n",
    "\n",
    "#Lists for index's work too\n",
    "\n",
    "print(\"Selected Xs\",Xs[[1,2,4]])\n",
    "\n",
    "#This can be useful if you want to grab the labels for smallest values of x\n",
    "\n",
    "#This gives you index's of an array in a list\n",
    "sort_i=np.argsort(Xs)\n",
    "print('Sorted Xs',Xs[sort_i])\n",
    "print('Largest 3 Xs', Xs[sort_i[-3:]])\n",
    "\n",
    "biggest_index=sort_i[-1]\n",
    "smallest_index=sort_i[0]\n",
    "\n",
    "print('Label for Largest X ',Ys[biggest_index])\n",
    "print('Label for Smallest X ',Ys[smallest_index])\n",
    "\n",
    "print('The Same X 4 Times ',Xs[[1,1,1,1]])\n",
    "\n",
    "\n",
    "\n",
    "\n"
   ]
  },
  {
   "cell_type": "code",
   "execution_count": 16,
   "metadata": {},
   "outputs": [
    {
     "data": {
      "text/plain": [
       "'try to print the 5th,6th, and 8th, largest element in the Xs above in two lines of code'"
      ]
     },
     "execution_count": 16,
     "metadata": {},
     "output_type": "execute_result"
    }
   ],
   "source": [
    "Xs=np.random.uniform(size=(100)) #Input Data\n",
    "\"try to print the 5th,6th, and 8th, largest element in the Xs above in two lines of code\""
   ]
  },
  {
   "cell_type": "markdown",
   "metadata": {},
   "source": [
    "# Images with Neural Networks"
   ]
  },
  {
   "cell_type": "markdown",
   "metadata": {},
   "source": [
    "This notebook makes extensive use of examples and figures from [here](http://cs231n.github.io/convolutional-networks/), which is a great reference for further details.\n",
    "\n",
    "\n",
    "# GOALS\n",
    "\n",
    "* Understand how Image data is stored and used\n",
    "* Write a Multi-Class classification model\n",
    "* Be able to use convolutional layers\n",
    "* Build a network for Image Classification\n",
    "* Understand Over-fitting and some ways to deal with it"
   ]
  },
  {
   "cell_type": "markdown",
   "metadata": {},
   "source": [
    "# Example: MNIST - Fashion\n",
    "\n",
    "For this example we'll use MNIST- Fashion, a collection of small 28x28 pixel images of various pieces of clothing. It is a common benchmark along with with the original MNIST which is a collection of hand written digits. We will load the data directly from keras.\n",
    "\n",
    "\n",
    "\n",
    "## The Task\n",
    "This is a multi-class classification problem, identify the type of object in the image\n",
    "\n",
    "|Label| Class  |\n",
    "|------ | ------|\n",
    "|    0|T-shirt/top|\n",
    "|    1|Trouser|\n",
    "|    2| Pullover|\n",
    "|    3| Dress|\n",
    "|    4| Coat|\n",
    "|    5| Sandal|\n",
    "|    6| Shirt|\n",
    "|    7| Sneaker|\n",
    "|    8| Bag|\n",
    "|    9| Ankle boot|\n",
    " \n",
    "\n"
   ]
  },
  {
   "cell_type": "markdown",
   "metadata": {},
   "source": [
    "## Image Data "
   ]
  },
  {
   "cell_type": "markdown",
   "metadata": {},
   "source": [
    "Here we'll rely on tensorflow and the handy package Keras that comes with it"
   ]
  },
  {
   "cell_type": "code",
   "execution_count": 13,
   "metadata": {},
   "outputs": [
    {
     "name": "stdout",
     "output_type": "stream",
     "text": [
      "Import complete\n"
     ]
    }
   ],
   "source": [
    "import os\n",
    "import os.path\n",
    "import numpy as np\n",
    "import tensorflow as tf\n",
    "from matplotlib import pyplot as plt\n",
    "from random import random\n",
    "from sys import version\n",
    "print(\"Import complete\")   "
   ]
  },
  {
   "cell_type": "code",
   "execution_count": 14,
   "metadata": {},
   "outputs": [
    {
     "name": "stdout",
     "output_type": "stream",
     "text": [
      "A Single Image:\n",
      " [[  0   0   0   0   0   0   0   0   0  22 118  24   0   0   0   0   0  48  88   5   0   0   0   0   0   0   0   0]\n",
      " [  0   0   0   0   0   0   0   0  12 100 212 205 185 179 173 186 193 221 142  85   0   0   0   0   0   0   0   0]\n",
      " [  0   0   0   0   0   0   0   0   0  85  76 199 225 248 255 238 226 157  68  80   0   0   0   0   0   0   0   0]\n",
      " [  0   0   0   0   0   0   0   0   0  91  69  91 201 218 225 209 158  61  93  72   0   0   0   0   0   0   0   0]\n",
      " [  0   0   0   0   0   0   0   0   0  79  89  61  59  87 108  75  56  76  97  73   0   0   0   0   0   0   0   0]\n",
      " [  0   0   0   0   0   0   0   0   0  75  89  80  80  67  63  73  83  80  96  72   0   0   0   0   0   0   0   0]\n",
      " [  0   0   0   0   0   0   0   0   0  77  88  77  80  83  83  83  83  81  95  76   0   0   0   0   0   0   0   0]\n",
      " [  0   0   0   0   0   0   0   0   0  89  96  80  83  81  84  85  85  85  97  84   0   0   0   0   0   0   0   0]\n",
      " [  0   0   0   0   0   0   0   0   0  93  97  81  85  84  85  87  88  84  99  87   0   0   0   0   0   0   0   0]\n",
      " [  0   0   0   0   0   0   0   0   0  95  87  84  87  88  85  87  87  84  92  87   0   0   0   0   0   0   0   0]\n",
      " [  0   0   0   0   0   0   0   0   0  97  87  87  85  88  87  87  87  88  85 107   0   0   0   0   0   0   0   0]\n",
      " [  0   0   0   0   0   0   0   0  17 100  88  87  87  88  87  87  85  89  77 118   8   0   0   0   0   0   0   0]\n",
      " [  0   0   0   0   0   0   0   0  10  93  87  87  87  87  87  88  87  89  80 103   0   0   0   0   0   0   0   0]\n",
      " [  0   0   0   0   0   0   0   0   9  96  87  87  87  87  87  88  87  88  87 103   0   0   0   0   0   0   0   0]\n",
      " [  0   0   0   0   0   0   0   0  12  96  85  87  87  87  85  87  87  88  89 100   2   0   0   0   0   0   0   0]\n",
      " [  0   0   0   0   0   0   0   0  20  95  84  88  85  87  88  88  88  89  88  99   8   0   0   0   0   0   0   0]\n",
      " [  0   0   0   0   0   0   0   0  21  96  85  87  85  88  88  88  88  89  89  99  10   0   0   0   0   0   0   0]\n",
      " [  0   0   0   0   0   0   0   0  24  96  85  87  85  87  88  88  89  88  91 102  14   0   0   0   0   0   0   0]\n",
      " [  0   0   0   0   0   0   0   0  25  93  84  88  87  87  87  87  87  89  91 103  29   0   0   0   0   0   0   0]\n",
      " [  0   0   0   0   0   0   0   0  30  95  85  88  88  87  87  87  87  89  88 102  37   0   0   0   0   0   0   0]\n",
      " [  0   0   0   0   0   0   0   0  34  96  88  87  87  87  87  87  87  85  85  97  38   0   0   0   0   0   0   0]\n",
      " [  0   0   0   0   0   0   0   0  40  96  87  85  87  87  87  87  87  85  84  92  49   0   0   0   0   0   0   0]\n",
      " [  0   0   0   0   0   0   0   0  46  95  83  84  87  87  87  87  87  87  84  87  84   0   0   0   0   0   0   0]\n",
      " [  0   0   0   0   0   0   0   0  72  95  85  84  85  88  87  87  89  87  85  83  63   0   0   0   0   0   0   0]\n",
      " [  0   0   0   0   0   0   0   0  64 100  84  87  88  85  88  88  84  87  83  95  53   0   0   0   0   0   0   0]\n",
      " [  0   0   0   0   0   0   0   0  10 102 100  91  91  89  85  84  84  87 108 106  14   0   0   0   0   0   0   0]\n",
      " [  0   0   0   0   0   0   0   0   0   8  73  93 104 107 103 103 106 102  75  10   0   0   0   0   0   0   0   0]\n",
      " [  0   0   0   0   0   0   0   0   1   0   0   0  18  42  57  56  32   8   0   0   1   0   0   0   0   0   0   0]]\n"
     ]
    },
    {
     "data": {
      "image/png": "[encoded data removed]",
      "text/plain": [
       "<Figure size 432x288 with 1 Axes>"
      ]
     },
     "metadata": {
      "needs_background": "light"
     },
     "output_type": "display_data"
    },
    {
     "name": "stdout",
     "output_type": "stream",
     "text": [
      "Example Label: 0\n"
     ]
    }
   ],
   "source": [
    "# Load pre-shuffled MNIST data into train and test sets\n",
    "(_xtrain, _ytrain), (X_test, Y_test) = tf.keras.datasets.fashion_mnist.load_data()\n",
    "\n",
    "#We want to include a develop set so let's split the training set\n",
    "train_index=[]\n",
    "develop_index=[]\n",
    "for i in range(len(_xtrain)):\n",
    "    if random() <0.8:\n",
    "        train_index.append(i)\n",
    "    else:\n",
    "        develop_index.append(i)\n",
    "X_train=_xtrain[train_index]\n",
    "Y_train=_ytrain[train_index]\n",
    "\n",
    "X_develop=_xtrain[develop_index]\n",
    "Y_develop=_ytrain[develop_index]\n",
    "\n",
    "\n",
    "np.set_printoptions(linewidth=115)\n",
    "n_targets=np.max(Y_test)+1\n",
    "print('A Single Image:\\n',X_train[0])\n",
    "plt.imshow(X_train[0],cmap='gray')\n",
    "plt.show()\n",
    "print('Example Label:', Y_train[0])"
   ]
  },
  {
   "cell_type": "markdown",
   "metadata": {},
   "source": [
    "* Note above that the labels are integers from 0-9\n",
    "* Also note the images are integers from 0-255 (uint8)\n",
    "\n",
    "We will deal with the labels first. Lets make some useful arrays and dictionaries to keep track of what each integer means "
   ]
  },
  {
   "cell_type": "code",
   "execution_count": 15,
   "metadata": {},
   "outputs": [
    {
     "name": "stdout",
     "output_type": "stream",
     "text": [
      "Array and dictionary are in same order\n",
      "X_train and Y_train are the same length\n",
      "X_develop and Y_develop are the same length\n",
      "X_test and Y_test are the same length\n"
     ]
    }
   ],
   "source": [
    "# This is useful for making plots it takes an integer\n",
    "lookup_dict={\n",
    "    0 :'T-shirt/top',\n",
    "    1 :'Trouser',\n",
    "    2 :'Pullover',\n",
    "    3 :'Dress',\n",
    "    4 :'Coat',\n",
    "    5 :'Sandal',\n",
    "    6 :'Shirt',\n",
    "    7 :'Sneaker',\n",
    "    8 :'Bag',\n",
    "    9 :'Ankle boot' \n",
    "}\n",
    "\n",
    "\n",
    "#Lets make a list in the order of the labels above so [T-Shirt,Trouser,...]\n",
    "labels=list(lookup_dict.values())\n",
    "\n",
    "#Check to make sure labels list is in the right order (not guaranteed in python < 3.6)\n",
    "if not all([v==lookup_dict[i] for i,v in enumerate(labels) ]):\n",
    "    print('This looks like an old version of python making labels the long way, you are using python version', version)\n",
    "    labels=['' for i in range(n_targets) ] #make a list with the right size\n",
    "    for key in lookup_dict:\n",
    "        labels[key]=lookup_dict[key] #Assign list to the vaules\n",
    "        \n",
    "#Always good to make simple checks that what you think is going to work actually is working\n",
    "#Here we check that our array of labels is in the same order as the dictionary we wrote above\n",
    "assert(all([v==lookup_dict[i] for i,v in enumerate(labels) ]))\n",
    "print(\"Array and dictionary are in same order\")    \n",
    "\n",
    "#Another Simple Check (Keras is well tested this will work, but it's good to get in the habit when using your own data)\n",
    "assert(len(X_train)==len(Y_train))\n",
    "print(\"X_train and Y_train are the same length\") \n",
    "assert(len(X_develop)==len(Y_develop))\n",
    "print(\"X_develop and Y_develop are the same length\")   \n",
    "assert(len(X_test)==len(Y_test))\n",
    "print(\"X_test and Y_test are the same length\")  "
   ]
  },
  {
   "cell_type": "markdown",
   "metadata": {},
   "source": [
    "# Multi-Class Classification\n",
    "\n",
    "**Reminder**\n",
    "   * Classification is problem where each of our examples (x) belongs to a class (y). Since Neural networks are universal function approximators, we can use $P(y|x)$\n",
    "\n",
    "**Like before to change our problem we need**\n",
    "* The correct activation on our last layer - **softmax**\n",
    "* The correct loss function - **categorical_crossentropy**\n",
    "\n",
    "We have more than two classes (0,1,2...) and we need to predict the probability of all of them. However, we have a constraint that all the probabilities must sum to one.\n",
    "\n",
    "**Our network**\n",
    " * Inputs are our images\n",
    " * Output is a Dense layer with dimension equal to the number of classes\n",
    "     * Each output represents $\\{P(y=0|x),(y=1|x),(y=2|x)\\ ...\\}$.\n",
    " * We require $\\sum_i P(y=i|x) = 1$.\n",
    "\n",
    "* To enforce this we use a different activation function: a **softmax**\n",
    "\n",
    "    * $\\sigma(x)_i= \\frac{e^{x_i}}{\\sum_i e^{x_i}}$\n",
    "    \n",
    "* Our loss function becomes\n",
    "\n",
    " $L=-\\frac{1}{N}\\sum_i \\sum_n y_{true,i,n}*ln(y_{pred,i,n})$\n",
    "\n",
    "* What this means\n",
    "    * $y_{true,i,n}$ is a vector with a 1 in the dimention that example belongs to and a zero everywhere else\n",
    "        *  i.e. Ankle boot = class 9 = (0,0,0,0,0,0,0,0,0,1)\n",
    "    * The sum in this loss term  $\\sum_n y_{true,i,n}*ln(y_{pred,i,n})$\n",
    "        * is zero except for the one value when n=class of $y_{true}$\n",
    "        * Then it's just $ln(y_{pred,i,n})$\n",
    "        * This is same as binary classfication: make -1*$ln(y_{pred,i,n})$ as small as possible\n",
    "\n",
    "\n"
   ]
  },
  {
   "cell_type": "markdown",
   "metadata": {},
   "source": [
    "Our input data set has labels stored as integers, but the labels we need for our loss function need to be  **one-hot** encoded\n",
    "\n",
    "**one-hot** - A vector of zeros except for one entry with a 1 that represents the class of an object\n",
    "   * i.e. Ankle boot = class 9 = (0,0,0,0,0,0,0,0,0,1)\n",
    "\n",
    "keras has a utility to convert integers like this easily."
   ]
  },
  {
   "cell_type": "code",
   "execution_count": 16,
   "metadata": {},
   "outputs": [
    {
     "name": "stdout",
     "output_type": "stream",
     "text": [
      "Example: 0 = [1. 0. 0. 0. 0. 0. 0. 0. 0. 0.]\n"
     ]
    }
   ],
   "source": [
    "Y_train_one_hot = tf.keras.utils.to_categorical(Y_train, 10)\n",
    "Y_develop_one_hot =  tf.keras.utils.to_categorical(Y_develop, 10)\n",
    "Y_test_one_hot =  tf.keras.utils.to_categorical(Y_test, 10)\n",
    "\n",
    "print('Example:',Y_train[0],'=',Y_train_one_hot[0])"
   ]
  },
  {
   "cell_type": "markdown",
   "metadata": {},
   "source": [
    "Now lets handle the image data\n",
    "* Our Convolutional Neural Networks need a shape of Batch x Height x Width x Channels, for us (batch_size x 28 x 28 x 1)\n",
    "* In this case channels=1, but for a color image you'll have 3 RGB and sometimes 4 with a transparency channel RGBA \n",
    "* It's much easier for a neural network to handle data with range from 0-1, rather than 0-255, so we will scale the data"
   ]
  },
  {
   "cell_type": "code",
   "execution_count": 17,
   "metadata": {},
   "outputs": [
    {
     "name": "stdout",
     "output_type": "stream",
     "text": [
      "Datatype: uint8 \n",
      "Max value: 255\n"
     ]
    },
    {
     "data": {
      "image/png": "[encoded data removed]",
      "text/plain": [
       "<Figure size 1080x216 with 1 Axes>"
      ]
     },
     "metadata": {
      "needs_background": "light"
     },
     "output_type": "display_data"
    }
   ],
   "source": [
    "\n",
    "f=plt.figure(figsize=(15,3))\n",
    "plt.imshow(np.squeeze(np.hstack(X_train[0:7])),cmap='gray') #hstack aranges the first 7 images into one long image\n",
    "\n",
    "#Reshape\n",
    "X_train = X_train.reshape(X_train.shape[0], 28, 28, 1)\n",
    "X_test = X_test.reshape(X_test.shape[0], 28, 28, 1)\n",
    "X_develop = X_develop.reshape(X_develop.shape[0], 28, 28, 1)\n",
    "\n",
    "\n",
    "print(\"Datatype:\",X_train.dtype, \"\\nMax value:\", X_train.max())"
   ]
  },
  {
   "cell_type": "markdown",
   "metadata": {},
   "source": [
    "Notice that the pixel values imported as an integer array that saturates at `255`.  Let's turn the data into floats $\\in [0, 1]$."
   ]
  },
  {
   "cell_type": "code",
   "execution_count": 18,
   "metadata": {},
   "outputs": [
    {
     "name": "stdout",
     "output_type": "stream",
     "text": [
      "all sets scaled to float values between 0.0 and 1.0\n"
     ]
    }
   ],
   "source": [
    "X_train = X_train.astype('float32')\n",
    "X_test = X_test.astype('float32')\n",
    "\n",
    "if X_train.max()>1:  \n",
    "    X_train = X_train/255\n",
    "    X_test = X_test/255\n",
    "    X_develop = X_develop/255\n",
    "\n",
    "assert(np.max(X_train) <=1)\n",
    "assert(np.max(X_test) <=1)\n",
    "assert(np.max(X_develop) <=1)\n",
    "print(\"all sets scaled to float values between\", X_train.min(), \"and\", X_train.max())\n"
   ]
  },
  {
   "cell_type": "markdown",
   "metadata": {},
   "source": [
    "# The Take Away\n",
    "\n",
    "* Image data is 3 dimensional (width,height,channel (i.e color) )\n",
    "    * It is often stored from 0-255 and should be normalized between 0-1\n",
    "* Class labels are given as integers and need to be converted to **one hot** vectors\n",
    "    \n",
    "* Multi-classification problems \n",
    "    * Use **softmax** as an output\n",
    "    * Use **Categorical Cross Entropy** as a loss function\n"
   ]
  },
  {
   "cell_type": "markdown",
   "metadata": {},
   "source": [
    "# Dense Network for Image Classification\n",
    "\n",
    "* We can use everything we learned in Lesson 2 for Image classification\n",
    "* But we need one extra layer\n",
    "    * Dense Layers take 1-D data not 3-D data\n",
    "    * Convert the two by Flattening\n",
    "    * tf.keras.layers.Flatten()\n",
    "    \n",
    "All this does is reshape the input data\n",
    "\n",
    "$\\begin{pmatrix}a & b \\\\c & d\\end{pmatrix} \\rightarrow (a,b,c,d)$\n",
    "\n",
    "Let's try the network below \n"
   ]
  },
  {
   "cell_type": "code",
   "execution_count": 19,
   "metadata": {},
   "outputs": [
    {
     "name": "stdout",
     "output_type": "stream",
     "text": [
      "_________________________________________________________________\n",
      "Layer (type)                 Output Shape              Param #   \n",
      "=================================================================\n",
      "input_2 (InputLayer)         (None, 28, 28, 1)         0         \n",
      "_________________________________________________________________\n",
      "flatten_1 (Flatten)          (None, 784)               0         \n",
      "_________________________________________________________________\n",
      "dense_3 (Dense)              (None, 100)               78500     \n",
      "_________________________________________________________________\n",
      "dense_4 (Dense)              (None, 100)               10100     \n",
      "_________________________________________________________________\n",
      "dense_5 (Dense)              (None, 10)                1010      \n",
      "=================================================================\n",
      "Total params: 89,610\n",
      "Trainable params: 89,610\n",
      "Non-trainable params: 0\n",
      "_________________________________________________________________\n",
      "Train on 48112 samples, validate on 11888 samples\n",
      "Epoch 1/10\n",
      "48112/48112 [==============================] - 4s 83us/step - loss: 0.5731 - acc: 0.7970 - val_loss: 0.4814 - val_acc: 0.8351\n",
      "Epoch 2/10\n",
      "48112/48112 [==============================] - 4s 74us/step - loss: 0.4769 - acc: 0.8329 - val_loss: 0.4611 - val_acc: 0.8397\n",
      "Epoch 3/10\n",
      "48112/48112 [==============================] - 4s 77us/step - loss: 0.4604 - acc: 0.8404 - val_loss: 0.4303 - val_acc: 0.8499\n",
      "Epoch 4/10\n",
      "48112/48112 [==============================] - 3s 70us/step - loss: 0.4450 - acc: 0.8429 - val_loss: 0.4470 - val_acc: 0.8441\n",
      "Epoch 5/10\n",
      "48112/48112 [==============================] - 5s 101us/step - loss: 0.4335 - acc: 0.8483 - val_loss: 0.4428 - val_acc: 0.8455\n",
      "Epoch 6/10\n",
      "48112/48112 [==============================] - 4s 75us/step - loss: 0.4302 - acc: 0.8484 - val_loss: 0.4659 - val_acc: 0.8437\n",
      "Epoch 7/10\n",
      "48112/48112 [==============================] - 4s 75us/step - loss: 0.4255 - acc: 0.8511 - val_loss: 0.4318 - val_acc: 0.8542\n",
      "Epoch 8/10\n",
      "48112/48112 [==============================] - 3s 72us/step - loss: 0.4194 - acc: 0.8530 - val_loss: 0.4381 - val_acc: 0.8504\n",
      "Epoch 9/10\n",
      "48112/48112 [==============================] - 3s 71us/step - loss: 0.4168 - acc: 0.8529 - val_loss: 0.4331 - val_acc: 0.8487\n",
      "Epoch 10/10\n",
      "48112/48112 [==============================] - 4s 84us/step - loss: 0.4125 - acc: 0.8542 - val_loss: 0.4322 - val_acc: 0.8535\n"
     ]
    }
   ],
   "source": [
    "input_layer=tf.keras.layers.Input( shape=X_train.shape[1:] ) # Shape here does not include the batch size \n",
    "\n",
    "## Here is our magic layer to turn image data into something a dense layer can use\n",
    "flat_input=tf.keras.layers.Flatten()(input_layer )#Dense layers take a shape of ( batch x features)\n",
    "##\n",
    "hidden_layer1=tf.keras.layers.Dense(100)(flat_input)    \n",
    "hidden_layer_activation=tf.keras.layers.LeakyReLU()(hidden_layer1)\n",
    "hidden_layer2=tf.keras.layers.Dense(100)(hidden_layer1)\n",
    "hidden_layer_activation=tf.keras.layers.LeakyReLU()(hidden_layer2)\n",
    "output_layer=tf.keras.layers.Dense(n_targets,activation='softmax')(hidden_layer2)\n",
    "dense_model=tf.keras.models.Model(input_layer,output_layer)\n",
    "\n",
    "dense_model.compile(loss='categorical_crossentropy',\n",
    "              optimizer='adam',\n",
    "              metrics=['accuracy'])\n",
    "\n",
    "dense_model.summary()\n",
    "\n",
    "history=dense_model.fit(X_train, Y_train_one_hot, \n",
    "          batch_size=32, epochs=10, verbose=1,\n",
    "         validation_data=(X_develop,Y_develop_one_hot)\n",
    "         )\n"
   ]
  },
  {
   "cell_type": "markdown",
   "metadata": {},
   "source": [
    "## Loss Curves\n",
    "\n",
    "The keras fit function returns a history object, that we've ignored until now, but it's a very important tool.\n",
    "It records the loss of the training and development datasets at each epoch, as well as metrics like accuracy.\n",
    "Let's plot the loss.\n",
    "\n",
    "**Most imporantly**\n",
    "* Is the development loss greater than the train loss?\n",
    "    * If so your model is overfit and will give worse performance\n",
    "\n"
   ]
  },
  {
   "cell_type": "code",
   "execution_count": 20,
   "metadata": {},
   "outputs": [
    {
     "data": {
      "image/png": "[encoded data removed]",
      "text/plain": [
       "<Figure size 432x288 with 1 Axes>"
      ]
     },
     "metadata": {
      "needs_background": "light"
     },
     "output_type": "display_data"
    }
   ],
   "source": [
    "#We'll do this a lot so let's put it in a function\n",
    "def plot_history(history):     \n",
    "    plt.plot(history.history['loss'],label='Train')\n",
    "    plt.plot(history.history['val_loss'],label='Develop')\n",
    "    plt.xlabel('Epochs')\n",
    "    plt.ylabel('Loss')\n",
    "    plt.ylim((0,1.5*np.max(history.history['val_loss'])))\n",
    "    plt.legend()\n",
    "    plt.show()\n",
    "plot_history(history)"
   ]
  },
  {
   "cell_type": "markdown",
   "metadata": {},
   "source": [
    "There are many techniques to deal with over-fitting and we'll talk more about them latter, but the easiest way is to just stop the training earlier. You can do this with\n",
    "\n",
    "\n",
    "```keras.callbacks.EarlyStopping(monitor='val_loss', min_delta=0, patience=0, verbose=0, mode='auto', baseline=None, restore_best_weights=False)```\n",
    "\n",
    "This is a callback, or a function that can be used to control the fitting process. It's called at the end of every epoch, or even the end of every batch. We can use these functions by adding them to the fit functions with\n",
    "\n",
    "\n",
    "```model.fit(...,\n",
    "  callbacks=[func1,func2])```\n",
    "  \n"
   ]
  },
  {
   "cell_type": "code",
   "execution_count": 21,
   "metadata": {},
   "outputs": [
    {
     "name": "stdout",
     "output_type": "stream",
     "text": [
      "Train on 48112 samples, validate on 11888 samples\n",
      "Epoch 1/10\n",
      "48112/48112 [==============================] - 3s 72us/step - loss: 0.4094 - acc: 0.8561 - val_loss: 0.4366 - val_acc: 0.8489\n",
      "Epoch 2/10\n",
      "48112/48112 [==============================] - 3s 71us/step - loss: 0.4089 - acc: 0.8572 - val_loss: 0.4084 - val_acc: 0.8604\n",
      "Epoch 3/10\n",
      "48112/48112 [==============================] - 3s 72us/step - loss: 0.4048 - acc: 0.8582 - val_loss: 0.4320 - val_acc: 0.8496\n"
     ]
    },
    {
     "data": {
      "image/png": "[encoded data removed]",
      "text/plain": [
       "<Figure size 432x288 with 1 Axes>"
      ]
     },
     "metadata": {
      "needs_background": "light"
     },
     "output_type": "display_data"
    }
   ],
   "source": [
    "es=tf.keras.callbacks.EarlyStopping(monitor='val_loss', min_delta=0, patience=0, verbose=0, mode='auto')\n",
    "history=dense_model.fit(X_train, Y_train_one_hot, \n",
    "          batch_size=32, epochs=10, verbose=1,\n",
    "         validation_data=(X_develop,Y_develop_one_hot),\n",
    "          callbacks=[es] \n",
    "                       )\n",
    "\n",
    "plot_history(history)"
   ]
  },
  {
   "cell_type": "markdown",
   "metadata": {},
   "source": [
    "Since we picked up training where we left off the early stopping function quits training as soon as the develop loss stops going down."
   ]
  },
  {
   "cell_type": "markdown",
   "metadata": {},
   "source": [
    "# Excerise 1\n",
    "\n",
    "With that let's practice writing our own Dense network image classifier\n",
    "We will a new dataset as an example cifar10\n",
    "\n",
    "\n",
    "labels=https://www.cs.toronto.edu/~kriz/cifar.html\n"
   ]
  },
  {
   "cell_type": "code",
   "execution_count": 22,
   "metadata": {},
   "outputs": [
    {
     "data": {
      "text/plain": [
       "<matplotlib.image.AxesImage at 0x2aaaef5e3358>"
      ]
     },
     "execution_count": 22,
     "metadata": {},
     "output_type": "execute_result"
    },
    {
     "data": {
      "image/png": "[encoded data removed]",
      "text/plain": [
       "<Figure size 1080x216 with 1 Axes>"
      ]
     },
     "metadata": {
      "needs_background": "light"
     },
     "output_type": "display_data"
    }
   ],
   "source": [
    "# Load CIFAR data into train and test sets\n",
    "(_cfxtrain, _cfytrain), (cfX_test, cfY_test) = tf.keras.datasets.cifar10.load_data()\n",
    "\n",
    "#Split into Train and Develop\n",
    "\n",
    "train_index=[]\n",
    "develop_index=[]\n",
    "for i in range(len(_cfxtrain)):\n",
    "    if random() <0.8:\n",
    "        train_index.append(i)\n",
    "    else:\n",
    "        develop_index.append(i)\n",
    "cfX_train=_cfxtrain[train_index]\n",
    "cfY_train=_cfytrain[train_index]\n",
    "\n",
    "cfX_develop=_cfxtrain[develop_index]\n",
    "cfY_develop=_cfytrain[develop_index]\n",
    "\n",
    "f=plt.figure(figsize=(15,3))\n",
    "plt.imshow(np.hstack(cfX_train[0:7])) #hstack aranges the first 7 images into one long image\n",
    "\n"
   ]
  },
  {
   "cell_type": "markdown",
   "metadata": {},
   "source": [
    "# Step 1 Scale your data to be between 0 and 1"
   ]
  },
  {
   "cell_type": "code",
   "execution_count": 23,
   "metadata": {},
   "outputs": [
    {
     "data": {
      "text/plain": [
       "'Your code here normalize cfX_train/test/develop'"
      ]
     },
     "execution_count": 23,
     "metadata": {},
     "output_type": "execute_result"
    }
   ],
   "source": [
    "\"Your code here normalize cfX_train/test/develop\""
   ]
  },
  {
   "cell_type": "code",
   "execution_count": 24,
   "metadata": {},
   "outputs": [
    {
     "ename": "AssertionError",
     "evalue": "Max of your data set is 255 not 1",
     "output_type": "error",
     "traceback": [
      "\u001b[0;31m---------------------------------------------------------------------------\u001b[0m",
      "\u001b[0;31mAssertionError\u001b[0m                            Traceback (most recent call last)",
      "\u001b[0;32m<ipython-input-24-94bb250c4335>\u001b[0m in \u001b[0;36m<module>\u001b[0;34m\u001b[0m\n\u001b[1;32m      1\u001b[0m \u001b[0;32mfor\u001b[0m \u001b[0mdata_set\u001b[0m \u001b[0;32min\u001b[0m \u001b[0;34m[\u001b[0m\u001b[0mcfX_train\u001b[0m\u001b[0;34m,\u001b[0m\u001b[0mcfX_develop\u001b[0m\u001b[0;34m,\u001b[0m\u001b[0mcfX_test\u001b[0m\u001b[0;34m]\u001b[0m\u001b[0;34m:\u001b[0m\u001b[0;34m\u001b[0m\u001b[0;34m\u001b[0m\u001b[0m\n\u001b[0;32m----> 2\u001b[0;31m     \u001b[0;32massert\u001b[0m \u001b[0mnp\u001b[0m\u001b[0;34m.\u001b[0m\u001b[0mmax\u001b[0m\u001b[0;34m(\u001b[0m\u001b[0mdata_set\u001b[0m\u001b[0;34m)\u001b[0m\u001b[0;34m==\u001b[0m\u001b[0;36m1.\u001b[0m\u001b[0;34m,\u001b[0m \u001b[0;34m'Max of your data set is '\u001b[0m\u001b[0;34m+\u001b[0m\u001b[0mstr\u001b[0m\u001b[0;34m(\u001b[0m\u001b[0mnp\u001b[0m\u001b[0;34m.\u001b[0m\u001b[0mmax\u001b[0m\u001b[0;34m(\u001b[0m\u001b[0mdata_set\u001b[0m\u001b[0;34m)\u001b[0m\u001b[0;34m)\u001b[0m\u001b[0;34m+\u001b[0m\u001b[0;34m' not 1'\u001b[0m\u001b[0;34m\u001b[0m\u001b[0;34m\u001b[0m\u001b[0m\n\u001b[0m\u001b[1;32m      3\u001b[0m     \u001b[0;32massert\u001b[0m \u001b[0mnp\u001b[0m\u001b[0;34m.\u001b[0m\u001b[0mmin\u001b[0m\u001b[0;34m(\u001b[0m\u001b[0mdata_set\u001b[0m\u001b[0;34m)\u001b[0m\u001b[0;34m==\u001b[0m\u001b[0;36m0.\u001b[0m\u001b[0;34m,\u001b[0m \u001b[0;34m'Max of your data set is '\u001b[0m\u001b[0;34m+\u001b[0m\u001b[0mstr\u001b[0m\u001b[0;34m(\u001b[0m\u001b[0mnp\u001b[0m\u001b[0;34m.\u001b[0m\u001b[0mmin\u001b[0m\u001b[0;34m(\u001b[0m\u001b[0mdata_set\u001b[0m\u001b[0;34m)\u001b[0m\u001b[0;34m)\u001b[0m\u001b[0;34m+\u001b[0m\u001b[0;34m' not 0'\u001b[0m\u001b[0;34m\u001b[0m\u001b[0;34m\u001b[0m\u001b[0m\n\u001b[1;32m      4\u001b[0m \u001b[0;34m\u001b[0m\u001b[0m\n\u001b[1;32m      5\u001b[0m \u001b[0mprint\u001b[0m\u001b[0;34m(\u001b[0m\u001b[0;34m'Great job! Your dataset is normalized correctly'\u001b[0m\u001b[0;34m)\u001b[0m\u001b[0;34m\u001b[0m\u001b[0;34m\u001b[0m\u001b[0m\n",
      "\u001b[0;31mAssertionError\u001b[0m: Max of your data set is 255 not 1"
     ]
    }
   ],
   "source": [
    "for data_set in [cfX_train,cfX_develop,cfX_test]:\n",
    "    assert np.max(data_set)==1., 'Max of your data set is '+str(np.max(data_set))+' not 1'\n",
    "    assert np.min(data_set)==0., 'Max of your data set is '+str(np.min(data_set))+' not 0'\n",
    "\n",
    "print('Great job! Your dataset is normalized correctly')"
   ]
  },
  {
   "cell_type": "markdown",
   "metadata": {},
   "source": [
    "# Step 2 Create One-Hot encoded labels\n",
    "Name them:\n",
    "* cfY_train_one_hot\n",
    "* cfY_develop_one_hot\n",
    "* cfY_test_one_hot\n"
   ]
  },
  {
   "cell_type": "code",
   "execution_count": null,
   "metadata": {},
   "outputs": [],
   "source": [
    "\"Your code here\""
   ]
  },
  {
   "cell_type": "code",
   "execution_count": null,
   "metadata": {},
   "outputs": [],
   "source": [
    "assert 'cfY_train_one_hot' in locals(),  'cfY_train_one_hot not found' \n",
    "assert 'cfY_develop_one_hot' in locals(),  'cfY_develop_one_hot not found' \n",
    "assert 'cfY_test_one_hot' in locals(),  'cfY_test_one_hot not found' \n",
    "\n",
    "assert (cfY_train_one_hot).shape[1]==10,  'cfY_train_one_hot not the correct size' \n",
    "assert (cfY_develop_one_hot).shape[1]==10,  'cfY_develop_one_hot not the correct size' \n",
    "assert (cfY_test_one_hot).shape[1]==10,  'cfY_test_one_hot not the correct size'\n",
    "print(\"One-Hot encoded labels created, correct size\")"
   ]
  },
  {
   "cell_type": "markdown",
   "metadata": {},
   "source": [
    "# Step 3 Create a Dense Neural Network\n",
    "Write your own dense image classifier.\n",
    "\n",
    "Remeber you'll need: \n",
    "* an input layer\n",
    "* a flatten layer\n",
    "* some dense layers with activations\n",
    "* an output layer with a softmax activation\n",
    "\n",
    "Create and compile a model named **cifar_model**\n",
    "* Make sure the loss is catagorical_crossentropy\n"
   ]
  },
  {
   "cell_type": "code",
   "execution_count": null,
   "metadata": {},
   "outputs": [],
   "source": [
    "\"your code here\""
   ]
  },
  {
   "cell_type": "code",
   "execution_count": null,
   "metadata": {},
   "outputs": [],
   "source": [
    "assert 'cifar_model' in locals(), \"Could not find cifar_model\"\n",
    "assert cifar_model.input_shape ==(None,32,32,3), \"Check your input shape is correct\"\n",
    "assert cifar_model.output_shape[1] ==10, \"Check your output shape is correct\"\n",
    "assert cifar_model._is_compiled, \"Make sure to compile your model\"\n",
    "assert cifar_model.loss=='categorical_crossentropy', \"Check your loss to make sure it's correct\"\n",
    "assert (np.abs(np.sum(cifar_model.predict(cfX_train[0:10]),axis=1)-1) < 1e-5).all(), \"Outputs don't sum to 1 make sure you have the correct activation\"\n",
    "\n",
    "print('Fantastic Job! It looks like your model is ready to fit.')"
   ]
  },
  {
   "cell_type": "markdown",
   "metadata": {},
   "source": [
    "## Step 4: Fit your Model"
   ]
  },
  {
   "cell_type": "code",
   "execution_count": null,
   "metadata": {},
   "outputs": [],
   "source": [
    "\n",
    "history=cifar_model.fit(cfX_train, cfY_train_one_hot, \n",
    "          batch_size=32, epochs=10, verbose=1,\n",
    "         validation_data=(cfX_develop,cfY_develop_one_hot)\n",
    "         )\n"
   ]
  },
  {
   "cell_type": "markdown",
   "metadata": {},
   "source": [
    "## Step 5: Plot your loss curves"
   ]
  },
  {
   "cell_type": "code",
   "execution_count": null,
   "metadata": {},
   "outputs": [],
   "source": [
    "\"your code here\""
   ]
  },
  {
   "cell_type": "code",
   "execution_count": null,
   "metadata": {},
   "outputs": [],
   "source": []
  }
 ],
 "metadata": {
  "kernelspec": {
   "display_name": "Python 3",
   "language": "python",
   "name": "python3"
  },
  "language_info": {
   "codemirror_mode": {
    "name": "ipython",
    "version": 3
   },
   "file_extension": ".py",
   "mimetype": "text/x-python",
   "name": "python",
   "nbconvert_exporter": "python",
   "pygments_lexer": "ipython3",
   "version": "3.6.8"
  }
 },
 "nbformat": 4,
 "nbformat_minor": 2
}
