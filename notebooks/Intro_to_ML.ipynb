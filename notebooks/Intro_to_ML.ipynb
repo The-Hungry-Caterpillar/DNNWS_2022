{
 "cells": [
  {
   "cell_type": "markdown",
   "metadata": {},
   "source": [
    "# Intro to Machine Learning in Python\n",
    "\n",
    "Learn how to get started training Neural Networks with keras\n"
   ]
  },
  {
   "cell_type": "markdown",
   "metadata": {},
   "source": [
    "# Warning \n",
    "<img src=\"https://upload.wikimedia.org/wikipedia/commons/thumb/e/ea/Mauritius_Road_Signs_-_Warning_Sign_-_Other_dangers.svg/556px-Mauritius_Road_Signs_-_Warning_Sign_-_Other_dangers.svg.png\" style=\"width:50px\">\n",
    "\n",
    "It's actually pretty easy to get started training Machine learning algorithms, but be aware there are plenty of examples of well trained, well coded, and well intentioned ML algorithms that do harmful things.\n",
    "\n",
    "\n",
    "<a href=\"https://www.technologyreview.com/s/613274/facebook-algorithm-discriminates-ai-bias\"> Facebook’s ad-serving algorithm discriminates by gender and race\n",
    " </a>\n",
    "    \n",
    "<a href=\"https://www.reuters.com/article/us-amazon-com-jobs-automation-insight/amazon-scraps-secret-ai-recruiting-tool-that-showed-bias-against-women-idUSKCN1MK08G\"> Amazon scraps secret AI recruiting tool that showed bias against women\n",
    " </a>\n",
    "\n",
    "<a href=\"https://www.thedailybeast.com/why-doctors-arent-afraid-of-better-more-efficient-ai-diagnosing-cancer\"> Ruler in picture an indicator for Cancer </a>\n",
    "\n",
    "<a href=\"https://www.theverge.com/2016/3/24/11297050/tay-microsoft-chatbot-racist\"> Twitter taught Microsoft’s AI chatbot to be a racist asshole in less than a day </a>\n",
    "\n",
    "Be aware and careful before you deploy.\n"
   ]
  },
  {
   "cell_type": "markdown",
   "metadata": {},
   "source": [
    "<img src=\"https://s3.ap-south-1.amazonaws.com/techleer/207.jpg\">"
   ]
  },
  {
   "cell_type": "markdown",
   "metadata": {},
   "source": [
    "# Vocab\n",
    "## Artificial Intelligence\n",
    "An all encompassing term for a broad field the most promising of which is currently machine learning\n",
    "    \n",
    "## Machine Learning\n",
    "* Deep Learning - Deep Neural Networks of all forms\n",
    "* ‘Traditional’ Machine Learning  - Pretty much everything else\n",
    "    Trees, SVMs, Linear Regression, Naive Bayes...\n",
    "* **X’s = Input variables**\n",
    "* **Y’s = Target Variables**\n",
    "* Loss function - Numerical Goal of the Model\n"
   ]
  },
  {
   "cell_type": "markdown",
   "metadata": {},
   "source": [
    "# Machine Learning\n",
    "* Find f(x) such that f(x) best approximates y\n",
    "* Examples:\n",
    "    * Given some pixels (x) tell me the probability it’s a cat (y)\n",
    "    * Given news articles (x) tell me a stocks value (y)\n",
    "    * Given some sequences x find some low dimensional space (z) that represent my data \n",
    "      * f1(x)=z f2(z)=x  \n",
    "* **Important Note: No prediction of causality** \n",
    "* Function outputs and targets can be stochastic \n"
   ]
  },
  {
   "cell_type": "markdown",
   "metadata": {},
   "source": [
    "# Outline\n",
    "* Dense (Fully Connected Neural Networks)\n",
    "  * Example Fits\n",
    "* Sequences and Recurrent Neural Networks\n",
    "  * Learning to Count\n",
    "* Sentiment Analysis on movie reviews"
   ]
  },
  {
   "cell_type": "markdown",
   "metadata": {},
   "source": [
    "# Packages"
   ]
  },
  {
   "cell_type": "code",
   "execution_count": 10,
   "metadata": {},
   "outputs": [],
   "source": [
    "import tensorflow as tf\n",
    "import numpy as np\n",
    "import matplotlib.pyplot as plt"
   ]
  },
  {
   "cell_type": "markdown",
   "metadata": {},
   "source": [
    "Machine learning algorithms all start form a series data examples\n",
    "\n",
    "\n",
    "# Input Data\n",
    "* **numpy arrays** \n",
    "* pandas dataframes\n",
    "* hdf5, etc\n",
    "* **shape = (examples x data dimentions)** \n",
    "    * RGB Image Dataset (Number of images x Height x Width x 3) *(3=RGB)\n",
    "    * Text (Text blocks x ? ) examples with varying length can have an unspecified dimension size\n",
    "        * When training each batch needs to be the same length\n",
    "* Divide into 2 or 3 splits\n",
    "  * 2 Training/Testing (one for training and one for checking for over-fitting)\n",
    "  * 3 Training/Development/Testing \n",
    "      * One for training, one for checking for over-fitting (Development) )\n",
    "      * One for testing performance, but not for making any modeling decisions\n",
    "          * i.e. in this case testing is the data you want the model to actually work with  \n",
    "          \n",
    "\n",
    "          "
   ]
  },
  {
   "cell_type": "markdown",
   "metadata": {},
   "source": [
    "# Our first Layer\n",
    "A Dense or fully connected layer\n",
    "\n",
    "<img src=\"../assets/dense.png\">\n",
    "\n",
    "A dense layer has a connection between every input variable and every output node. Each connection is represented by a weight $W_{i,n}$ from and input $X_n$ to an output $O_i$. The output is a sum over all the input variables times there weights plus a bias $B_i$\n",
    "<p style=\"text-align: center;\">\n",
    "$O_i = \\sum_n W_{i,n}*X_n+B_i$    \n",
    "</p>\n",
    "\n",
    "We will need to fit this to data, which means finding the best values for $W_{i,n}$ and $B_i$ to approximate our data.\n"
   ]
  },
  {
   "cell_type": "code",
   "execution_count": 88,
   "metadata": {},
   "outputs": [],
   "source": [
    "# Lets start with a simple prediction a straight Line\n",
    "data_dim=5\n",
    "\n",
    "X=np.random.uniform(0,10,size=(10000,data_dim))\n",
    "def func(X):\n",
    "    return 2*X[:,0]+1 #Ignore all other input have the output only depend on the first dimention\n",
    "Y=func(X)\n",
    "\n",
    "\n",
    "\n",
    "\n",
    "    \n",
    "    "
   ]
  },
  {
   "cell_type": "code",
   "execution_count": 89,
   "metadata": {},
   "outputs": [
    {
     "name": "stdout",
     "output_type": "stream",
     "text": [
      "Train on 5000 samples, validate on 5000 samples\n",
      "Epoch 1/100\n",
      "5000/5000 [==============================] - 3s 561us/step - loss: 63.4659 - val_loss: 41.2641\n",
      "Epoch 2/100\n",
      "5000/5000 [==============================] - 1s 165us/step - loss: 30.5968 - val_loss: 22.5257\n",
      "Epoch 3/100\n",
      "5000/5000 [==============================] - 1s 168us/step - loss: 19.4594 - val_loss: 16.8122\n",
      "Epoch 4/100\n",
      "5000/5000 [==============================] - 1s 172us/step - loss: 15.9096 - val_loss: 14.5414\n",
      "Epoch 5/100\n",
      "5000/5000 [==============================] - 1s 168us/step - loss: 13.9296 - val_loss: 12.7540\n",
      "Epoch 6/100\n",
      "5000/5000 [==============================] - 1s 160us/step - loss: 12.1540 - val_loss: 11.0477\n",
      "Epoch 7/100\n",
      "5000/5000 [==============================] - 1s 169us/step - loss: 10.4548 - val_loss: 9.4267\n",
      "Epoch 8/100\n",
      "5000/5000 [==============================] - 1s 174us/step - loss: 8.8592 - val_loss: 7.9268\n",
      "Epoch 9/100\n",
      "5000/5000 [==============================] - 1s 170us/step - loss: 7.3932 - val_loss: 6.5555\n",
      "Epoch 10/100\n",
      "5000/5000 [==============================] - 1s 169us/step - loss: 6.0724 - val_loss: 5.3404\n",
      "Epoch 11/100\n",
      "5000/5000 [==============================] - 1s 172us/step - loss: 4.9078 - val_loss: 4.2779\n",
      "Epoch 12/100\n",
      "5000/5000 [==============================] - 1s 171us/step - loss: 3.9030 - val_loss: 3.3713\n",
      "Epoch 13/100\n",
      "5000/5000 [==============================] - 1s 173us/step - loss: 3.0545 - val_loss: 2.6129\n",
      "Epoch 14/100\n",
      "5000/5000 [==============================] - 1s 161us/step - loss: 2.3455 - val_loss: 1.9880\n",
      "Epoch 15/100\n",
      "5000/5000 [==============================] - 1s 172us/step - loss: 1.7681 - val_loss: 1.4817\n",
      "Epoch 16/100\n",
      "5000/5000 [==============================] - 1s 172us/step - loss: 1.3057 - val_loss: 1.0816\n",
      "Epoch 17/100\n",
      "5000/5000 [==============================] - 1s 172us/step - loss: 0.9444 - val_loss: 0.7743\n",
      "Epoch 18/100\n",
      "5000/5000 [==============================] - 1s 169us/step - loss: 0.6686 - val_loss: 0.5425\n",
      "Epoch 19/100\n",
      "5000/5000 [==============================] - 1s 171us/step - loss: 0.4628 - val_loss: 0.3704\n",
      "Epoch 20/100\n",
      "5000/5000 [==============================] - 1s 165us/step - loss: 0.3125 - val_loss: 0.2470\n",
      "Epoch 21/100\n",
      "5000/5000 [==============================] - 1s 172us/step - loss: 0.2057 - val_loss: 0.1608\n",
      "Epoch 22/100\n",
      "5000/5000 [==============================] - 1s 170us/step - loss: 0.1329 - val_loss: 0.1032\n",
      "Epoch 23/100\n",
      "5000/5000 [==============================] - 1s 171us/step - loss: 0.0843 - val_loss: 0.0651\n",
      "Epoch 24/100\n",
      "5000/5000 [==============================] - 1s 162us/step - loss: 0.0534 - val_loss: 0.0413\n",
      "Epoch 25/100\n",
      "5000/5000 [==============================] - 1s 161us/step - loss: 0.0341 - val_loss: 0.0270\n",
      "Epoch 26/100\n",
      "5000/5000 [==============================] - 1s 167us/step - loss: 0.0227 - val_loss: 0.0187\n",
      "Epoch 27/100\n",
      "5000/5000 [==============================] - 1s 172us/step - loss: 0.0161 - val_loss: 0.0139\n",
      "Epoch 28/100\n",
      "5000/5000 [==============================] - 1s 166us/step - loss: 0.0124 - val_loss: 0.0112\n",
      "Epoch 29/100\n",
      "5000/5000 [==============================] - 1s 170us/step - loss: 0.0103 - val_loss: 0.0097\n",
      "Epoch 30/100\n",
      "5000/5000 [==============================] - 1s 172us/step - loss: 0.0091 - val_loss: 0.0088\n",
      "Epoch 31/100\n",
      "5000/5000 [==============================] - 1s 172us/step - loss: 0.0083 - val_loss: 0.0081\n",
      "Epoch 32/100\n",
      "5000/5000 [==============================] - 1s 173us/step - loss: 0.0077 - val_loss: 0.0075\n",
      "Epoch 33/100\n",
      "5000/5000 [==============================] - 1s 174us/step - loss: 0.0072 - val_loss: 0.0070\n",
      "Epoch 34/100\n",
      "5000/5000 [==============================] - 1s 174us/step - loss: 0.0067 - val_loss: 0.0066\n",
      "Epoch 35/100\n",
      "5000/5000 [==============================] - 1s 174us/step - loss: 0.0062 - val_loss: 0.0061\n",
      "Epoch 36/100\n",
      "5000/5000 [==============================] - 1s 159us/step - loss: 0.0057 - val_loss: 0.0056\n",
      "Epoch 37/100\n",
      "5000/5000 [==============================] - 1s 160us/step - loss: 0.0053 - val_loss: 0.0051\n",
      "Epoch 38/100\n",
      "5000/5000 [==============================] - 1s 172us/step - loss: 0.0048 - val_loss: 0.0046\n",
      "Epoch 39/100\n",
      "5000/5000 [==============================] - 1s 174us/step - loss: 0.0043 - val_loss: 0.0041\n",
      "Epoch 40/100\n",
      "5000/5000 [==============================] - 1s 176us/step - loss: 0.0039 - val_loss: 0.0037\n",
      "Epoch 41/100\n",
      "5000/5000 [==============================] - 1s 172us/step - loss: 0.0034 - val_loss: 0.0033\n",
      "Epoch 42/100\n",
      "5000/5000 [==============================] - 1s 176us/step - loss: 0.0030 - val_loss: 0.0028\n",
      "Epoch 43/100\n",
      "5000/5000 [==============================] - 1s 171us/step - loss: 0.0026 - val_loss: 0.0025\n",
      "Epoch 44/100\n",
      "5000/5000 [==============================] - 1s 166us/step - loss: 0.0023 - val_loss: 0.0021\n",
      "Epoch 45/100\n",
      "5000/5000 [==============================] - 1s 172us/step - loss: 0.0019 - val_loss: 0.0018\n",
      "Epoch 46/100\n",
      "5000/5000 [==============================] - 1s 176us/step - loss: 0.0016 - val_loss: 0.0015\n",
      "Epoch 47/100\n",
      "5000/5000 [==============================] - 1s 174us/step - loss: 0.0013 - val_loss: 0.0012\n",
      "Epoch 48/100\n",
      "5000/5000 [==============================] - 1s 175us/step - loss: 0.0011 - val_loss: 9.7312e-04\n",
      "Epoch 49/100\n",
      "5000/5000 [==============================] - 1s 175us/step - loss: 8.6141e-04 - val_loss: 7.7864e-04\n",
      "Epoch 50/100\n",
      "5000/5000 [==============================] - 1s 171us/step - loss: 6.7679e-04 - val_loss: 6.0213e-04\n",
      "Epoch 51/100\n",
      "5000/5000 [==============================] - 1s 172us/step - loss: 5.2124e-04 - val_loss: 4.5893e-04\n",
      "Epoch 52/100\n",
      "5000/5000 [==============================] - 1s 172us/step - loss: 3.9436e-04 - val_loss: 3.4053e-04\n",
      "Epoch 53/100\n",
      "5000/5000 [==============================] - 1s 170us/step - loss: 2.9029e-04 - val_loss: 2.4855e-04\n",
      "Epoch 54/100\n",
      "5000/5000 [==============================] - 1s 171us/step - loss: 2.1004e-04 - val_loss: 1.7708e-04\n",
      "Epoch 55/100\n",
      "5000/5000 [==============================] - 1s 175us/step - loss: 1.4541e-04 - val_loss: 1.2183e-04\n",
      "Epoch 56/100\n",
      "5000/5000 [==============================] - 1s 173us/step - loss: 9.9124e-05 - val_loss: 8.1361e-05\n",
      "Epoch 57/100\n",
      "5000/5000 [==============================] - 1s 174us/step - loss: 6.5215e-05 - val_loss: 5.1941e-05\n",
      "Epoch 58/100\n",
      "5000/5000 [==============================] - 1s 175us/step - loss: 4.1208e-05 - val_loss: 3.2469e-05\n",
      "Epoch 59/100\n",
      "5000/5000 [==============================] - 1s 169us/step - loss: 2.5530e-05 - val_loss: 1.9681e-05\n",
      "Epoch 60/100\n",
      "5000/5000 [==============================] - 1s 169us/step - loss: 1.4992e-05 - val_loss: 1.2011e-05\n",
      "Epoch 61/100\n",
      "5000/5000 [==============================] - 1s 174us/step - loss: 8.4593e-06 - val_loss: 6.1776e-06\n",
      "Epoch 62/100\n",
      "5000/5000 [==============================] - 1s 174us/step - loss: 4.5227e-06 - val_loss: 3.1998e-06\n",
      "Epoch 63/100\n",
      "5000/5000 [==============================] - 1s 172us/step - loss: 2.3334e-06 - val_loss: 1.6711e-06\n",
      "Epoch 64/100\n",
      "5000/5000 [==============================] - 1s 176us/step - loss: 1.1142e-06 - val_loss: 7.4216e-07\n",
      "Epoch 65/100\n",
      "5000/5000 [==============================] - 1s 175us/step - loss: 5.1228e-07 - val_loss: 3.2164e-07\n",
      "Epoch 66/100\n",
      "5000/5000 [==============================] - 1s 166us/step - loss: 2.1434e-07 - val_loss: 1.3031e-07\n",
      "Epoch 67/100\n",
      "5000/5000 [==============================] - 1s 168us/step - loss: 8.4357e-08 - val_loss: 4.9791e-08\n",
      "Epoch 68/100\n",
      "5000/5000 [==============================] - 1s 171us/step - loss: 3.0849e-08 - val_loss: 1.7357e-08\n",
      "Epoch 69/100\n",
      "5000/5000 [==============================] - 1s 176us/step - loss: 1.0437e-08 - val_loss: 5.9523e-09\n",
      "Epoch 70/100\n",
      "5000/5000 [==============================] - 1s 173us/step - loss: 3.1589e-09 - val_loss: 1.5909e-09\n",
      "Epoch 71/100\n",
      "5000/5000 [==============================] - 1s 168us/step - loss: 8.9647e-10 - val_loss: 4.2420e-10\n",
      "Epoch 72/100\n",
      "5000/5000 [==============================] - 1s 170us/step - loss: 2.3915e-10 - val_loss: 1.1191e-10\n",
      "Epoch 73/100\n",
      "5000/5000 [==============================] - 1s 173us/step - loss: 6.4259e-11 - val_loss: 3.5672e-11\n",
      "Epoch 74/100\n",
      "5000/5000 [==============================] - 1s 170us/step - loss: 2.4339e-11 - val_loss: 1.3898e-11\n",
      "Epoch 75/100\n",
      "5000/5000 [==============================] - 1s 170us/step - loss: 1.2666e-11 - val_loss: 1.2283e-11\n"
     ]
    },
    {
     "name": "stdout",
     "output_type": "stream",
     "text": [
      "Epoch 76/100\n",
      "5000/5000 [==============================] - 1s 173us/step - loss: 1.0535e-11 - val_loss: 7.6694e-12\n",
      "Epoch 77/100\n",
      "5000/5000 [==============================] - 1s 165us/step - loss: 7.5813e-12 - val_loss: 6.7169e-12\n",
      "Epoch 78/100\n",
      "5000/5000 [==============================] - 1s 161us/step - loss: 6.4616e-12 - val_loss: 6.2074e-12\n",
      "Epoch 79/100\n",
      "5000/5000 [==============================] - 1s 170us/step - loss: 6.8350e-12 - val_loss: 5.9069e-12\n",
      "Epoch 80/100\n",
      "5000/5000 [==============================] - 1s 167us/step - loss: 5.1715e-12 - val_loss: 4.9490e-12\n",
      "Epoch 81/100\n",
      "5000/5000 [==============================] - 1s 170us/step - loss: 4.6298e-12 - val_loss: 4.8386e-12\n",
      "Epoch 82/100\n",
      "5000/5000 [==============================] - 1s 163us/step - loss: 3.4486e-12 - val_loss: 1.8550e-12\n",
      "Epoch 83/100\n",
      "5000/5000 [==============================] - 1s 169us/step - loss: 1.2456e-12 - val_loss: 1.2269e-12\n",
      "Epoch 84/100\n",
      "5000/5000 [==============================] - 1s 164us/step - loss: 2.1513e-12 - val_loss: 1.5408e-12\n",
      "Epoch 85/100\n",
      "5000/5000 [==============================] - 1s 169us/step - loss: 1.9608e-12 - val_loss: 1.9469e-12\n",
      "Epoch 86/100\n",
      "5000/5000 [==============================] - 1s 173us/step - loss: 1.9797e-12 - val_loss: 2.3867e-12\n",
      "Epoch 87/100\n",
      "5000/5000 [==============================] - 1s 172us/step - loss: 1.3774e-12 - val_loss: 4.0699e-13\n",
      "Epoch 88/100\n",
      "5000/5000 [==============================] - 1s 173us/step - loss: 4.7028e-13 - val_loss: 4.6546e-13\n",
      "Epoch 89/100\n",
      "5000/5000 [==============================] - 1s 172us/step - loss: 4.5879e-13 - val_loss: 4.1301e-13\n",
      "Epoch 90/100\n",
      "5000/5000 [==============================] - 1s 170us/step - loss: 4.8390e-13 - val_loss: 3.5888e-13\n",
      "Epoch 91/100\n",
      "5000/5000 [==============================] - 1s 169us/step - loss: 4.7718e-13 - val_loss: 9.2117e-13\n",
      "Epoch 92/100\n",
      "5000/5000 [==============================] - 1s 173us/step - loss: 5.1558e-13 - val_loss: 4.7721e-13\n",
      "Epoch 93/100\n",
      "5000/5000 [==============================] - 1s 172us/step - loss: 5.3460e-13 - val_loss: 5.4499e-13\n",
      "Epoch 94/100\n",
      "5000/5000 [==============================] - 1s 172us/step - loss: 5.6076e-13 - val_loss: 6.6051e-13\n",
      "Epoch 95/100\n",
      "5000/5000 [==============================] - 1s 162us/step - loss: 4.3695e-13 - val_loss: 6.0226e-14\n",
      "Epoch 96/100\n",
      "5000/5000 [==============================] - 1s 171us/step - loss: 1.0268e-13 - val_loss: 7.1236e-14\n",
      "Epoch 97/100\n",
      "5000/5000 [==============================] - 1s 173us/step - loss: 1.0045e-13 - val_loss: 6.7101e-14\n",
      "Epoch 98/100\n",
      "5000/5000 [==============================] - 1s 169us/step - loss: 8.2741e-14 - val_loss: 6.7956e-14\n",
      "Epoch 99/100\n",
      "5000/5000 [==============================] - 1s 169us/step - loss: 9.4988e-14 - val_loss: 6.9107e-14\n",
      "Epoch 100/100\n",
      "5000/5000 [==============================] - 1s 172us/step - loss: 1.0168e-13 - val_loss: 7.1998e-14\n"
     ]
    },
    {
     "data": {
      "text/plain": [
       "<tensorflow.python.keras.callbacks.History at 0x7fd455ae2e48>"
      ]
     },
     "execution_count": 89,
     "metadata": {},
     "output_type": "execute_result"
    }
   ],
   "source": [
    "# All models start out with an input layer\n",
    "\n",
    "input_layer=tf.keras.layers.Input(shape=(data_dim,)) \n",
    "output_layer = tf.keras.layers.Dense(1)(input_layer)\n",
    "#A keras model is class used for fitting it takes input layers and output layers\n",
    "model=tf.keras.models.Model(input_layer,output_layer)\n",
    "\n",
    "#MSE= Mean Squared Error \n",
    "model.compile(loss='mse',optimizer='adam')\n",
    "\n",
    "# Fit Our Simple Neural Network\n",
    "# Stop fitting when the validation loss stops improving\n",
    "es=tf.keras.callbacks.EarlyStopping(monitor='val_loss', min_delta=0, patience=5, verbose=0, mode='auto')\n",
    "#Fit\n",
    "model.fit(X,Y,epochs=100,validation_split=0.5,callbacks=[es]) #Have Keras make a test/validation split for us\n",
    "\n",
    "\n"
   ]
  },
  {
   "cell_type": "code",
   "execution_count": 91,
   "metadata": {},
   "outputs": [
    {
     "data": {
      "text/plain": [
       "<matplotlib.legend.Legend at 0x7fd453d1e518>"
      ]
     },
     "execution_count": 91,
     "metadata": {},
     "output_type": "execute_result"
    },
    {
     "data": {
      "image/png": "[encoded data removed]",
      "text/plain": [
       "<Figure size 432x288 with 1 Axes>"
      ]
     },
     "metadata": {
      "needs_background": "light"
     },
     "output_type": "display_data"
    }
   ],
   "source": [
    "X_test=np.random.uniform(0,10,size=(100,data_dim))\n",
    "X_test[:,0]=np.linspace(-5,15,100)\n",
    "Y_test=func(X_test)\n",
    "Y_pred=model.predict(X_test)\n",
    "\n",
    "plt.scatter(X_test[:,0],Y_pred,label='prediction')\n",
    "plt.scatter(X_test[:,0],Y_test,label='truth')\n",
    "plt.xlabel('X[:,0]')\n",
    "plt.ylabel('Y')\n",
    "plt.legend()\n",
    "\n"
   ]
  },
  {
   "cell_type": "markdown",
   "metadata": {},
   "source": [
    "We can look at a models weights"
   ]
  },
  {
   "cell_type": "code",
   "execution_count": 96,
   "metadata": {},
   "outputs": [
    {
     "name": "stdout",
     "output_type": "stream",
     "text": [
      "2\n",
      "(5, 1) (1,)\n",
      "[[ 2.0000000e+00]\n",
      " [ 1.2722031e-08]\n",
      " [ 2.5370291e-08]\n",
      " [-5.1710254e-09]\n",
      " [ 2.6714067e-08]]\n"
     ]
    }
   ],
   "source": [
    "weights=model.get_weights()\n",
    "print(len(weights))\n",
    "print(weights[0].shape,weights[1].shape)\n",
    "\n",
    "print(weights[0])\n",
    "\n"
   ]
  },
  {
   "cell_type": "markdown",
   "metadata": {},
   "source": [
    "We expect $W_{0,0}$=2, and $B_0$=1"
   ]
  },
  {
   "cell_type": "code",
   "execution_count": 103,
   "metadata": {},
   "outputs": [
    {
     "name": "stdout",
     "output_type": "stream",
     "text": [
      "W= [[ 2.0000000e+00]\n",
      " [ 1.2722031e-08]\n",
      " [ 2.5370291e-08]\n",
      " [-5.1710254e-09]\n",
      " [ 2.6714067e-08]]\n",
      "W[0,0]= 2.0\n",
      "B= [0.9999999]\n"
     ]
    }
   ],
   "source": [
    "print(\"W=\",weights[0])\n",
    "print(\"W[0,0]=\",weights[0][0,0])\n",
    "print(\"B=\",weights[1])\n"
   ]
  },
  {
   "cell_type": "markdown",
   "metadata": {},
   "source": [
    "Lets try something a bit more complicated a sin wave"
   ]
  },
  {
   "cell_type": "code",
   "execution_count": 15,
   "metadata": {},
   "outputs": [
    {
     "name": "stdout",
     "output_type": "stream",
     "text": [
      "Train on 5000 samples, validate on 5000 samples\n",
      "Epoch 1/100\n",
      "5000/5000 [==============================] - 1s 177us/step - loss: 50.3590 - val_loss: 30.9382\n",
      "Epoch 2/100\n",
      "5000/5000 [==============================] - 1s 131us/step - loss: 20.4459 - val_loss: 14.3333\n",
      "Epoch 3/100\n",
      "5000/5000 [==============================] - 1s 129us/step - loss: 11.2296 - val_loss: 9.7768\n",
      "Epoch 4/100\n",
      "5000/5000 [==============================] - 1s 124us/step - loss: 8.6132 - val_loss: 8.0730\n",
      "Epoch 5/100\n",
      "5000/5000 [==============================] - 1s 130us/step - loss: 7.2525 - val_loss: 6.8131\n",
      "Epoch 6/100\n",
      "5000/5000 [==============================] - 1s 131us/step - loss: 6.0812 - val_loss: 5.6644\n",
      "Epoch 7/100\n",
      "5000/5000 [==============================] - 1s 125us/step - loss: 5.0062 - val_loss: 4.6146\n",
      "Epoch 8/100\n",
      "5000/5000 [==============================] - 1s 129us/step - loss: 4.0528 - val_loss: 3.6992\n",
      "Epoch 9/100\n",
      "5000/5000 [==============================] - 1s 129us/step - loss: 3.2301 - val_loss: 2.9274\n",
      "Epoch 10/100\n",
      "5000/5000 [==============================] - 1s 129us/step - loss: 2.5394 - val_loss: 2.2894\n",
      "Epoch 11/100\n",
      "5000/5000 [==============================] - 1s 129us/step - loss: 1.9805 - val_loss: 1.7777\n",
      "Epoch 12/100\n",
      "5000/5000 [==============================] - 1s 129us/step - loss: 1.5391 - val_loss: 1.3814\n",
      "Epoch 13/100\n",
      "5000/5000 [==============================] - 1s 126us/step - loss: 1.2012 - val_loss: 1.0838\n",
      "Epoch 14/100\n",
      "5000/5000 [==============================] - 1s 129us/step - loss: 0.9504 - val_loss: 0.8659\n",
      "Epoch 15/100\n",
      "5000/5000 [==============================] - 1s 130us/step - loss: 0.7711 - val_loss: 0.7142\n",
      "Epoch 16/100\n",
      "5000/5000 [==============================] - 1s 131us/step - loss: 0.6467 - val_loss: 0.6104\n",
      "Epoch 17/100\n",
      "5000/5000 [==============================] - 1s 128us/step - loss: 0.5642 - val_loss: 0.5418\n",
      "Epoch 18/100\n",
      "5000/5000 [==============================] - 1s 127us/step - loss: 0.5112 - val_loss: 0.5003\n",
      "Epoch 19/100\n",
      "5000/5000 [==============================] - 1s 129us/step - loss: 0.4792 - val_loss: 0.4762\n",
      "Epoch 20/100\n",
      "5000/5000 [==============================] - 1s 129us/step - loss: 0.4600 - val_loss: 0.4613\n",
      "Epoch 21/100\n",
      "5000/5000 [==============================] - 1s 128us/step - loss: 0.4494 - val_loss: 0.4528\n",
      "Epoch 22/100\n",
      "5000/5000 [==============================] - 1s 128us/step - loss: 0.4438 - val_loss: 0.4501\n",
      "Epoch 23/100\n",
      "5000/5000 [==============================] - 1s 128us/step - loss: 0.4408 - val_loss: 0.4469\n",
      "Epoch 24/100\n",
      "5000/5000 [==============================] - 1s 126us/step - loss: 0.4390 - val_loss: 0.4484\n",
      "Epoch 25/100\n",
      "5000/5000 [==============================] - 1s 130us/step - loss: 0.4383 - val_loss: 0.4464\n",
      "Epoch 26/100\n",
      "5000/5000 [==============================] - 1s 129us/step - loss: 0.4386 - val_loss: 0.4455\n",
      "Epoch 27/100\n",
      "5000/5000 [==============================] - 1s 127us/step - loss: 0.4381 - val_loss: 0.4456\n",
      "Epoch 28/100\n",
      "5000/5000 [==============================] - 1s 125us/step - loss: 0.4386 - val_loss: 0.4459\n",
      "Epoch 29/100\n",
      "5000/5000 [==============================] - 1s 130us/step - loss: 0.4381 - val_loss: 0.4458\n",
      "Epoch 30/100\n",
      "5000/5000 [==============================] - 1s 130us/step - loss: 0.4384 - val_loss: 0.4462\n",
      "Epoch 31/100\n",
      "5000/5000 [==============================] - 1s 130us/step - loss: 0.4379 - val_loss: 0.4497\n"
     ]
    },
    {
     "data": {
      "text/plain": [
       "<matplotlib.legend.Legend at 0x7fdc6c552898>"
      ]
     },
     "execution_count": 15,
     "metadata": {},
     "output_type": "execute_result"
    },
    {
     "data": {
      "image/png": "[encoded data removed]",
      "text/plain": [
       "<Figure size 432x288 with 1 Axes>"
      ]
     },
     "metadata": {
      "needs_background": "light"
     },
     "output_type": "display_data"
    }
   ],
   "source": [
    "X=np.random.uniform(0,10,size=(10000,data_dim))\n",
    "def func(X):\n",
    "    return np.sin(X[:,0]) #Ignore all other input have the output only depend on the first dimention\n",
    "Y=func(X)\n",
    "\n",
    "# All models start out with an input layer\n",
    "\n",
    "input_layer=tf.keras.layers.Input(shape=(data_dim,)) \n",
    "output_layer = tf.keras.layers.Dense(1)(input_layer)\n",
    "#A keras model is a way of going from one layer to the next\n",
    "model=tf.keras.models.Model(input_layer,output_layer)\n",
    "model.compile(loss='mse',optimizer='adam')\n",
    "model.fit(X,Y,epochs=100,validation_split=0.5,callbacks=[es]) #Have Keras make a test/validation split for us\n",
    "\n",
    "\n",
    "X_test=np.random.uniform(0,10,size=(100,data_dim))\n",
    "X_test[:,0]=np.linspace(-5,15,100)\n",
    "Y_test=func(X_test)\n",
    "Y_pred=model.predict(X_test)\n",
    "\n",
    "plt.scatter(X_test[:,0],Y_pred,label='prediction')\n",
    "plt.scatter(X_test[:,0],Y_test,label='truth')\n",
    "plt.xlabel('X[:,0]')\n",
    "plt.ylabel('Y')\n",
    "plt.legend()\n",
    "\n"
   ]
  },
  {
   "cell_type": "markdown",
   "metadata": {},
   "source": [
    "Oops this didn't work. So far what we wrote above can only be linear\n",
    "\n",
    "<p style=\"text-align: center;\">\n",
    "$O_i = \\sum_n W_{i,n}*X_n+B_i$    \n",
    "</p>\n",
    "\n",
    "we need to add something called an activation function $\\sigma$\n",
    "\n",
    "<p style=\"text-align: center;\">\n",
    "$O_i = \\sigma(\\sum_n W_{i,n}*X_n+B_i)$    \n",
    "</p>\n",
    "\n",
    "$\\sigma$ has to be non-linear and a good choice is a LeakyReLU\n",
    "\n",
    "<img src='../assets/leakyReLU.png'>\n",
    "\n",
    "Let's also make our model a bit more powerful, but adding more layers $l$\n",
    "\n",
    "<p style=\"text-align: center;\">\n",
    "$O_i,o=X_i$\n",
    "</p>\n",
    " \n",
    "<p style=\"text-align: center;\">  \n",
    "$O_{i,l} = \\sigma(\\sum_n W_{i,l,n}*O_{i,l-1}+B_{i,l})$    \n",
    "</p>\n"
   ]
  },
  {
   "cell_type": "code",
   "execution_count": 105,
   "metadata": {},
   "outputs": [
    {
     "name": "stdout",
     "output_type": "stream",
     "text": [
      "_________________________________________________________________\n",
      "Layer (type)                 Output Shape              Param #   \n",
      "=================================================================\n",
      "input_41 (InputLayer)        (None, 5)                 0         \n",
      "_________________________________________________________________\n",
      "dense_41 (Dense)             (None, 20)                120       \n",
      "_________________________________________________________________\n",
      "leaky_re_lu_27 (LeakyReLU)   (None, 20)                0         \n",
      "_________________________________________________________________\n",
      "dense_42 (Dense)             (None, 20)                420       \n",
      "_________________________________________________________________\n",
      "leaky_re_lu_28 (LeakyReLU)   (None, 20)                0         \n",
      "_________________________________________________________________\n",
      "dense_43 (Dense)             (None, 20)                420       \n",
      "_________________________________________________________________\n",
      "leaky_re_lu_29 (LeakyReLU)   (None, 20)                0         \n",
      "_________________________________________________________________\n",
      "dense_44 (Dense)             (None, 1)                 21        \n",
      "=================================================================\n",
      "Total params: 981\n",
      "Trainable params: 981\n",
      "Non-trainable params: 0\n",
      "_________________________________________________________________\n",
      "Train on 5000 samples, validate on 5000 samples\n",
      "Epoch 1/50\n",
      "5000/5000 [==============================] - 3s 676us/step - loss: 0.5868 - val_loss: 0.4200\n",
      "Epoch 2/50\n",
      "5000/5000 [==============================] - 1s 268us/step - loss: 0.3830 - val_loss: 0.3852\n",
      "Epoch 3/50\n",
      "5000/5000 [==============================] - 1s 271us/step - loss: 0.3518 - val_loss: 0.3388\n",
      "Epoch 4/50\n",
      "5000/5000 [==============================] - 1s 267us/step - loss: 0.3339 - val_loss: 0.3257\n",
      "Epoch 5/50\n",
      "5000/5000 [==============================] - 1s 261us/step - loss: 0.3172 - val_loss: 0.3246\n",
      "Epoch 6/50\n",
      "5000/5000 [==============================] - 1s 270us/step - loss: 0.3041 - val_loss: 0.2933\n",
      "Epoch 7/50\n",
      "5000/5000 [==============================] - 1s 261us/step - loss: 0.2897 - val_loss: 0.2840\n",
      "Epoch 8/50\n",
      "5000/5000 [==============================] - 1s 268us/step - loss: 0.2768 - val_loss: 0.2632\n",
      "Epoch 9/50\n",
      "5000/5000 [==============================] - 1s 264us/step - loss: 0.2601 - val_loss: 0.2544\n",
      "Epoch 10/50\n",
      "5000/5000 [==============================] - 1s 258us/step - loss: 0.2360 - val_loss: 0.2362\n",
      "Epoch 11/50\n",
      "5000/5000 [==============================] - 1s 260us/step - loss: 0.2133 - val_loss: 0.2194\n",
      "Epoch 12/50\n",
      "5000/5000 [==============================] - 1s 269us/step - loss: 0.1941 - val_loss: 0.1893\n",
      "Epoch 13/50\n",
      "5000/5000 [==============================] - 1s 268us/step - loss: 0.1759 - val_loss: 0.1728\n",
      "Epoch 14/50\n",
      "5000/5000 [==============================] - 1s 266us/step - loss: 0.1658 - val_loss: 0.1708\n",
      "Epoch 15/50\n",
      "5000/5000 [==============================] - 1s 260us/step - loss: 0.1499 - val_loss: 0.1460\n",
      "Epoch 16/50\n",
      "5000/5000 [==============================] - 1s 261us/step - loss: 0.1427 - val_loss: 0.1350\n",
      "Epoch 17/50\n",
      "5000/5000 [==============================] - 1s 252us/step - loss: 0.1364 - val_loss: 0.1285\n",
      "Epoch 18/50\n",
      "5000/5000 [==============================] - 1s 264us/step - loss: 0.1294 - val_loss: 0.1201\n",
      "Epoch 19/50\n",
      "5000/5000 [==============================] - 1s 268us/step - loss: 0.1189 - val_loss: 0.1182\n",
      "Epoch 20/50\n",
      "5000/5000 [==============================] - 1s 267us/step - loss: 0.1146 - val_loss: 0.1072\n",
      "Epoch 21/50\n",
      "5000/5000 [==============================] - 1s 260us/step - loss: 0.1093 - val_loss: 0.1033\n",
      "Epoch 22/50\n",
      "5000/5000 [==============================] - 1s 262us/step - loss: 0.1005 - val_loss: 0.0984\n",
      "Epoch 23/50\n",
      "5000/5000 [==============================] - 1s 267us/step - loss: 0.0953 - val_loss: 0.0952\n",
      "Epoch 24/50\n",
      "5000/5000 [==============================] - 1s 270us/step - loss: 0.0899 - val_loss: 0.0875\n",
      "Epoch 25/50\n",
      "5000/5000 [==============================] - 1s 267us/step - loss: 0.0829 - val_loss: 0.0772\n",
      "Epoch 26/50\n",
      "5000/5000 [==============================] - 1s 271us/step - loss: 0.0765 - val_loss: 0.0686\n",
      "Epoch 27/50\n",
      "5000/5000 [==============================] - 1s 264us/step - loss: 0.0657 - val_loss: 0.0645\n",
      "Epoch 28/50\n",
      "5000/5000 [==============================] - 1s 268us/step - loss: 0.0579 - val_loss: 0.0556\n",
      "Epoch 29/50\n",
      "5000/5000 [==============================] - 1s 269us/step - loss: 0.0500 - val_loss: 0.0434\n",
      "Epoch 30/50\n",
      "5000/5000 [==============================] - 1s 264us/step - loss: 0.0473 - val_loss: 0.0369\n",
      "Epoch 31/50\n",
      "5000/5000 [==============================] - 1s 266us/step - loss: 0.0355 - val_loss: 0.0312\n",
      "Epoch 32/50\n",
      "5000/5000 [==============================] - 1s 260us/step - loss: 0.0294 - val_loss: 0.0262\n",
      "Epoch 33/50\n",
      "5000/5000 [==============================] - 1s 267us/step - loss: 0.0238 - val_loss: 0.0194\n",
      "Epoch 34/50\n",
      "5000/5000 [==============================] - 1s 268us/step - loss: 0.0204 - val_loss: 0.0164\n",
      "Epoch 35/50\n",
      "5000/5000 [==============================] - 1s 263us/step - loss: 0.0149 - val_loss: 0.0144\n",
      "Epoch 36/50\n",
      "5000/5000 [==============================] - 1s 263us/step - loss: 0.0121 - val_loss: 0.0115\n",
      "Epoch 37/50\n",
      "5000/5000 [==============================] - 1s 265us/step - loss: 0.0120 - val_loss: 0.0088\n",
      "Epoch 38/50\n",
      "5000/5000 [==============================] - 1s 269us/step - loss: 0.0101 - val_loss: 0.0081\n",
      "Epoch 39/50\n",
      "5000/5000 [==============================] - 1s 269us/step - loss: 0.0079 - val_loss: 0.0101\n",
      "Epoch 40/50\n",
      "5000/5000 [==============================] - 1s 263us/step - loss: 0.0070 - val_loss: 0.0084\n",
      "Epoch 41/50\n",
      "5000/5000 [==============================] - 1s 269us/step - loss: 0.0066 - val_loss: 0.0056\n",
      "Epoch 42/50\n",
      "5000/5000 [==============================] - 1s 267us/step - loss: 0.0054 - val_loss: 0.0049\n",
      "Epoch 43/50\n",
      "5000/5000 [==============================] - 1s 267us/step - loss: 0.0049 - val_loss: 0.0063\n",
      "Epoch 44/50\n",
      "5000/5000 [==============================] - 1s 261us/step - loss: 0.0049 - val_loss: 0.0037\n",
      "Epoch 45/50\n",
      "5000/5000 [==============================] - 1s 266us/step - loss: 0.0041 - val_loss: 0.0032\n",
      "Epoch 46/50\n",
      "5000/5000 [==============================] - 1s 268us/step - loss: 0.0035 - val_loss: 0.0052\n",
      "Epoch 47/50\n",
      "5000/5000 [==============================] - 1s 266us/step - loss: 0.0040 - val_loss: 0.0048\n",
      "Epoch 48/50\n",
      "5000/5000 [==============================] - 1s 267us/step - loss: 0.0030 - val_loss: 0.0025\n",
      "Epoch 49/50\n",
      "5000/5000 [==============================] - 1s 268us/step - loss: 0.0028 - val_loss: 0.0042\n",
      "Epoch 50/50\n",
      "5000/5000 [==============================] - 1s 265us/step - loss: 0.0026 - val_loss: 0.0026\n"
     ]
    },
    {
     "data": {
      "text/plain": [
       "<matplotlib.legend.Legend at 0x7fd453607a20>"
      ]
     },
     "execution_count": 105,
     "metadata": {},
     "output_type": "execute_result"
    },
    {
     "data": {
      "image/png": "[encoded data removed]",
      "text/plain": [
       "<Figure size 432x288 with 1 Axes>"
      ]
     },
     "metadata": {
      "needs_background": "light"
     },
     "output_type": "display_data"
    }
   ],
   "source": [
    "X=np.random.uniform(0,10,size=(10000,data_dim))\n",
    "def func(X):\n",
    "    return np.sin(X[:,0]) #Ignore all other input have the output only depend on the first dimention\n",
    "Y=func(X)\n",
    "\n",
    "# All models start out with an input layer\n",
    "\n",
    "input_layer=tf.keras.layers.Input(shape=(data_dim,)) \n",
    "###Lets Add another layer and an Activation###\n",
    "nn = tf.keras.layers.Dense(20)(input_layer)\n",
    "nn = tf.keras.layers.LeakyReLU()(nn)\n",
    "\n",
    "nn = tf.keras.layers.Dense(20)(nn)\n",
    "nn = tf.keras.layers.LeakyReLU()(nn)\n",
    "\n",
    "nn = tf.keras.layers.Dense(20)(nn)\n",
    "nn = tf.keras.layers.LeakyReLU()(nn)\n",
    "\n",
    "\n",
    "output_layer = tf.keras.layers.Dense(1)(nn)\n",
    "#A keras model is a way of going from one layer to the next\n",
    "model=tf.keras.models.Model(input_layer,output_layer)\n",
    "model.summary()\n",
    "model.compile(loss='mse',optimizer='adam')\n",
    "model.fit(X,Y,epochs=50,validation_split=0.5,callbacks=[es]) #Have Keras make a test/validation split for us\n",
    "\n",
    "\n",
    "X_test=np.random.uniform(0,10,size=(100,data_dim))\n",
    "X_test[:,0]=np.linspace(-5,15,100)\n",
    "Y_test=func(X_test)\n",
    "Y_pred=model.predict(X_test)\n",
    "\n",
    "plt.scatter(X_test[:,0],Y_pred,label='prediction')\n",
    "plt.scatter(X_test[:,0],Y_test,label='truth')\n",
    "plt.xlabel('X[:,0]')\n",
    "plt.ylabel('Y')\n",
    "plt.legend()\n",
    "\n",
    "\n"
   ]
  },
  {
   "cell_type": "markdown",
   "metadata": {},
   "source": [
    "The data fits the sin curve perfectly where it had seen training data 0-10, and not so well where there was no training data. Neural networks are universal function approximators, you have little control of what they predict when given data that is completely new. \n"
   ]
  },
  {
   "cell_type": "markdown",
   "metadata": {},
   "source": [
    "# Dense network summary\n",
    "\n",
    "* Dense networks take fixed length input and have a fixed length output\n",
    "* Like All Neural Network layers they require an activation function\n",
    "* They can be stacked to represent more complicated functions\n",
    "* You're taking your chances when predicting data that's very different from you're training data\n"
   ]
  },
  {
   "cell_type": "markdown",
   "metadata": {},
   "source": [
    "# Sequences\n",
    "A lot of data we have doesn't have a fixed dimension, for example text. To make our predictions we need another kind of layer called a recurrent layer. \n",
    "\n",
    "<img src=\"../assets/rnn.gif\">\n",
    "\n",
    "Recurrent layers step through each data point in a sequence, and output one number at the end (or another sequence)\n",
    "Examples:\n",
    "* RNN : First simplest recurrent layer\n",
    "* LSTM: Long Short Term Memory Networks\n",
    "* GRU: Gated Recurrent Unit\n",
    "\n",
    "All of the above are implemented differently with different strengths, but for now lets stick with an LSTM\n",
    "\n"
   ]
  },
  {
   "cell_type": "code",
   "execution_count": 85,
   "metadata": {},
   "outputs": [
    {
     "name": "stdout",
     "output_type": "stream",
     "text": [
      "Tensor(\"input_39:0\", shape=(?, ?, 1), dtype=float32)\n",
      "_________________________________________________________________\n",
      "Layer (type)                 Output Shape              Param #   \n",
      "=================================================================\n",
      "input_39 (InputLayer)        (None, None, 1)           0         \n",
      "_________________________________________________________________\n",
      "lstm_25 (LSTM)               (None, 1)                 12        \n",
      "=================================================================\n",
      "Total params: 12\n",
      "Trainable params: 12\n",
      "Non-trainable params: 0\n",
      "_________________________________________________________________\n",
      "Train on 5000 samples, validate on 5000 samples\n",
      "Epoch 1/100\n",
      "5000/5000 [==============================] - 6s 1ms/step - loss: 1081.0467 - val_loss: 1071.3975\n",
      "Epoch 2/100\n",
      "5000/5000 [==============================] - 4s 720us/step - loss: 1080.4070 - val_loss: 1069.1196\n",
      "Epoch 3/100\n",
      "5000/5000 [==============================] - 4s 719us/step - loss: 1070.3395 - val_loss: 1036.5711\n",
      "Epoch 4/100\n",
      "5000/5000 [==============================] - 4s 716us/step - loss: 592.1027 - val_loss: 4.5454\n",
      "Epoch 5/100\n",
      "5000/5000 [==============================] - 4s 711us/step - loss: 3.4930 - val_loss: 2.6813\n",
      "Epoch 6/100\n",
      "5000/5000 [==============================] - 4s 726us/step - loss: 2.3137 - val_loss: 1.8856\n",
      "Epoch 7/100\n",
      "5000/5000 [==============================] - 4s 712us/step - loss: 1.4789 - val_loss: 1.1646\n",
      "Epoch 8/100\n",
      "5000/5000 [==============================] - 3s 695us/step - loss: 0.9479 - val_loss: 0.8005\n",
      "Epoch 9/100\n",
      "5000/5000 [==============================] - 4s 709us/step - loss: 0.7691 - val_loss: 0.7346\n",
      "Epoch 10/100\n",
      "5000/5000 [==============================] - 4s 723us/step - loss: 0.7021 - val_loss: 0.6587\n",
      "Epoch 11/100\n",
      "5000/5000 [==============================] - 4s 706us/step - loss: 0.6930 - val_loss: 0.6941\n",
      "Epoch 12/100\n",
      "5000/5000 [==============================] - 4s 712us/step - loss: 0.6528 - val_loss: 0.6717\n",
      "Epoch 13/100\n",
      "5000/5000 [==============================] - 4s 727us/step - loss: 0.7025 - val_loss: 0.5779\n",
      "Epoch 14/100\n",
      "5000/5000 [==============================] - 4s 731us/step - loss: 0.6184 - val_loss: 0.7458\n",
      "Epoch 15/100\n",
      "5000/5000 [==============================] - 4s 734us/step - loss: 0.6233 - val_loss: 0.5544\n",
      "Epoch 16/100\n",
      "5000/5000 [==============================] - 4s 718us/step - loss: 0.5887 - val_loss: 0.5494\n",
      "Epoch 17/100\n",
      "5000/5000 [==============================] - 4s 716us/step - loss: 0.5441 - val_loss: 0.4954\n",
      "Epoch 18/100\n",
      "5000/5000 [==============================] - 4s 723us/step - loss: 0.5407 - val_loss: 0.4921\n",
      "Epoch 19/100\n",
      "5000/5000 [==============================] - 4s 723us/step - loss: 0.5211 - val_loss: 0.4608\n",
      "Epoch 20/100\n",
      "5000/5000 [==============================] - 4s 733us/step - loss: 0.4991 - val_loss: 0.5696\n",
      "Epoch 21/100\n",
      "5000/5000 [==============================] - 4s 725us/step - loss: 0.4758 - val_loss: 0.4200\n",
      "Epoch 22/100\n",
      "5000/5000 [==============================] - 4s 728us/step - loss: 0.4867 - val_loss: 0.4896\n",
      "Epoch 23/100\n",
      "5000/5000 [==============================] - 4s 718us/step - loss: 0.4666 - val_loss: 0.3826\n",
      "Epoch 24/100\n",
      "5000/5000 [==============================] - 4s 711us/step - loss: 0.3642 - val_loss: 0.3519\n",
      "Epoch 25/100\n",
      "5000/5000 [==============================] - 4s 720us/step - loss: 0.2952 - val_loss: 0.2481\n",
      "Epoch 26/100\n",
      "5000/5000 [==============================] - 4s 705us/step - loss: 0.2405 - val_loss: 0.2097\n",
      "Epoch 27/100\n",
      "5000/5000 [==============================] - 4s 717us/step - loss: 0.2017 - val_loss: 0.1777\n",
      "Epoch 28/100\n",
      "5000/5000 [==============================] - 4s 722us/step - loss: 0.1666 - val_loss: 0.1661\n",
      "Epoch 29/100\n",
      "5000/5000 [==============================] - 4s 712us/step - loss: 0.1463 - val_loss: 0.1197\n",
      "Epoch 30/100\n",
      "5000/5000 [==============================] - 4s 730us/step - loss: 0.1185 - val_loss: 0.0990\n",
      "Epoch 31/100\n",
      "5000/5000 [==============================] - 4s 730us/step - loss: 0.0917 - val_loss: 0.0831\n",
      "Epoch 32/100\n",
      "5000/5000 [==============================] - 4s 729us/step - loss: 0.0664 - val_loss: 0.0468\n",
      "Epoch 33/100\n",
      "5000/5000 [==============================] - 4s 729us/step - loss: 0.0435 - val_loss: 0.0335\n",
      "Epoch 34/100\n",
      "5000/5000 [==============================] - 4s 727us/step - loss: 0.0385 - val_loss: 0.0284\n",
      "Epoch 35/100\n",
      "5000/5000 [==============================] - 4s 712us/step - loss: 0.0310 - val_loss: 0.0296\n",
      "Epoch 36/100\n",
      "5000/5000 [==============================] - 4s 721us/step - loss: 0.0288 - val_loss: 0.0308\n",
      "Epoch 37/100\n",
      "5000/5000 [==============================] - 4s 731us/step - loss: 0.0334 - val_loss: 0.0231\n",
      "Epoch 38/100\n",
      "5000/5000 [==============================] - 4s 715us/step - loss: 0.0301 - val_loss: 0.0228\n",
      "Epoch 39/100\n",
      "5000/5000 [==============================] - 4s 728us/step - loss: 0.0248 - val_loss: 0.0632\n",
      "Epoch 40/100\n",
      "5000/5000 [==============================] - 4s 712us/step - loss: 0.0247 - val_loss: 0.0203\n",
      "Epoch 41/100\n",
      "5000/5000 [==============================] - 4s 730us/step - loss: 0.0239 - val_loss: 0.0190\n",
      "Epoch 42/100\n",
      "5000/5000 [==============================] - 4s 728us/step - loss: 0.0249 - val_loss: 0.0246\n",
      "Epoch 43/100\n",
      "5000/5000 [==============================] - 4s 730us/step - loss: 0.0226 - val_loss: 0.0546\n",
      "Epoch 44/100\n",
      "5000/5000 [==============================] - 4s 715us/step - loss: 0.0314 - val_loss: 0.0200\n",
      "Epoch 45/100\n",
      "5000/5000 [==============================] - 4s 726us/step - loss: 0.0338 - val_loss: 0.0277\n",
      "Epoch 46/100\n",
      "5000/5000 [==============================] - 4s 727us/step - loss: 0.0244 - val_loss: 0.0178\n",
      "Epoch 47/100\n",
      "5000/5000 [==============================] - 4s 728us/step - loss: 0.0212 - val_loss: 0.0579\n",
      "Epoch 48/100\n",
      "5000/5000 [==============================] - 4s 743us/step - loss: 0.0575 - val_loss: 0.0295\n",
      "Epoch 49/100\n",
      "5000/5000 [==============================] - 4s 732us/step - loss: 0.0227 - val_loss: 0.0178\n",
      "Epoch 50/100\n",
      "5000/5000 [==============================] - 4s 721us/step - loss: 0.0184 - val_loss: 0.0170\n",
      "Epoch 51/100\n",
      "5000/5000 [==============================] - 4s 728us/step - loss: 0.0153 - val_loss: 0.0141\n",
      "Epoch 52/100\n",
      "5000/5000 [==============================] - 4s 726us/step - loss: 0.0168 - val_loss: 0.0145\n",
      "Epoch 53/100\n",
      "5000/5000 [==============================] - 4s 711us/step - loss: 0.0139 - val_loss: 0.0107\n",
      "Epoch 54/100\n",
      "5000/5000 [==============================] - 4s 727us/step - loss: 0.0133 - val_loss: 0.0104\n",
      "Epoch 55/100\n",
      "5000/5000 [==============================] - 4s 721us/step - loss: 0.0168 - val_loss: 0.0154\n",
      "Epoch 56/100\n",
      "5000/5000 [==============================] - 4s 721us/step - loss: 0.0107 - val_loss: 0.0206\n",
      "Epoch 57/100\n",
      "5000/5000 [==============================] - 4s 718us/step - loss: 0.0114 - val_loss: 0.0098\n",
      "Epoch 58/100\n",
      "5000/5000 [==============================] - 4s 721us/step - loss: 0.0162 - val_loss: 0.0127\n",
      "Epoch 59/100\n",
      "5000/5000 [==============================] - 4s 726us/step - loss: 0.0144 - val_loss: 0.0315\n",
      "Epoch 60/100\n",
      "5000/5000 [==============================] - 4s 716us/step - loss: 0.0121 - val_loss: 0.0801\n",
      "Epoch 61/100\n",
      "5000/5000 [==============================] - 4s 727us/step - loss: 0.1039 - val_loss: 0.0093\n",
      "Epoch 62/100\n",
      "5000/5000 [==============================] - 4s 716us/step - loss: 0.0097 - val_loss: 0.0089\n",
      "Epoch 63/100\n",
      "5000/5000 [==============================] - 4s 719us/step - loss: 0.0103 - val_loss: 0.0104\n",
      "Epoch 64/100\n",
      "5000/5000 [==============================] - 4s 722us/step - loss: 0.0104 - val_loss: 0.0076\n",
      "Epoch 65/100\n",
      "5000/5000 [==============================] - 4s 728us/step - loss: 0.0086 - val_loss: 0.0077\n",
      "Epoch 66/100\n",
      "5000/5000 [==============================] - 4s 727us/step - loss: 0.0088 - val_loss: 0.0093\n",
      "Epoch 67/100\n",
      "5000/5000 [==============================] - 4s 724us/step - loss: 0.0087 - val_loss: 0.0079\n",
      "Epoch 68/100\n",
      "5000/5000 [==============================] - 4s 721us/step - loss: 0.0082 - val_loss: 0.0072\n",
      "Epoch 69/100\n",
      "5000/5000 [==============================] - 4s 718us/step - loss: 0.0076 - val_loss: 0.0185\n",
      "Epoch 70/100\n",
      "5000/5000 [==============================] - 4s 726us/step - loss: 0.0078 - val_loss: 0.0063\n",
      "Epoch 71/100\n"
     ]
    },
    {
     "name": "stdout",
     "output_type": "stream",
     "text": [
      "5000/5000 [==============================] - 4s 727us/step - loss: 0.0071 - val_loss: 0.0062\n",
      "Epoch 72/100\n",
      "5000/5000 [==============================] - 4s 715us/step - loss: 0.0085 - val_loss: 0.0056\n",
      "Epoch 73/100\n",
      "5000/5000 [==============================] - 4s 711us/step - loss: 0.0079 - val_loss: 0.0110\n",
      "Epoch 74/100\n",
      "5000/5000 [==============================] - 4s 703us/step - loss: 0.0068 - val_loss: 0.0057\n",
      "Epoch 75/100\n",
      "5000/5000 [==============================] - 4s 729us/step - loss: 0.0084 - val_loss: 0.0049\n",
      "Epoch 76/100\n",
      "5000/5000 [==============================] - 4s 719us/step - loss: 0.0066 - val_loss: 0.0081\n",
      "Epoch 77/100\n",
      "5000/5000 [==============================] - 4s 719us/step - loss: 0.0069 - val_loss: 0.0043\n",
      "Epoch 78/100\n",
      "5000/5000 [==============================] - 4s 715us/step - loss: 0.0067 - val_loss: 0.0133\n",
      "Epoch 79/100\n",
      "5000/5000 [==============================] - 4s 720us/step - loss: 0.0077 - val_loss: 0.0150\n",
      "Epoch 80/100\n",
      "5000/5000 [==============================] - 4s 724us/step - loss: 0.0235 - val_loss: 0.0043\n",
      "Epoch 81/100\n",
      "5000/5000 [==============================] - 4s 727us/step - loss: 0.0043 - val_loss: 0.0035\n",
      "Epoch 82/100\n",
      "5000/5000 [==============================] - 4s 715us/step - loss: 0.0040 - val_loss: 0.0050\n",
      "Epoch 83/100\n",
      "5000/5000 [==============================] - 4s 722us/step - loss: 0.0050 - val_loss: 0.0209\n",
      "Epoch 84/100\n",
      "5000/5000 [==============================] - 4s 725us/step - loss: 0.0049 - val_loss: 0.0038\n",
      "Epoch 85/100\n",
      "5000/5000 [==============================] - 4s 723us/step - loss: 0.0038 - val_loss: 0.0064\n",
      "Epoch 86/100\n",
      "5000/5000 [==============================] - 4s 726us/step - loss: 0.0054 - val_loss: 0.0054\n"
     ]
    },
    {
     "data": {
      "text/plain": [
       "<tensorflow.python.keras.callbacks.History at 0x7fd454c851d0>"
      ]
     },
     "execution_count": 85,
     "metadata": {},
     "output_type": "execute_result"
    }
   ],
   "source": [
    "input_layer=tf.keras.layers.Input((None,1))\n",
    "print(input_layer)\n",
    "output_layer=tf.keras.layers.LSTM(1,activation='linear')(input_layer)\n",
    "model=tf.keras.models.Model([input_layer],[output_layer])\n",
    "opt=tf.keras.optimizers.Adam(lr=1e-3)\n",
    "\n",
    "model.compile(loss='mse',optimizer=opt)\n",
    "model.summary()\n",
    "es=tf.keras.callbacks.EarlyStopping(monitor='val_loss', min_delta=0, patience=5, verbose=0, mode='auto')\n",
    "\n",
    "\n",
    "model.fit(X,Y,validation_split=0.5,epochs=100,callbacks=[es])\n",
    "\n"
   ]
  },
  {
   "cell_type": "code",
   "execution_count": 76,
   "metadata": {},
   "outputs": [
    {
     "name": "stdout",
     "output_type": "stream",
     "text": [
      "[[22.]\n",
      " [23.]\n",
      " [24.]\n",
      " [25.]\n",
      " [26.]] 27.0\n",
      "(10000, 5, 1)\n"
     ]
    }
   ],
   "source": [
    "X=[]\n",
    "Y=[]\n",
    "for i in range(10000):\n",
    "    _dp=[]\n",
    "    _dp=np.random.randint(50)+np.linspace(0,4,5)\n",
    "    Y.append(_dp[-1]+1)\n",
    "    X.append(np.expand_dims(_dp,-1))\n",
    "X=np.array(X)\n",
    "Y=np.array(Y)\n",
    "print(X[0],Y[0])\n",
    "\n",
    "print(X.shape)\n",
    "\n",
    "\n"
   ]
  },
  {
   "cell_type": "code",
   "execution_count": null,
   "metadata": {},
   "outputs": [],
   "source": []
  },
  {
   "cell_type": "code",
   "execution_count": 80,
   "metadata": {},
   "outputs": [
    {
     "data": {
      "text/plain": [
       "array([[6.9389105]], dtype=float32)"
      ]
     },
     "execution_count": 80,
     "metadata": {},
     "output_type": "execute_result"
    }
   ],
   "source": [
    "model.predict(np.expand_dims([[2,3,4,5,6]],-1) )"
   ]
  },
  {
   "cell_type": "markdown",
   "metadata": {},
   "source": [
    "## Text Data\n",
    "\n",
    "The coding/research part of most machine learning algorithms is how to utilize data in a way an algorthim understands.\n",
    "\n",
    "## Goal\n",
    "\n",
    "Read the raw the raw text from these movie reviews, and predict wether the review is positive or not\n",
    "* Need to go from an array (1-D unknown length) to a probability (1 number)\n",
    "* Need to build a series of layers to make that possible\n",
    "\n",
    "\n",
    "\n",
    "* We will take text that is transformed into an sequence of integers\n",
    "  * For this data we assign each word (token) in a sentence a unique integer\n",
    "    * include a token (integer) for unknown, pad, and start\n",
    "\n",
    "* We will transform the sequence of integers into an sequence of vectors\n",
    "    * Do this with a new Embedding Layer\n",
    "* Then use an LSTM layer, and a Dense layer to make a prediction\n",
    "\n",
    "\n",
    "Array of Ints -> **Embedding** -> Array of Vectors -> **RNN** -> fixed output -> **Dense** -> Probability\n"
   ]
  },
  {
   "cell_type": "code",
   "execution_count": 129,
   "metadata": {},
   "outputs": [],
   "source": [
    "# Lets load some input data in the 2-split format\n",
    "index_from=3\n",
    "(x_train, y_train), (x_test, y_test) = tf.keras.datasets.imdb.load_data(path=\"imdb.npz\",\n",
    "                                                      num_words=None,\n",
    "                                                      skip_top=0,\n",
    "                                                      maxlen=None,\n",
    "                                                      seed=113,\n",
    "                                                      start_char=1,\n",
    "                                                      oov_char=2,\n",
    "                                                      index_from=index_from)\n",
    "\n",
    "\n",
    "word_2_index={k:(v+index_from) for k,v in tf.keras.datasets.imdb.get_word_index().items()}\n",
    "word_2_index['<PAD>']=0\n",
    "word_2_index['<START>']=1\n",
    "word_2_index['<UNK>']=2\n",
    "\n",
    "index_2_word={}\n",
    "\n",
    "for word in word_2_index:\n",
    "    index_2_word[ word_2_index[word]]=word\n"
   ]
  },
  {
   "cell_type": "code",
   "execution_count": 130,
   "metadata": {},
   "outputs": [
    {
     "name": "stdout",
     "output_type": "stream",
     "text": [
      "['this', 'is', 'a', 'sentence'] [14, 9, 6, 4130]\n"
     ]
    }
   ],
   "source": [
    "check=['this','is','a','sentence']\n",
    "print(check, [word_2_index[i] for i in check])"
   ]
  },
  {
   "cell_type": "code",
   "execution_count": 131,
   "metadata": {},
   "outputs": [],
   "source": [
    "last_word=np.max(list(word_2_index.values()))"
   ]
  },
  {
   "cell_type": "code",
   "execution_count": 132,
   "metadata": {},
   "outputs": [
    {
     "name": "stdout",
     "output_type": "stream",
     "text": [
      "(25000,)\n",
      "(25000,)\n",
      "[1, 14, 22, 16, 43, 530, 973, 1622, 1385, 65, 458, 4468, 66, 3941, 4, 173, 36, 256, 5, 25, 100, 43, 838, 112, 50, 670, 22665, 9, 35, 480, 284, 5, 150, 4, 172, 112, 167, 21631, 336, 385, 39, 4, 172, 4536, 1111, 17, 546, 38, 13, 447, 4, 192, 50, 16, 6, 147, 2025, 19, 14, 22, 4, 1920, 4613, 469, 4, 22, 71, 87, 12, 16, 43, 530, 38, 76, 15, 13, 1247, 4, 22, 17, 515, 17, 12, 16, 626, 18, 19193, 5, 62, 386, 12, 8, 316, 8, 106, 5, 4, 2223, 5244, 16, 480, 66, 3785, 33, 4, 130, 12, 16, 38, 619, 5, 25, 124, 51, 36, 135, 48, 25, 1415, 33, 6, 22, 12, 215, 28, 77, 52, 5, 14, 407, 16, 82, 10311, 8, 4, 107, 117, 5952, 15, 256, 4, 31050, 7, 3766, 5, 723, 36, 71, 43, 530, 476, 26, 400, 317, 46, 7, 4, 12118, 1029, 13, 104, 88, 4, 381, 15, 297, 98, 32, 2071, 56, 26, 141, 6, 194, 7486, 18, 4, 226, 22, 21, 134, 476, 26, 480, 5, 144, 30, 5535, 18, 51, 36, 28, 224, 92, 25, 104, 4, 226, 65, 16, 38, 1334, 88, 12, 16, 283, 5, 16, 4472, 113, 103, 32, 15, 16, 5345, 19, 178, 32]\n",
      "1\n",
      "<START> this film was just brilliant casting location scenery story direction everyone's really suited the part they played and you could just imagine being there robert redford's is an amazing actor and now the same being director norman's father came from the same scottish island as myself so i loved the fact there was a real connection with this film the witty remarks throughout the film were great it was just brilliant so much that i bought the film as soon as it was released for retail and would recommend it to everyone to watch and the fly fishing was amazing really cried at the end it was so sad and you know what they say if you cry at a film it must have been good and this definitely was also congratulations to the two little boy's that played the part's of norman and paul they were just brilliant children are often left out of the praising list i think because the stars that play them all grown up are such a big profile for the whole film but these children are amazing and should be praised for what they have done don't you think the whole story was so lovely because it was true and was someone's life after all that was shared with us all\n",
      "1 = Positive Review 0 = Negative Review \n",
      "label 1\n"
     ]
    }
   ],
   "source": [
    "print(x_train.shape)\n",
    "print(y_train.shape)\n",
    "\n",
    "print(x_train[0])\n",
    "print(y_train[0])\n",
    "\n",
    "\n",
    "print(\" \".join([index_2_word[i] for i in x_train[0]]))\n",
    "\n",
    "print('1 = Positive Review','0 = Negative Review ')\n",
    "print('label',y_train[0])"
   ]
  },
  {
   "cell_type": "markdown",
   "metadata": {},
   "source": [
    "**Note:**\n",
    "This data has already been 'tokenized' meaning the text has been pre-processed. In this case made lowercase with punctuation removed. There are many different ways of doing this.\n"
   ]
  },
  {
   "cell_type": "code",
   "execution_count": 133,
   "metadata": {},
   "outputs": [
    {
     "name": "stdout",
     "output_type": "stream",
     "text": [
      "Tensor(\"input_44:0\", shape=(?, ?), dtype=float32)\n"
     ]
    }
   ],
   "source": [
    "input_layer=tf.keras.layers.Input( (None,))\n",
    "print(input_layer)"
   ]
  },
  {
   "cell_type": "code",
   "execution_count": 134,
   "metadata": {},
   "outputs": [
    {
     "name": "stdout",
     "output_type": "stream",
     "text": [
      "_________________________________________________________________\n",
      "Layer (type)                 Output Shape              Param #   \n",
      "=================================================================\n",
      "input_44 (InputLayer)        (None, None)              0         \n",
      "_________________________________________________________________\n",
      "embedding_3 (Embedding)      (None, None, 100)         8858700   \n",
      "_________________________________________________________________\n",
      "lstm_29 (LSTM)               (None, 10)                4440      \n",
      "_________________________________________________________________\n",
      "dense_49 (Dense)             (None, 10)                110       \n",
      "_________________________________________________________________\n",
      "leaky_re_lu_33 (LeakyReLU)   (None, 10)                0         \n",
      "_________________________________________________________________\n",
      "dense_50 (Dense)             (None, 1)                 11        \n",
      "=================================================================\n",
      "Total params: 8,863,261\n",
      "Trainable params: 8,863,261\n",
      "Non-trainable params: 0\n",
      "_________________________________________________________________\n"
     ]
    }
   ],
   "source": [
    "nn=tf.keras.layers.Embedding(last_word,100)(input_layer)\n",
    "nn=tf.keras.layers.LSTM(10)(nn)\n",
    "nn=tf.keras.layers.Dense(10)(nn)\n",
    "nn=tf.keras.layers.LeakyReLU()(nn)\n",
    "output=tf.keras.layers.Dense(1,activation='sigmoid')(nn)\n",
    "\n",
    "model=tf.keras.models.Model(input_layer,output)\n",
    "model.compile(loss='binary_crossentropy',optimizer='adam',metrics=['accuracy'])\n",
    "model.summary()"
   ]
  },
  {
   "cell_type": "markdown",
   "metadata": {},
   "source": [
    "## Binary Cross Entropy\n",
    "\n",
    "Our last layer here is using a sigmoid activation, which is bounded between zero and 1\n",
    "\n",
    "<img src=\"../assets/sigmoid.png\">\n",
    "\n",
    "The activation on your last layer has to match your loss function in this case 'Binary Cross-Entropy'\n",
    "<p style=\"text-align: center;\">\n",
    "$L= -1*\\sum_i y_{true,i}*ln(y_{pred,i}) + (1-y_{true,i})*ln(1-y_{pred,i}) $\n",
    "</p>\n",
    "Which is minimized when $y_{pred}=y_{true}$\n"
   ]
  },
  {
   "cell_type": "code",
   "execution_count": 135,
   "metadata": {},
   "outputs": [],
   "source": [
    "# We need each batch given to the model to have the same size\n",
    "# For right now we will just make all the data the same size by padding or cropping to a length of 200\n",
    "\n",
    "x_train=tf.keras.preprocessing.sequence.pad_sequences(x_train, maxlen=200, dtype='int32',value=0.0)\n",
    "x_test=tf.keras.preprocessing.sequence.pad_sequences(x_test, maxlen=200, dtype='int32',value=0.0)\n",
    "\n"
   ]
  },
  {
   "cell_type": "code",
   "execution_count": 136,
   "metadata": {},
   "outputs": [
    {
     "name": "stdout",
     "output_type": "stream",
     "text": [
      "Train on 25000 samples, validate on 25000 samples\n",
      "Epoch 1/10\n",
      "25000/25000 [==============================] - 310s 12ms/step - loss: 0.3882 - acc: 0.8226 - val_loss: 0.3458 - val_acc: 0.8571\n",
      "Epoch 2/10\n",
      "25000/25000 [==============================] - 302s 12ms/step - loss: 0.1624 - acc: 0.9408 - val_loss: 0.3414 - val_acc: 0.8616\n",
      "Epoch 3/10\n",
      "25000/25000 [==============================] - 302s 12ms/step - loss: 0.0706 - acc: 0.9764 - val_loss: 0.4841 - val_acc: 0.8582\n"
     ]
    }
   ],
   "source": [
    "es=tf.keras.callbacks.EarlyStopping(monitor='val_loss', min_delta=0, patience=1, verbose=0, mode='auto')\n",
    "history=model.fit(x_train,y_train,validation_data=(x_test,y_test),epochs=10,callbacks=[es])"
   ]
  },
  {
   "cell_type": "code",
   "execution_count": 137,
   "metadata": {},
   "outputs": [],
   "source": [
    "def sentence_2_ints(sentence):\n",
    "    return np.array([[word_2_index[s] for s in sentence.split()]])\n",
    "    \n",
    "    "
   ]
  },
  {
   "cell_type": "code",
   "execution_count": 138,
   "metadata": {},
   "outputs": [
    {
     "name": "stdout",
     "output_type": "stream",
     "text": [
      "[[0.90006727]]\n",
      "[[0.79725325]]\n",
      "[[0.88183933]]\n",
      "[[0.05837091]]\n",
      "[[0.8210077]]\n",
      "[[0.26951432]]\n",
      "[[0.34072697]]\n"
     ]
    }
   ],
   "source": [
    "print(model.predict(sentence_2_ints('<START> this movie is the very best i have ever seen') ))\n",
    "\n",
    "print(model.predict(sentence_2_ints('<START> i have mixed feelings about this movie') ))\n",
    "print(model.predict(sentence_2_ints('<START> i have mixed feelings about this movie i may like it in the end') ))\n",
    "\n",
    "print(model.predict(sentence_2_ints('<START> i have never seen a worse film') ))\n",
    "print(model.predict(sentence_2_ints('<START> hi is this where i google the information') ))\n",
    "\n",
    "print(model.predict(sentence_2_ints('<START> star trek') ))\n",
    "print(model.predict(sentence_2_ints('<START> star wars') ))\n"
   ]
  },
  {
   "cell_type": "code",
   "execution_count": null,
   "metadata": {},
   "outputs": [],
   "source": []
  },
  {
   "cell_type": "markdown",
   "metadata": {},
   "source": [
    "# A short Menu of other ML layers\n",
    "* Convolutional Layers (Conv1D, Conv2D, Conv3D)\n",
    "    * Input sequences of fixed or varying length best when array values that are close together are correlate i.e pictures\n",
    "    * Output a new sequence normally lower dimension, but with more channels    \n",
    "* Recurrent Neural Networks (RNN, LSTM, GRUS)\n",
    "    * Input sequence\n",
    "    * Output sequence or a fixed dimensional output    \n",
    "\n",
    "* Embedding Network\n",
    "    * A learnable mapping from a large set of integers, to a fixed output\n",
    "    * Input integer\n",
    "    * Ouput vector\n",
    "\n",
    "* Dense Network\n",
    "    * Fixed Input\n",
    "    * Fixed Output\n",
    "\n",
    "* Dropout\n",
    "    * Good at preventing overfitting"
   ]
  },
  {
   "cell_type": "code",
   "execution_count": null,
   "metadata": {},
   "outputs": [],
   "source": []
  }
 ],
 "metadata": {
  "kernelspec": {
   "display_name": "Python 3 (Tensorflow)",
   "language": "python",
   "name": "tensorflow"
  },
  "language_info": {
   "codemirror_mode": {
    "name": "ipython",
    "version": 3
   },
   "file_extension": ".py",
   "mimetype": "text/x-python",
   "name": "python",
   "nbconvert_exporter": "python",
   "pygments_lexer": "ipython3",
   "version": "3.6.7"
  }
 },
 "nbformat": 4,
 "nbformat_minor": 2
}
