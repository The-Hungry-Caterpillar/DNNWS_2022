{
 "cells": [
  {
   "cell_type": "markdown",
   "metadata": {},
   "source": [
    "P. vivax (malaria) infected human blood smears\n",
    "\n",
    "Accession number BBBC041 · Version 1\n",
    "\n",
    "\n",
    "\n",
    "From the Broad Institute https://data.broadinstitute.org/bbbc/BBBC041/\n",
    "    \n",
    "Malaria is a disease caused by Plasmodium parasites that remains a major threat in global health, affecting 200 million people and causing 400,000 deaths a year. The main species of malaria that affect humans are Plasmodium falciparum and Plasmodium vivax.\n",
    "\n",
    "For malaria as well as other microbial infections, manual inspection of thick and thin blood smears by trained microscopists remains the gold standard for parasite detection and stage determination because of its low reagent and instrument cost and high flexibility. Despite manual inspection being extremely low throughput and susceptible to human bias, automatic counting software remains largely unused because of the wide range of variations in brightfield microscopy images. However, a robust automatic counting and cell classification solution would provide enormous benefits due to faster and more accurate quantitative results without human variability; researchers and medical professionals could better characterize stage-specific drug targets and better quantify patient reactions to drugs.\n",
    "\n",
    "Previous attempts to automate the process of identifying and quantifying malaria have not gained major traction partly due to difficulty of replication, comparison, and extension. Authors also rarely make their image sets available, which precludes replication of results and assessment of potential improvements. The lack of a standard set of images nor standard set of metrics used to report results has impeded the field. \n",
    "\n"
   ]
  },
  {
   "cell_type": "markdown",
   "metadata": {},
   "source": [
    "## Identifying where something is\n"
   ]
  },
  {
   "cell_type": "code",
   "execution_count": 1,
   "metadata": {},
   "outputs": [
    {
     "name": "stderr",
     "output_type": "stream",
     "text": [
      "/home/jsearcy/anaconda3/envs/tensorflow/lib/python3.6/site-packages/skimage/transform/_warps.py:105: UserWarning: The default mode, 'constant', will be changed to 'reflect' in skimage 0.15.\n",
      "  warn(\"The default mode, 'constant', will be changed to 'reflect' in \"\n"
     ]
    },
    {
     "data": {
      "text/plain": [
       "<Figure size 640x480 with 1 Axes>"
      ]
     },
     "metadata": {},
     "output_type": "display_data"
    }
   ],
   "source": [
    "import numpy as np\n",
    "import matplotlib.pyplot as plt\n",
    "from bbtoydata import BBToyData\n",
    "import matplotlib.patches as patches\n",
    "import tensorflow as tf\n",
    "\n",
    "\n",
    "bb=BBToyData()\n",
    "\n",
    "\n",
    "start_i=0\n",
    "while len(bb.Y_train[start_i]) ==0:start_i+=1\n",
    "\n",
    "\n",
    "def plot_point(image,labels,truth=[]):    \n",
    "    fig,ax = plt.subplots(1)\n",
    "\n",
    "    ax.imshow(image,cmap='gray')\n",
    "    for cat,bbox in labels:\n",
    "        corner,length,height=bbox\n",
    "        rect = patches.Rectangle((np.array(corner)*100),np.ceil(length*100),np.ceil(height*100),linewidth=1,edgecolor='r',facecolor='none')\n",
    "        ax.add_patch(rect)\n",
    "    for cat,bbox in truth:\n",
    "        corner,length,height=bbox\n",
    "        rect = patches.Rectangle((np.array(corner)*100),np.ceil(length*100),np.ceil(height*100),linewidth=1,edgecolor='b',facecolor='none')\n",
    "        ax.add_patch(rect)\n",
    "\n",
    "    plt.show()\n",
    "\n",
    "plot_point(np.squeeze(bb.X_train[start_i]),bb.Y_train[start_i])"
   ]
  },
  {
   "cell_type": "code",
   "execution_count": 2,
   "metadata": {},
   "outputs": [],
   "source": [
    "#Make a Y_train for this model\n",
    "\n",
    "def get_labels(labels):\n",
    "\n",
    "    Y_category=[]\n",
    "    Y_bbox=[]\n",
    "    for b in labels:\n",
    "        if len(b) !=0:\n",
    "            cat,bbox=b[0]\n",
    "            point,length,width=bbox\n",
    "            Y_category.append(cat)\n",
    "            Y_bbox.append([point[0],point[1],length,width])\n",
    "        else:\n",
    "            Y_category.append(3)\n",
    "            Y_bbox.append([0,0,0,0])\n",
    "    Y_category=tf.keras.utils.to_categorical(Y_category,4)\n",
    "    Y_bbox=np.array(Y_bbox)\n",
    "    return [Y_category,Y_bbox]\n",
    "\n",
    "Y_train=get_labels(bb.Y_train)\n",
    "Y_develop=get_labels(bb.Y_develop)\n",
    "Y_test=get_labels(bb.Y_test)\n",
    "\n"
   ]
  },
  {
   "cell_type": "code",
   "execution_count": 3,
   "metadata": {},
   "outputs": [
    {
     "data": {
      "text/plain": [
       "<matplotlib.image.AxesImage at 0x7f3fb0f828d0>"
      ]
     },
     "execution_count": 3,
     "metadata": {},
     "output_type": "execute_result"
    },
    {
     "data": {
      "image/png": "[encoded data removed]",
      "text/plain": [
       "<Figure size 432x288 with 1 Axes>"
      ]
     },
     "metadata": {
      "needs_background": "light"
     },
     "output_type": "display_data"
    }
   ],
   "source": [
    "plt.imshow(np.squeeze(bb.X_train[12]))"
   ]
  },
  {
   "cell_type": "code",
   "execution_count": 4,
   "metadata": {},
   "outputs": [
    {
     "data": {
      "text/plain": [
       "((9018, 4), (9018, 4))"
      ]
     },
     "execution_count": 4,
     "metadata": {},
     "output_type": "execute_result"
    }
   ],
   "source": [
    "Y_train[0].shape,Y_train[1].shape"
   ]
  },
  {
   "cell_type": "code",
   "execution_count": 5,
   "metadata": {},
   "outputs": [
    {
     "name": "stdout",
     "output_type": "stream",
     "text": [
      "__________________________________________________________________________________________________\n",
      "Layer (type)                    Output Shape         Param #     Connected to                     \n",
      "==================================================================================================\n",
      "input_1 (InputLayer)            (None, 100, 100, 1)  0                                            \n",
      "__________________________________________________________________________________________________\n",
      "conv2d (Conv2D)                 (None, 50, 50, 64)   1088        input_1[0][0]                    \n",
      "__________________________________________________________________________________________________\n",
      "leaky_re_lu (LeakyReLU)         (None, 50, 50, 64)   0           conv2d[0][0]                     \n",
      "__________________________________________________________________________________________________\n",
      "conv2d_1 (Conv2D)               (None, 25, 25, 64)   65600       leaky_re_lu[0][0]                \n",
      "__________________________________________________________________________________________________\n",
      "leaky_re_lu_1 (LeakyReLU)       (None, 25, 25, 64)   0           conv2d_1[0][0]                   \n",
      "__________________________________________________________________________________________________\n",
      "flatten (Flatten)               (None, 40000)        0           leaky_re_lu_1[0][0]              \n",
      "__________________________________________________________________________________________________\n",
      "dropout (Dropout)               (None, 40000)        0           flatten[0][0]                    \n",
      "__________________________________________________________________________________________________\n",
      "dense_1 (Dense)                 (None, 50)           2000050     dropout[0][0]                    \n",
      "__________________________________________________________________________________________________\n",
      "leaky_re_lu_2 (LeakyReLU)       (None, 50)           0           dense_1[0][0]                    \n",
      "__________________________________________________________________________________________________\n",
      "dense_2 (Dense)                 (None, 50)           2550        leaky_re_lu_2[0][0]              \n",
      "__________________________________________________________________________________________________\n",
      "dense (Dense)                   (None, 4)            160004      dropout[0][0]                    \n",
      "__________________________________________________________________________________________________\n",
      "leaky_re_lu_3 (LeakyReLU)       (None, 50)           0           dense_2[0][0]                    \n",
      "__________________________________________________________________________________________________\n",
      "activation (Activation)         (None, 4)            0           dense[0][0]                      \n",
      "__________________________________________________________________________________________________\n",
      "dense_3 (Dense)                 (None, 4)            204         leaky_re_lu_3[0][0]              \n",
      "==================================================================================================\n",
      "Total params: 2,229,496\n",
      "Trainable params: 2,229,496\n",
      "Non-trainable params: 0\n",
      "__________________________________________________________________________________________________\n",
      "Train on 9018 samples, validate on 8041 samples\n",
      "Epoch 1/25\n",
      "9018/9018 [==============================] - 8s 841us/step - loss: 0.7828 - activation_loss: 0.7158 - dense_3_loss: 0.0671 - val_loss: 0.5988 - val_activation_loss: 0.5640 - val_dense_3_loss: 0.0348\n",
      "Epoch 2/25\n",
      "9018/9018 [==============================] - 4s 452us/step - loss: 0.6015 - activation_loss: 0.5640 - dense_3_loss: 0.0375 - val_loss: 0.5039 - val_activation_loss: 0.4763 - val_dense_3_loss: 0.0277\n",
      "Epoch 3/25\n",
      "7680/9018 [========================>.....] - ETA: 0s - loss: 0.4935 - activation_loss: 0.4629 - dense_3_loss: 0.0306"
     ]
    },
    {
     "ename": "KeyboardInterrupt",
     "evalue": "",
     "output_type": "error",
     "traceback": [
      "\u001b[0;31m---------------------------------------------------------------------------\u001b[0m",
      "\u001b[0;31mKeyboardInterrupt\u001b[0m                         Traceback (most recent call last)",
      "\u001b[0;32m<ipython-input-5-b7c7065c40dd>\u001b[0m in \u001b[0;36m<module>\u001b[0;34m()\u001b[0m\n\u001b[1;32m     31\u001b[0m history=model.fit(bb.X_train, Y_train, \n\u001b[1;32m     32\u001b[0m           \u001b[0mbatch_size\u001b[0m\u001b[0;34m=\u001b[0m\u001b[0;36m32\u001b[0m\u001b[0;34m,\u001b[0m \u001b[0mepochs\u001b[0m\u001b[0;34m=\u001b[0m\u001b[0;36m25\u001b[0m\u001b[0;34m,\u001b[0m \u001b[0mverbose\u001b[0m\u001b[0;34m=\u001b[0m\u001b[0;36m1\u001b[0m\u001b[0;34m,\u001b[0m\u001b[0;34m\u001b[0m\u001b[0;34m\u001b[0m\u001b[0m\n\u001b[0;32m---> 33\u001b[0;31m          \u001b[0mvalidation_data\u001b[0m\u001b[0;34m=\u001b[0m\u001b[0;34m(\u001b[0m\u001b[0mbb\u001b[0m\u001b[0;34m.\u001b[0m\u001b[0mX_develop\u001b[0m\u001b[0;34m,\u001b[0m\u001b[0mY_develop\u001b[0m\u001b[0;34m)\u001b[0m\u001b[0;34m\u001b[0m\u001b[0;34m\u001b[0m\u001b[0m\n\u001b[0m\u001b[1;32m     34\u001b[0m          )\n\u001b[1;32m     35\u001b[0m \u001b[0;34m\u001b[0m\u001b[0m\n",
      "\u001b[0;32m~/anaconda3/envs/tensorflow/lib/python3.6/site-packages/tensorflow/python/keras/engine/training.py\u001b[0m in \u001b[0;36mfit\u001b[0;34m(self, x, y, batch_size, epochs, verbose, callbacks, validation_split, validation_data, shuffle, class_weight, sample_weight, initial_epoch, steps_per_epoch, validation_steps, **kwargs)\u001b[0m\n\u001b[1;32m   1603\u001b[0m           \u001b[0minitial_epoch\u001b[0m\u001b[0;34m=\u001b[0m\u001b[0minitial_epoch\u001b[0m\u001b[0;34m,\u001b[0m\u001b[0;34m\u001b[0m\u001b[0;34m\u001b[0m\u001b[0m\n\u001b[1;32m   1604\u001b[0m           \u001b[0msteps_per_epoch\u001b[0m\u001b[0;34m=\u001b[0m\u001b[0msteps_per_epoch\u001b[0m\u001b[0;34m,\u001b[0m\u001b[0;34m\u001b[0m\u001b[0;34m\u001b[0m\u001b[0m\n\u001b[0;32m-> 1605\u001b[0;31m           validation_steps=validation_steps)\n\u001b[0m\u001b[1;32m   1606\u001b[0m \u001b[0;34m\u001b[0m\u001b[0m\n\u001b[1;32m   1607\u001b[0m   def evaluate(self,\n",
      "\u001b[0;32m~/anaconda3/envs/tensorflow/lib/python3.6/site-packages/tensorflow/python/keras/engine/training_arrays.py\u001b[0m in \u001b[0;36mfit_loop\u001b[0;34m(model, inputs, targets, sample_weights, batch_size, epochs, verbose, callbacks, val_inputs, val_targets, val_sample_weights, shuffle, initial_epoch, steps_per_epoch, validation_steps)\u001b[0m\n\u001b[1;32m    212\u001b[0m           \u001b[0mins_batch\u001b[0m\u001b[0;34m[\u001b[0m\u001b[0mi\u001b[0m\u001b[0;34m]\u001b[0m \u001b[0;34m=\u001b[0m \u001b[0mins_batch\u001b[0m\u001b[0;34m[\u001b[0m\u001b[0mi\u001b[0m\u001b[0;34m]\u001b[0m\u001b[0;34m.\u001b[0m\u001b[0mtoarray\u001b[0m\u001b[0;34m(\u001b[0m\u001b[0;34m)\u001b[0m\u001b[0;34m\u001b[0m\u001b[0;34m\u001b[0m\u001b[0m\n\u001b[1;32m    213\u001b[0m \u001b[0;34m\u001b[0m\u001b[0m\n\u001b[0;32m--> 214\u001b[0;31m         \u001b[0mouts\u001b[0m \u001b[0;34m=\u001b[0m \u001b[0mf\u001b[0m\u001b[0;34m(\u001b[0m\u001b[0mins_batch\u001b[0m\u001b[0;34m)\u001b[0m\u001b[0;34m\u001b[0m\u001b[0;34m\u001b[0m\u001b[0m\n\u001b[0m\u001b[1;32m    215\u001b[0m         \u001b[0;32mif\u001b[0m \u001b[0;32mnot\u001b[0m \u001b[0misinstance\u001b[0m\u001b[0;34m(\u001b[0m\u001b[0mouts\u001b[0m\u001b[0;34m,\u001b[0m \u001b[0mlist\u001b[0m\u001b[0;34m)\u001b[0m\u001b[0;34m:\u001b[0m\u001b[0;34m\u001b[0m\u001b[0;34m\u001b[0m\u001b[0m\n\u001b[1;32m    216\u001b[0m           \u001b[0mouts\u001b[0m \u001b[0;34m=\u001b[0m \u001b[0;34m[\u001b[0m\u001b[0mouts\u001b[0m\u001b[0;34m]\u001b[0m\u001b[0;34m\u001b[0m\u001b[0;34m\u001b[0m\u001b[0m\n",
      "\u001b[0;32m~/anaconda3/envs/tensorflow/lib/python3.6/site-packages/tensorflow/python/keras/backend.py\u001b[0m in \u001b[0;36m__call__\u001b[0;34m(self, inputs)\u001b[0m\n\u001b[1;32m   2976\u001b[0m \u001b[0;34m\u001b[0m\u001b[0m\n\u001b[1;32m   2977\u001b[0m     fetched = self._callable_fn(*array_vals,\n\u001b[0;32m-> 2978\u001b[0;31m                                 run_metadata=self.run_metadata)\n\u001b[0m\u001b[1;32m   2979\u001b[0m     \u001b[0mself\u001b[0m\u001b[0;34m.\u001b[0m\u001b[0m_call_fetch_callbacks\u001b[0m\u001b[0;34m(\u001b[0m\u001b[0mfetched\u001b[0m\u001b[0;34m[\u001b[0m\u001b[0;34m-\u001b[0m\u001b[0mlen\u001b[0m\u001b[0;34m(\u001b[0m\u001b[0mself\u001b[0m\u001b[0;34m.\u001b[0m\u001b[0m_fetches\u001b[0m\u001b[0;34m)\u001b[0m\u001b[0;34m:\u001b[0m\u001b[0;34m]\u001b[0m\u001b[0;34m)\u001b[0m\u001b[0;34m\u001b[0m\u001b[0;34m\u001b[0m\u001b[0m\n\u001b[1;32m   2980\u001b[0m     \u001b[0;32mreturn\u001b[0m \u001b[0mfetched\u001b[0m\u001b[0;34m[\u001b[0m\u001b[0;34m:\u001b[0m\u001b[0mlen\u001b[0m\u001b[0;34m(\u001b[0m\u001b[0mself\u001b[0m\u001b[0;34m.\u001b[0m\u001b[0moutputs\u001b[0m\u001b[0;34m)\u001b[0m\u001b[0;34m]\u001b[0m\u001b[0;34m\u001b[0m\u001b[0;34m\u001b[0m\u001b[0m\n",
      "\u001b[0;32m~/anaconda3/envs/tensorflow/lib/python3.6/site-packages/tensorflow/python/client/session.py\u001b[0m in \u001b[0;36m__call__\u001b[0;34m(self, *args, **kwargs)\u001b[0m\n\u001b[1;32m   1397\u001b[0m           ret = tf_session.TF_SessionRunCallable(\n\u001b[1;32m   1398\u001b[0m               \u001b[0mself\u001b[0m\u001b[0;34m.\u001b[0m\u001b[0m_session\u001b[0m\u001b[0;34m.\u001b[0m\u001b[0m_session\u001b[0m\u001b[0;34m,\u001b[0m \u001b[0mself\u001b[0m\u001b[0;34m.\u001b[0m\u001b[0m_handle\u001b[0m\u001b[0;34m,\u001b[0m \u001b[0margs\u001b[0m\u001b[0;34m,\u001b[0m \u001b[0mstatus\u001b[0m\u001b[0;34m,\u001b[0m\u001b[0;34m\u001b[0m\u001b[0;34m\u001b[0m\u001b[0m\n\u001b[0;32m-> 1399\u001b[0;31m               run_metadata_ptr)\n\u001b[0m\u001b[1;32m   1400\u001b[0m         \u001b[0;32mif\u001b[0m \u001b[0mrun_metadata\u001b[0m\u001b[0;34m:\u001b[0m\u001b[0;34m\u001b[0m\u001b[0;34m\u001b[0m\u001b[0m\n\u001b[1;32m   1401\u001b[0m           \u001b[0mproto_data\u001b[0m \u001b[0;34m=\u001b[0m \u001b[0mtf_session\u001b[0m\u001b[0;34m.\u001b[0m\u001b[0mTF_GetBuffer\u001b[0m\u001b[0;34m(\u001b[0m\u001b[0mrun_metadata_ptr\u001b[0m\u001b[0;34m)\u001b[0m\u001b[0;34m\u001b[0m\u001b[0;34m\u001b[0m\u001b[0m\n",
      "\u001b[0;31mKeyboardInterrupt\u001b[0m: "
     ]
    }
   ],
   "source": [
    "cnn_input=tf.keras.layers.Input( shape=bb.X_train.shape[1:] ) # Shape here does not including the batch size \n",
    "cnn_layer1=tf.keras.layers.Convolution2D(64, (4,4),strides=2,padding='same')(cnn_input) \n",
    "cnn_activation=tf.keras.layers.LeakyReLU()(cnn_layer1) \n",
    "\n",
    "cnn_layer2=tf.keras.layers.Convolution2D(64, (4,4),strides=2,padding='same')(cnn_activation) \n",
    "cnn_activation=tf.keras.layers.LeakyReLU()(cnn_layer2) \n",
    "\n",
    "#cnn_layer3=tf.keras.layers.Convolution2D(64, (4,4),strides=2,padding='same')(cnn_activation) \n",
    "#cnn_activation=tf.keras.layers.LeakyReLU()(cnn_layer3) \n",
    "\n",
    "flat=tf.keras.layers.Flatten()(cnn_activation) \n",
    "flat=tf.keras.layers.Dropout(0.5)(flat)\n",
    "\n",
    "cat_output_layer=tf.keras.layers.Dense(4)(flat) \n",
    "cat_output=tf.keras.layers.Activation('softmax')(cat_output_layer)\n",
    "\n",
    "bbox_output=tf.keras.layers.Dense(50)(flat) \n",
    "bbox_output=tf.keras.layers.LeakyReLU()(bbox_output)\n",
    "bbox_output=tf.keras.layers.Dense(50)(bbox_output) \n",
    "bbox_output=tf.keras.layers.LeakyReLU()(bbox_output)\n",
    "\n",
    "bbox_output=tf.keras.layers.Dense(4)(bbox_output) \n",
    "\n",
    "model=tf.keras.models.Model(cnn_input,[cat_output,bbox_output])\n",
    "\n",
    "model.compile(loss=['categorical_crossentropy','mae'],\n",
    "              optimizer='adam',\n",
    "              metrics=[])\n",
    "model.summary()\n",
    "\n",
    "history=model.fit(bb.X_train, Y_train, \n",
    "          batch_size=32, epochs=25, verbose=1,\n",
    "         validation_data=(bb.X_develop,Y_develop)\n",
    "         )\n",
    "\n"
   ]
  },
  {
   "cell_type": "code",
   "execution_count": 6,
   "metadata": {
    "scrolled": false
   },
   "outputs": [
    {
     "data": {
      "image/png": "[encoded data removed]",
      "text/plain": [
       "<Figure size 432x288 with 1 Axes>"
      ]
     },
     "metadata": {
      "needs_background": "light"
     },
     "output_type": "display_data"
    },
    {
     "data": {
      "image/png": "[encoded data removed]",
      "text/plain": [
       "<Figure size 432x288 with 1 Axes>"
      ]
     },
     "metadata": {
      "needs_background": "light"
     },
     "output_type": "display_data"
    },
    {
     "data": {
      "image/png": "[encoded data removed]",
      "text/plain": [
       "<Figure size 432x288 with 1 Axes>"
      ]
     },
     "metadata": {
      "needs_background": "light"
     },
     "output_type": "display_data"
    },
    {
     "data": {
      "image/png": "[encoded data removed]",
      "text/plain": [
       "<Figure size 432x288 with 1 Axes>"
      ]
     },
     "metadata": {
      "needs_background": "light"
     },
     "output_type": "display_data"
    },
    {
     "data": {
      "image/png": "[encoded data removed]",
      "text/plain": [
       "<Figure size 432x288 with 1 Axes>"
      ]
     },
     "metadata": {
      "needs_background": "light"
     },
     "output_type": "display_data"
    },
    {
     "data": {
      "image/png": "[encoded data removed]",
      "text/plain": [
       "<Figure size 432x288 with 1 Axes>"
      ]
     },
     "metadata": {
      "needs_background": "light"
     },
     "output_type": "display_data"
    },
    {
     "data": {
      "image/png": "[encoded data removed]",
      "text/plain": [
       "<Figure size 432x288 with 1 Axes>"
      ]
     },
     "metadata": {
      "needs_background": "light"
     },
     "output_type": "display_data"
    },
    {
     "data": {
      "image/png": "[encoded data removed]",
      "text/plain": [
       "<Figure size 432x288 with 1 Axes>"
      ]
     },
     "metadata": {
      "needs_background": "light"
     },
     "output_type": "display_data"
    },
    {
     "data": {
      "image/png": "[encoded data removed]",
      "text/plain": [
       "<Figure size 432x288 with 1 Axes>"
      ]
     },
     "metadata": {
      "needs_background": "light"
     },
     "output_type": "display_data"
    },
    {
     "data": {
      "image/png": "[encoded data removed]",
      "text/plain": [
       "<Figure size 432x288 with 1 Axes>"
      ]
     },
     "metadata": {
      "needs_background": "light"
     },
     "output_type": "display_data"
    }
   ],
   "source": [
    "\n",
    "\n",
    "predictions=model.predict(bb.X_develop)\n",
    "\n",
    "for i in range(10):    \n",
    "    cat=np.argmax(predictions[0][i])\n",
    "    bbox=[ [cat,[(predictions[1][i,0],predictions[1][i,1]),predictions[1][i,2],predictions[1][i,3]]]]\n",
    "    plot_point(np.squeeze(bb.X_develop)[i],bbox)\n",
    "\n",
    "\n",
    "\n"
   ]
  },
  {
   "cell_type": "markdown",
   "metadata": {},
   "source": [
    "## Identifying more than one thing at a time\n",
    "np.isnan(array).any()\n",
    "\n"
   ]
  },
  {
   "cell_type": "code",
   "execution_count": 7,
   "metadata": {},
   "outputs": [
    {
     "name": "stderr",
     "output_type": "stream",
     "text": [
      "/home/jsearcy/anaconda3/envs/tensorflow/lib/python3.6/site-packages/skimage/transform/_warps.py:105: UserWarning: The default mode, 'constant', will be changed to 'reflect' in skimage 0.15.\n",
      "  warn(\"The default mode, 'constant', will be changed to 'reflect' in \"\n"
     ]
    }
   ],
   "source": [
    "bb_multi=BBToyData(multi_object= True)\n",
    "n_detectors=16\n",
    "\n"
   ]
  },
  {
   "cell_type": "code",
   "execution_count": 8,
   "metadata": {},
   "outputs": [],
   "source": [
    "\n",
    "\n",
    "def get_labels(input_labels,n_detectors):\n",
    "    Y_train=[[] for i in range(2*n_detectors)]\n",
    "\n",
    "    for image_labels in input_labels:\n",
    "        detected=[]\n",
    "        for i,(cat,bbox) in enumerate(image_labels):\n",
    "            bbox_center_x=(bbox[0][0]+bbox[1]/2.)//0.25\n",
    "            bbox_center_y=(bbox[0][1]+bbox[2]/2.)//0.25\n",
    "            detector_i=int(bbox_center_y*4+bbox_center_x)\n",
    "            detected.append([detector_i,cat,bbox])\n",
    "        for n in range(n_detectors):\n",
    "            Y_train[2*n].append(3)\n",
    "            b_x=0.25*(n%4)\n",
    "            b_y=0.25*(n//4)\n",
    "            Y_train[2*n+1].append(np.array([[b_x,b_y,.25,.25]]))\n",
    "        for detector_i,cat,bbox in detected:\n",
    "            Y_train[2*detector_i][-1]=cat\n",
    "            Y_train[2*detector_i+1][-1]=[[bbox[0][0],bbox[0][1],bbox[1],bbox[2]]]\n",
    "            \n",
    "            \n",
    "            \n",
    "    for i in range(len(Y_train)):\n",
    "        if i%2==0:\n",
    "            Y_train[i]=tf.keras.utils.to_categorical(Y_train[i],4)\n",
    "        else:\n",
    "            Y_train[i]=np.concatenate(Y_train[i])\n",
    "    return Y_train\n",
    "Y_train=get_labels(bb_multi.Y_train,n_detectors=n_detectors)\n",
    "Y_develop=get_labels(bb_multi.Y_develop,n_detectors=n_detectors)\n",
    "Y_test=get_labels(bb_multi.Y_test,n_detectors=n_detectors)\n",
    "\n",
    "\n",
    "\n"
   ]
  },
  {
   "cell_type": "code",
   "execution_count": 9,
   "metadata": {},
   "outputs": [
    {
     "name": "stdout",
     "output_type": "stream",
     "text": [
      "[(9029, 4), (9029, 4), (9029, 4), (9029, 4), (9029, 4), (9029, 4), (9029, 4), (9029, 4), (9029, 4), (9029, 4), (9029, 4), (9029, 4), (9029, 4), (9029, 4), (9029, 4), (9029, 4), (9029, 4), (9029, 4), (9029, 4), (9029, 4), (9029, 4), (9029, 4), (9029, 4), (9029, 4), (9029, 4), (9029, 4), (9029, 4), (9029, 4), (9029, 4), (9029, 4), (9029, 4), (9029, 4)]\n"
     ]
    }
   ],
   "source": [
    "print([q.shape for q in Y_train])"
   ]
  },
  {
   "cell_type": "code",
   "execution_count": 10,
   "metadata": {},
   "outputs": [
    {
     "data": {
      "text/plain": [
       "<matplotlib.image.AxesImage at 0x7f3f540e2048>"
      ]
     },
     "execution_count": 10,
     "metadata": {},
     "output_type": "execute_result"
    },
    {
     "data": {
      "image/png": "[encoded data removed]",
      "text/plain": [
       "<Figure size 432x288 with 1 Axes>"
      ]
     },
     "metadata": {
      "needs_background": "light"
     },
     "output_type": "display_data"
    }
   ],
   "source": [
    "\n",
    "plt.imshow(np.squeeze(bb_multi.X_train[10]))"
   ]
  },
  {
   "cell_type": "code",
   "execution_count": 11,
   "metadata": {},
   "outputs": [
    {
     "name": "stdout",
     "output_type": "stream",
     "text": [
      "16\n",
      "16\n",
      "0\n",
      "1\n",
      "2\n",
      "3\n",
      "4\n",
      "5\n",
      "6\n",
      "7\n",
      "8\n",
      "9\n",
      "10\n",
      "11\n",
      "12\n",
      "13\n",
      "14\n",
      "15\n",
      "__________________________________________________________________________________________________\n",
      "Layer (type)                    Output Shape         Param #     Connected to                     \n",
      "==================================================================================================\n",
      "input_2 (InputLayer)            (None, 100, 100, 1)  0                                            \n",
      "__________________________________________________________________________________________________\n",
      "conv2d_2 (Conv2D)               (None, 50, 50, 64)   1088        input_2[0][0]                    \n",
      "__________________________________________________________________________________________________\n",
      "leaky_re_lu_4 (LeakyReLU)       (None, 50, 50, 64)   0           conv2d_2[0][0]                   \n",
      "__________________________________________________________________________________________________\n",
      "conv2d_3 (Conv2D)               (None, 25, 25, 64)   65600       leaky_re_lu_4[0][0]              \n",
      "__________________________________________________________________________________________________\n",
      "leaky_re_lu_5 (LeakyReLU)       (None, 25, 25, 64)   0           conv2d_3[0][0]                   \n",
      "__________________________________________________________________________________________________\n",
      "conv2d_4 (Conv2D)               (None, 13, 13, 64)   65600       leaky_re_lu_5[0][0]              \n",
      "__________________________________________________________________________________________________\n",
      "leaky_re_lu_6 (LeakyReLU)       (None, 13, 13, 64)   0           conv2d_4[0][0]                   \n",
      "__________________________________________________________________________________________________\n",
      "flatten_1 (Flatten)             (None, 10816)        0           leaky_re_lu_6[0][0]              \n",
      "__________________________________________________________________________________________________\n",
      "dropout_1 (Dropout)             (None, 10816)        0           flatten_1[0][0]                  \n",
      "__________________________________________________________________________________________________\n",
      "dense_5 (Dense)                 (None, 50)           540850      dropout_1[0][0]                  \n",
      "__________________________________________________________________________________________________\n",
      "dense_9 (Dense)                 (None, 50)           540850      dropout_1[0][0]                  \n",
      "__________________________________________________________________________________________________\n",
      "dense_13 (Dense)                (None, 50)           540850      dropout_1[0][0]                  \n",
      "__________________________________________________________________________________________________\n",
      "dense_17 (Dense)                (None, 50)           540850      dropout_1[0][0]                  \n",
      "__________________________________________________________________________________________________\n",
      "dense_21 (Dense)                (None, 50)           540850      dropout_1[0][0]                  \n",
      "__________________________________________________________________________________________________\n",
      "dense_25 (Dense)                (None, 50)           540850      dropout_1[0][0]                  \n",
      "__________________________________________________________________________________________________\n",
      "dense_29 (Dense)                (None, 50)           540850      dropout_1[0][0]                  \n",
      "__________________________________________________________________________________________________\n",
      "dense_33 (Dense)                (None, 50)           540850      dropout_1[0][0]                  \n",
      "__________________________________________________________________________________________________\n",
      "dense_37 (Dense)                (None, 50)           540850      dropout_1[0][0]                  \n",
      "__________________________________________________________________________________________________\n",
      "dense_41 (Dense)                (None, 50)           540850      dropout_1[0][0]                  \n",
      "__________________________________________________________________________________________________\n",
      "dense_45 (Dense)                (None, 50)           540850      dropout_1[0][0]                  \n",
      "__________________________________________________________________________________________________\n",
      "dense_49 (Dense)                (None, 50)           540850      dropout_1[0][0]                  \n",
      "__________________________________________________________________________________________________\n",
      "dense_53 (Dense)                (None, 50)           540850      dropout_1[0][0]                  \n",
      "__________________________________________________________________________________________________\n",
      "dense_57 (Dense)                (None, 50)           540850      dropout_1[0][0]                  \n",
      "__________________________________________________________________________________________________\n",
      "dense_61 (Dense)                (None, 50)           540850      dropout_1[0][0]                  \n",
      "__________________________________________________________________________________________________\n",
      "dense_65 (Dense)                (None, 50)           540850      dropout_1[0][0]                  \n",
      "__________________________________________________________________________________________________\n",
      "leaky_re_lu_7 (LeakyReLU)       (None, 50)           0           dense_5[0][0]                    \n",
      "__________________________________________________________________________________________________\n",
      "leaky_re_lu_9 (LeakyReLU)       (None, 50)           0           dense_9[0][0]                    \n",
      "__________________________________________________________________________________________________\n",
      "leaky_re_lu_11 (LeakyReLU)      (None, 50)           0           dense_13[0][0]                   \n",
      "__________________________________________________________________________________________________\n",
      "leaky_re_lu_13 (LeakyReLU)      (None, 50)           0           dense_17[0][0]                   \n",
      "__________________________________________________________________________________________________\n",
      "leaky_re_lu_15 (LeakyReLU)      (None, 50)           0           dense_21[0][0]                   \n",
      "__________________________________________________________________________________________________\n",
      "leaky_re_lu_17 (LeakyReLU)      (None, 50)           0           dense_25[0][0]                   \n",
      "__________________________________________________________________________________________________\n",
      "leaky_re_lu_19 (LeakyReLU)      (None, 50)           0           dense_29[0][0]                   \n",
      "__________________________________________________________________________________________________\n",
      "leaky_re_lu_21 (LeakyReLU)      (None, 50)           0           dense_33[0][0]                   \n",
      "__________________________________________________________________________________________________\n",
      "leaky_re_lu_23 (LeakyReLU)      (None, 50)           0           dense_37[0][0]                   \n",
      "__________________________________________________________________________________________________\n",
      "leaky_re_lu_25 (LeakyReLU)      (None, 50)           0           dense_41[0][0]                   \n",
      "__________________________________________________________________________________________________\n",
      "leaky_re_lu_27 (LeakyReLU)      (None, 50)           0           dense_45[0][0]                   \n",
      "__________________________________________________________________________________________________\n",
      "leaky_re_lu_29 (LeakyReLU)      (None, 50)           0           dense_49[0][0]                   \n",
      "__________________________________________________________________________________________________\n",
      "leaky_re_lu_31 (LeakyReLU)      (None, 50)           0           dense_53[0][0]                   \n",
      "__________________________________________________________________________________________________\n",
      "leaky_re_lu_33 (LeakyReLU)      (None, 50)           0           dense_57[0][0]                   \n",
      "__________________________________________________________________________________________________\n",
      "leaky_re_lu_35 (LeakyReLU)      (None, 50)           0           dense_61[0][0]                   \n",
      "__________________________________________________________________________________________________\n",
      "leaky_re_lu_37 (LeakyReLU)      (None, 50)           0           dense_65[0][0]                   \n",
      "__________________________________________________________________________________________________\n",
      "dense_6 (Dense)                 (None, 50)           2550        leaky_re_lu_7[0][0]              \n",
      "__________________________________________________________________________________________________\n",
      "dense_10 (Dense)                (None, 50)           2550        leaky_re_lu_9[0][0]              \n",
      "__________________________________________________________________________________________________\n",
      "dense_14 (Dense)                (None, 50)           2550        leaky_re_lu_11[0][0]             \n",
      "__________________________________________________________________________________________________\n",
      "dense_18 (Dense)                (None, 50)           2550        leaky_re_lu_13[0][0]             \n",
      "__________________________________________________________________________________________________\n",
      "dense_22 (Dense)                (None, 50)           2550        leaky_re_lu_15[0][0]             \n",
      "__________________________________________________________________________________________________\n",
      "dense_26 (Dense)                (None, 50)           2550        leaky_re_lu_17[0][0]             \n",
      "__________________________________________________________________________________________________\n",
      "dense_30 (Dense)                (None, 50)           2550        leaky_re_lu_19[0][0]             \n",
      "__________________________________________________________________________________________________\n",
      "dense_34 (Dense)                (None, 50)           2550        leaky_re_lu_21[0][0]             \n",
      "__________________________________________________________________________________________________\n",
      "dense_38 (Dense)                (None, 50)           2550        leaky_re_lu_23[0][0]             \n",
      "__________________________________________________________________________________________________\n",
      "dense_42 (Dense)                (None, 50)           2550        leaky_re_lu_25[0][0]             \n",
      "__________________________________________________________________________________________________\n",
      "dense_46 (Dense)                (None, 50)           2550        leaky_re_lu_27[0][0]             \n",
      "__________________________________________________________________________________________________\n",
      "dense_50 (Dense)                (None, 50)           2550        leaky_re_lu_29[0][0]             \n",
      "__________________________________________________________________________________________________\n",
      "dense_54 (Dense)                (None, 50)           2550        leaky_re_lu_31[0][0]             \n",
      "__________________________________________________________________________________________________\n",
      "dense_58 (Dense)                (None, 50)           2550        leaky_re_lu_33[0][0]             \n",
      "__________________________________________________________________________________________________\n",
      "dense_62 (Dense)                (None, 50)           2550        leaky_re_lu_35[0][0]             \n",
      "__________________________________________________________________________________________________\n",
      "dense_66 (Dense)                (None, 50)           2550        leaky_re_lu_37[0][0]             \n",
      "__________________________________________________________________________________________________\n",
      "leaky_re_lu_8 (LeakyReLU)       (None, 50)           0           dense_6[0][0]                    \n",
      "__________________________________________________________________________________________________\n",
      "leaky_re_lu_10 (LeakyReLU)      (None, 50)           0           dense_10[0][0]                   \n",
      "__________________________________________________________________________________________________\n",
      "leaky_re_lu_12 (LeakyReLU)      (None, 50)           0           dense_14[0][0]                   \n",
      "__________________________________________________________________________________________________\n",
      "leaky_re_lu_14 (LeakyReLU)      (None, 50)           0           dense_18[0][0]                   \n",
      "__________________________________________________________________________________________________\n",
      "leaky_re_lu_16 (LeakyReLU)      (None, 50)           0           dense_22[0][0]                   \n",
      "__________________________________________________________________________________________________\n",
      "leaky_re_lu_18 (LeakyReLU)      (None, 50)           0           dense_26[0][0]                   \n",
      "__________________________________________________________________________________________________\n",
      "leaky_re_lu_20 (LeakyReLU)      (None, 50)           0           dense_30[0][0]                   \n",
      "__________________________________________________________________________________________________\n",
      "leaky_re_lu_22 (LeakyReLU)      (None, 50)           0           dense_34[0][0]                   \n",
      "__________________________________________________________________________________________________\n",
      "leaky_re_lu_24 (LeakyReLU)      (None, 50)           0           dense_38[0][0]                   \n",
      "__________________________________________________________________________________________________\n",
      "leaky_re_lu_26 (LeakyReLU)      (None, 50)           0           dense_42[0][0]                   \n",
      "__________________________________________________________________________________________________\n",
      "leaky_re_lu_28 (LeakyReLU)      (None, 50)           0           dense_46[0][0]                   \n",
      "__________________________________________________________________________________________________\n",
      "leaky_re_lu_30 (LeakyReLU)      (None, 50)           0           dense_50[0][0]                   \n",
      "__________________________________________________________________________________________________\n",
      "leaky_re_lu_32 (LeakyReLU)      (None, 50)           0           dense_54[0][0]                   \n",
      "__________________________________________________________________________________________________\n",
      "leaky_re_lu_34 (LeakyReLU)      (None, 50)           0           dense_58[0][0]                   \n",
      "__________________________________________________________________________________________________\n",
      "leaky_re_lu_36 (LeakyReLU)      (None, 50)           0           dense_62[0][0]                   \n",
      "__________________________________________________________________________________________________\n",
      "leaky_re_lu_38 (LeakyReLU)      (None, 50)           0           dense_66[0][0]                   \n",
      "__________________________________________________________________________________________________\n",
      "dense_4 (Dense)                 (None, 4)            43268       dropout_1[0][0]                  \n",
      "__________________________________________________________________________________________________\n",
      "dropout_2 (Dropout)             (None, 50)           0           leaky_re_lu_8[0][0]              \n",
      "__________________________________________________________________________________________________\n",
      "dense_8 (Dense)                 (None, 4)            43268       dropout_1[0][0]                  \n",
      "__________________________________________________________________________________________________\n",
      "dropout_3 (Dropout)             (None, 50)           0           leaky_re_lu_10[0][0]             \n",
      "__________________________________________________________________________________________________\n",
      "dense_12 (Dense)                (None, 4)            43268       dropout_1[0][0]                  \n",
      "__________________________________________________________________________________________________\n",
      "dropout_4 (Dropout)             (None, 50)           0           leaky_re_lu_12[0][0]             \n",
      "__________________________________________________________________________________________________\n",
      "dense_16 (Dense)                (None, 4)            43268       dropout_1[0][0]                  \n",
      "__________________________________________________________________________________________________\n",
      "dropout_5 (Dropout)             (None, 50)           0           leaky_re_lu_14[0][0]             \n",
      "__________________________________________________________________________________________________\n",
      "dense_20 (Dense)                (None, 4)            43268       dropout_1[0][0]                  \n",
      "__________________________________________________________________________________________________\n",
      "dropout_6 (Dropout)             (None, 50)           0           leaky_re_lu_16[0][0]             \n",
      "__________________________________________________________________________________________________\n",
      "dense_24 (Dense)                (None, 4)            43268       dropout_1[0][0]                  \n",
      "__________________________________________________________________________________________________\n",
      "dropout_7 (Dropout)             (None, 50)           0           leaky_re_lu_18[0][0]             \n",
      "__________________________________________________________________________________________________\n",
      "dense_28 (Dense)                (None, 4)            43268       dropout_1[0][0]                  \n",
      "__________________________________________________________________________________________________\n",
      "dropout_8 (Dropout)             (None, 50)           0           leaky_re_lu_20[0][0]             \n",
      "__________________________________________________________________________________________________\n",
      "dense_32 (Dense)                (None, 4)            43268       dropout_1[0][0]                  \n",
      "__________________________________________________________________________________________________\n",
      "dropout_9 (Dropout)             (None, 50)           0           leaky_re_lu_22[0][0]             \n",
      "__________________________________________________________________________________________________\n",
      "dense_36 (Dense)                (None, 4)            43268       dropout_1[0][0]                  \n",
      "__________________________________________________________________________________________________\n",
      "dropout_10 (Dropout)            (None, 50)           0           leaky_re_lu_24[0][0]             \n",
      "__________________________________________________________________________________________________\n",
      "dense_40 (Dense)                (None, 4)            43268       dropout_1[0][0]                  \n",
      "__________________________________________________________________________________________________\n",
      "dropout_11 (Dropout)            (None, 50)           0           leaky_re_lu_26[0][0]             \n",
      "__________________________________________________________________________________________________\n",
      "dense_44 (Dense)                (None, 4)            43268       dropout_1[0][0]                  \n",
      "__________________________________________________________________________________________________\n",
      "dropout_12 (Dropout)            (None, 50)           0           leaky_re_lu_28[0][0]             \n",
      "__________________________________________________________________________________________________\n",
      "dense_48 (Dense)                (None, 4)            43268       dropout_1[0][0]                  \n",
      "__________________________________________________________________________________________________\n",
      "dropout_13 (Dropout)            (None, 50)           0           leaky_re_lu_30[0][0]             \n",
      "__________________________________________________________________________________________________\n",
      "dense_52 (Dense)                (None, 4)            43268       dropout_1[0][0]                  \n",
      "__________________________________________________________________________________________________\n",
      "dropout_14 (Dropout)            (None, 50)           0           leaky_re_lu_32[0][0]             \n",
      "__________________________________________________________________________________________________\n",
      "dense_56 (Dense)                (None, 4)            43268       dropout_1[0][0]                  \n",
      "__________________________________________________________________________________________________\n",
      "dropout_15 (Dropout)            (None, 50)           0           leaky_re_lu_34[0][0]             \n",
      "__________________________________________________________________________________________________\n",
      "dense_60 (Dense)                (None, 4)            43268       dropout_1[0][0]                  \n",
      "__________________________________________________________________________________________________\n",
      "dropout_16 (Dropout)            (None, 50)           0           leaky_re_lu_36[0][0]             \n",
      "__________________________________________________________________________________________________\n",
      "dense_64 (Dense)                (None, 4)            43268       dropout_1[0][0]                  \n",
      "__________________________________________________________________________________________________\n",
      "dropout_17 (Dropout)            (None, 50)           0           leaky_re_lu_38[0][0]             \n",
      "__________________________________________________________________________________________________\n",
      "activation_1 (Activation)       (None, 4)            0           dense_4[0][0]                    \n",
      "__________________________________________________________________________________________________\n",
      "dense_7 (Dense)                 (None, 4)            204         dropout_2[0][0]                  \n",
      "__________________________________________________________________________________________________\n",
      "activation_2 (Activation)       (None, 4)            0           dense_8[0][0]                    \n",
      "__________________________________________________________________________________________________\n",
      "dense_11 (Dense)                (None, 4)            204         dropout_3[0][0]                  \n",
      "__________________________________________________________________________________________________\n",
      "activation_3 (Activation)       (None, 4)            0           dense_12[0][0]                   \n",
      "__________________________________________________________________________________________________\n",
      "dense_15 (Dense)                (None, 4)            204         dropout_4[0][0]                  \n",
      "__________________________________________________________________________________________________\n",
      "activation_4 (Activation)       (None, 4)            0           dense_16[0][0]                   \n",
      "__________________________________________________________________________________________________\n",
      "dense_19 (Dense)                (None, 4)            204         dropout_5[0][0]                  \n",
      "__________________________________________________________________________________________________\n",
      "activation_5 (Activation)       (None, 4)            0           dense_20[0][0]                   \n",
      "__________________________________________________________________________________________________\n",
      "dense_23 (Dense)                (None, 4)            204         dropout_6[0][0]                  \n",
      "__________________________________________________________________________________________________\n",
      "activation_6 (Activation)       (None, 4)            0           dense_24[0][0]                   \n",
      "__________________________________________________________________________________________________\n",
      "dense_27 (Dense)                (None, 4)            204         dropout_7[0][0]                  \n",
      "__________________________________________________________________________________________________\n",
      "activation_7 (Activation)       (None, 4)            0           dense_28[0][0]                   \n",
      "__________________________________________________________________________________________________\n",
      "dense_31 (Dense)                (None, 4)            204         dropout_8[0][0]                  \n",
      "__________________________________________________________________________________________________\n",
      "activation_8 (Activation)       (None, 4)            0           dense_32[0][0]                   \n",
      "__________________________________________________________________________________________________\n",
      "dense_35 (Dense)                (None, 4)            204         dropout_9[0][0]                  \n",
      "__________________________________________________________________________________________________\n",
      "activation_9 (Activation)       (None, 4)            0           dense_36[0][0]                   \n",
      "__________________________________________________________________________________________________\n",
      "dense_39 (Dense)                (None, 4)            204         dropout_10[0][0]                 \n",
      "__________________________________________________________________________________________________\n",
      "activation_10 (Activation)      (None, 4)            0           dense_40[0][0]                   \n",
      "__________________________________________________________________________________________________\n",
      "dense_43 (Dense)                (None, 4)            204         dropout_11[0][0]                 \n",
      "__________________________________________________________________________________________________\n",
      "activation_11 (Activation)      (None, 4)            0           dense_44[0][0]                   \n",
      "__________________________________________________________________________________________________\n",
      "dense_47 (Dense)                (None, 4)            204         dropout_12[0][0]                 \n",
      "__________________________________________________________________________________________________\n",
      "activation_12 (Activation)      (None, 4)            0           dense_48[0][0]                   \n",
      "__________________________________________________________________________________________________\n",
      "dense_51 (Dense)                (None, 4)            204         dropout_13[0][0]                 \n",
      "__________________________________________________________________________________________________\n",
      "activation_13 (Activation)      (None, 4)            0           dense_52[0][0]                   \n",
      "__________________________________________________________________________________________________\n",
      "dense_55 (Dense)                (None, 4)            204         dropout_14[0][0]                 \n",
      "__________________________________________________________________________________________________\n",
      "activation_14 (Activation)      (None, 4)            0           dense_56[0][0]                   \n",
      "__________________________________________________________________________________________________\n",
      "dense_59 (Dense)                (None, 4)            204         dropout_15[0][0]                 \n",
      "__________________________________________________________________________________________________\n",
      "activation_15 (Activation)      (None, 4)            0           dense_60[0][0]                   \n",
      "__________________________________________________________________________________________________\n",
      "dense_63 (Dense)                (None, 4)            204         dropout_16[0][0]                 \n",
      "__________________________________________________________________________________________________\n",
      "activation_16 (Activation)      (None, 4)            0           dense_64[0][0]                   \n",
      "__________________________________________________________________________________________________\n",
      "dense_67 (Dense)                (None, 4)            204         dropout_17[0][0]                 \n",
      "==================================================================================================\n",
      "Total params: 9,522,240\n",
      "Trainable params: 9,522,240\n",
      "Non-trainable params: 0\n",
      "__________________________________________________________________________________________________\n"
     ]
    }
   ],
   "source": [
    "print(n_detectors)\n",
    "\n",
    "cnn_input=tf.keras.layers.Input( shape=bb_multi.X_train.shape[1:] ) # Shape here does not including the batch size \n",
    "cnn_layer1=tf.keras.layers.Convolution2D(64, (4,4),strides=2,padding='same')(cnn_input) \n",
    "cnn_activation=tf.keras.layers.LeakyReLU()(cnn_layer1) \n",
    "\n",
    "cnn_layer2=tf.keras.layers.Convolution2D(64, (4,4),strides=2,padding='same')(cnn_activation) \n",
    "cnn_activation=tf.keras.layers.LeakyReLU()(cnn_layer2) \n",
    "\n",
    "cnn_layer3=tf.keras.layers.Convolution2D(64, (4,4),strides=2,padding='same')(cnn_activation) \n",
    "cnn_activation=tf.keras.layers.LeakyReLU()(cnn_layer3) \n",
    "\n",
    "flat=tf.keras.layers.Flatten()(cnn_activation) \n",
    "flat=tf.keras.layers.Dropout(0.5)(flat)\n",
    "\n",
    "\n",
    "detectors=[]\n",
    "print(n_detectors)\n",
    "for i in range(n_detectors):\n",
    "    print(i)\n",
    "    cat_output_layer=tf.keras.layers.Dense(4)(flat) \n",
    "    cat_output=tf.keras.layers.Activation('softmax')(cat_output_layer)\n",
    "\n",
    "    \n",
    "    bbox_output=tf.keras.layers.Dense(50)(flat) \n",
    "    bbox_output=tf.keras.layers.LeakyReLU()(bbox_output)\n",
    "    bbox_output=tf.keras.layers.Dense(50)(bbox_output) \n",
    "    bbox_output=tf.keras.layers.LeakyReLU()(bbox_output)\n",
    "    bbox_output=tf.keras.layers.Dropout(0.4)(bbox_output)\n",
    "    bbox_output=tf.keras.layers.Dense(4)(bbox_output) \n",
    "    detectors.append(cat_output)\n",
    "    detectors.append(bbox_output)\n",
    "    \n",
    "    \n",
    "model=tf.keras.models.Model(cnn_input,detectors)\n",
    "\n",
    "model.compile(loss=['categorical_crossentropy','mae']*n_detectors,\n",
    "                  optimizer='adam',\n",
    "                  metrics=[])\n",
    "model.summary()\n",
    "\n",
    "\n"
   ]
  },
  {
   "cell_type": "code",
   "execution_count": null,
   "metadata": {},
   "outputs": [
    {
     "name": "stdout",
     "output_type": "stream",
     "text": [
      "Train on 9029 samples, validate on 8009 samples\n",
      "Epoch 1/50\n",
      "7232/9029 [=======================>......] - ETA: 7s - loss: 4.6572 - activation_1_loss: 0.1009 - dense_7_loss: 0.0518 - activation_2_loss: 0.1797 - dense_11_loss: 0.0639 - activation_3_loss: 0.1807 - dense_15_loss: 0.0820 - activation_4_loss: 0.0965 - dense_19_loss: 0.1070 - activation_5_loss: 0.1576 - dense_23_loss: 0.0702 - activation_6_loss: 0.3437 - dense_27_loss: 0.0777 - activation_7_loss: 0.3295 - dense_31_loss: 0.0973 - activation_8_loss: 0.1704 - dense_35_loss: 0.1071 - activation_9_loss: 0.1709 - dense_39_loss: 0.0860 - activation_10_loss: 0.3436 - dense_43_loss: 0.0953 - activation_11_loss: 0.3512 - dense_47_loss: 0.0967 - activation_12_loss: 0.1747 - dense_51_loss: 0.1249 - activation_13_loss: 0.0962 - dense_55_loss: 0.0998 - activation_14_loss: 0.1683 - dense_59_loss: 0.1130 - activation_15_loss: 0.1696 - dense_63_loss: 0.1138 - activation_16_loss: 0.0982 - dense_67_loss: 0.1388"
     ]
    }
   ],
   "source": [
    "history=model.fit(bb_multi.X_train, Y_train, \n",
    "        batch_size=32, epochs=50, verbose=1,\n",
    "        validation_data=(bb_multi.X_develop,Y_develop)\n",
    "                 )\n"
   ]
  },
  {
   "cell_type": "code",
   "execution_count": null,
   "metadata": {},
   "outputs": [],
   "source": [
    "detector_predictions=model.predict(bb_multi.X_train)\n",
    "\n",
    "\n"
   ]
  },
  {
   "cell_type": "code",
   "execution_count": null,
   "metadata": {},
   "outputs": [],
   "source": [
    "predictions=[]\n",
    "for pred in range(len(detector_predictions[0])):\n",
    "    labels=[]\n",
    "    for i in range(n_detectors):\n",
    "        cat=detector_predictions[2*i][pred]\n",
    "        if np.argmax(cat)!=3:\n",
    "            bbox= detector_predictions[2*i+1][pred]\n",
    "            bbox=[(bbox[0],bbox[1]),bbox[2],bbox[3]]\n",
    "            labels.append((np.argmax(cat),bbox))\n",
    "    predictions.append(labels)"
   ]
  },
  {
   "cell_type": "code",
   "execution_count": null,
   "metadata": {
    "scrolled": false
   },
   "outputs": [],
   "source": [
    "[plot_point(np.squeeze(bb_multi.X_train[i]),predictions[i],bb_multi.Y_train[i]) for i in range(30)]     "
   ]
  },
  {
   "cell_type": "markdown",
   "metadata": {},
   "source": [
    "## A Full Functional Algorigthms\n",
    "\n",
    "SSD\n"
   ]
  },
  {
   "cell_type": "code",
   "execution_count": null,
   "metadata": {},
   "outputs": [],
   "source": []
  },
  {
   "cell_type": "code",
   "execution_count": null,
   "metadata": {},
   "outputs": [],
   "source": []
  },
  {
   "cell_type": "code",
   "execution_count": null,
   "metadata": {},
   "outputs": [],
   "source": []
  },
  {
   "cell_type": "code",
   "execution_count": null,
   "metadata": {},
   "outputs": [],
   "source": []
  },
  {
   "cell_type": "code",
   "execution_count": null,
   "metadata": {},
   "outputs": [],
   "source": []
  },
  {
   "cell_type": "code",
   "execution_count": null,
   "metadata": {},
   "outputs": [],
   "source": []
  }
 ],
 "metadata": {
  "kernelspec": {
   "display_name": "Python 3 (Tensorflow)",
   "language": "python",
   "name": "tensorflow"
  },
  "language_info": {
   "codemirror_mode": {
    "name": "ipython",
    "version": 3
   },
   "file_extension": ".py",
   "mimetype": "text/x-python",
   "name": "python",
   "nbconvert_exporter": "python",
   "pygments_lexer": "ipython3",
   "version": "3.6.7"
  }
 },
 "nbformat": 4,
 "nbformat_minor": 2
}
