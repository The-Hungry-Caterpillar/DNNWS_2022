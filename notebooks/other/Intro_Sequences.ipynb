{
 "cells": [
  {
   "cell_type": "markdown",
   "metadata": {
    "slideshow": {
     "slide_type": "slide"
    }
   },
   "source": [
    "# Dense network summary\n",
    "\n",
    "* Dense networks take fixed length input and have a fixed length output\n",
    "* Like All Neural Network layers they require an activation function\n",
    "* They can be stacked to represent more complicated functions\n",
    "* You're taking your chances when predicting data that's very different from you're training data\n"
   ]
  },
  {
   "cell_type": "markdown",
   "metadata": {
    "slideshow": {
     "slide_type": "slide"
    }
   },
   "source": [
    "# Sequences\n",
    "A lot of data we have doesn't have a fixed dimension, for example text. To make our predictions we need another kind of layer called a recurrent layer. \n",
    "\n",
    "<img src=\"../assets/rnn.gif\">\n",
    "\n",
    "Recurrent layers step through each data point in a sequence, and output one number at the end (or another sequence)\n",
    "Examples:\n",
    "* RNN : First simplest recurrent layer\n",
    "* LSTM: Long Short Term Memory Networks\n",
    "* GRU: Gated Recurrent Unit\n",
    "\n",
    "All of the above are implemented differently with different strengths, but for now lets stick with an LSTM\n",
    "\n"
   ]
  },
  {
   "cell_type": "code",
   "execution_count": 13,
   "metadata": {
    "slideshow": {
     "slide_type": "slide"
    }
   },
   "outputs": [
    {
     "name": "stdout",
     "output_type": "stream",
     "text": [
      "[[19.]\n",
      " [20.]\n",
      " [21.]\n",
      " [22.]\n",
      " [23.]] 24.0\n",
      "(10000, 5, 1)\n"
     ]
    }
   ],
   "source": [
    "X=[]\n",
    "Y=[]\n",
    "for i in range(10000):\n",
    "    _dp=[]\n",
    "    _dp=np.random.randint(50)+np.linspace(0,4,5)\n",
    "    Y.append(_dp[-1]+1)\n",
    "    X.append(np.expand_dims(_dp,-1))\n",
    "X=np.array(X)\n",
    "Y=np.array(Y)\n",
    "print(X[0],Y[0])\n",
    "\n",
    "print(X.shape)\n",
    "\n",
    "\n"
   ]
  },
  {
   "cell_type": "code",
   "execution_count": 27,
   "metadata": {
    "slideshow": {
     "slide_type": "slide"
    }
   },
   "outputs": [
    {
     "name": "stdout",
     "output_type": "stream",
     "text": [
      "Tensor(\"input_7:0\", shape=(?, ?, 1), dtype=float32)\n",
      "_________________________________________________________________\n",
      "Layer (type)                 Output Shape              Param #   \n",
      "=================================================================\n",
      "input_7 (InputLayer)         (None, None, 1)           0         \n",
      "_________________________________________________________________\n",
      "lstm_3 (LSTM)                (None, 1)                 12        \n",
      "=================================================================\n",
      "Total params: 12\n",
      "Trainable params: 12\n",
      "Non-trainable params: 0\n",
      "_________________________________________________________________\n",
      "Train on 5000 samples, validate on 5000 samples\n",
      "Epoch 1/100\n",
      "5000/5000 [==============================] - 1s 258us/sample - loss: 523.2997 - val_loss: 313.9036\n",
      "Epoch 2/100\n",
      "5000/5000 [==============================] - 1s 102us/sample - loss: 197.6597 - val_loss: 115.7130\n",
      "Epoch 3/100\n",
      "5000/5000 [==============================] - 1s 102us/sample - loss: 72.1972 - val_loss: 40.6802\n",
      "Epoch 4/100\n",
      "5000/5000 [==============================] - 1s 101us/sample - loss: 25.9955 - val_loss: 15.4394\n",
      "Epoch 5/100\n",
      "5000/5000 [==============================] - 1s 101us/sample - loss: 10.9359 - val_loss: 7.4971\n",
      "Epoch 6/100\n",
      "5000/5000 [==============================] - 1s 103us/sample - loss: 6.0313 - val_loss: 4.7683\n",
      "Epoch 7/100\n",
      "5000/5000 [==============================] - 1s 103us/sample - loss: 4.1488 - val_loss: 3.5220\n",
      "Epoch 8/100\n",
      "5000/5000 [==============================] - 1s 101us/sample - loss: 3.1525 - val_loss: 2.7842\n",
      "Epoch 9/100\n",
      "5000/5000 [==============================] - 1s 102us/sample - loss: 2.5422 - val_loss: 2.2953\n",
      "Epoch 10/100\n",
      "5000/5000 [==============================] - 1s 101us/sample - loss: 2.1153 - val_loss: 1.9627\n",
      "Epoch 11/100\n",
      "5000/5000 [==============================] - 1s 102us/sample - loss: 1.8040 - val_loss: 1.6884\n",
      "Epoch 12/100\n",
      "5000/5000 [==============================] - 1s 102us/sample - loss: 1.5670 - val_loss: 1.4965\n",
      "Epoch 13/100\n",
      "5000/5000 [==============================] - 1s 104us/sample - loss: 1.3867 - val_loss: 1.3273\n",
      "Epoch 14/100\n",
      "5000/5000 [==============================] - 1s 101us/sample - loss: 1.2340 - val_loss: 1.1923\n",
      "Epoch 15/100\n",
      "5000/5000 [==============================] - 1s 102us/sample - loss: 1.1194 - val_loss: 1.0851\n",
      "Epoch 16/100\n",
      "5000/5000 [==============================] - 1s 102us/sample - loss: 1.0214 - val_loss: 0.9915\n",
      "Epoch 17/100\n",
      "5000/5000 [==============================] - 1s 103us/sample - loss: 0.9346 - val_loss: 0.9077\n",
      "Epoch 18/100\n",
      "5000/5000 [==============================] - 1s 102us/sample - loss: 0.8577 - val_loss: 0.7640\n",
      "Epoch 19/100\n",
      "5000/5000 [==============================] - 1s 111us/sample - loss: 0.3430 - val_loss: 0.2674\n",
      "Epoch 20/100\n",
      "5000/5000 [==============================] - 1s 103us/sample - loss: 0.2318 - val_loss: 0.2380\n",
      "Epoch 21/100\n",
      "5000/5000 [==============================] - 1s 109us/sample - loss: 0.2023 - val_loss: 0.2078\n",
      "Epoch 22/100\n",
      "5000/5000 [==============================] - 1s 103us/sample - loss: 0.1794 - val_loss: 0.1888\n",
      "Epoch 23/100\n",
      "5000/5000 [==============================] - 1s 104us/sample - loss: 0.1649 - val_loss: 0.1726\n",
      "Epoch 24/100\n",
      "5000/5000 [==============================] - 1s 102us/sample - loss: 0.1531 - val_loss: 0.1672\n",
      "Epoch 25/100\n",
      "5000/5000 [==============================] - 1s 111us/sample - loss: 0.1448 - val_loss: 0.1543\n",
      "Epoch 26/100\n",
      "5000/5000 [==============================] - 1s 102us/sample - loss: 0.1367 - val_loss: 0.1445\n",
      "Epoch 27/100\n",
      "5000/5000 [==============================] - 1s 104us/sample - loss: 0.1307 - val_loss: 0.1390\n",
      "Epoch 28/100\n",
      "5000/5000 [==============================] - 1s 102us/sample - loss: 0.1243 - val_loss: 0.1330\n",
      "Epoch 29/100\n",
      "5000/5000 [==============================] - 1s 104us/sample - loss: 0.1195 - val_loss: 0.1256\n",
      "Epoch 30/100\n",
      "5000/5000 [==============================] - 1s 107us/sample - loss: 0.1149 - val_loss: 0.1205\n",
      "Epoch 31/100\n",
      "5000/5000 [==============================] - 1s 103us/sample - loss: 0.1094 - val_loss: 0.1135\n",
      "Epoch 32/100\n",
      "5000/5000 [==============================] - 1s 101us/sample - loss: 0.1034 - val_loss: 0.1068\n",
      "Epoch 33/100\n",
      "5000/5000 [==============================] - 1s 102us/sample - loss: 0.0986 - val_loss: 0.1018\n",
      "Epoch 34/100\n",
      "5000/5000 [==============================] - 1s 103us/sample - loss: 0.0949 - val_loss: 0.0979\n",
      "Epoch 35/100\n",
      "5000/5000 [==============================] - 1s 104us/sample - loss: 0.0921 - val_loss: 0.0951\n",
      "Epoch 36/100\n",
      "5000/5000 [==============================] - 1s 103us/sample - loss: 0.0896 - val_loss: 0.0917\n",
      "Epoch 37/100\n",
      "5000/5000 [==============================] - 1s 101us/sample - loss: 0.0873 - val_loss: 0.0896\n",
      "Epoch 38/100\n",
      "5000/5000 [==============================] - 1s 103us/sample - loss: 0.0859 - val_loss: 0.0881\n",
      "Epoch 39/100\n",
      "5000/5000 [==============================] - 1s 103us/sample - loss: 0.0846 - val_loss: 0.0861\n",
      "Epoch 40/100\n",
      "5000/5000 [==============================] - 1s 107us/sample - loss: 0.0821 - val_loss: 0.0830\n",
      "Epoch 41/100\n",
      "5000/5000 [==============================] - 1s 104us/sample - loss: 0.0797 - val_loss: 0.0812\n",
      "Epoch 42/100\n",
      "5000/5000 [==============================] - 1s 102us/sample - loss: 0.0782 - val_loss: 0.0799\n",
      "Epoch 43/100\n",
      "5000/5000 [==============================] - 1s 102us/sample - loss: 0.0768 - val_loss: 0.0774\n",
      "Epoch 44/100\n",
      "5000/5000 [==============================] - 1s 102us/sample - loss: 0.0752 - val_loss: 0.0759\n",
      "Epoch 45/100\n",
      "5000/5000 [==============================] - 1s 102us/sample - loss: 0.0737 - val_loss: 0.0738\n",
      "Epoch 46/100\n",
      "5000/5000 [==============================] - 1s 103us/sample - loss: 0.0724 - val_loss: 0.0729\n",
      "Epoch 47/100\n",
      "5000/5000 [==============================] - 1s 100us/sample - loss: 0.0708 - val_loss: 0.0706\n",
      "Epoch 48/100\n",
      "5000/5000 [==============================] - 1s 101us/sample - loss: 0.0687 - val_loss: 0.0688\n",
      "Epoch 49/100\n",
      "5000/5000 [==============================] - 1s 107us/sample - loss: 0.0675 - val_loss: 0.0677\n",
      "Epoch 50/100\n",
      "5000/5000 [==============================] - 1s 108us/sample - loss: 0.0664 - val_loss: 0.0671\n",
      "Epoch 51/100\n",
      "5000/5000 [==============================] - 1s 110us/sample - loss: 0.0656 - val_loss: 0.0663\n",
      "Epoch 52/100\n",
      "5000/5000 [==============================] - 1s 102us/sample - loss: 0.0651 - val_loss: 0.0658\n",
      "Epoch 53/100\n",
      "5000/5000 [==============================] - 1s 116us/sample - loss: 0.0640 - val_loss: 0.0638\n",
      "Epoch 54/100\n",
      "5000/5000 [==============================] - 1s 103us/sample - loss: 0.0614 - val_loss: 0.0608\n",
      "Epoch 55/100\n",
      "5000/5000 [==============================] - 1s 102us/sample - loss: 0.0581 - val_loss: 0.0579\n",
      "Epoch 56/100\n",
      "5000/5000 [==============================] - 1s 101us/sample - loss: 0.0554 - val_loss: 0.0552\n",
      "Epoch 57/100\n",
      "5000/5000 [==============================] - 1s 113us/sample - loss: 0.0531 - val_loss: 0.0529\n",
      "Epoch 58/100\n",
      "5000/5000 [==============================] - 1s 106us/sample - loss: 0.0511 - val_loss: 0.0510\n",
      "Epoch 59/100\n",
      "5000/5000 [==============================] - 1s 107us/sample - loss: 0.0494 - val_loss: 0.0495\n",
      "Epoch 60/100\n",
      "5000/5000 [==============================] - 1s 107us/sample - loss: 0.0477 - val_loss: 0.0477\n",
      "Epoch 61/100\n",
      "5000/5000 [==============================] - 1s 100us/sample - loss: 0.0464 - val_loss: 0.0463\n",
      "Epoch 62/100\n",
      "5000/5000 [==============================] - 1s 104us/sample - loss: 0.0451 - val_loss: 0.0472\n",
      "Epoch 63/100\n",
      "5000/5000 [==============================] - 1s 102us/sample - loss: 0.0441 - val_loss: 0.0443\n",
      "Epoch 64/100\n",
      "5000/5000 [==============================] - 1s 101us/sample - loss: 0.0431 - val_loss: 0.0433\n",
      "Epoch 65/100\n",
      "5000/5000 [==============================] - 1s 107us/sample - loss: 0.0423 - val_loss: 0.0422\n",
      "Epoch 66/100\n",
      "5000/5000 [==============================] - 1s 102us/sample - loss: 0.0409 - val_loss: 0.0409\n",
      "Epoch 67/100\n",
      "5000/5000 [==============================] - 1s 100us/sample - loss: 0.0398 - val_loss: 0.0422\n",
      "Epoch 68/100\n",
      "5000/5000 [==============================] - 1s 100us/sample - loss: 0.0386 - val_loss: 0.0388\n",
      "Epoch 69/100\n",
      "5000/5000 [==============================] - 1s 100us/sample - loss: 0.0380 - val_loss: 0.0374\n",
      "Epoch 70/100\n",
      "5000/5000 [==============================] - 0s 100us/sample - loss: 0.0362 - val_loss: 0.0398\n",
      "Epoch 71/100\n",
      "5000/5000 [==============================] - 1s 102us/sample - loss: 0.0359 - val_loss: 0.0352\n",
      "Epoch 72/100\n",
      "5000/5000 [==============================] - 1s 100us/sample - loss: 0.0340 - val_loss: 0.0345\n",
      "Epoch 73/100\n",
      "5000/5000 [==============================] - 1s 104us/sample - loss: 0.0327 - val_loss: 0.0334\n",
      "Epoch 74/100\n",
      "5000/5000 [==============================] - 1s 101us/sample - loss: 0.0316 - val_loss: 0.0324\n",
      "Epoch 75/100\n",
      "5000/5000 [==============================] - 1s 108us/sample - loss: 0.0313 - val_loss: 0.0326\n",
      "Epoch 76/100\n",
      "5000/5000 [==============================] - 1s 106us/sample - loss: 0.0306 - val_loss: 0.0317\n",
      "Epoch 77/100\n",
      "5000/5000 [==============================] - 1s 106us/sample - loss: 0.0302 - val_loss: 0.0309\n",
      "Epoch 78/100\n",
      "5000/5000 [==============================] - 1s 105us/sample - loss: 0.0300 - val_loss: 0.0303\n",
      "Epoch 79/100\n",
      "5000/5000 [==============================] - 1s 104us/sample - loss: 0.0297 - val_loss: 0.0313\n",
      "Epoch 80/100\n",
      "5000/5000 [==============================] - 1s 106us/sample - loss: 0.0294 - val_loss: 0.0299\n",
      "Epoch 81/100\n",
      "5000/5000 [==============================] - 1s 105us/sample - loss: 0.0292 - val_loss: 0.0297\n",
      "Epoch 82/100\n",
      "5000/5000 [==============================] - 1s 106us/sample - loss: 0.0287 - val_loss: 0.0303\n",
      "Epoch 83/100\n",
      "5000/5000 [==============================] - 1s 108us/sample - loss: 0.0288 - val_loss: 0.0295\n",
      "Epoch 84/100\n",
      "5000/5000 [==============================] - 1s 102us/sample - loss: 0.0280 - val_loss: 0.0288\n",
      "Epoch 85/100\n",
      "5000/5000 [==============================] - 1s 107us/sample - loss: 0.0283 - val_loss: 0.0288\n",
      "Epoch 86/100\n",
      "5000/5000 [==============================] - 1s 106us/sample - loss: 0.0276 - val_loss: 0.0284\n",
      "Epoch 87/100\n",
      "5000/5000 [==============================] - 1s 106us/sample - loss: 0.0278 - val_loss: 0.0292\n",
      "Epoch 88/100\n",
      "5000/5000 [==============================] - 1s 106us/sample - loss: 0.0273 - val_loss: 0.0275\n",
      "Epoch 89/100\n",
      "5000/5000 [==============================] - 1s 106us/sample - loss: 0.0270 - val_loss: 0.0274\n",
      "Epoch 90/100\n",
      "5000/5000 [==============================] - 1s 107us/sample - loss: 0.0261 - val_loss: 0.0274\n",
      "Epoch 91/100\n",
      "5000/5000 [==============================] - 1s 107us/sample - loss: 0.0261 - val_loss: 0.0265\n",
      "Epoch 92/100\n",
      "5000/5000 [==============================] - 1s 105us/sample - loss: 0.0256 - val_loss: 0.0288\n",
      "Epoch 93/100\n",
      "5000/5000 [==============================] - 1s 105us/sample - loss: 0.0241 - val_loss: 0.0238\n",
      "Epoch 94/100\n",
      "5000/5000 [==============================] - 1s 107us/sample - loss: 0.0224 - val_loss: 0.0228\n",
      "Epoch 95/100\n",
      "5000/5000 [==============================] - 1s 108us/sample - loss: 0.0218 - val_loss: 0.0220\n",
      "Epoch 96/100\n",
      "5000/5000 [==============================] - 1s 104us/sample - loss: 0.0216 - val_loss: 0.0215\n",
      "Epoch 97/100\n",
      "5000/5000 [==============================] - 1s 106us/sample - loss: 0.0202 - val_loss: 0.0206\n",
      "Epoch 98/100\n",
      "5000/5000 [==============================] - 1s 106us/sample - loss: 0.0200 - val_loss: 0.0214\n",
      "Epoch 99/100\n",
      "5000/5000 [==============================] - 1s 106us/sample - loss: 0.0190 - val_loss: 0.0190\n",
      "Epoch 100/100\n",
      "5000/5000 [==============================] - 1s 109us/sample - loss: 0.0180 - val_loss: 0.0183\n"
     ]
    },
    {
     "data": {
      "text/plain": [
       "<tensorflow.python.keras.callbacks.History at 0x7ffab71ccf60>"
      ]
     },
     "execution_count": 27,
     "metadata": {},
     "output_type": "execute_result"
    }
   ],
   "source": [
    "input_layer=tf.keras.layers.Input((None,1))\n",
    "print(input_layer)\n",
    "output_layer=tf.keras.layers.LSTM(1,activation='linear')(input_layer)\n",
    "model=tf.keras.models.Model([input_layer],[output_layer])\n",
    "opt=tf.keras.optimizers.Adam(lr=1e-3)\n",
    "\n",
    "model.compile(loss='mse',optimizer=opt)\n",
    "model.summary()\n",
    "es=tf.keras.callbacks.EarlyStopping(monitor='val_loss', min_delta=0, patience=5, verbose=0, mode='auto')\n",
    "\n",
    "\n",
    "model.fit(X,Y,validation_split=0.5,epochs=100,callbacks=[es])\n",
    "\n"
   ]
  },
  {
   "cell_type": "code",
   "execution_count": 29,
   "metadata": {
    "slideshow": {
     "slide_type": "slide"
    }
   },
   "outputs": [
    {
     "data": {
      "text/plain": [
       "array([[7.0952587]], dtype=float32)"
      ]
     },
     "execution_count": 29,
     "metadata": {},
     "output_type": "execute_result"
    }
   ],
   "source": [
    "model.predict(np.expand_dims([[2,3,4,5,6]],-1) )"
   ]
  },
  {
   "cell_type": "markdown",
   "metadata": {
    "slideshow": {
     "slide_type": "slide"
    }
   },
   "source": [
    "## Text Data\n",
    "The coding/research part of most machine learning algorithms is how to utilize data in a way an algorthim understands.\n",
    "\n",
    "### Goal\n",
    "Read the raw the raw text from these movie reviews, and predict wether the review is positive or not\n",
    "* Need to go from an array (1-D unknown length) to a probability (1 number)\n",
    "* Need to build a series of layers to make that possible\n",
    "* We will take text that is transformed into an sequence of integers\n",
    "  * For this data we assign each word (token) in a sentence a unique integer\n",
    "* We will transform the sequence of integers into an sequence of vectors\n",
    "    * Do this with a new Embedding Layer\n",
    "* Then use an LSTM layer, and a Dense layer to make a prediction\n",
    "\n",
    "Array of Ints -> **Embedding** -> Array of Vectors -> **RNN** -> fixed output -> **Dense** -> Probability\n"
   ]
  },
  {
   "cell_type": "code",
   "execution_count": 16,
   "metadata": {
    "slideshow": {
     "slide_type": "slide"
    }
   },
   "outputs": [
    {
     "name": "stdout",
     "output_type": "stream",
     "text": [
      "Downloading data from https://storage.googleapis.com/tensorflow/tf-keras-datasets/imdb_word_index.json\n",
      "1646592/1641221 [==============================] - 0s 0us/step\n"
     ]
    }
   ],
   "source": [
    "# Lets load some input data in the 2-split format\n",
    "index_from=3\n",
    "(x_train, y_train), (x_test, y_test) = tf.keras.datasets.imdb.load_data(path=\"imdb.npz\",\n",
    "                                                      num_words=None,\n",
    "                                                      skip_top=0,\n",
    "                                                      maxlen=None,\n",
    "                                                      seed=113,\n",
    "                                                      start_char=1,\n",
    "                                                      oov_char=2,\n",
    "                                                      index_from=index_from)\n",
    "\n",
    "\n",
    "word_2_index={k:(v+index_from) for k,v in tf.keras.datasets.imdb.get_word_index().items()}\n",
    "word_2_index['<PAD>']=0\n",
    "word_2_index['<START>']=1\n",
    "word_2_index['<UNK>']=2\n",
    "\n",
    "index_2_word={}\n",
    "\n",
    "for word in word_2_index:\n",
    "    index_2_word[ word_2_index[word]]=word\n"
   ]
  },
  {
   "cell_type": "code",
   "execution_count": 17,
   "metadata": {
    "slideshow": {
     "slide_type": "slide"
    }
   },
   "outputs": [
    {
     "name": "stdout",
     "output_type": "stream",
     "text": [
      "['this', 'is', 'a', 'sentence'] [14, 9, 6, 4130]\n"
     ]
    }
   ],
   "source": [
    "check=['this','is','a','sentence']\n",
    "print(check, [word_2_index[i] for i in check])"
   ]
  },
  {
   "cell_type": "code",
   "execution_count": 18,
   "metadata": {
    "slideshow": {
     "slide_type": "slide"
    }
   },
   "outputs": [],
   "source": [
    "last_word=np.max(list(word_2_index.values()))"
   ]
  },
  {
   "cell_type": "code",
   "execution_count": 19,
   "metadata": {
    "slideshow": {
     "slide_type": "slide"
    }
   },
   "outputs": [
    {
     "name": "stdout",
     "output_type": "stream",
     "text": [
      "(25000,)\n",
      "(25000,)\n",
      "[1, 14, 22, 16, 43, 530, 973, 1622, 1385, 65, 458, 4468, 66, 3941, 4, 173, 36, 256, 5, 25, 100, 43, 838, 112, 50, 670, 22665, 9, 35, 480, 284, 5, 150, 4, 172, 112, 167, 21631, 336, 385, 39, 4, 172, 4536, 1111, 17, 546, 38, 13, 447, 4, 192, 50, 16, 6, 147, 2025, 19, 14, 22, 4, 1920, 4613, 469, 4, 22, 71, 87, 12, 16, 43, 530, 38, 76, 15, 13, 1247, 4, 22, 17, 515, 17, 12, 16, 626, 18, 19193, 5, 62, 386, 12, 8, 316, 8, 106, 5, 4, 2223, 5244, 16, 480, 66, 3785, 33, 4, 130, 12, 16, 38, 619, 5, 25, 124, 51, 36, 135, 48, 25, 1415, 33, 6, 22, 12, 215, 28, 77, 52, 5, 14, 407, 16, 82, 10311, 8, 4, 107, 117, 5952, 15, 256, 4, 31050, 7, 3766, 5, 723, 36, 71, 43, 530, 476, 26, 400, 317, 46, 7, 4, 12118, 1029, 13, 104, 88, 4, 381, 15, 297, 98, 32, 2071, 56, 26, 141, 6, 194, 7486, 18, 4, 226, 22, 21, 134, 476, 26, 480, 5, 144, 30, 5535, 18, 51, 36, 28, 224, 92, 25, 104, 4, 226, 65, 16, 38, 1334, 88, 12, 16, 283, 5, 16, 4472, 113, 103, 32, 15, 16, 5345, 19, 178, 32]\n",
      "1\n",
      "<START> this film was just brilliant casting location scenery story direction everyone's really suited the part they played and you could just imagine being there robert redford's is an amazing actor and now the same being director norman's father came from the same scottish island as myself so i loved the fact there was a real connection with this film the witty remarks throughout the film were great it was just brilliant so much that i bought the film as soon as it was released for retail and would recommend it to everyone to watch and the fly fishing was amazing really cried at the end it was so sad and you know what they say if you cry at a film it must have been good and this definitely was also congratulations to the two little boy's that played the part's of norman and paul they were just brilliant children are often left out of the praising list i think because the stars that play them all grown up are such a big profile for the whole film but these children are amazing and should be praised for what they have done don't you think the whole story was so lovely because it was true and was someone's life after all that was shared with us all\n",
      "1 = Positive Review 0 = Negative Review \n",
      "label 1\n"
     ]
    }
   ],
   "source": [
    "print(x_train.shape)\n",
    "print(y_train.shape)\n",
    "\n",
    "print(x_train[0])\n",
    "print(y_train[0])\n",
    "\n",
    "\n",
    "print(\" \".join([index_2_word[i] for i in x_train[0]]))\n",
    "\n",
    "print('1 = Positive Review','0 = Negative Review ')\n",
    "print('label',y_train[0])"
   ]
  },
  {
   "cell_type": "markdown",
   "metadata": {
    "slideshow": {
     "slide_type": "slide"
    }
   },
   "source": [
    "**Note:**\n",
    "This data has already been 'tokenized' meaning the text has been pre-processed. In this case made lowercase with punctuation removed. There are many different ways of doing this.\n"
   ]
  },
  {
   "cell_type": "code",
   "execution_count": 20,
   "metadata": {
    "slideshow": {
     "slide_type": "slide"
    }
   },
   "outputs": [
    {
     "name": "stdout",
     "output_type": "stream",
     "text": [
      "Tensor(\"input_5:0\", shape=(?, ?), dtype=float32)\n"
     ]
    }
   ],
   "source": [
    "input_layer=tf.keras.layers.Input( (None,))\n",
    "print(input_layer)"
   ]
  },
  {
   "cell_type": "code",
   "execution_count": 21,
   "metadata": {
    "slideshow": {
     "slide_type": "fragment"
    }
   },
   "outputs": [
    {
     "name": "stdout",
     "output_type": "stream",
     "text": [
      "_________________________________________________________________\n",
      "Layer (type)                 Output Shape              Param #   \n",
      "=================================================================\n",
      "input_5 (InputLayer)         (None, None)              0         \n",
      "_________________________________________________________________\n",
      "embedding (Embedding)        (None, None, 100)         8858700   \n",
      "_________________________________________________________________\n",
      "lstm_1 (LSTM)                (None, 10)                4440      \n",
      "_________________________________________________________________\n",
      "dense_6 (Dense)              (None, 10)                110       \n",
      "_________________________________________________________________\n",
      "leaky_re_lu_3 (LeakyReLU)    (None, 10)                0         \n",
      "_________________________________________________________________\n",
      "dense_7 (Dense)              (None, 1)                 11        \n",
      "=================================================================\n",
      "Total params: 8,863,261\n",
      "Trainable params: 8,863,261\n",
      "Non-trainable params: 0\n",
      "_________________________________________________________________\n"
     ]
    }
   ],
   "source": [
    "nn=tf.keras.layers.Embedding(last_word,100)(input_layer)\n",
    "nn=tf.keras.layers.LSTM(10)(nn)\n",
    "nn=tf.keras.layers.Dense(10)(nn)\n",
    "nn=tf.keras.layers.LeakyReLU()(nn)\n",
    "output=tf.keras.layers.Dense(1,activation='sigmoid')(nn)\n",
    "\n",
    "model=tf.keras.models.Model(input_layer,output)\n",
    "model.compile(loss='binary_crossentropy',optimizer='adam',metrics=['accuracy'])\n",
    "model.summary()"
   ]
  },
  {
   "cell_type": "markdown",
   "metadata": {
    "slideshow": {
     "slide_type": "subslide"
    }
   },
   "source": [
    "## Binary Cross Entropy\n",
    "\n",
    "Our last layer here is using a sigmoid activation, which is bounded between zero and 1\n",
    "\n",
    "<img src=\"../assets/sigmoid.png\">\n",
    "\n",
    "The activation on your last layer has to match your loss function in this case 'Binary Cross-Entropy'\n",
    "<p style=\"text-align: center;\">\n",
    "$L= -1*\\sum_i y_{true,i}*ln(y_{pred,i}) + (1-y_{true,i})*ln(1-y_{pred,i}) $\n",
    "</p>\n",
    "Which is minimized when $y_{pred}=y_{true}$\n"
   ]
  },
  {
   "cell_type": "code",
   "execution_count": 22,
   "metadata": {
    "slideshow": {
     "slide_type": "slide"
    }
   },
   "outputs": [],
   "source": [
    "# We need each batch given to the model to have the same size\n",
    "# For right now we will just make all the data the same size by padding or cropping to a length of 200\n",
    "\n",
    "x_train=tf.keras.preprocessing.sequence.pad_sequences(x_train, maxlen=200, dtype='int32',value=0.0)\n",
    "x_test=tf.keras.preprocessing.sequence.pad_sequences(x_test, maxlen=200, dtype='int32',value=0.0)\n",
    "\n"
   ]
  },
  {
   "cell_type": "code",
   "execution_count": 23,
   "metadata": {
    "slideshow": {
     "slide_type": "slide"
    }
   },
   "outputs": [
    {
     "name": "stdout",
     "output_type": "stream",
     "text": [
      "Train on 25000 samples, validate on 25000 samples\n",
      "Epoch 1/10\n",
      "25000/25000 [==============================] - 137s 5ms/sample - loss: 0.4627 - acc: 0.7792 - val_loss: 0.3602 - val_acc: 0.8487\n",
      "Epoch 2/10\n",
      "25000/25000 [==============================] - 136s 5ms/sample - loss: 0.2134 - acc: 0.9193 - val_loss: 0.3915 - val_acc: 0.8471\n"
     ]
    }
   ],
   "source": [
    "es=tf.keras.callbacks.EarlyStopping(monitor='val_loss', min_delta=0, patience=1, verbose=0, mode='auto')\n",
    "history=model.fit(x_train,y_train,validation_data=(x_test,y_test),epochs=10,callbacks=[es])"
   ]
  },
  {
   "cell_type": "code",
   "execution_count": 24,
   "metadata": {
    "slideshow": {
     "slide_type": "slide"
    }
   },
   "outputs": [],
   "source": [
    "def sentence_2_ints(sentence):\n",
    "    return np.array([[word_2_index[s] for s in sentence.split()]])\n",
    "    \n",
    "    "
   ]
  },
  {
   "cell_type": "code",
   "execution_count": 25,
   "metadata": {
    "slideshow": {
     "slide_type": "slide"
    }
   },
   "outputs": [
    {
     "name": "stdout",
     "output_type": "stream",
     "text": [
      "[[0.87367845]]\n",
      "[[0.5959961]]\n",
      "[[0.73580027]]\n",
      "[[0.10441049]]\n",
      "[[0.44264108]]\n",
      "[[0.3767595]]\n",
      "[[0.3082046]]\n"
     ]
    }
   ],
   "source": [
    "print(model.predict(sentence_2_ints('<START> this movie is the very best i have ever seen') ))\n",
    "\n",
    "print(model.predict(sentence_2_ints('<START> i have mixed feelings about this movie') ))\n",
    "print(model.predict(sentence_2_ints('<START> i have mixed feelings about this movie i may like it in the end') ))\n",
    "\n",
    "print(model.predict(sentence_2_ints('<START> i have never seen a worse film') ))\n",
    "print(model.predict(sentence_2_ints('<START> hi is this where i google the information') ))\n",
    "\n",
    "print(model.predict(sentence_2_ints('<START> star trek') ))\n",
    "print(model.predict(sentence_2_ints('<START> star wars') ))\n"
   ]
  },
  {
   "cell_type": "code",
   "execution_count": null,
   "metadata": {},
   "outputs": [],
   "source": []
  },
  {
   "cell_type": "markdown",
   "metadata": {
    "slideshow": {
     "slide_type": "slide"
    }
   },
   "source": [
    "# A short Menu of other ML layers\n",
    "* Convolutional Layers (Conv1D, Conv2D, Conv3D)\n",
    "    * Input sequences of fixed or varying length best when array values that are close together are correlate i.e pictures\n",
    "    * Output a new sequence normally lower dimension, but with more channels    \n",
    "* Recurrent Neural Networks (RNN, LSTM, GRUS)\n",
    "    * Input sequence\n",
    "    * Output sequence or a fixed dimensional output    \n",
    "\n",
    "* Embedding Network\n",
    "    * A learnable mapping from a large set of integers, to a fixed output\n",
    "    * Input integer\n",
    "    * Ouput vector\n",
    "\n",
    "* Dense Network\n",
    "    * Fixed Input\n",
    "    * Fixed Output\n",
    "\n",
    "* Dropout\n",
    "    * Good at preventing overfitting"
   ]
  },
  {
   "cell_type": "code",
   "execution_count": null,
   "metadata": {},
   "outputs": [],
   "source": []
  }
 ],
 "metadata": {
  "celltoolbar": "Slideshow",
  "kernelspec": {
   "display_name": "Python 3",
   "language": "python",
   "name": "python3"
  },
  "language_info": {
   "codemirror_mode": {
    "name": "ipython",
    "version": 3
   },
   "file_extension": ".py",
   "mimetype": "text/x-python",
   "name": "python",
   "nbconvert_exporter": "python",
   "pygments_lexer": "ipython3",
   "version": "3.6.7"
  }
 },
 "nbformat": 4,
 "nbformat_minor": 2
}
