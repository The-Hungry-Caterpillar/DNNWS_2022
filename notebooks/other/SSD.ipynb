{
 "cells": [
  {
   "cell_type": "code",
   "execution_count": 1,
   "metadata": {},
   "outputs": [
    {
     "name": "stdout",
     "output_type": "stream",
     "text": [
      "Cloning into 'ssd_keras'...\n",
      "remote: Enumerating objects: 1608, done.\u001b[K\n",
      "remote: Total 1608 (delta 0), reused 0 (delta 0), pack-reused 1608\u001b[K\n",
      "Receiving objects: 100% (1608/1608), 19.70 MiB | 19.74 MiB/s, done.\n",
      "Resolving deltas: 100% (1057/1057), done.\n"
     ]
    }
   ],
   "source": [
    "!git clone https://github.com/pierluigiferrari/ssd_keras.git\n",
    "    "
   ]
  },
  {
   "cell_type": "code",
   "execution_count": null,
   "metadata": {},
   "outputs": [],
   "source": []
  }
 ],
 "metadata": {
  "kernelspec": {
   "display_name": "Python 3 (Tensorflow)",
   "language": "python",
   "name": "tensorflow"
  },
  "language_info": {
   "codemirror_mode": {
    "name": "ipython",
    "version": 3
   },
   "file_extension": ".py",
   "mimetype": "text/x-python",
   "name": "python",
   "nbconvert_exporter": "python",
   "pygments_lexer": "ipython3",
   "version": "3.6.7"
  }
 },
 "nbformat": 4,
 "nbformat_minor": 2
}
