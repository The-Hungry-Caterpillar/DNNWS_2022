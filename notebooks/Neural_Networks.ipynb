{
 "cells": [
  {
   "cell_type": "markdown",
   "metadata": {
    "slideshow": {
     "slide_type": "slide"
    }
   },
   "source": [
    "# Intro to Machine Learning in Python\n",
    "\n",
    "Learn how to get started training Neural Networks with keras\n"
   ]
  },
  {
   "cell_type": "markdown",
   "metadata": {
    "slideshow": {
     "slide_type": "slide"
    }
   },
   "source": [
    "# Machine Learning Reminder\n",
    "* Find f(x) such that f(x) best approximates y\n",
    "* Examples:\n",
    "    * Given some pixels (x) tell me the probability it’s a cat (y)\n",
    "    * Given news articles (x) tell me a stocks value (y)\n",
    "    * Given some sequences x find some low dimensional space (z) that represent my data \n",
    "      * f1(x)=z f2(z)=x  \n",
    "\n",
    "# Outline\n",
    "* Dense (Fully Connected Neural Networks)\n",
    "  * Example Linear Fits\n",
    "  * Classifications\n"
   ]
  },
  {
   "cell_type": "markdown",
   "metadata": {
    "slideshow": {
     "slide_type": "slide"
    }
   },
   "source": [
    "# Packages"
   ]
  },
  {
   "cell_type": "code",
   "execution_count": 1,
   "metadata": {
    "slideshow": {
     "slide_type": "fragment"
    }
   },
   "outputs": [],
   "source": [
    "import tensorflow as tf\n",
    "import numpy as np\n",
    "import matplotlib.pyplot as plt"
   ]
  },
  {
   "cell_type": "code",
   "execution_count": 2,
   "metadata": {
    "slideshow": {
     "slide_type": "fragment"
    }
   },
   "outputs": [],
   "source": [
    "# Lets start with a simple prediction a straight Line\n",
    "data_dim=5\n",
    "\n",
    "X=np.random.uniform(0,10,size=(10000,data_dim))\n",
    "def func(X):\n",
    "    return 2*X[:,0]+1 #Ignore all other input have the output only depend on the first dimention\n",
    "Y=func(X)\n",
    "\n",
    "\n",
    "\n",
    "\n",
    "    \n",
    "    "
   ]
  },
  {
   "cell_type": "markdown",
   "metadata": {
    "slideshow": {
     "slide_type": "slide"
    }
   },
   "source": [
    "# Our first Layer\n",
    "A Dense or fully connected layer\n",
    "\n",
    "<img src=\"../assets/dense.png\">\n",
    "\n",
    "A dense layer has a connection between every input variable and every output node. Each connection is represented by a weight $W_{i,n}$ from and input $X_n$ to an output $O_i$. The output is a sum over all the input variables times there weights plus a bias $B_i$\n",
    "<p style=\"text-align: center;\">\n",
    "$O_i = \\sum_n W_{i,n}*X_n+B_i$    \n",
    "</p>\n",
    "\n",
    "We will need to fit this to data, which means finding the best values for $W_{i,n}$ and $B_i$ to approximate our data.\n"
   ]
  },
  {
   "cell_type": "code",
   "execution_count": 3,
   "metadata": {},
   "outputs": [],
   "source": [
    "# All models start out with an input layer\n",
    "input_layer=tf.keras.layers.Input(shape=(data_dim,)) \n",
    "output_layer = tf.keras.layers.Dense(1)(input_layer)\n",
    "#A keras model is class used for fitting it takes input layers and output layers\n",
    "model=tf.keras.models.Model(input_layer,output_layer)\n"
   ]
  },
  {
   "cell_type": "markdown",
   "metadata": {},
   "source": [
    "In the code above we define and Input layer and one Dense (Fully Connected Layer), in our equation above\n",
    "i=1 n=data_dim\n",
    "if data_dim ==1\n",
    "then \n",
    "\n",
    "$O_i = \\sum_n W_{i,n}*X_n+B_i  = O_0 =  W_{0,0}*X_0+B_0$\n",
    "\n",
    "You'll notice from last lecture this is the same form as our linear model.\n",
    "\n",
    "* $y_{pred,i}=\\theta_{1}*x_{i}+\\theta_{2} $\n",
    "\n",
    "* Each 'neuron' in a dense network is one linear model\n",
    "\n",
    "in neural network lingo \n",
    "*  $W$ is called the weight matrix \n",
    "*  $B$ the bias\n",
    "*  $W$ is a matrix and can have several parameters and all the parameters in the network are often represented by just $\\theta$ \n",
    "\n",
    "Just as in our Linear model we are going to use the same loss function\n",
    "* $L=\\frac{1}{N}\\sum_i (y_{pred,i}-y_{true,i})^2$\n",
    "* which is Mean Squared Error or mse for short\n",
    "* and we will pick an optimizer 'adam'\n",
    "\n"
   ]
  },
  {
   "cell_type": "code",
   "execution_count": null,
   "metadata": {},
   "outputs": [],
   "source": []
  },
  {
   "cell_type": "code",
   "execution_count": 4,
   "metadata": {
    "slideshow": {
     "slide_type": "slide"
    }
   },
   "outputs": [
    {
     "name": "stdout",
     "output_type": "stream",
     "text": [
      "Train on 5000 samples, validate on 5000 samples\n",
      "Epoch 1/100\n",
      "5000/5000 [==============================] - 2s 418us/step - loss: 384.5024 - val_loss: 309.4970\n",
      "Epoch 2/100\n",
      "5000/5000 [==============================] - 1s 117us/step - loss: 252.4420 - val_loss: 199.9693\n",
      "Epoch 3/100\n",
      "5000/5000 [==============================] - 1s 177us/step - loss: 160.2789 - val_loss: 125.0946\n",
      "Epoch 4/100\n",
      "5000/5000 [==============================] - 1s 230us/step - loss: 98.9418 - val_loss: 76.7281\n",
      "Epoch 5/100\n",
      "5000/5000 [==============================] - 1s 242us/step - loss: 60.3539 - val_loss: 47.3157\n",
      "Epoch 6/100\n",
      "5000/5000 [==============================] - 1s 229us/step - loss: 37.5752 - val_loss: 30.4758\n",
      "Epoch 7/100\n",
      "5000/5000 [==============================] - 1s 219us/step - loss: 25.0127 - val_loss: 21.5213\n",
      "Epoch 8/100\n",
      "5000/5000 [==============================] - 1s 220us/step - loss: 18.4711 - val_loss: 16.9304\n",
      "Epoch 9/100\n",
      "5000/5000 [==============================] - 1s 261us/step - loss: 15.1234 - val_loss: 14.5177\n",
      "Epoch 10/100\n",
      "5000/5000 [==============================] - 1s 226us/step - loss: 13.3323 - val_loss: 13.1106\n",
      "Epoch 11/100\n",
      "5000/5000 [==============================] - 1s 219us/step - loss: 12.1816 - val_loss: 12.0837\n",
      "Epoch 12/100\n",
      "5000/5000 [==============================] - 1s 232us/step - loss: 11.2528 - val_loss: 11.1767\n",
      "Epoch 13/100\n",
      "5000/5000 [==============================] - 1s 215us/step - loss: 10.4015 - val_loss: 10.3091\n",
      "Epoch 14/100\n",
      "5000/5000 [==============================] - 1s 219us/step - loss: 9.5706 - val_loss: 9.4524\n",
      "Epoch 15/100\n",
      "5000/5000 [==============================] - 1s 195us/step - loss: 8.7466 - val_loss: 8.6035\n",
      "Epoch 16/100\n",
      "5000/5000 [==============================] - 1s 208us/step - loss: 7.9319 - val_loss: 7.7723\n",
      "Epoch 17/100\n",
      "5000/5000 [==============================] - 1s 221us/step - loss: 7.1328 - val_loss: 6.9581\n",
      "Epoch 18/100\n",
      "5000/5000 [==============================] - 1s 249us/step - loss: 6.3597 - val_loss: 6.1738\n",
      "Epoch 19/100\n",
      "5000/5000 [==============================] - 1s 237us/step - loss: 5.6206 - val_loss: 5.4295\n",
      "Epoch 20/100\n",
      "5000/5000 [==============================] - 1s 244us/step - loss: 4.9170 - val_loss: 4.7248\n",
      "Epoch 21/100\n",
      "5000/5000 [==============================] - 1s 225us/step - loss: 4.2582 - val_loss: 4.0684\n",
      "Epoch 22/100\n",
      "5000/5000 [==============================] - 1s 222us/step - loss: 3.6451 - val_loss: 3.4644\n",
      "Epoch 23/100\n",
      "5000/5000 [==============================] - 1s 201us/step - loss: 3.0840 - val_loss: 2.9107\n",
      "Epoch 24/100\n",
      "5000/5000 [==============================] - 1s 217us/step - loss: 2.5765 - val_loss: 2.4144\n",
      "Epoch 25/100\n",
      "5000/5000 [==============================] - 1s 204us/step - loss: 2.1216 - val_loss: 1.9731\n",
      "Epoch 26/100\n",
      "5000/5000 [==============================] - 1s 247us/step - loss: 1.7218 - val_loss: 1.5891\n",
      "Epoch 27/100\n",
      "5000/5000 [==============================] - 1s 260us/step - loss: 1.3742 - val_loss: 1.2579\n",
      "Epoch 28/100\n",
      "5000/5000 [==============================] - 1s 205us/step - loss: 1.0796 - val_loss: 0.9781\n",
      "Epoch 29/100\n",
      "5000/5000 [==============================] - 1s 251us/step - loss: 0.8326 - val_loss: 0.7463\n",
      "Epoch 30/100\n",
      "5000/5000 [==============================] - 1s 223us/step - loss: 0.6290 - val_loss: 0.5573\n",
      "Epoch 31/100\n",
      "5000/5000 [==============================] - 1s 219us/step - loss: 0.4652 - val_loss: 0.4072\n",
      "Epoch 32/100\n",
      "5000/5000 [==============================] - 1s 211us/step - loss: 0.3363 - val_loss: 0.2911\n",
      "Epoch 33/100\n",
      "5000/5000 [==============================] - 1s 231us/step - loss: 0.2371 - val_loss: 0.2021\n",
      "Epoch 34/100\n",
      "5000/5000 [==============================] - 1s 227us/step - loss: 0.1623 - val_loss: 0.1362\n",
      "Epoch 35/100\n",
      "5000/5000 [==============================] - 1s 220us/step - loss: 0.1079 - val_loss: 0.0889\n",
      "Epoch 36/100\n",
      "5000/5000 [==============================] - 1s 210us/step - loss: 0.0696 - val_loss: 0.0566\n",
      "Epoch 37/100\n",
      "5000/5000 [==============================] - 1s 221us/step - loss: 0.0436 - val_loss: 0.0347\n",
      "Epoch 38/100\n",
      "5000/5000 [==============================] - 1s 210us/step - loss: 0.0264 - val_loss: 0.0206\n",
      "Epoch 39/100\n",
      "5000/5000 [==============================] - 1s 231us/step - loss: 0.0154 - val_loss: 0.0118\n",
      "Epoch 40/100\n",
      "5000/5000 [==============================] - 1s 214us/step - loss: 0.0088 - val_loss: 0.0067\n",
      "Epoch 41/100\n",
      "5000/5000 [==============================] - 1s 220us/step - loss: 0.0049 - val_loss: 0.0037\n",
      "Epoch 42/100\n",
      "5000/5000 [==============================] - 1s 222us/step - loss: 0.0028 - val_loss: 0.0021\n",
      "Epoch 43/100\n",
      "5000/5000 [==============================] - 1s 210us/step - loss: 0.0016 - val_loss: 0.0013\n",
      "Epoch 44/100\n",
      "5000/5000 [==============================] - 1s 214us/step - loss: 0.0011 - val_loss: 8.9858e-04\n",
      "Epoch 45/100\n",
      "5000/5000 [==============================] - 1s 220us/step - loss: 7.8256e-04 - val_loss: 7.0504e-04\n",
      "Epoch 46/100\n",
      "5000/5000 [==============================] - 1s 221us/step - loss: 6.4437e-04 - val_loss: 6.1025e-04\n",
      "Epoch 47/100\n",
      "5000/5000 [==============================] - 1s 232us/step - loss: 5.7425e-04 - val_loss: 5.5580e-04\n",
      "Epoch 48/100\n",
      "5000/5000 [==============================] - 1s 211us/step - loss: 5.2931e-04 - val_loss: 5.1662e-04\n",
      "Epoch 49/100\n",
      "5000/5000 [==============================] - 1s 209us/step - loss: 4.9481e-04 - val_loss: 4.8384e-04\n",
      "Epoch 50/100\n",
      "5000/5000 [==============================] - 1s 220us/step - loss: 4.6290e-04 - val_loss: 4.5269e-04\n",
      "Epoch 51/100\n",
      "5000/5000 [==============================] - 1s 212us/step - loss: 4.3172e-04 - val_loss: 4.2113e-04\n",
      "Epoch 52/100\n",
      "5000/5000 [==============================] - 1s 266us/step - loss: 4.0129e-04 - val_loss: 3.9007e-04\n",
      "Epoch 53/100\n",
      "5000/5000 [==============================] - 1s 242us/step - loss: 3.7060e-04 - val_loss: 3.5949e-04\n",
      "Epoch 54/100\n",
      "5000/5000 [==============================] - 1s 207us/step - loss: 3.3970e-04 - val_loss: 3.2792e-04\n",
      "Epoch 55/100\n",
      "5000/5000 [==============================] - 1s 227us/step - loss: 3.0959e-04 - val_loss: 2.9817e-04\n",
      "Epoch 56/100\n",
      "5000/5000 [==============================] - 1s 206us/step - loss: 2.7960e-04 - val_loss: 2.6860e-04\n",
      "Epoch 57/100\n",
      "5000/5000 [==============================] - 1s 285us/step - loss: 2.5085e-04 - val_loss: 2.4030e-04\n",
      "Epoch 58/100\n",
      "5000/5000 [==============================] - 1s 118us/step - loss: 2.2276e-04 - val_loss: 2.1110e-04\n",
      "Epoch 59/100\n",
      "5000/5000 [==============================] - 1s 114us/step - loss: 1.9586e-04 - val_loss: 1.8683e-04\n",
      "Epoch 60/100\n",
      "5000/5000 [==============================] - 1s 115us/step - loss: 1.7101e-04 - val_loss: 1.6004e-04\n",
      "Epoch 61/100\n",
      "5000/5000 [==============================] - 1s 113us/step - loss: 1.4777e-04 - val_loss: 1.3704e-04\n",
      "Epoch 62/100\n",
      "5000/5000 [==============================] - 1s 167us/step - loss: 1.2510e-04 - val_loss: 1.1618e-04\n",
      "Epoch 63/100\n",
      "5000/5000 [==============================] - 1s 208us/step - loss: 1.0492e-04 - val_loss: 9.7951e-05\n",
      "Epoch 64/100\n",
      "5000/5000 [==============================] - 1s 197us/step - loss: 8.7142e-05 - val_loss: 7.9715e-05\n",
      "Epoch 65/100\n",
      "5000/5000 [==============================] - 1s 213us/step - loss: 7.0826e-05 - val_loss: 6.3906e-05\n",
      "Epoch 66/100\n",
      "5000/5000 [==============================] - 1s 235us/step - loss: 5.6793e-05 - val_loss: 5.0684e-05\n",
      "Epoch 67/100\n",
      "5000/5000 [==============================] - 1s 218us/step - loss: 4.4722e-05 - val_loss: 3.9646e-05\n",
      "Epoch 68/100\n",
      "5000/5000 [==============================] - 1s 222us/step - loss: 3.4592e-05 - val_loss: 3.0173e-05\n",
      "Epoch 69/100\n",
      "5000/5000 [==============================] - 1s 222us/step - loss: 2.5938e-05 - val_loss: 2.2793e-05\n",
      "Epoch 70/100\n",
      "5000/5000 [==============================] - 1s 228us/step - loss: 1.9331e-05 - val_loss: 1.6316e-05\n",
      "Epoch 71/100\n",
      "5000/5000 [==============================] - 1s 217us/step - loss: 1.3824e-05 - val_loss: 1.1669e-05\n",
      "Epoch 72/100\n",
      "5000/5000 [==============================] - 1s 238us/step - loss: 9.6945e-06 - val_loss: 7.9703e-06\n",
      "Epoch 73/100\n",
      "5000/5000 [==============================] - 1s 221us/step - loss: 6.5596e-06 - val_loss: 5.3331e-06\n",
      "Epoch 74/100\n",
      "5000/5000 [==============================] - 1s 198us/step - loss: 4.3391e-06 - val_loss: 3.4625e-06\n",
      "Epoch 75/100\n"
     ]
    },
    {
     "name": "stdout",
     "output_type": "stream",
     "text": [
      "5000/5000 [==============================] - 1s 270us/step - loss: 2.7594e-06 - val_loss: 2.1525e-06\n",
      "Epoch 76/100\n",
      "5000/5000 [==============================] - 1s 213us/step - loss: 1.6859e-06 - val_loss: 1.2869e-06\n",
      "Epoch 77/100\n",
      "5000/5000 [==============================] - 1s 214us/step - loss: 9.9309e-07 - val_loss: 7.8523e-07\n",
      "Epoch 78/100\n",
      "5000/5000 [==============================] - 1s 221us/step - loss: 5.7122e-07 - val_loss: 4.0396e-07\n",
      "Epoch 79/100\n",
      "5000/5000 [==============================] - 1s 242us/step - loss: 2.9928e-07 - val_loss: 2.1253e-07\n",
      "Epoch 80/100\n",
      "5000/5000 [==============================] - 1s 224us/step - loss: 1.5235e-07 - val_loss: 1.0790e-07\n",
      "Epoch 81/100\n",
      "5000/5000 [==============================] - 1s 240us/step - loss: 7.5477e-08 - val_loss: 5.0664e-08\n",
      "Epoch 82/100\n",
      "5000/5000 [==============================] - 1s 244us/step - loss: 3.3295e-08 - val_loss: 2.1132e-08\n",
      "Epoch 83/100\n",
      "5000/5000 [==============================] - 1s 248us/step - loss: 1.4226e-08 - val_loss: 8.7433e-09\n",
      "Epoch 84/100\n",
      "5000/5000 [==============================] - 1s 196us/step - loss: 5.7034e-09 - val_loss: 3.4135e-09\n",
      "Epoch 85/100\n",
      "5000/5000 [==============================] - 1s 229us/step - loss: 2.0774e-09 - val_loss: 1.1561e-09\n",
      "Epoch 86/100\n",
      "5000/5000 [==============================] - 1s 240us/step - loss: 7.1669e-10 - val_loss: 4.0031e-10\n",
      "Epoch 87/100\n",
      "5000/5000 [==============================] - 1s 221us/step - loss: 2.3490e-10 - val_loss: 1.2497e-10\n",
      "Epoch 88/100\n",
      "5000/5000 [==============================] - 1s 210us/step - loss: 7.7226e-11 - val_loss: 4.7137e-11\n",
      "Epoch 89/100\n",
      "5000/5000 [==============================] - 1s 226us/step - loss: 3.0328e-11 - val_loss: 2.2107e-11\n",
      "Epoch 90/100\n",
      "5000/5000 [==============================] - 1s 234us/step - loss: 1.5661e-11 - val_loss: 1.2086e-11\n",
      "Epoch 91/100\n",
      "5000/5000 [==============================] - 1s 252us/step - loss: 8.8905e-12 - val_loss: 7.6473e-12\n",
      "Epoch 92/100\n",
      "5000/5000 [==============================] - 1s 230us/step - loss: 7.7463e-12 - val_loss: 7.5338e-12\n",
      "Epoch 93/100\n",
      "5000/5000 [==============================] - 1s 142us/step - loss: 6.1375e-12 - val_loss: 3.4771e-12\n",
      "Epoch 94/100\n",
      "5000/5000 [==============================] - 1s 124us/step - loss: 3.3322e-12 - val_loss: 4.7577e-12\n",
      "Epoch 95/100\n",
      "5000/5000 [==============================] - 1s 126us/step - loss: 3.9490e-12 - val_loss: 4.3296e-12\n",
      "Epoch 96/100\n",
      "5000/5000 [==============================] - 1s 123us/step - loss: 3.8405e-12 - val_loss: 1.7254e-12\n",
      "Epoch 97/100\n",
      "5000/5000 [==============================] - 1s 122us/step - loss: 1.5612e-12 - val_loss: 1.4653e-12\n",
      "Epoch 98/100\n",
      "5000/5000 [==============================] - 1s 124us/step - loss: 1.4436e-12 - val_loss: 2.0223e-12\n",
      "Epoch 99/100\n",
      "5000/5000 [==============================] - 1s 124us/step - loss: 1.2650e-12 - val_loss: 1.0963e-12\n",
      "Epoch 100/100\n",
      "5000/5000 [==============================] - 1s 125us/step - loss: 1.6218e-12 - val_loss: 1.9320e-12\n"
     ]
    },
    {
     "data": {
      "text/plain": [
       "<tensorflow.python.keras.callbacks.History at 0x7f7147a9c908>"
      ]
     },
     "execution_count": 4,
     "metadata": {},
     "output_type": "execute_result"
    }
   ],
   "source": [
    "\n",
    "\n",
    "#MSE= Mean Squared Error \n",
    "model.compile(loss='mse',optimizer='adam')\n",
    "\n",
    "# Fit Our Simple Neural Network\n",
    "# Stop fitting when the validation loss stops improving\n",
    "es=tf.keras.callbacks.EarlyStopping(monitor='val_loss', min_delta=0, patience=5, verbose=0, mode='auto')\n",
    "#Fit\n",
    "model.fit(X,Y,epochs=100,validation_split=0.5,callbacks=[es]) #Have Keras make a test/validation split for us\n",
    "\n",
    "\n"
   ]
  },
  {
   "cell_type": "code",
   "execution_count": 5,
   "metadata": {
    "slideshow": {
     "slide_type": "slide"
    }
   },
   "outputs": [
    {
     "data": {
      "text/plain": [
       "<matplotlib.legend.Legend at 0x7f7144112b70>"
      ]
     },
     "execution_count": 5,
     "metadata": {},
     "output_type": "execute_result"
    },
    {
     "data": {
      "image/png": "[encoded data removed]",
      "text/plain": [
       "<Figure size 432x288 with 1 Axes>"
      ]
     },
     "metadata": {
      "needs_background": "light"
     },
     "output_type": "display_data"
    }
   ],
   "source": [
    "X_test=np.random.uniform(0,10,size=(100,data_dim))\n",
    "X_test[:,0]=np.linspace(-5,15,100)\n",
    "Y_test=func(X_test)\n",
    "Y_pred=model.predict(X_test)\n",
    "\n",
    "plt.scatter(X_test[:,0],Y_pred,label='prediction')\n",
    "plt.scatter(X_test[:,0],Y_test,label='truth')\n",
    "plt.xlabel('X[:,0]')\n",
    "plt.ylabel('Y')\n",
    "plt.legend()\n",
    "\n"
   ]
  },
  {
   "cell_type": "markdown",
   "metadata": {
    "slideshow": {
     "slide_type": "slide"
    }
   },
   "source": [
    "We can look at a models weights"
   ]
  },
  {
   "cell_type": "code",
   "execution_count": 6,
   "metadata": {
    "slideshow": {
     "slide_type": "fragment"
    }
   },
   "outputs": [
    {
     "name": "stdout",
     "output_type": "stream",
     "text": [
      "2\n",
      "(5, 1) (1,)\n",
      "[[2.0000005e+00]\n",
      " [4.3147836e-08]\n",
      " [7.5945621e-08]\n",
      " [9.5167870e-08]\n",
      " [3.5379809e-08]]\n"
     ]
    }
   ],
   "source": [
    "weights=model.get_weights()\n",
    "print(len(weights))\n",
    "print(weights[0].shape,weights[1].shape)\n",
    "\n",
    "print(weights[0])\n",
    "\n"
   ]
  },
  {
   "cell_type": "markdown",
   "metadata": {
    "slideshow": {
     "slide_type": "fragment"
    }
   },
   "source": [
    "We expect $W_{0,0}$=2, and $B_0$=1"
   ]
  },
  {
   "cell_type": "code",
   "execution_count": 7,
   "metadata": {
    "slideshow": {
     "slide_type": "fragment"
    }
   },
   "outputs": [
    {
     "name": "stdout",
     "output_type": "stream",
     "text": [
      "W= [[2.0000005e+00]\n",
      " [4.3147836e-08]\n",
      " [7.5945621e-08]\n",
      " [9.5167870e-08]\n",
      " [3.5379809e-08]]\n",
      "W[0,0]= 2.0000005\n",
      "B= [0.9999972]\n"
     ]
    }
   ],
   "source": [
    "print(\"W=\",weights[0])\n",
    "print(\"W[0,0]=\",weights[0][0,0])\n",
    "print(\"B=\",weights[1])\n"
   ]
  },
  {
   "cell_type": "markdown",
   "metadata": {
    "slideshow": {
     "slide_type": "slide"
    }
   },
   "source": [
    "Lets try something a bit more complicated a sin wave"
   ]
  },
  {
   "cell_type": "code",
   "execution_count": 8,
   "metadata": {},
   "outputs": [],
   "source": [
    "X=np.random.uniform(0,10,size=(10000,data_dim))\n",
    "def func(X):\n",
    "    return np.sin(X[:,0]) #Ignore all other input have the output only depend on the first dimention\n",
    "Y=func(X)\n"
   ]
  },
  {
   "cell_type": "code",
   "execution_count": 9,
   "metadata": {
    "slideshow": {
     "slide_type": "skip"
    }
   },
   "outputs": [
    {
     "name": "stdout",
     "output_type": "stream",
     "text": [
      "Train on 5000 samples, validate on 5000 samples\n",
      "Epoch 1/100\n",
      "5000/5000 [==============================] - 1s 160us/step - loss: 21.1620 - val_loss: 14.2159\n",
      "Epoch 2/100\n",
      "5000/5000 [==============================] - 1s 126us/step - loss: 12.2547 - val_loss: 10.6586\n",
      "Epoch 3/100\n",
      "5000/5000 [==============================] - 1s 126us/step - loss: 9.6372 - val_loss: 8.4416\n",
      "Epoch 4/100\n",
      "5000/5000 [==============================] - 1s 126us/step - loss: 7.5222 - val_loss: 6.4866\n",
      "Epoch 5/100\n",
      "5000/5000 [==============================] - 1s 127us/step - loss: 5.7189 - val_loss: 4.8706\n",
      "Epoch 6/100\n",
      "5000/5000 [==============================] - 1s 126us/step - loss: 4.2415 - val_loss: 3.5753\n",
      "Epoch 7/100\n",
      "5000/5000 [==============================] - 1s 127us/step - loss: 3.0946 - val_loss: 2.5856\n",
      "Epoch 8/100\n",
      "5000/5000 [==============================] - 1s 128us/step - loss: 2.2335 - val_loss: 1.8595\n",
      "Epoch 9/100\n",
      "5000/5000 [==============================] - 1s 119us/step - loss: 1.6131 - val_loss: 1.3535\n",
      "Epoch 10/100\n",
      "5000/5000 [==============================] - 1s 119us/step - loss: 1.1825 - val_loss: 1.0033\n",
      "Epoch 11/100\n",
      "5000/5000 [==============================] - 1s 120us/step - loss: 0.8943 - val_loss: 0.7745\n",
      "Epoch 12/100\n",
      "5000/5000 [==============================] - 1s 114us/step - loss: 0.7087 - val_loss: 0.6337\n",
      "Epoch 13/100\n",
      "5000/5000 [==============================] - 1s 116us/step - loss: 0.5952 - val_loss: 0.5496\n",
      "Epoch 14/100\n",
      "5000/5000 [==============================] - 1s 118us/step - loss: 0.5288 - val_loss: 0.5021\n",
      "Epoch 15/100\n",
      "5000/5000 [==============================] - 1s 118us/step - loss: 0.4916 - val_loss: 0.4765\n",
      "Epoch 16/100\n",
      "5000/5000 [==============================] - 1s 120us/step - loss: 0.4716 - val_loss: 0.4645\n",
      "Epoch 17/100\n",
      "5000/5000 [==============================] - 1s 117us/step - loss: 0.4615 - val_loss: 0.4572\n",
      "Epoch 18/100\n",
      "5000/5000 [==============================] - 1s 115us/step - loss: 0.4566 - val_loss: 0.4543\n",
      "Epoch 19/100\n",
      "5000/5000 [==============================] - 1s 117us/step - loss: 0.4536 - val_loss: 0.4526\n",
      "Epoch 20/100\n",
      "5000/5000 [==============================] - 1s 119us/step - loss: 0.4522 - val_loss: 0.4520\n",
      "Epoch 21/100\n",
      "5000/5000 [==============================] - 1s 117us/step - loss: 0.4511 - val_loss: 0.4527\n",
      "Epoch 22/100\n",
      "5000/5000 [==============================] - 1s 119us/step - loss: 0.4502 - val_loss: 0.4500\n",
      "Epoch 23/100\n",
      "5000/5000 [==============================] - 1s 119us/step - loss: 0.4498 - val_loss: 0.4504\n",
      "Epoch 24/100\n",
      "5000/5000 [==============================] - 1s 118us/step - loss: 0.4489 - val_loss: 0.4485\n",
      "Epoch 25/100\n",
      "5000/5000 [==============================] - 1s 121us/step - loss: 0.4482 - val_loss: 0.4477\n",
      "Epoch 26/100\n",
      "5000/5000 [==============================] - 1s 120us/step - loss: 0.4476 - val_loss: 0.4470\n",
      "Epoch 27/100\n",
      "5000/5000 [==============================] - 1s 119us/step - loss: 0.4470 - val_loss: 0.4479\n",
      "Epoch 28/100\n",
      "5000/5000 [==============================] - 1s 118us/step - loss: 0.4462 - val_loss: 0.4468\n",
      "Epoch 29/100\n",
      "5000/5000 [==============================] - 1s 116us/step - loss: 0.4457 - val_loss: 0.4451\n",
      "Epoch 30/100\n",
      "5000/5000 [==============================] - 1s 117us/step - loss: 0.4447 - val_loss: 0.4446\n",
      "Epoch 31/100\n",
      "5000/5000 [==============================] - 1s 117us/step - loss: 0.4443 - val_loss: 0.4444\n",
      "Epoch 32/100\n",
      "5000/5000 [==============================] - 1s 117us/step - loss: 0.4444 - val_loss: 0.4433\n",
      "Epoch 33/100\n",
      "5000/5000 [==============================] - 1s 118us/step - loss: 0.4442 - val_loss: 0.4424\n",
      "Epoch 34/100\n",
      "5000/5000 [==============================] - 1s 119us/step - loss: 0.4430 - val_loss: 0.4421\n",
      "Epoch 35/100\n",
      "5000/5000 [==============================] - 1s 118us/step - loss: 0.4420 - val_loss: 0.4428\n",
      "Epoch 36/100\n",
      "5000/5000 [==============================] - 1s 119us/step - loss: 0.4424 - val_loss: 0.4413\n",
      "Epoch 37/100\n",
      "5000/5000 [==============================] - 1s 120us/step - loss: 0.4412 - val_loss: 0.4492\n",
      "Epoch 38/100\n",
      "5000/5000 [==============================] - 1s 120us/step - loss: 0.4419 - val_loss: 0.4414\n",
      "Epoch 39/100\n",
      "5000/5000 [==============================] - 1s 119us/step - loss: 0.4422 - val_loss: 0.4403\n",
      "Epoch 40/100\n",
      "5000/5000 [==============================] - 1s 120us/step - loss: 0.4420 - val_loss: 0.4403\n",
      "Epoch 41/100\n",
      "5000/5000 [==============================] - 1s 120us/step - loss: 0.4421 - val_loss: 0.4455\n",
      "Epoch 42/100\n",
      "5000/5000 [==============================] - 1s 118us/step - loss: 0.4423 - val_loss: 0.4404\n",
      "Epoch 43/100\n",
      "5000/5000 [==============================] - 1s 118us/step - loss: 0.4412 - val_loss: 0.4394\n",
      "Epoch 44/100\n",
      "5000/5000 [==============================] - 1s 120us/step - loss: 0.4408 - val_loss: 0.4390\n",
      "Epoch 45/100\n",
      "5000/5000 [==============================] - 1s 119us/step - loss: 0.4403 - val_loss: 0.4460\n",
      "Epoch 46/100\n",
      "5000/5000 [==============================] - 1s 119us/step - loss: 0.4411 - val_loss: 0.4422\n",
      "Epoch 47/100\n",
      "5000/5000 [==============================] - 1s 120us/step - loss: 0.4408 - val_loss: 0.4393\n",
      "Epoch 48/100\n",
      "5000/5000 [==============================] - 1s 120us/step - loss: 0.4405 - val_loss: 0.4387\n",
      "Epoch 49/100\n",
      "5000/5000 [==============================] - 1s 119us/step - loss: 0.4396 - val_loss: 0.4390\n",
      "Epoch 50/100\n",
      "5000/5000 [==============================] - 1s 118us/step - loss: 0.4399 - val_loss: 0.4384\n",
      "Epoch 51/100\n",
      "5000/5000 [==============================] - 1s 118us/step - loss: 0.4394 - val_loss: 0.4429\n",
      "Epoch 52/100\n",
      "5000/5000 [==============================] - 1s 116us/step - loss: 0.4399 - val_loss: 0.4389\n",
      "Epoch 53/100\n",
      "5000/5000 [==============================] - 1s 119us/step - loss: 0.4400 - val_loss: 0.4423\n",
      "Epoch 54/100\n",
      "5000/5000 [==============================] - 1s 120us/step - loss: 0.4401 - val_loss: 0.4408\n",
      "Epoch 55/100\n",
      "5000/5000 [==============================] - 1s 121us/step - loss: 0.4402 - val_loss: 0.4392\n"
     ]
    },
    {
     "data": {
      "text/plain": [
       "<tensorflow.python.keras.callbacks.History at 0x7f71482dad68>"
      ]
     },
     "execution_count": 9,
     "metadata": {},
     "output_type": "execute_result"
    }
   ],
   "source": [
    "\n",
    "# All models start out with an input layer\n",
    "\n",
    "input_layer=tf.keras.layers.Input(shape=(data_dim,)) \n",
    "output_layer = tf.keras.layers.Dense(1)(input_layer)\n",
    "#A keras model is a way of going from one layer to the next\n",
    "model=tf.keras.models.Model(input_layer,output_layer)\n",
    "model.compile(loss='mse',optimizer='adam')\n",
    "model.fit(X,Y,epochs=100,validation_split=0.5,callbacks=[es]) #Have Keras make a test/validation split for us\n",
    "\n",
    "\n",
    "\n"
   ]
  },
  {
   "cell_type": "code",
   "execution_count": 10,
   "metadata": {
    "slideshow": {
     "slide_type": "slide"
    }
   },
   "outputs": [
    {
     "data": {
      "text/plain": [
       "<matplotlib.legend.Legend at 0x7f712c538c18>"
      ]
     },
     "execution_count": 10,
     "metadata": {},
     "output_type": "execute_result"
    },
    {
     "data": {
      "image/png": "[encoded data removed]",
      "text/plain": [
       "<Figure size 432x288 with 1 Axes>"
      ]
     },
     "metadata": {
      "needs_background": "light"
     },
     "output_type": "display_data"
    }
   ],
   "source": [
    "X_test=np.random.uniform(0,10,size=(100,data_dim))\n",
    "X_test[:,0]=np.linspace(-5,15,100)\n",
    "Y_test=func(X_test)\n",
    "Y_pred=model.predict(X_test)\n",
    "\n",
    "plt.scatter(X_test[:,0],Y_pred,label='prediction')\n",
    "plt.scatter(X_test[:,0],Y_test,label='truth')\n",
    "plt.xlabel('X[:,0]')\n",
    "plt.ylabel('Y')\n",
    "plt.legend()\n"
   ]
  },
  {
   "cell_type": "markdown",
   "metadata": {
    "slideshow": {
     "slide_type": "slide"
    }
   },
   "source": [
    "Oops this didn't work. So far what we wrote above can only be linear\n",
    "\n",
    "<p style=\"text-align: center;\">\n",
    "$O_i = \\sum_n W_{i,n}*X_n+B_i$    \n",
    "</p>\n",
    "\n",
    "we need to add something called an activation function $\\sigma$\n",
    "\n",
    "<p style=\"text-align: center;\">\n",
    "$O_i = \\sigma(\\sum_n W_{i,n}*X_n+B_i)$    \n",
    "</p>\n",
    "\n",
    "$\\sigma$ has to be non-linear and a good choice is a LeakyReLU\n",
    "\n",
    "<img src='../assets/leakyReLU.png'>\n",
    "\n",
    "Let's also make our model a bit more powerful, but adding more layers $l$\n",
    "\n",
    "<p style=\"text-align: center;\">\n",
    "$O_i,o=X_i$\n",
    "</p>\n",
    " \n",
    "<p style=\"text-align: center;\">  \n",
    "$O_{i,l} = \\sigma(\\sum_n W_{i,l,n}*O_{i,l-1}+B_{i,l})$    \n",
    "</p>\n"
   ]
  },
  {
   "cell_type": "code",
   "execution_count": 11,
   "metadata": {
    "slideshow": {
     "slide_type": "slide"
    }
   },
   "outputs": [
    {
     "name": "stdout",
     "output_type": "stream",
     "text": [
      "_________________________________________________________________\n",
      "Layer (type)                 Output Shape              Param #   \n",
      "=================================================================\n",
      "input_3 (InputLayer)         (None, 5)                 0         \n",
      "_________________________________________________________________\n",
      "dense_2 (Dense)              (None, 20)                120       \n",
      "_________________________________________________________________\n",
      "leaky_re_lu (LeakyReLU)      (None, 20)                0         \n",
      "_________________________________________________________________\n",
      "dense_3 (Dense)              (None, 20)                420       \n",
      "_________________________________________________________________\n",
      "leaky_re_lu_1 (LeakyReLU)    (None, 20)                0         \n",
      "_________________________________________________________________\n",
      "dense_4 (Dense)              (None, 20)                420       \n",
      "_________________________________________________________________\n",
      "leaky_re_lu_2 (LeakyReLU)    (None, 20)                0         \n",
      "_________________________________________________________________\n",
      "dense_5 (Dense)              (None, 1)                 21        \n",
      "=================================================================\n",
      "Total params: 981\n",
      "Trainable params: 981\n",
      "Non-trainable params: 0\n",
      "_________________________________________________________________\n"
     ]
    }
   ],
   "source": [
    "input_layer=tf.keras.layers.Input(shape=(data_dim,)) \n",
    "###Lets Add another layer and an Activation###\n",
    "nn = tf.keras.layers.Dense(20)(input_layer)\n",
    "nn = tf.keras.layers.LeakyReLU()(nn)\n",
    "\n",
    "nn = tf.keras.layers.Dense(20)(nn)\n",
    "nn = tf.keras.layers.LeakyReLU()(nn)\n",
    "\n",
    "nn = tf.keras.layers.Dense(20)(nn)\n",
    "nn = tf.keras.layers.LeakyReLU()(nn)\n",
    "\n",
    "output_layer = tf.keras.layers.Dense(1)(nn)\n",
    "#A keras model is a way of going from one layer to the next\n",
    "model=tf.keras.models.Model(input_layer,output_layer)\n",
    "model.summary()\n",
    "model.compile(loss='mse',optimizer='adam')"
   ]
  },
  {
   "cell_type": "code",
   "execution_count": 12,
   "metadata": {
    "slideshow": {
     "slide_type": "skip"
    }
   },
   "outputs": [
    {
     "name": "stdout",
     "output_type": "stream",
     "text": [
      "Train on 5000 samples, validate on 5000 samples\n",
      "Epoch 1/50\n",
      "5000/5000 [==============================] - 1s 291us/step - loss: 0.5749 - val_loss: 0.4421\n",
      "Epoch 2/50\n",
      "5000/5000 [==============================] - 1s 211us/step - loss: 0.4287 - val_loss: 0.4042\n",
      "Epoch 3/50\n",
      "5000/5000 [==============================] - 1s 210us/step - loss: 0.3888 - val_loss: 0.3658\n",
      "Epoch 4/50\n",
      "5000/5000 [==============================] - 1s 210us/step - loss: 0.3581 - val_loss: 0.3293\n",
      "Epoch 5/50\n",
      "5000/5000 [==============================] - 1s 211us/step - loss: 0.3215 - val_loss: 0.3154\n",
      "Epoch 6/50\n",
      "5000/5000 [==============================] - 1s 211us/step - loss: 0.2917 - val_loss: 0.2742\n",
      "Epoch 7/50\n",
      "5000/5000 [==============================] - 1s 212us/step - loss: 0.2582 - val_loss: 0.2456\n",
      "Epoch 8/50\n",
      "5000/5000 [==============================] - 1s 210us/step - loss: 0.2342 - val_loss: 0.2186\n",
      "Epoch 9/50\n",
      "5000/5000 [==============================] - 1s 209us/step - loss: 0.2160 - val_loss: 0.2166\n",
      "Epoch 10/50\n",
      "5000/5000 [==============================] - 1s 212us/step - loss: 0.1995 - val_loss: 0.1930\n",
      "Epoch 11/50\n",
      "5000/5000 [==============================] - 1s 210us/step - loss: 0.1840 - val_loss: 0.1779\n",
      "Epoch 12/50\n",
      "5000/5000 [==============================] - 1s 208us/step - loss: 0.1782 - val_loss: 0.1680\n",
      "Epoch 13/50\n",
      "5000/5000 [==============================] - 1s 211us/step - loss: 0.1711 - val_loss: 0.1636\n",
      "Epoch 14/50\n",
      "5000/5000 [==============================] - 1s 211us/step - loss: 0.1635 - val_loss: 0.1533\n",
      "Epoch 15/50\n",
      "5000/5000 [==============================] - 1s 210us/step - loss: 0.1507 - val_loss: 0.1506\n",
      "Epoch 16/50\n",
      "5000/5000 [==============================] - 1s 210us/step - loss: 0.1481 - val_loss: 0.1433\n",
      "Epoch 17/50\n",
      "5000/5000 [==============================] - 1s 209us/step - loss: 0.1420 - val_loss: 0.1859\n",
      "Epoch 18/50\n",
      "5000/5000 [==============================] - 1s 208us/step - loss: 0.1388 - val_loss: 0.1373\n",
      "Epoch 19/50\n",
      "5000/5000 [==============================] - 1s 211us/step - loss: 0.1322 - val_loss: 0.1553\n",
      "Epoch 20/50\n",
      "5000/5000 [==============================] - 1s 211us/step - loss: 0.1295 - val_loss: 0.1271\n",
      "Epoch 21/50\n",
      "5000/5000 [==============================] - 1s 210us/step - loss: 0.1190 - val_loss: 0.1152\n",
      "Epoch 22/50\n",
      "5000/5000 [==============================] - 1s 211us/step - loss: 0.1119 - val_loss: 0.1227\n",
      "Epoch 23/50\n",
      "5000/5000 [==============================] - 1s 210us/step - loss: 0.1082 - val_loss: 0.1017\n",
      "Epoch 24/50\n",
      "5000/5000 [==============================] - 1s 210us/step - loss: 0.0965 - val_loss: 0.0988\n",
      "Epoch 25/50\n",
      "5000/5000 [==============================] - 1s 210us/step - loss: 0.0984 - val_loss: 0.0913\n",
      "Epoch 26/50\n",
      "5000/5000 [==============================] - 1s 208us/step - loss: 0.0839 - val_loss: 0.0772\n",
      "Epoch 27/50\n",
      "5000/5000 [==============================] - 1s 209us/step - loss: 0.0769 - val_loss: 0.0893\n",
      "Epoch 28/50\n",
      "5000/5000 [==============================] - 1s 210us/step - loss: 0.0670 - val_loss: 0.0689\n",
      "Epoch 29/50\n",
      "5000/5000 [==============================] - 1s 209us/step - loss: 0.0508 - val_loss: 0.0419\n",
      "Epoch 30/50\n",
      "5000/5000 [==============================] - 1s 210us/step - loss: 0.0400 - val_loss: 0.0475\n",
      "Epoch 31/50\n",
      "5000/5000 [==============================] - 1s 209us/step - loss: 0.0301 - val_loss: 0.0330\n",
      "Epoch 32/50\n",
      "5000/5000 [==============================] - 1s 211us/step - loss: 0.0225 - val_loss: 0.0201\n",
      "Epoch 33/50\n",
      "5000/5000 [==============================] - 1s 209us/step - loss: 0.0172 - val_loss: 0.0226\n",
      "Epoch 34/50\n",
      "5000/5000 [==============================] - 1s 207us/step - loss: 0.0141 - val_loss: 0.0147\n",
      "Epoch 35/50\n",
      "5000/5000 [==============================] - 1s 281us/step - loss: 0.0118 - val_loss: 0.0124\n",
      "Epoch 36/50\n",
      "5000/5000 [==============================] - 2s 337us/step - loss: 0.0095 - val_loss: 0.0081\n",
      "Epoch 37/50\n",
      "5000/5000 [==============================] - 2s 337us/step - loss: 0.0081 - val_loss: 0.0075\n",
      "Epoch 38/50\n",
      "5000/5000 [==============================] - 2s 325us/step - loss: 0.0073 - val_loss: 0.0108\n",
      "Epoch 39/50\n",
      "5000/5000 [==============================] - 2s 317us/step - loss: 0.0065 - val_loss: 0.0077\n",
      "Epoch 40/50\n",
      "5000/5000 [==============================] - 2s 308us/step - loss: 0.0055 - val_loss: 0.0057\n",
      "Epoch 41/50\n",
      "5000/5000 [==============================] - 2s 332us/step - loss: 0.0052 - val_loss: 0.0085\n",
      "Epoch 42/50\n",
      "5000/5000 [==============================] - 2s 326us/step - loss: 0.0050 - val_loss: 0.0045\n",
      "Epoch 43/50\n",
      "5000/5000 [==============================] - 2s 327us/step - loss: 0.0051 - val_loss: 0.0043\n",
      "Epoch 44/50\n",
      "5000/5000 [==============================] - 2s 329us/step - loss: 0.0041 - val_loss: 0.0034\n",
      "Epoch 45/50\n",
      "5000/5000 [==============================] - 2s 322us/step - loss: 0.0040 - val_loss: 0.0034\n",
      "Epoch 46/50\n",
      "5000/5000 [==============================] - 2s 306us/step - loss: 0.0037 - val_loss: 0.0037\n",
      "Epoch 47/50\n",
      "5000/5000 [==============================] - 2s 328us/step - loss: 0.0032 - val_loss: 0.0027\n",
      "Epoch 48/50\n",
      "5000/5000 [==============================] - 2s 316us/step - loss: 0.0030 - val_loss: 0.0051\n",
      "Epoch 49/50\n",
      "5000/5000 [==============================] - 2s 323us/step - loss: 0.0029 - val_loss: 0.0024\n",
      "Epoch 50/50\n",
      "5000/5000 [==============================] - 2s 331us/step - loss: 0.0025 - val_loss: 0.0027\n"
     ]
    },
    {
     "data": {
      "text/plain": [
       "<tensorflow.python.keras.callbacks.History at 0x7f71443847f0>"
      ]
     },
     "execution_count": 12,
     "metadata": {},
     "output_type": "execute_result"
    }
   ],
   "source": [
    "model.fit(X,Y,epochs=50,validation_split=0.5,callbacks=[es]) #Have Keras make a test/validation split for us\n"
   ]
  },
  {
   "cell_type": "code",
   "execution_count": 13,
   "metadata": {
    "slideshow": {
     "slide_type": "slide"
    }
   },
   "outputs": [
    {
     "data": {
      "text/plain": [
       "<matplotlib.legend.Legend at 0x7f7124520668>"
      ]
     },
     "execution_count": 13,
     "metadata": {},
     "output_type": "execute_result"
    },
    {
     "data": {
      "image/png": "[encoded data removed]",
      "text/plain": [
       "<Figure size 432x288 with 1 Axes>"
      ]
     },
     "metadata": {
      "needs_background": "light"
     },
     "output_type": "display_data"
    }
   ],
   "source": [
    "\n",
    "X_test=np.random.uniform(0,10,size=(100,data_dim))\n",
    "X_test[:,0]=np.linspace(-5,15,100)\n",
    "Y_test=func(X_test)\n",
    "Y_pred=model.predict(X_test)\n",
    "\n",
    "plt.scatter(X_test[:,0],Y_pred,label='prediction')\n",
    "plt.scatter(X_test[:,0],Y_test,label='truth')\n",
    "plt.xlabel('X[:,0]')\n",
    "plt.ylabel('Y')\n",
    "plt.legend()\n"
   ]
  },
  {
   "cell_type": "markdown",
   "metadata": {
    "slideshow": {
     "slide_type": "fragment"
    }
   },
   "source": [
    "The data fits the sin curve perfectly where it had seen training data 0-10, and not so well where there was no training data. Neural networks are universal function approximators, you have little control of what they predict when given data that is completely new. \n"
   ]
  },
  {
   "cell_type": "markdown",
   "metadata": {
    "slideshow": {
     "slide_type": "slide"
    }
   },
   "source": [
    "# Dense network summary\n",
    "\n",
    "* Dense networks take fixed length input and have a fixed length output\n",
    "* Like All Neural Network layers they require an activation function\n",
    "* They can be stacked to represent more complicated functions\n",
    "* You're taking your chances when predicting data that's very different from you're training data\n"
   ]
  },
  {
   "cell_type": "markdown",
   "metadata": {},
   "source": [
    "# A Real World Example\n",
    "We're going to use a number of measured values to try and predict good wine.\n",
    "Source:https://archive.ics.uci.edu/ml/datasets/Wine+Quality (Cortez et al., 2009)\n",
    "\n",
    "* Goal: Predict whether a wine is excellent based score given to the wine by an expert panel (1-10)\n",
    "    * Score > 5 Excellent\n",
    "    * Score <=5 Average\n",
    "\n",
    "* Features:\n",
    "  * 1 - fixed acidity\n",
    "  * 2 - volatile acidity\n",
    "  * 3 - citric acid\n",
    "  * 4 - residual sugar\n",
    "  * 5 - chlorides\n",
    "  * 6 - free sulfur dioxide\n",
    "  * 7 - total sulfur dioxide\n",
    "  * 8 - density\n",
    "  * 9 - pH\n",
    "  * 10 - sulphates\n",
    "  * 11 - alcohol\n",
    "  * 12 - Red/White\n",
    "\n",
    "# Classification\n",
    "\n",
    "This is a classification problem each of our example belongs to an excellent class or an average class. Since Neural networks are universal function approximators, we can use\n",
    "\n",
    "$P(y|x)$\n",
    "\n",
    "binary cross-entropy\n",
    "\n",
    "$L=y_{true}*ln(y_pred)-(1-y_{true})$\n",
    "\n",
    "\n",
    "* if you're curious\n",
    "\n",
    "This is essentially the log likelihood of a Bernoulli distribution\n",
    "\n",
    "$P(y,k)=p_{true}^{k}(1-p_{k})^{1-y}$\n",
    "\n",
    "$ln(P(y,k))=ln(p_{true}^{k}(1-p_{k})^{1-y}$)=\n",
    "\n"
   ]
  },
  {
   "cell_type": "code",
   "execution_count": 14,
   "metadata": {},
   "outputs": [
    {
     "name": "stdout",
     "output_type": "stream",
     "text": [
      "(4561, 12) (4561,)\n"
     ]
    }
   ],
   "source": [
    "import winedata\n",
    "import importlib\n",
    "importlib.reload(winedata)\n",
    "\n",
    "\n",
    "wd=winedata.WineData()\n",
    "print(wd.x_train.shape,wd.y_train.shape)"
   ]
  },
  {
   "cell_type": "code",
   "execution_count": 17,
   "metadata": {},
   "outputs": [
    {
     "data": {
      "text/plain": [
       "<matplotlib.collections.PathCollection at 0x7f711c56bcc0>"
      ]
     },
     "execution_count": 17,
     "metadata": {},
     "output_type": "execute_result"
    },
    {
     "data": {
      "image/png": "[encoded data removed]",
      "text/plain": [
       "<Figure size 432x288 with 1 Axes>"
      ]
     },
     "metadata": {
      "needs_background": "light"
     },
     "output_type": "display_data"
    }
   ],
   "source": [
    "pred=model.predict(wd.x_develop)\n",
    "plt.scatter(pred,wd.y_develop)"
   ]
  },
  {
   "cell_type": "code",
   "execution_count": 18,
   "metadata": {},
   "outputs": [
    {
     "data": {
      "text/plain": [
       "array([False,  True, False, ..., False, False,  True])"
      ]
     },
     "execution_count": 18,
     "metadata": {},
     "output_type": "execute_result"
    }
   ],
   "source": [
    "wd.y_develop\n"
   ]
  },
  {
   "cell_type": "code",
   "execution_count": 19,
   "metadata": {},
   "outputs": [
    {
     "name": "stdout",
     "output_type": "stream",
     "text": [
      "_________________________________________________________________\n",
      "Layer (type)                 Output Shape              Param #   \n",
      "=================================================================\n",
      "input_5 (InputLayer)         (None, 12)                0         \n",
      "_________________________________________________________________\n",
      "dense_10 (Dense)             (None, 50)                650       \n",
      "_________________________________________________________________\n",
      "leaky_re_lu_6 (LeakyReLU)    (None, 50)                0         \n",
      "_________________________________________________________________\n",
      "dropout (Dropout)            (None, 50)                0         \n",
      "_________________________________________________________________\n",
      "dense_11 (Dense)             (None, 50)                2550      \n",
      "_________________________________________________________________\n",
      "leaky_re_lu_7 (LeakyReLU)    (None, 50)                0         \n",
      "_________________________________________________________________\n",
      "dropout_1 (Dropout)          (None, 50)                0         \n",
      "_________________________________________________________________\n",
      "dense_12 (Dense)             (None, 50)                2550      \n",
      "_________________________________________________________________\n",
      "leaky_re_lu_8 (LeakyReLU)    (None, 50)                0         \n",
      "_________________________________________________________________\n",
      "dropout_2 (Dropout)          (None, 50)                0         \n",
      "_________________________________________________________________\n",
      "dense_13 (Dense)             (None, 1)                 51        \n",
      "=================================================================\n",
      "Total params: 5,801\n",
      "Trainable params: 5,801\n",
      "Non-trainable params: 0\n",
      "_________________________________________________________________\n"
     ]
    }
   ],
   "source": [
    "input_layer=tf.keras.layers.Input(shape=(12,)) \n",
    "###Lets Add another layer and an Activation###\n",
    "nn = tf.keras.layers.Dense(50)(input_layer)\n",
    "nn = tf.keras.layers.LeakyReLU()(nn)\n",
    "nn = tf.keras.layers.Dropout(0.3)(nn)\n",
    "nn = tf.keras.layers.Dense(50)(nn)\n",
    "nn = tf.keras.layers.LeakyReLU()(nn)\n",
    "nn = tf.keras.layers.Dropout(0.3)(nn)\n",
    "nn = tf.keras.layers.Dense(50)(nn)\n",
    "nn = tf.keras.layers.LeakyReLU()(nn)\n",
    "nn = tf.keras.layers.Dropout(0.3)(nn)\n",
    "\n",
    "output_layer = tf.keras.layers.Dense(1,activation='sigmoid')(nn)\n",
    "#A keras model is a way of going from one layer to the next\n",
    "model=tf.keras.models.Model(input_layer,output_layer)\n",
    "model.summary()\n",
    "model.compile(loss='binary_crossentropy',optimizer='adam',metrics=['accuracy'])"
   ]
  },
  {
   "cell_type": "code",
   "execution_count": 20,
   "metadata": {},
   "outputs": [
    {
     "name": "stdout",
     "output_type": "stream",
     "text": [
      "Train on 4561 samples, validate on 1936 samples\n",
      "Epoch 1/50\n",
      "4561/4561 [==============================] - 2s 485us/step - loss: 2.8997 - acc: 0.5448 - val_loss: 0.7570 - val_acc: 0.6410\n",
      "Epoch 2/50\n",
      "4561/4561 [==============================] - 2s 348us/step - loss: 1.2214 - acc: 0.5457 - val_loss: 0.6567 - val_acc: 0.6410\n",
      "Epoch 3/50\n",
      "4561/4561 [==============================] - 2s 337us/step - loss: 0.9102 - acc: 0.5538 - val_loss: 0.6513 - val_acc: 0.6410\n",
      "Epoch 4/50\n",
      "4561/4561 [==============================] - 1s 328us/step - loss: 0.7907 - acc: 0.5819 - val_loss: 0.6504 - val_acc: 0.6410\n",
      "Epoch 5/50\n",
      "4561/4561 [==============================] - 2s 348us/step - loss: 0.7512 - acc: 0.5801 - val_loss: 0.6514 - val_acc: 0.6415\n",
      "Epoch 6/50\n",
      "4561/4561 [==============================] - 2s 345us/step - loss: 0.7136 - acc: 0.5856 - val_loss: 0.6485 - val_acc: 0.6410\n",
      "Epoch 7/50\n",
      "4561/4561 [==============================] - 2s 332us/step - loss: 0.7017 - acc: 0.5975 - val_loss: 0.6469 - val_acc: 0.6410\n",
      "Epoch 8/50\n",
      "4561/4561 [==============================] - 1s 322us/step - loss: 0.6877 - acc: 0.6045 - val_loss: 0.6449 - val_acc: 0.6410\n",
      "Epoch 9/50\n",
      "4561/4561 [==============================] - 2s 350us/step - loss: 0.6781 - acc: 0.6043 - val_loss: 0.6438 - val_acc: 0.6410\n",
      "Epoch 10/50\n",
      "4561/4561 [==============================] - 2s 340us/step - loss: 0.6674 - acc: 0.6194 - val_loss: 0.6405 - val_acc: 0.6420\n",
      "Epoch 11/50\n",
      "4561/4561 [==============================] - 1s 323us/step - loss: 0.6625 - acc: 0.6262 - val_loss: 0.6398 - val_acc: 0.6441\n",
      "Epoch 12/50\n",
      "4561/4561 [==============================] - 2s 341us/step - loss: 0.6470 - acc: 0.6345 - val_loss: 0.6403 - val_acc: 0.6436\n",
      "Epoch 13/50\n",
      "4561/4561 [==============================] - 2s 334us/step - loss: 0.6448 - acc: 0.6343 - val_loss: 0.6181 - val_acc: 0.6451\n",
      "Epoch 14/50\n",
      "4561/4561 [==============================] - 2s 344us/step - loss: 0.6369 - acc: 0.6295 - val_loss: 0.6035 - val_acc: 0.6493\n",
      "Epoch 15/50\n",
      "4561/4561 [==============================] - 2s 339us/step - loss: 0.6214 - acc: 0.6382 - val_loss: 0.5929 - val_acc: 0.6503\n",
      "Epoch 16/50\n",
      "4561/4561 [==============================] - 2s 331us/step - loss: 0.6181 - acc: 0.6420 - val_loss: 0.5851 - val_acc: 0.6524\n",
      "Epoch 17/50\n",
      "4561/4561 [==============================] - 2s 337us/step - loss: 0.6043 - acc: 0.6540 - val_loss: 0.5738 - val_acc: 0.6653\n",
      "Epoch 18/50\n",
      "4561/4561 [==============================] - 1s 329us/step - loss: 0.6007 - acc: 0.6615 - val_loss: 0.5677 - val_acc: 0.6674\n",
      "Epoch 19/50\n",
      "4561/4561 [==============================] - 2s 343us/step - loss: 0.5963 - acc: 0.6694 - val_loss: 0.5672 - val_acc: 0.6751\n",
      "Epoch 20/50\n",
      "4561/4561 [==============================] - 1s 319us/step - loss: 0.5847 - acc: 0.6722 - val_loss: 0.5582 - val_acc: 0.6921\n",
      "Epoch 21/50\n",
      "4561/4561 [==============================] - 1s 326us/step - loss: 0.5887 - acc: 0.6751 - val_loss: 0.5667 - val_acc: 0.6937\n",
      "Epoch 22/50\n",
      "4561/4561 [==============================] - 2s 340us/step - loss: 0.5779 - acc: 0.6887 - val_loss: 0.5522 - val_acc: 0.6901\n",
      "Epoch 23/50\n",
      "4561/4561 [==============================] - 2s 330us/step - loss: 0.5759 - acc: 0.6755 - val_loss: 0.5498 - val_acc: 0.6870\n",
      "Epoch 24/50\n",
      "4561/4561 [==============================] - 1s 327us/step - loss: 0.5793 - acc: 0.6764 - val_loss: 0.5464 - val_acc: 0.7025\n",
      "Epoch 25/50\n",
      "4561/4561 [==============================] - 1s 327us/step - loss: 0.5752 - acc: 0.6832 - val_loss: 0.5585 - val_acc: 0.7009\n",
      "Epoch 26/50\n",
      "4561/4561 [==============================] - 2s 334us/step - loss: 0.5728 - acc: 0.6843 - val_loss: 0.5479 - val_acc: 0.7118\n",
      "Epoch 27/50\n",
      "4561/4561 [==============================] - 2s 335us/step - loss: 0.5643 - acc: 0.6876 - val_loss: 0.5503 - val_acc: 0.7061\n",
      "Epoch 28/50\n",
      "4561/4561 [==============================] - 2s 335us/step - loss: 0.5652 - acc: 0.6970 - val_loss: 0.5378 - val_acc: 0.7113\n",
      "Epoch 29/50\n",
      "4561/4561 [==============================] - 1s 328us/step - loss: 0.5661 - acc: 0.6884 - val_loss: 0.5345 - val_acc: 0.7237\n",
      "Epoch 30/50\n",
      "4561/4561 [==============================] - 1s 322us/step - loss: 0.5637 - acc: 0.6992 - val_loss: 0.5347 - val_acc: 0.7169\n",
      "Epoch 31/50\n",
      "4561/4561 [==============================] - 2s 338us/step - loss: 0.5643 - acc: 0.7025 - val_loss: 0.5368 - val_acc: 0.7159\n",
      "Epoch 32/50\n",
      "4561/4561 [==============================] - 2s 343us/step - loss: 0.5575 - acc: 0.7029 - val_loss: 0.5287 - val_acc: 0.7252\n",
      "Epoch 33/50\n",
      "4561/4561 [==============================] - 1s 242us/step - loss: 0.5628 - acc: 0.7016 - val_loss: 0.5297 - val_acc: 0.7113\n",
      "Epoch 34/50\n",
      "4561/4561 [==============================] - 1s 240us/step - loss: 0.5597 - acc: 0.7003 - val_loss: 0.5518 - val_acc: 0.7030\n",
      "Epoch 35/50\n",
      "4561/4561 [==============================] - 1s 327us/step - loss: 0.5656 - acc: 0.6996 - val_loss: 0.5293 - val_acc: 0.7283\n",
      "Epoch 36/50\n",
      "4561/4561 [==============================] - 2s 340us/step - loss: 0.5574 - acc: 0.7073 - val_loss: 0.5349 - val_acc: 0.7185\n",
      "Epoch 37/50\n",
      "4561/4561 [==============================] - 1s 317us/step - loss: 0.5568 - acc: 0.6998 - val_loss: 0.5253 - val_acc: 0.7138\n",
      "Epoch 38/50\n",
      "4561/4561 [==============================] - 1s 324us/step - loss: 0.5564 - acc: 0.7060 - val_loss: 0.5388 - val_acc: 0.7066\n",
      "Epoch 39/50\n",
      "4561/4561 [==============================] - 2s 335us/step - loss: 0.5581 - acc: 0.7051 - val_loss: 0.5417 - val_acc: 0.7169\n",
      "Epoch 40/50\n",
      "4561/4561 [==============================] - 1s 314us/step - loss: 0.5524 - acc: 0.7066 - val_loss: 0.5223 - val_acc: 0.7283\n",
      "Epoch 41/50\n",
      "4561/4561 [==============================] - 2s 340us/step - loss: 0.5472 - acc: 0.7110 - val_loss: 0.5519 - val_acc: 0.7040\n",
      "Epoch 42/50\n",
      "4561/4561 [==============================] - 2s 331us/step - loss: 0.5546 - acc: 0.6970 - val_loss: 0.5287 - val_acc: 0.7056\n",
      "Epoch 43/50\n",
      "4561/4561 [==============================] - 2s 345us/step - loss: 0.5516 - acc: 0.7137 - val_loss: 0.5363 - val_acc: 0.7273\n",
      "Epoch 44/50\n",
      "4561/4561 [==============================] - 2s 343us/step - loss: 0.5459 - acc: 0.7145 - val_loss: 0.5187 - val_acc: 0.7195\n",
      "Epoch 45/50\n",
      "4561/4561 [==============================] - 1s 324us/step - loss: 0.5499 - acc: 0.7148 - val_loss: 0.5256 - val_acc: 0.7200\n",
      "Epoch 46/50\n",
      "4561/4561 [==============================] - 2s 330us/step - loss: 0.5475 - acc: 0.7112 - val_loss: 0.5261 - val_acc: 0.7237\n",
      "Epoch 47/50\n",
      "4561/4561 [==============================] - 2s 346us/step - loss: 0.5437 - acc: 0.7172 - val_loss: 0.5215 - val_acc: 0.7159\n",
      "Epoch 48/50\n",
      "4561/4561 [==============================] - 2s 333us/step - loss: 0.5450 - acc: 0.7226 - val_loss: 0.5175 - val_acc: 0.7206\n",
      "Epoch 49/50\n",
      "4561/4561 [==============================] - 1s 323us/step - loss: 0.5516 - acc: 0.7154 - val_loss: 0.5262 - val_acc: 0.7206\n",
      "Epoch 50/50\n",
      "4561/4561 [==============================] - 2s 342us/step - loss: 0.5419 - acc: 0.7121 - val_loss: 0.5280 - val_acc: 0.7268\n"
     ]
    },
    {
     "data": {
      "text/plain": [
       "<tensorflow.python.keras.callbacks.History at 0x7f71245737f0>"
      ]
     },
     "execution_count": 20,
     "metadata": {},
     "output_type": "execute_result"
    }
   ],
   "source": [
    "model.fit(wd.x_train,wd.y_train,epochs=50,validation_data=(wd.x_develop,wd.y_develop),callbacks=[es]) #Have Keras make a test/validation split for us\n"
   ]
  },
  {
   "cell_type": "code",
   "execution_count": 21,
   "metadata": {},
   "outputs": [
    {
     "name": "stdout",
     "output_type": "stream",
     "text": [
      "[[0.3]\n",
      " [0.4]\n",
      " [0.4]\n",
      " [0.4]\n",
      " [0.3]\n",
      " [0.2]\n",
      " [0.3]\n",
      " [0.3]\n",
      " [0.5]\n",
      " [0.6]]\n",
      "[False  True False False False False False False  True  True]\n"
     ]
    },
    {
     "data": {
      "image/png": "[encoded data removed]",
      "text/plain": [
       "<Figure size 432x288 with 1 Axes>"
      ]
     },
     "metadata": {
      "needs_background": "light"
     },
     "output_type": "display_data"
    }
   ],
   "source": [
    "pred=model.predict(wd.x_develop)\n",
    "print(np.round(pred[0:10],1))\n",
    "\n",
    "#print(np.argmax(pred,axis=1).shape)\n",
    "print(wd.y_develop[0:10])\n",
    "\n",
    "plt.hist(np.argmax(pred))\n",
    "\n",
    "plt.hist2d(np.argmax(pred,axis=1),wd.y_develop)\n",
    "plt.show()\n"
   ]
  },
  {
   "cell_type": "code",
   "execution_count": 22,
   "metadata": {},
   "outputs": [
    {
     "name": "stdout",
     "output_type": "stream",
     "text": [
      "(1936, 1) (1936,)\n"
     ]
    },
    {
     "data": {
      "image/png": "[encoded data removed]",
      "text/plain": [
       "<Figure size 432x288 with 1 Axes>"
      ]
     },
     "metadata": {
      "needs_background": "light"
     },
     "output_type": "display_data"
    }
   ],
   "source": [
    "print(pred.shape,wd.y_develop.shape)\n",
    "\n",
    "plt.hist([p for i,p in zip(wd.y_develop,np.squeeze(pred)) if i],bins=50,range=(0,1),density=True,histtype='step',label=\"Good\")\n",
    "plt.hist([p for i,p in zip(wd.y_develop,np.squeeze(pred)) if not i],bins=50,range=(0,1),density=True,histtype='step',label=\"Bad\")\n",
    "\n",
    "plt.legend()\n",
    "plt.xlabel('NN Output')\n",
    "plt.show()\n"
   ]
  },
  {
   "cell_type": "code",
   "execution_count": 25,
   "metadata": {},
   "outputs": [
    {
     "name": "stdout",
     "output_type": "stream",
     "text": [
      "(1936, 1)\n",
      "429 1507\n"
     ]
    },
    {
     "data": {
      "image/png": "[encoded data removed]",
      "text/plain": [
       "<Figure size 432x288 with 1 Axes>"
      ]
     },
     "metadata": {
      "needs_background": "light"
     },
     "output_type": "display_data"
    },
    {
     "name": "stdout",
     "output_type": "stream",
     "text": [
      "429 1507\n"
     ]
    },
    {
     "data": {
      "image/png": "[encoded data removed]",
      "text/plain": [
       "<Figure size 432x288 with 1 Axes>"
      ]
     },
     "metadata": {
      "needs_background": "light"
     },
     "output_type": "display_data"
    },
    {
     "name": "stdout",
     "output_type": "stream",
     "text": [
      "429 1507\n"
     ]
    },
    {
     "data": {
      "image/png": "[encoded data removed]",
      "text/plain": [
       "<Figure size 432x288 with 1 Axes>"
      ]
     },
     "metadata": {
      "needs_background": "light"
     },
     "output_type": "display_data"
    },
    {
     "name": "stdout",
     "output_type": "stream",
     "text": [
      "429 1507\n"
     ]
    },
    {
     "data": {
      "image/png": "[encoded data removed]",
      "text/plain": [
       "<Figure size 432x288 with 1 Axes>"
      ]
     },
     "metadata": {
      "needs_background": "light"
     },
     "output_type": "display_data"
    },
    {
     "name": "stdout",
     "output_type": "stream",
     "text": [
      "429 1507\n"
     ]
    },
    {
     "data": {
      "image/png": "[encoded data removed]",
      "text/plain": [
       "<Figure size 432x288 with 1 Axes>"
      ]
     },
     "metadata": {
      "needs_background": "light"
     },
     "output_type": "display_data"
    },
    {
     "name": "stdout",
     "output_type": "stream",
     "text": [
      "429 1507\n"
     ]
    },
    {
     "data": {
      "image/png": "[encoded data removed]",
      "text/plain": [
       "<Figure size 432x288 with 1 Axes>"
      ]
     },
     "metadata": {
      "needs_background": "light"
     },
     "output_type": "display_data"
    },
    {
     "name": "stdout",
     "output_type": "stream",
     "text": [
      "429 1507\n"
     ]
    },
    {
     "data": {
      "image/png": "[encoded data removed]",
      "text/plain": [
       "<Figure size 432x288 with 1 Axes>"
      ]
     },
     "metadata": {
      "needs_background": "light"
     },
     "output_type": "display_data"
    },
    {
     "name": "stdout",
     "output_type": "stream",
     "text": [
      "429 1507\n"
     ]
    },
    {
     "data": {
      "image/png": "[encoded data removed]",
      "text/plain": [
       "<Figure size 432x288 with 1 Axes>"
      ]
     },
     "metadata": {
      "needs_background": "light"
     },
     "output_type": "display_data"
    },
    {
     "name": "stdout",
     "output_type": "stream",
     "text": [
      "429 1507\n"
     ]
    },
    {
     "data": {
      "image/png": "[encoded data removed]",
      "text/plain": [
       "<Figure size 432x288 with 1 Axes>"
      ]
     },
     "metadata": {
      "needs_background": "light"
     },
     "output_type": "display_data"
    },
    {
     "name": "stdout",
     "output_type": "stream",
     "text": [
      "429 1507\n"
     ]
    },
    {
     "data": {
      "image/png": "[encoded data removed]",
      "text/plain": [
       "<Figure size 432x288 with 1 Axes>"
      ]
     },
     "metadata": {
      "needs_background": "light"
     },
     "output_type": "display_data"
    },
    {
     "name": "stdout",
     "output_type": "stream",
     "text": [
      "429 1507\n"
     ]
    },
    {
     "data": {
      "image/png": "[encoded data removed]",
      "text/plain": [
       "<Figure size 432x288 with 1 Axes>"
      ]
     },
     "metadata": {
      "needs_background": "light"
     },
     "output_type": "display_data"
    },
    {
     "name": "stdout",
     "output_type": "stream",
     "text": [
      "429 1507\n"
     ]
    },
    {
     "data": {
      "image/png": "[encoded data removed]",
      "text/plain": [
       "<Figure size 432x288 with 1 Axes>"
      ]
     },
     "metadata": {
      "needs_background": "light"
     },
     "output_type": "display_data"
    }
   ],
   "source": [
    "print(pred.shape)\n",
    "for n in range(12):\n",
    "    good=[]\n",
    "    bad=[]\n",
    "    for i,v in enumerate(pred[:,0]):\n",
    "        if v >.8:\n",
    "            good.append(wd.x_develop[i,n])\n",
    "        else:\n",
    "            bad.append(wd.x_develop[i,n])\n",
    "    print(len(good),len(bad))\n",
    "    label=wd.header[n]\n",
    "    max_range=max([max(good),max(bad)])\n",
    "    min_range=min([min(good),min(bad)])\n",
    "    \n",
    "    plt.hist(good,density=True,histtype='step',label='good',range=(min_range,max_range),bins=10)\n",
    "    plt.hist(bad,density=True,histtype='step',label='bad',range=(min_range,max_range),bins=10)\n",
    "    plt.xlabel(label)\n",
    "    plt.legend()\n",
    "    plt.show()"
   ]
  },
  {
   "cell_type": "code",
   "execution_count": 29,
   "metadata": {},
   "outputs": [
    {
     "name": "stdout",
     "output_type": "stream",
     "text": [
      "(1936,)\n",
      "1241 695\n"
     ]
    },
    {
     "data": {
      "image/png": "[encoded data removed]",
      "text/plain": [
       "<Figure size 432x288 with 1 Axes>"
      ]
     },
     "metadata": {
      "needs_background": "light"
     },
     "output_type": "display_data"
    },
    {
     "name": "stdout",
     "output_type": "stream",
     "text": [
      "1241 695\n"
     ]
    },
    {
     "data": {
      "image/png": "[encoded data removed]",
      "text/plain": [
       "<Figure size 432x288 with 1 Axes>"
      ]
     },
     "metadata": {
      "needs_background": "light"
     },
     "output_type": "display_data"
    },
    {
     "name": "stdout",
     "output_type": "stream",
     "text": [
      "1241 695\n"
     ]
    },
    {
     "data": {
      "image/png": "[encoded data removed]",
      "text/plain": [
       "<Figure size 432x288 with 1 Axes>"
      ]
     },
     "metadata": {
      "needs_background": "light"
     },
     "output_type": "display_data"
    },
    {
     "name": "stdout",
     "output_type": "stream",
     "text": [
      "1241 695\n"
     ]
    },
    {
     "data": {
      "image/png": "[encoded data removed]",
      "text/plain": [
       "<Figure size 432x288 with 1 Axes>"
      ]
     },
     "metadata": {
      "needs_background": "light"
     },
     "output_type": "display_data"
    },
    {
     "name": "stdout",
     "output_type": "stream",
     "text": [
      "1241 695\n"
     ]
    },
    {
     "data": {
      "image/png": "[encoded data removed]",
      "text/plain": [
       "<Figure size 432x288 with 1 Axes>"
      ]
     },
     "metadata": {
      "needs_background": "light"
     },
     "output_type": "display_data"
    },
    {
     "name": "stdout",
     "output_type": "stream",
     "text": [
      "1241 695\n"
     ]
    },
    {
     "data": {
      "image/png": "[encoded data removed]",
      "text/plain": [
       "<Figure size 432x288 with 1 Axes>"
      ]
     },
     "metadata": {
      "needs_background": "light"
     },
     "output_type": "display_data"
    },
    {
     "name": "stdout",
     "output_type": "stream",
     "text": [
      "1241 695\n"
     ]
    },
    {
     "data": {
      "image/png": "[encoded data removed]",
      "text/plain": [
       "<Figure size 432x288 with 1 Axes>"
      ]
     },
     "metadata": {
      "needs_background": "light"
     },
     "output_type": "display_data"
    },
    {
     "name": "stdout",
     "output_type": "stream",
     "text": [
      "1241 695\n"
     ]
    },
    {
     "data": {
      "image/png": "[encoded data removed]",
      "text/plain": [
       "<Figure size 432x288 with 1 Axes>"
      ]
     },
     "metadata": {
      "needs_background": "light"
     },
     "output_type": "display_data"
    },
    {
     "name": "stdout",
     "output_type": "stream",
     "text": [
      "1241 695\n"
     ]
    },
    {
     "data": {
      "image/png": "[encoded data removed]",
      "text/plain": [
       "<Figure size 432x288 with 1 Axes>"
      ]
     },
     "metadata": {
      "needs_background": "light"
     },
     "output_type": "display_data"
    },
    {
     "name": "stdout",
     "output_type": "stream",
     "text": [
      "1241 695\n"
     ]
    },
    {
     "data": {
      "image/png": "[encoded data removed]",
      "text/plain": [
       "<Figure size 432x288 with 1 Axes>"
      ]
     },
     "metadata": {
      "needs_background": "light"
     },
     "output_type": "display_data"
    },
    {
     "name": "stdout",
     "output_type": "stream",
     "text": [
      "1241 695\n"
     ]
    },
    {
     "data": {
      "image/png": "[encoded data removed]",
      "text/plain": [
       "<Figure size 432x288 with 1 Axes>"
      ]
     },
     "metadata": {
      "needs_background": "light"
     },
     "output_type": "display_data"
    },
    {
     "name": "stdout",
     "output_type": "stream",
     "text": [
      "1241 695\n"
     ]
    },
    {
     "data": {
      "image/png": "[encoded data removed]",
      "text/plain": [
       "<Figure size 432x288 with 1 Axes>"
      ]
     },
     "metadata": {
      "needs_background": "light"
     },
     "output_type": "display_data"
    }
   ],
   "source": [
    "print(wd.y_develop.shape)\n",
    "for n in range(12):\n",
    "    good=[]\n",
    "    bad=[]\n",
    "    for i,v in enumerate(wd.y_develop):\n",
    "        if v >.8:\n",
    "            good.append(wd.x_develop[i,n])\n",
    "        else:\n",
    "            bad.append(wd.x_develop[i,n])\n",
    "    print(len(good),len(bad))\n",
    "    label=wd.header[n]\n",
    "    max_range=max([max(good),max(bad)])\n",
    "    min_range=min([min(good),min(bad)])\n",
    "    \n",
    "    plt.hist(good,density=True,histtype='step',label='good',range=(min_range,max_range),bins=10)\n",
    "    plt.hist(bad,density=True,histtype='step',label='bad',range=(min_range,max_range),bins=10)\n",
    "    plt.xlabel(label)\n",
    "    plt.legend()\n",
    "    plt.show()"
   ]
  },
  {
   "cell_type": "code",
   "execution_count": null,
   "metadata": {},
   "outputs": [],
   "source": []
  },
  {
   "cell_type": "code",
   "execution_count": null,
   "metadata": {},
   "outputs": [],
   "source": []
  }
 ],
 "metadata": {
  "celltoolbar": "Slideshow",
  "kernelspec": {
   "display_name": "Python 3",
   "language": "python",
   "name": "python3"
  },
  "language_info": {
   "codemirror_mode": {
    "name": "ipython",
    "version": 3
   },
   "file_extension": ".py",
   "mimetype": "text/x-python",
   "name": "python",
   "nbconvert_exporter": "python",
   "pygments_lexer": "ipython3",
   "version": "3.6.7"
  }
 },
 "nbformat": 4,
 "nbformat_minor": 2
}
