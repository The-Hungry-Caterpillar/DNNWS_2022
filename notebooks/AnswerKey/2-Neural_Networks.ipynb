{
 "cells": [
  {
   "cell_type": "markdown",
   "metadata": {
    "slideshow": {
     "slide_type": "slide"
    }
   },
   "source": [
    "# Machine Learning Reminder\n",
    "* Find f(x) such that f(x) best approximates y\n",
    "* Examples:\n",
    "    * Given some pixels (x) tell me the probability it’s a cat (y)\n",
    "    * Given news articles (x) tell me a stocks value (y)\n",
    "    * Given some sequences x find some low dimensional space (z) that represent my data \n",
    "      * f1(x)=z f2(z)=x  \n",
    "\n",
    "# Outline\n",
    "* Dense (Fully Connected Neural Networks)\n",
    "  * Example Regression Fits\n",
    " \n",
    "# Goals\n",
    "\n",
    "Dense Neural Netrworks are an essential building block used in Deep Learning image analysis our goals are:\n",
    "* Know what a Dense Neural Network is\n",
    "    * Know what an activation function is and what it does\n",
    "* Know how to write a Dense Neural Network\n",
    "* How do I train a Dense Neural Network\n",
    "    * Experiment with hyperparameters\n"
   ]
  },
  {
   "cell_type": "markdown",
   "metadata": {
    "slideshow": {
     "slide_type": "slide"
    }
   },
   "source": [
    "# Packages\n",
    "\n",
    "We're going to be working primarily with Keras and Tensorflow. They're some alternatives like PyTorch, but they all allow you to build ML models."
   ]
  },
  {
   "cell_type": "code",
   "execution_count": 1,
   "metadata": {
    "slideshow": {
     "slide_type": "fragment"
    }
   },
   "outputs": [],
   "source": [
    "import tensorflow as tf\n",
    "import numpy as np\n",
    "import matplotlib.pyplot as plt"
   ]
  },
  {
   "cell_type": "markdown",
   "metadata": {
    "slideshow": {
     "slide_type": "slide"
    }
   },
   "source": [
    "# Our first Layer\n",
    "A Dense or fully connected layer\n",
    "\n",
    "<img src=\"../../assets/network_diagrams/dense.png\">\n",
    "\n",
    "A dense layer has a connection between every input variable and every output node. Each connection is represented by a weight $W_{i,n}$ from and input $X_n$ to an output $O_i$. The output is a sum over all the input variables times there weights plus a bias $B_i$\n",
    "<p style=\"text-align: center;\">\n",
    "$O_i = \\sum_n W_{i,n}*X_n+B_i$    \n",
    "</p>\n",
    "\n",
    "We will need to fit this to data, which means finding the best values for $W_{i,n}$ and $B_i$ to approximate our data.\n",
    "\n",
    "We will often also stack layers $l$, so the output of one layer feeds into the next\n",
    "\n",
    "$O_{i,l} = \\sigma(\\sum_n W_{i,l,n}*O_{i,l-1}+B_{i,l})$   \n",
    "\n",
    "\n",
    "* We'll discuss this more in later in the lecture, but it's important when stacking layers we use an non-linear activation function $\\sigma$\n",
    "\n",
    "<img src=\"../../assets/network_diagrams/nn_3_3_3.png\">\n",
    "\n"
   ]
  },
  {
   "cell_type": "markdown",
   "metadata": {},
   "source": [
    "# When to use a Dense Network\n",
    "\n",
    "* When you have fixed input size and a fixed output size \n",
    "* When your input size isn't too big\n",
    "    * We'll have to add something extra for image data\n",
    "    \n",
    "# Practice Building Networks\n",
    "\n",
    "## Keras organizes a network by layers\n",
    "\n",
    "Look at the code below, It has \n",
    "* One input layer with an input size = 3 \n",
    "* One output layer and an output size = 1\n",
    "* A layer is connect to a previous layer by passing the previous layer as an argument\n",
    "  * i.e   \n",
    "  output_layer=**tf.keras.layers.Dense**(*these arguments initialize the layer* )(**input_layer** *this argument connects the layers* ) #this call is to connect to input layer\n",
    "  \n",
    "## Networks are wrapped up into a Model\n",
    "\n",
    "A model tells Keras which inputs/outputs you want to use for example\n",
    "\n",
    "**linear_model=tf.keras.models.Model(input_layer,output_layer)**\n",
    "\n",
    "you'll need this model to fit to your data\n"
   ]
  },
  {
   "cell_type": "code",
   "execution_count": 2,
   "metadata": {},
   "outputs": [
    {
     "name": "stdout",
     "output_type": "stream",
     "text": [
      "Model: \"model\"\n",
      "_________________________________________________________________\n",
      "Layer (type)                 Output Shape              Param #   \n",
      "=================================================================\n",
      "input_1 (InputLayer)         [(None, 3)]               0         \n",
      "_________________________________________________________________\n",
      "dense (Dense)                (None, 1)                 4         \n",
      "=================================================================\n",
      "Total params: 4\n",
      "Trainable params: 4\n",
      "Non-trainable params: 0\n",
      "_________________________________________________________________\n",
      "<class 'keras.engine.functional.Functional'>\n"
     ]
    },
    {
     "name": "stderr",
     "output_type": "stream",
     "text": [
      "2022-01-27 11:54:07.364568: I tensorflow/core/platform/cpu_feature_guard.cc:142] This TensorFlow binary is optimized with oneAPI Deep Neural Network Library (oneDNN) to use the following CPU instructions in performance-critical operations:  AVX2 FMA\n",
      "To enable them in other operations, rebuild TensorFlow with the appropriate compiler flags.\n",
      "2022-01-27 11:54:07.765156: I tensorflow/core/common_runtime/gpu/gpu_device.cc:1510] Created device /job:localhost/replica:0/task:0/device:GPU:0 with 11409 MB memory:  -> device: 0, name: Tesla K80, pci bus id: 0000:05:00.0, compute capability: 3.7\n"
     ]
    }
   ],
   "source": [
    "# All models start out with an input layer\n",
    "input_layer=tf.keras.layers.Input(shape=(3,)) \n",
    "output_layer = tf.keras.layers.Dense(1)(input_layer)\n",
    "#A keras model is class used for fitting it takes input layers and output layers\n",
    "linear_model=tf.keras.models.Model(input_layer,output_layer)\n",
    "\n",
    "linear_model.summary()\n",
    "model_type=type(linear_model)\n",
    "print(model_type)\n"
   ]
  },
  {
   "cell_type": "markdown",
   "metadata": {},
   "source": [
    "The above layer has 4 parameters (a weight for each connection, and one bias term)\n",
    "\n",
    "We can represent it like this\n",
    "<img src=\"../../assets/network_diagrams/nn_3_1.png\">\n"
   ]
  },
  {
   "cell_type": "markdown",
   "metadata": {},
   "source": [
    "Layers can be stacked into more complex networks let's build this one\n",
    "\n",
    "<img src=\"../../assets/network_diagrams/nn_3_3_1.png\">\n",
    "\n",
    "\n"
   ]
  },
  {
   "cell_type": "code",
   "execution_count": 3,
   "metadata": {},
   "outputs": [
    {
     "name": "stdout",
     "output_type": "stream",
     "text": [
      "Model: \"model_1\"\n",
      "_________________________________________________________________\n",
      "Layer (type)                 Output Shape              Param #   \n",
      "=================================================================\n",
      "input_2 (InputLayer)         [(None, 3)]               0         \n",
      "_________________________________________________________________\n",
      "dense_1 (Dense)              (None, 3)                 12        \n",
      "_________________________________________________________________\n",
      "dense_2 (Dense)              (None, 1)                 4         \n",
      "=================================================================\n",
      "Total params: 16\n",
      "Trainable params: 16\n",
      "Non-trainable params: 0\n",
      "_________________________________________________________________\n"
     ]
    }
   ],
   "source": [
    "# All models start out with an input layer\n",
    "input_layer=tf.keras.layers.Input(shape=(3,)) \n",
    "hidden_layer=tf.keras.layers.Dense(3)(input_layer) \n",
    "output_layer = tf.keras.layers.Dense(1)(hidden_layer)\n",
    "#A keras model is class used for fitting it takes input layers and output layers\n",
    "linear_model=tf.keras.models.Model(input_layer,output_layer)\n",
    "\n",
    "linear_model.summary()"
   ]
  },
  {
   "cell_type": "markdown",
   "metadata": {},
   "source": [
    "# Try building the following networks yourself\n",
    "\n",
    "Try writing code to make the following networks\n",
    "* 1. Create an Input Layer\n",
    "* 2. Write Dense layers with the right number of units\n",
    "* 3. Make Model name **my_model** using the input layer and your output layer\n"
   ]
  },
  {
   "cell_type": "markdown",
   "metadata": {},
   "source": [
    "## Example 1\n",
    "<img src=\"../../assets/network_diagrams/nn_3_3_3.png\">\n"
   ]
  },
  {
   "cell_type": "code",
   "execution_count": 4,
   "metadata": {},
   "outputs": [
    {
     "name": "stdout",
     "output_type": "stream",
     "text": [
      "Model: \"model_2\"\n",
      "_________________________________________________________________\n",
      "Layer (type)                 Output Shape              Param #   \n",
      "=================================================================\n",
      "input_3 (InputLayer)         [(None, 3)]               0         \n",
      "_________________________________________________________________\n",
      "dense_3 (Dense)              (None, 3)                 12        \n",
      "_________________________________________________________________\n",
      "dense_4 (Dense)              (None, 3)                 12        \n",
      "=================================================================\n",
      "Total params: 24\n",
      "Trainable params: 24\n",
      "Non-trainable params: 0\n",
      "_________________________________________________________________\n"
     ]
    }
   ],
   "source": [
    "\"Your Code Here\"\n",
    "\n",
    "# All models start out with an input layer\n",
    "input_layer=tf.keras.layers.Input(shape=(3,)) \n",
    "hidden_layer=tf.keras.layers.Dense(3)(input_layer) \n",
    "output_layer = tf.keras.layers.Dense(3)(hidden_layer)\n",
    "\n",
    "my_model=tf.keras.models.Model(input_layer,output_layer)\n",
    "\n",
    "my_model.summary()\n"
   ]
  },
  {
   "cell_type": "code",
   "execution_count": 5,
   "metadata": {},
   "outputs": [
    {
     "name": "stdout",
     "output_type": "stream",
     "text": [
      "[(None, 3)]\n",
      "Found my model\n",
      "Great Job Model is Correct\n"
     ]
    }
   ],
   "source": [
    "\"\"\"run this to check your answer\"\"\"\n",
    "print(my_model.layers[0].output_shape)\n",
    "\n",
    "assert 'my_model' in locals(), \"my_model doesn't exist did you get the name correct for your model\"\n",
    "print('Found my model')\n",
    "assert type(my_model)==model_type, \"my model dosen't see to be a keras model try tf.keras.models.Model\"\n",
    "assert len(my_model.layers)==3, \"Your model has \"+str(len(my_model.layers))+\" layers and should have 3\"\n",
    "assert my_model.layers[0].output_shape[0][1]==3, \"Input isn't 3 dimensional\"\n",
    "assert my_model.layers[1].output_shape[1]==3, \"Hidden layer isn't 3 dimensional\"\n",
    "assert my_model.layers[2].output_shape[1]==3, \"Output layer isn't 3 dimensional\"\n",
    "print('Great Job Model is Correct')\n"
   ]
  },
  {
   "cell_type": "markdown",
   "metadata": {},
   "source": [
    "## Example 2\n",
    "\n",
    "<img src=\"../../assets/network_diagrams/nn_3_3_3_3.png\">\n"
   ]
  },
  {
   "cell_type": "code",
   "execution_count": 6,
   "metadata": {},
   "outputs": [
    {
     "name": "stdout",
     "output_type": "stream",
     "text": [
      "Model: \"model_3\"\n",
      "_________________________________________________________________\n",
      "Layer (type)                 Output Shape              Param #   \n",
      "=================================================================\n",
      "input_4 (InputLayer)         [(None, 3)]               0         \n",
      "_________________________________________________________________\n",
      "dense_5 (Dense)              (None, 3)                 12        \n",
      "_________________________________________________________________\n",
      "dense_6 (Dense)              (None, 3)                 12        \n",
      "_________________________________________________________________\n",
      "dense_7 (Dense)              (None, 3)                 12        \n",
      "=================================================================\n",
      "Total params: 36\n",
      "Trainable params: 36\n",
      "Non-trainable params: 0\n",
      "_________________________________________________________________\n"
     ]
    }
   ],
   "source": [
    "\"Your Code Here\"\n",
    "input_layer=tf.keras.layers.Input(shape=(3,)) \n",
    "hidden_layer_1=tf.keras.layers.Dense(3)(input_layer) \n",
    "hidden_layer_2=tf.keras.layers.Dense(3)(hidden_layer_1) \n",
    "output_layer = tf.keras.layers.Dense(3)(hidden_layer_2)\n",
    "\n",
    "my_model=tf.keras.models.Model(input_layer,output_layer)\n",
    "\n",
    "my_model.summary()\n"
   ]
  },
  {
   "cell_type": "code",
   "execution_count": 7,
   "metadata": {},
   "outputs": [
    {
     "name": "stdout",
     "output_type": "stream",
     "text": [
      "Found my model\n",
      "Great Job Model is Correct\n"
     ]
    }
   ],
   "source": [
    "\"\"\"run this to check your answer\"\"\"\n",
    "my_model.layers[0]\n",
    "\n",
    "assert 'my_model' in locals(), \"my_model doesn't exist did you get the name correct for your model\"\n",
    "print('Found my model')\n",
    "assert type(my_model)==model_type, \"my_model doesn't see to be a keras model try tf.keras.models.Model\"\n",
    "assert len(my_model.layers)==4, \"Your model has \"+str(len(my_model.layers))+\" layers and should have 4\"\n",
    "assert my_model.layers[0].output_shape[0][1]==3, \"Input isn't 3 dimensional\"\n",
    "assert my_model.layers[1].output_shape[1]==3, \"Hidden 1 layer isn't 3 dimensional\"\n",
    "assert my_model.layers[2].output_shape[1]==3, \"Hidden 2 layer isn't 3 dimensional\"\n",
    "assert my_model.layers[3].output_shape[1]==3, \"Output layer isn't 3 dimensional\"\n",
    "print('Great Job Model is Correct')\n"
   ]
  },
  {
   "cell_type": "markdown",
   "metadata": {},
   "source": [
    "## Example 3\n",
    "\n",
    "<img src=\"../../assets/network_diagrams/nn_3_5_3.png\">\n"
   ]
  },
  {
   "cell_type": "code",
   "execution_count": 8,
   "metadata": {},
   "outputs": [
    {
     "name": "stdout",
     "output_type": "stream",
     "text": [
      "Model: \"model_4\"\n",
      "_________________________________________________________________\n",
      "Layer (type)                 Output Shape              Param #   \n",
      "=================================================================\n",
      "input_5 (InputLayer)         [(None, 3)]               0         \n",
      "_________________________________________________________________\n",
      "dense_8 (Dense)              (None, 5)                 20        \n",
      "_________________________________________________________________\n",
      "dense_9 (Dense)              (None, 3)                 18        \n",
      "=================================================================\n",
      "Total params: 38\n",
      "Trainable params: 38\n",
      "Non-trainable params: 0\n",
      "_________________________________________________________________\n"
     ]
    }
   ],
   "source": [
    "\"Your Code Here\"\n",
    "\n",
    "input_layer=tf.keras.layers.Input(shape=(3,)) \n",
    "hidden_layer=tf.keras.layers.Dense(5)(input_layer) \n",
    "output_layer = tf.keras.layers.Dense(3)(hidden_layer)\n",
    "\n",
    "my_model=tf.keras.models.Model(input_layer,output_layer)\n",
    "\n",
    "my_model.summary()"
   ]
  },
  {
   "cell_type": "code",
   "execution_count": 9,
   "metadata": {},
   "outputs": [
    {
     "name": "stdout",
     "output_type": "stream",
     "text": [
      "Found my model\n",
      "Great Job Model is Correct\n"
     ]
    }
   ],
   "source": [
    "\"\"\"run this to check your answer\"\"\"\n",
    "assert 'my_model' in locals(), \"my_model doesn't exist did you get the name correct for your model\"\n",
    "print('Found my model')\n",
    "assert type(my_model)==model_type, \"my_model doesn't see to be a keras model try tf.keras.models.Model\"\n",
    "assert len(my_model.layers)==3, \"Your model has \"+str(len(my_model.layers))+\" layers and should have 4\"\n",
    "assert my_model.layers[0].output_shape[0][1]==3, \"Input isn't 3 dimensional\"\n",
    "assert my_model.layers[1].output_shape[1]==5, \"Hidden 1 layer isn't 5 dimensional\"\n",
    "assert my_model.layers[2].output_shape[1]==3, \"Hidden 2 layer isn't 3 dimensional\"\n",
    "print('Great Job Model is Correct')\n"
   ]
  },
  {
   "cell_type": "markdown",
   "metadata": {},
   "source": [
    "#  Model Design\n",
    "* Input dimension is defined by the input data\n",
    "* Output dimension is defined by target data\n",
    "* Hidden layers add complexity to the model\n",
    "    * More hidden layers or larger hidden layer dimensions can represent more complicated functions\n",
    "    * Too many layers can be hard to train without special tricks\n",
    "        * Can overfit, or fail to train (more on that later)\n",
    "    * Too few layers may not correctly describe the data\n",
    "* The right balance depends on the problem\n",
    "    * Roughly the more data the more layers you can use\n",
    "    * The more complex the target the more layers you'll need\n",
    "* No right answer feel free to experiment"
   ]
  },
  {
   "cell_type": "markdown",
   "metadata": {},
   "source": [
    "# Fitting your Model\n",
    "Lets try to fit a simple line using the model below\n",
    "\n",
    "<img src=\"../../assets/network_diagrams/nn_3_1.png\">\n"
   ]
  },
  {
   "cell_type": "code",
   "execution_count": 10,
   "metadata": {},
   "outputs": [
    {
     "name": "stdout",
     "output_type": "stream",
     "text": [
      "Model: \"model_5\"\n",
      "_________________________________________________________________\n",
      "Layer (type)                 Output Shape              Param #   \n",
      "=================================================================\n",
      "input_6 (InputLayer)         [(None, 3)]               0         \n",
      "_________________________________________________________________\n",
      "dense_10 (Dense)             (None, 1)                 4         \n",
      "=================================================================\n",
      "Total params: 4\n",
      "Trainable params: 4\n",
      "Non-trainable params: 0\n",
      "_________________________________________________________________\n"
     ]
    }
   ],
   "source": [
    "# All models start out with an input layer\n",
    "input_layer=tf.keras.layers.Input(shape=(3,)) \n",
    "output_layer = tf.keras.layers.Dense(1)(input_layer)\n",
    "#A keras model is class used for fitting it takes input layers and output layers\n",
    "linear_model=tf.keras.models.Model(input_layer,output_layer)\n",
    "\n",
    "linear_model.summary()"
   ]
  },
  {
   "cell_type": "markdown",
   "metadata": {},
   "source": [
    "In the code above we define an Input layer and one Dense (Fully Connected Layer), in our equation above\n",
    "i=1 n=data_dim\n",
    "if data_dim ==1\n",
    "then \n",
    "\n",
    "$O_i = \\sum_n W_{i,n}*X_n+B_i  = O_0 =  W_{0,0}*X_0+B_0$\n",
    "\n",
    "You'll notice from last lecture this is the same form as our linear model.\n",
    "\n",
    "* $y_{pred,i}=\\theta_{1}*x_{i}+\\theta_{2} $\n",
    "\n",
    "* Each 'neuron' in a dense network is one linear model\n",
    "\n",
    "in neural network lingo \n",
    "*  $W$ is called the weight matrix \n",
    "*  $B$ the bias\n",
    "*  $W$ is a matrix and can have several parameters and all the parameters in the network are often represented by just $\\theta$ \n",
    "\n",
    "Just as in our Linear model we are going to use the same loss function\n",
    "* $L=\\frac{1}{N}\\sum_i (y_{pred,i}-y_{true,i})^2$\n",
    "* which is Mean Squared Error or mse for short\n",
    "* and we will pick an optimizer 'adam'\n",
    "\n",
    "\n"
   ]
  },
  {
   "cell_type": "markdown",
   "metadata": {},
   "source": [
    "## Task: Fit a slightly harder straight line\n",
    "\n",
    "We're going to make a data set where x is a series of 3 features, and a target value $y = 2*x_0+1$ \n",
    "\n",
    "$y$ is just a line with respect to $x_0$, and completely ignores $x_{1,2,3,4}$ \n",
    "\n",
    "This problem is a little bit more difficult than the 1st lecture since we need to learn that two of the input features don't correlate at all to the output."
   ]
  },
  {
   "cell_type": "code",
   "execution_count": 11,
   "metadata": {
    "slideshow": {
     "slide_type": "fragment"
    }
   },
   "outputs": [],
   "source": [
    "#Build the Dataset\n",
    "\n",
    "data_dim=3\n",
    "\n",
    "X=np.random.uniform(0,10,size=(10000,data_dim))\n",
    "def func(X):\n",
    "    return 2*X[:,0]+1  # #Ignore all other input have the output only depend on the first dimention\n",
    "Y=func(X)\n",
    "\n",
    "\n",
    "\n",
    "\n",
    "    \n",
    "    "
   ]
  },
  {
   "cell_type": "code",
   "execution_count": 12,
   "metadata": {
    "slideshow": {
     "slide_type": "slide"
    }
   },
   "outputs": [
    {
     "name": "stderr",
     "output_type": "stream",
     "text": [
      "2022-01-27 11:54:08.427921: I tensorflow/compiler/mlir/mlir_graph_optimization_pass.cc:185] None of the MLIR Optimization Passes are enabled (registered 2)\n"
     ]
    },
    {
     "name": "stdout",
     "output_type": "stream",
     "text": [
      "Epoch 1/100\n",
      "157/157 [==============================] - 1s 2ms/step - loss: 175.2912 - val_loss: 144.9739\n",
      "Epoch 2/100\n",
      "157/157 [==============================] - 0s 2ms/step - loss: 118.2880 - val_loss: 96.2342\n",
      "Epoch 3/100\n",
      "157/157 [==============================] - 0s 2ms/step - loss: 77.2085 - val_loss: 61.7592\n",
      "Epoch 4/100\n",
      "157/157 [==============================] - 0s 2ms/step - loss: 48.7155 - val_loss: 38.4546\n",
      "Epoch 5/100\n",
      "157/157 [==============================] - 0s 2ms/step - loss: 29.8738 - val_loss: 23.3637\n",
      "Epoch 6/100\n",
      "157/157 [==============================] - 0s 2ms/step - loss: 18.0349 - val_loss: 14.2177\n",
      "Epoch 7/100\n",
      "157/157 [==============================] - 0s 2ms/step - loss: 11.0368 - val_loss: 8.9072\n",
      "Epoch 8/100\n",
      "157/157 [==============================] - 0s 2ms/step - loss: 7.1164 - val_loss: 6.0255\n",
      "Epoch 9/100\n",
      "157/157 [==============================] - 0s 2ms/step - loss: 5.0281 - val_loss: 4.4851\n",
      "Epoch 10/100\n",
      "157/157 [==============================] - 0s 2ms/step - loss: 3.9119 - val_loss: 3.6360\n",
      "Epoch 11/100\n",
      "157/157 [==============================] - 0s 2ms/step - loss: 3.2643 - val_loss: 3.1008\n",
      "Epoch 12/100\n",
      "157/157 [==============================] - 0s 2ms/step - loss: 2.8267 - val_loss: 2.7051\n",
      "Epoch 13/100\n",
      "157/157 [==============================] - 0s 2ms/step - loss: 2.4809 - val_loss: 2.3722\n",
      "Epoch 14/100\n",
      "157/157 [==============================] - 0s 2ms/step - loss: 2.1735 - val_loss: 2.0701\n",
      "Epoch 15/100\n",
      "157/157 [==============================] - 0s 2ms/step - loss: 1.8879 - val_loss: 1.7887\n",
      "Epoch 16/100\n",
      "157/157 [==============================] - 0s 2ms/step - loss: 1.6211 - val_loss: 1.5253\n",
      "Epoch 17/100\n",
      "157/157 [==============================] - 0s 2ms/step - loss: 1.3751 - val_loss: 1.2842\n",
      "Epoch 18/100\n",
      "157/157 [==============================] - 0s 2ms/step - loss: 1.1502 - val_loss: 1.0668\n",
      "Epoch 19/100\n",
      "157/157 [==============================] - 0s 2ms/step - loss: 0.9471 - val_loss: 0.8722\n",
      "Epoch 20/100\n",
      "157/157 [==============================] - 0s 2ms/step - loss: 0.7682 - val_loss: 0.7014\n",
      "Epoch 21/100\n",
      "157/157 [==============================] - 0s 2ms/step - loss: 0.6123 - val_loss: 0.5543\n",
      "Epoch 22/100\n",
      "157/157 [==============================] - 0s 2ms/step - loss: 0.4790 - val_loss: 0.4299\n",
      "Epoch 23/100\n",
      "157/157 [==============================] - 0s 2ms/step - loss: 0.3676 - val_loss: 0.3263\n",
      "Epoch 24/100\n",
      "157/157 [==============================] - 0s 2ms/step - loss: 0.2759 - val_loss: 0.2423\n",
      "Epoch 25/100\n",
      "157/157 [==============================] - 0s 2ms/step - loss: 0.2024 - val_loss: 0.1759\n",
      "Epoch 26/100\n",
      "157/157 [==============================] - 0s 2ms/step - loss: 0.1451 - val_loss: 0.1245\n",
      "Epoch 27/100\n",
      "157/157 [==============================] - 0s 2ms/step - loss: 0.1012 - val_loss: 0.0860\n",
      "Epoch 28/100\n",
      "157/157 [==============================] - 0s 2ms/step - loss: 0.0688 - val_loss: 0.0576\n",
      "Epoch 29/100\n",
      "157/157 [==============================] - 0s 2ms/step - loss: 0.0454 - val_loss: 0.0375\n",
      "Epoch 30/100\n",
      "157/157 [==============================] - 0s 2ms/step - loss: 0.0291 - val_loss: 0.0238\n",
      "Epoch 31/100\n",
      "157/157 [==============================] - 0s 2ms/step - loss: 0.0181 - val_loss: 0.0146\n",
      "Epoch 32/100\n",
      "157/157 [==============================] - 0s 2ms/step - loss: 0.0110 - val_loss: 0.0089\n",
      "Epoch 33/100\n",
      "157/157 [==============================] - 0s 2ms/step - loss: 0.0065 - val_loss: 0.0053\n",
      "Epoch 34/100\n",
      "157/157 [==============================] - 0s 2ms/step - loss: 0.0039 - val_loss: 0.0032\n",
      "Epoch 35/100\n",
      "157/157 [==============================] - 0s 2ms/step - loss: 0.0024 - val_loss: 0.0020\n",
      "Epoch 36/100\n",
      "157/157 [==============================] - 0s 2ms/step - loss: 0.0015 - val_loss: 0.0014\n",
      "Epoch 37/100\n",
      "157/157 [==============================] - 0s 2ms/step - loss: 0.0011 - val_loss: 0.0010\n",
      "Epoch 38/100\n",
      "157/157 [==============================] - 0s 2ms/step - loss: 8.5604e-04 - val_loss: 8.3013e-04\n",
      "Epoch 39/100\n",
      "157/157 [==============================] - 0s 2ms/step - loss: 7.2616e-04 - val_loss: 7.1711e-04\n",
      "Epoch 40/100\n",
      "157/157 [==============================] - 0s 2ms/step - loss: 6.4738e-04 - val_loss: 6.4461e-04\n",
      "Epoch 41/100\n",
      "157/157 [==============================] - 0s 2ms/step - loss: 5.9026e-04 - val_loss: 5.8757e-04\n",
      "Epoch 42/100\n",
      "157/157 [==============================] - 0s 2ms/step - loss: 5.4198e-04 - val_loss: 5.3848e-04\n",
      "Epoch 43/100\n",
      "157/157 [==============================] - 0s 2ms/step - loss: 4.9806e-04 - val_loss: 4.9243e-04\n",
      "Epoch 44/100\n",
      "157/157 [==============================] - 0s 2ms/step - loss: 4.5532e-04 - val_loss: 4.4778e-04\n",
      "Epoch 45/100\n",
      "157/157 [==============================] - 0s 2ms/step - loss: 4.1335e-04 - val_loss: 4.0497e-04\n",
      "Epoch 46/100\n",
      "157/157 [==============================] - 0s 2ms/step - loss: 3.7261e-04 - val_loss: 3.6311e-04\n",
      "Epoch 47/100\n",
      "157/157 [==============================] - 0s 2ms/step - loss: 3.3309e-04 - val_loss: 3.2288e-04\n",
      "Epoch 48/100\n",
      "157/157 [==============================] - 0s 2ms/step - loss: 2.9500e-04 - val_loss: 2.8477e-04\n",
      "Epoch 49/100\n",
      "157/157 [==============================] - 0s 2ms/step - loss: 2.5844e-04 - val_loss: 2.4848e-04\n",
      "Epoch 50/100\n",
      "157/157 [==============================] - 0s 2ms/step - loss: 2.2421e-04 - val_loss: 2.1398e-04\n",
      "Epoch 51/100\n",
      "157/157 [==============================] - 0s 2ms/step - loss: 1.9226e-04 - val_loss: 1.8240e-04\n",
      "Epoch 52/100\n",
      "157/157 [==============================] - 0s 2ms/step - loss: 1.6284e-04 - val_loss: 1.5315e-04\n",
      "Epoch 53/100\n",
      "157/157 [==============================] - 0s 2ms/step - loss: 1.3595e-04 - val_loss: 1.2684e-04\n",
      "Epoch 54/100\n",
      "157/157 [==============================] - 0s 2ms/step - loss: 1.1179e-04 - val_loss: 1.0370e-04\n",
      "Epoch 55/100\n",
      "157/157 [==============================] - 0s 2ms/step - loss: 9.0561e-05 - val_loss: 8.3249e-05\n",
      "Epoch 56/100\n",
      "157/157 [==============================] - 0s 2ms/step - loss: 7.2006e-05 - val_loss: 6.5486e-05\n",
      "Epoch 57/100\n",
      "157/157 [==============================] - 0s 2ms/step - loss: 5.6227e-05 - val_loss: 5.0611e-05\n",
      "Epoch 58/100\n",
      "157/157 [==============================] - 0s 2ms/step - loss: 4.3090e-05 - val_loss: 3.8282e-05\n",
      "Epoch 59/100\n",
      "157/157 [==============================] - 0s 2ms/step - loss: 3.2172e-05 - val_loss: 2.8734e-05\n",
      "Epoch 60/100\n",
      "157/157 [==============================] - 0s 2ms/step - loss: 2.3617e-05 - val_loss: 2.0504e-05\n",
      "Epoch 61/100\n",
      "157/157 [==============================] - 0s 2ms/step - loss: 1.6834e-05 - val_loss: 1.4346e-05\n",
      "Epoch 62/100\n",
      "157/157 [==============================] - 0s 2ms/step - loss: 1.1629e-05 - val_loss: 9.7899e-06\n",
      "Epoch 63/100\n",
      "157/157 [==============================] - 0s 2ms/step - loss: 7.8198e-06 - val_loss: 6.4578e-06\n",
      "Epoch 64/100\n",
      "157/157 [==============================] - 0s 2ms/step - loss: 5.0809e-06 - val_loss: 4.1304e-06\n",
      "Epoch 65/100\n",
      "157/157 [==============================] - 0s 2ms/step - loss: 3.1876e-06 - val_loss: 2.5466e-06\n",
      "Epoch 66/100\n",
      "157/157 [==============================] - 0s 2ms/step - loss: 1.9271e-06 - val_loss: 1.4999e-06\n",
      "Epoch 67/100\n",
      "157/157 [==============================] - 0s 2ms/step - loss: 1.1183e-06 - val_loss: 8.4292e-07\n",
      "Epoch 68/100\n",
      "157/157 [==============================] - 0s 2ms/step - loss: 6.1867e-07 - val_loss: 4.5618e-07\n",
      "Epoch 69/100\n",
      "157/157 [==============================] - 0s 2ms/step - loss: 3.2528e-07 - val_loss: 2.3428e-07\n",
      "Epoch 70/100\n",
      "157/157 [==============================] - 0s 2ms/step - loss: 1.6300e-07 - val_loss: 1.1315e-07\n",
      "Epoch 71/100\n",
      "157/157 [==============================] - 0s 2ms/step - loss: 7.6945e-08 - val_loss: 5.1457e-08\n",
      "Epoch 72/100\n",
      "157/157 [==============================] - 0s 2ms/step - loss: 3.4177e-08 - val_loss: 2.2017e-08\n",
      "Epoch 73/100\n",
      "157/157 [==============================] - 0s 2ms/step - loss: 1.4080e-08 - val_loss: 8.8036e-09\n",
      "Epoch 74/100\n",
      "157/157 [==============================] - 0s 2ms/step - loss: 5.4253e-09 - val_loss: 3.2021e-09\n",
      "Epoch 75/100\n",
      "157/157 [==============================] - 0s 2ms/step - loss: 1.9421e-09 - val_loss: 1.1237e-09\n",
      "Epoch 76/100\n",
      "157/157 [==============================] - 0s 2ms/step - loss: 6.5722e-10 - val_loss: 3.7843e-10\n",
      "Epoch 77/100\n",
      "157/157 [==============================] - 0s 2ms/step - loss: 2.3010e-10 - val_loss: 1.3089e-10\n",
      "Epoch 78/100\n",
      "157/157 [==============================] - 0s 2ms/step - loss: 8.5420e-11 - val_loss: 5.3682e-11\n",
      "Epoch 79/100\n",
      "157/157 [==============================] - 0s 2ms/step - loss: 3.7817e-11 - val_loss: 2.7628e-11\n",
      "Epoch 80/100\n",
      "157/157 [==============================] - 0s 2ms/step - loss: 2.1372e-11 - val_loss: 1.2615e-11\n",
      "Epoch 81/100\n",
      "157/157 [==============================] - 0s 2ms/step - loss: 1.3726e-11 - val_loss: 1.2472e-11\n",
      "Epoch 82/100\n",
      "157/157 [==============================] - 0s 2ms/step - loss: 1.1963e-11 - val_loss: 1.0612e-11\n",
      "Epoch 83/100\n",
      "157/157 [==============================] - 0s 2ms/step - loss: 1.0714e-11 - val_loss: 9.5202e-12\n",
      "Epoch 84/100\n",
      "157/157 [==============================] - 0s 2ms/step - loss: 9.8808e-12 - val_loss: 1.0098e-11\n",
      "Epoch 85/100\n",
      "157/157 [==============================] - 0s 2ms/step - loss: 9.1893e-12 - val_loss: 7.7213e-12\n",
      "Epoch 86/100\n",
      "157/157 [==============================] - 0s 2ms/step - loss: 7.9502e-12 - val_loss: 6.8290e-12\n",
      "Epoch 87/100\n",
      "157/157 [==============================] - 0s 2ms/step - loss: 6.9047e-12 - val_loss: 6.9962e-12\n",
      "Epoch 88/100\n",
      "157/157 [==============================] - 0s 2ms/step - loss: 5.7015e-12 - val_loss: 4.9159e-12\n",
      "Epoch 89/100\n",
      "157/157 [==============================] - 0s 2ms/step - loss: 4.7230e-12 - val_loss: 4.2139e-12\n",
      "Epoch 90/100\n",
      "157/157 [==============================] - 0s 2ms/step - loss: 4.3065e-12 - val_loss: 4.0293e-12\n",
      "Epoch 91/100\n",
      "157/157 [==============================] - 0s 2ms/step - loss: 2.7696e-12 - val_loss: 1.4847e-12\n",
      "Epoch 92/100\n",
      "157/157 [==============================] - 0s 2ms/step - loss: 1.6495e-12 - val_loss: 1.9391e-12\n",
      "Epoch 93/100\n",
      "157/157 [==============================] - 0s 2ms/step - loss: 2.0357e-12 - val_loss: 1.7679e-12\n",
      "Epoch 94/100\n",
      "157/157 [==============================] - 0s 2ms/step - loss: 1.9329e-12 - val_loss: 2.0127e-12\n",
      "Epoch 95/100\n",
      "157/157 [==============================] - 0s 2ms/step - loss: 5.9880e-13 - val_loss: 4.7217e-13\n",
      "Epoch 96/100\n",
      "157/157 [==============================] - 0s 2ms/step - loss: 5.0699e-13 - val_loss: 4.3545e-13\n",
      "Epoch 97/100\n",
      "157/157 [==============================] - 0s 2ms/step - loss: 4.8440e-13 - val_loss: 4.7017e-13\n",
      "Epoch 98/100\n",
      "157/157 [==============================] - 0s 2ms/step - loss: 4.6833e-13 - val_loss: 4.5832e-13\n",
      "Epoch 99/100\n",
      "157/157 [==============================] - 0s 2ms/step - loss: 4.7880e-13 - val_loss: 4.6894e-13\n",
      "Epoch 100/100\n",
      "157/157 [==============================] - 0s 2ms/step - loss: 4.4751e-13 - val_loss: 6.5845e-13\n"
     ]
    },
    {
     "data": {
      "text/plain": [
       "<keras.callbacks.History at 0x2aab93702130>"
      ]
     },
     "execution_count": 12,
     "metadata": {},
     "output_type": "execute_result"
    }
   ],
   "source": [
    "\n",
    "#MSE= Mean Squared Error \n",
    "linear_model.compile(loss='mse',optimizer='adam')\n",
    "\n",
    "# Fit Our Simple Neural Network\n",
    "#Fit \n",
    "linear_model.fit(X,Y,epochs=100,validation_split=0.5) #Have Keras make a test/validation split for us\n",
    "\n",
    "#Pro tip, don't want to split the dataset yourself, you can have keras do it for you with validation_split=\n",
    "\n",
    "# Even more Pro-tip - be careful if you run this cell more than once you'll keep training the same model \n",
    "# with a different train/develop split each time which can cause the model to overfit both the train and develop\n",
    "# sets - a problem you'll only see when using the test set, so make sure to keep a test set around!\n"
   ]
  },
  {
   "cell_type": "markdown",
   "metadata": {},
   "source": [
    "Excellent you've fit your first neural network, now lets use it\n",
    "* we split our initial dataset into a train/develop using validation split\n",
    "* Lets make a new dataset that has X_0 from -5-15, with X_1,X_2 being random\n",
    "    * This is just a way to plot the output\n"
   ]
  },
  {
   "cell_type": "code",
   "execution_count": 13,
   "metadata": {
    "slideshow": {
     "slide_type": "slide"
    }
   },
   "outputs": [],
   "source": [
    "#Lets plot the output as a function of X_0\n",
    "\n",
    "#Create some Random 5-d data\n",
    "X_test=np.random.uniform(0,10,size=(100,data_dim))\n",
    "#Set the first dimention to be a line\n",
    "X_test[:,0]=np.linspace(-5,15,100)\n",
    "\n",
    "#Get the True distribution from our test function\n",
    "Y_test=func(X_test)\n",
    "\n",
    "#Get the prediction from our model\n",
    "Y_pred=linear_model.predict(X_test)\n",
    "\n",
    "\n"
   ]
  },
  {
   "cell_type": "code",
   "execution_count": 14,
   "metadata": {},
   "outputs": [
    {
     "data": {
      "image/png": "[encoded data removed]",
      "text/plain": [
       "<Figure size 432x288 with 1 Axes>"
      ]
     },
     "metadata": {
      "needs_background": "light"
     },
     "output_type": "display_data"
    },
    {
     "data": {
      "image/png": "[encoded data removed]",
      "text/plain": [
       "<Figure size 432x288 with 1 Axes>"
      ]
     },
     "metadata": {
      "needs_background": "light"
     },
     "output_type": "display_data"
    }
   ],
   "source": [
    "#Plot\n",
    "\n",
    "plt.scatter(X_test[:,0],Y_pred,label='prediction',marker='x')\n",
    "plt.scatter(X_test[:,0],Y_test,label='truth',marker='+')\n",
    "plt.xlabel('X[:,0]')\n",
    "plt.ylabel('Y')\n",
    "plt.legend()\n",
    "plt.show()\n",
    "\n",
    "#Lets Look at it wrt X[:,1]\n",
    "plt.scatter(X_test[:,1],Y_pred,label='prediction',marker='x')\n",
    "plt.scatter(X_test[:,1],Y_test,label='truth',marker='+')\n",
    "plt.xlabel('X[:,1]')\n",
    "plt.ylabel('Y')\n",
    "plt.legend()\n",
    "plt.show()\n",
    "\n"
   ]
  },
  {
   "cell_type": "markdown",
   "metadata": {
    "slideshow": {
     "slide_type": "slide"
    }
   },
   "source": [
    "We can also look at a models weights\n",
    "We expect $W_{0,0}$=2, and $B_0$=1"
   ]
  },
  {
   "cell_type": "code",
   "execution_count": 15,
   "metadata": {
    "slideshow": {
     "slide_type": "fragment"
    }
   },
   "outputs": [
    {
     "name": "stdout",
     "output_type": "stream",
     "text": [
      "W= [[2.0000002e+00]\n",
      " [6.3670868e-08]\n",
      " [5.8151887e-08]]\n",
      "W[0,0]= 2.0000002\n",
      "B= [0.9999986]\n"
     ]
    }
   ],
   "source": [
    "weights=linear_model.get_weights()\n",
    "print(\"W=\",weights[0])\n",
    "print(\"W[0,0]=\",weights[0][0,0])\n",
    "print(\"B=\",weights[1])\n"
   ]
  },
  {
   "cell_type": "markdown",
   "metadata": {},
   "source": [
    "# Try it yourself \n",
    "Run the cell below to create a similar data set, but this time with some noise\n",
    "\n",
    "$y = 2*x_0+1+N(0,2)$ \n"
   ]
  },
  {
   "cell_type": "code",
   "execution_count": 16,
   "metadata": {},
   "outputs": [],
   "source": [
    "#Build the Dataset\n",
    "\n",
    "data_dim=5\n",
    "\n",
    "X_train=np.random.uniform(0,10,size=(10000,data_dim))\n",
    "X_test=np.random.uniform(0,10,size=(10000,data_dim))\n",
    "\n",
    "def func(X):\n",
    "    return 2*X[:,0]+1 + np.random.normal(0,2,size=(len(X))) #Ignore all other input have the output only depend on the first dimention\n",
    "Y_train=func(X_train)\n",
    "Y_test=func(X_test)\n",
    "\n"
   ]
  },
  {
   "cell_type": "code",
   "execution_count": 17,
   "metadata": {},
   "outputs": [
    {
     "name": "stdout",
     "output_type": "stream",
     "text": [
      "Epoch 1/20\n",
      "313/313 [==============================] - 0s 942us/step - loss: 20.3416\n",
      "Epoch 2/20\n",
      "313/313 [==============================] - 0s 933us/step - loss: 13.8535\n",
      "Epoch 3/20\n",
      "313/313 [==============================] - 0s 940us/step - loss: 9.6247\n",
      "Epoch 4/20\n",
      "313/313 [==============================] - 0s 937us/step - loss: 6.9961\n",
      "Epoch 5/20\n",
      "313/313 [==============================] - 0s 936us/step - loss: 5.4636\n",
      "Epoch 6/20\n",
      "313/313 [==============================] - 0s 940us/step - loss: 4.6367\n",
      "Epoch 7/20\n",
      "313/313 [==============================] - 0s 934us/step - loss: 4.2361\n",
      "Epoch 8/20\n",
      "313/313 [==============================] - 0s 942us/step - loss: 4.0644\n",
      "Epoch 9/20\n",
      "313/313 [==============================] - 0s 929us/step - loss: 4.0018\n",
      "Epoch 10/20\n",
      "313/313 [==============================] - 0s 930us/step - loss: 3.9838\n",
      "Epoch 11/20\n",
      "313/313 [==============================] - 0s 937us/step - loss: 3.9778\n",
      "Epoch 12/20\n",
      "313/313 [==============================] - 0s 939us/step - loss: 3.9757\n",
      "Epoch 13/20\n",
      "313/313 [==============================] - 0s 938us/step - loss: 3.9741\n",
      "Epoch 14/20\n",
      "313/313 [==============================] - 0s 947us/step - loss: 3.9714\n",
      "Epoch 15/20\n",
      "313/313 [==============================] - 0s 936us/step - loss: 3.9702\n",
      "Epoch 16/20\n",
      "313/313 [==============================] - 0s 938us/step - loss: 3.9738\n",
      "Epoch 17/20\n",
      "313/313 [==============================] - 0s 933us/step - loss: 3.9687\n",
      "Epoch 18/20\n",
      "313/313 [==============================] - 0s 933us/step - loss: 3.9703\n",
      "Epoch 19/20\n",
      "313/313 [==============================] - 0s 951us/step - loss: 3.9686\n",
      "Epoch 20/20\n",
      "313/313 [==============================] - 0s 938us/step - loss: 3.9647\n"
     ]
    },
    {
     "data": {
      "text/plain": [
       "<keras.callbacks.History at 0x2aabdff806d0>"
      ]
     },
     "execution_count": 17,
     "metadata": {},
     "output_type": "execute_result"
    }
   ],
   "source": [
    "\"\"\"Write your Model\"\"\"\n",
    "\n",
    "\"Your Code Here\"\n",
    "\"split dataset\"\n",
    "\"Input\"\n",
    "\"Dense Layer\"\n",
    "\"Create Model\"\n",
    "\"Fit\"\n",
    "\n",
    "\n",
    "input_layer=tf.keras.layers.Input(shape=(5,)) \n",
    "output_layer = tf.keras.layers.Dense(1)(input_layer)\n",
    "my_model=tf.keras.models.Model(input_layer,output_layer)\n",
    "my_model.compile(loss=\"mse\",optimizer='adam')\n",
    "my_model.fit(X_test,Y_test,epochs=20)\n",
    "\n",
    "\n",
    "\n"
   ]
  },
  {
   "cell_type": "code",
   "execution_count": 18,
   "metadata": {},
   "outputs": [],
   "source": [
    "\"\"\"Test\"\"\"\n",
    "Y_pred=my_model.predict(X_test)"
   ]
  },
  {
   "cell_type": "code",
   "execution_count": 19,
   "metadata": {},
   "outputs": [
    {
     "data": {
      "image/png": "[encoded data removed]",
      "text/plain": [
       "<Figure size 432x288 with 1 Axes>"
      ]
     },
     "metadata": {
      "needs_background": "light"
     },
     "output_type": "display_data"
    }
   ],
   "source": [
    "\"\"\"Plot\"\"\"\n",
    "#Plot\n",
    "plt.scatter(X_test[:,0],Y_test,label='truth',marker='+')\n",
    "plt.scatter(X_test[:,0],Y_pred,label='prediction',marker='x')\n",
    "plt.xlabel('X[:,0]')\n",
    "plt.ylabel('Y')\n",
    "plt.legend()\n",
    "plt.show()\n"
   ]
  },
  {
   "cell_type": "markdown",
   "metadata": {
    "slideshow": {
     "slide_type": "slide"
    }
   },
   "source": [
    "Lets try something a bit more complicated a sin wave"
   ]
  },
  {
   "cell_type": "code",
   "execution_count": 20,
   "metadata": {},
   "outputs": [],
   "source": [
    "X=np.random.uniform(0,10,size=(10000,data_dim))\n",
    "def func(X):\n",
    "    return np.sin(X[:,0]) #Ignore all other input have the output only depend on the first dimention\n",
    "Y=func(X)\n"
   ]
  },
  {
   "cell_type": "code",
   "execution_count": 21,
   "metadata": {
    "slideshow": {
     "slide_type": "skip"
    }
   },
   "outputs": [
    {
     "name": "stdout",
     "output_type": "stream",
     "text": [
      "Epoch 1/15\n",
      "157/157 [==============================] - 1s 2ms/step - loss: 33.0798 - val_loss: 20.9519\n",
      "Epoch 2/15\n",
      "157/157 [==============================] - 0s 2ms/step - loss: 15.6587 - val_loss: 12.8961\n",
      "Epoch 3/15\n",
      "157/157 [==============================] - 0s 2ms/step - loss: 11.2585 - val_loss: 10.1716\n",
      "Epoch 4/15\n",
      "157/157 [==============================] - 0s 2ms/step - loss: 9.0034 - val_loss: 8.1057\n",
      "Epoch 5/15\n",
      "157/157 [==============================] - 0s 2ms/step - loss: 7.1167 - val_loss: 6.3467\n",
      "Epoch 6/15\n",
      "157/157 [==============================] - 0s 2ms/step - loss: 5.5074 - val_loss: 4.8712\n",
      "Epoch 7/15\n",
      "157/157 [==============================] - 0s 2ms/step - loss: 4.1833 - val_loss: 3.6768\n",
      "Epoch 8/15\n",
      "157/157 [==============================] - 0s 2ms/step - loss: 3.1325 - val_loss: 2.7431\n",
      "Epoch 9/15\n",
      "157/157 [==============================] - 0s 2ms/step - loss: 2.3202 - val_loss: 2.0325\n",
      "Epoch 10/15\n",
      "157/157 [==============================] - 0s 2ms/step - loss: 1.7156 - val_loss: 1.5151\n",
      "Epoch 11/15\n",
      "157/157 [==============================] - 0s 2ms/step - loss: 1.2814 - val_loss: 1.1430\n",
      "Epoch 12/15\n",
      "157/157 [==============================] - 0s 2ms/step - loss: 0.9768 - val_loss: 0.8902\n",
      "Epoch 13/15\n",
      "157/157 [==============================] - 0s 2ms/step - loss: 0.7727 - val_loss: 0.7219\n",
      "Epoch 14/15\n",
      "157/157 [==============================] - 0s 2ms/step - loss: 0.6409 - val_loss: 0.6147\n",
      "Epoch 15/15\n",
      "157/157 [==============================] - 0s 2ms/step - loss: 0.5595 - val_loss: 0.5503\n"
     ]
    },
    {
     "data": {
      "text/plain": [
       "<keras.callbacks.History at 0x2aabdfedfe20>"
      ]
     },
     "execution_count": 21,
     "metadata": {},
     "output_type": "execute_result"
    }
   ],
   "source": [
    "\n",
    "# All models start out with an input layer\n",
    "\n",
    "input_layer=tf.keras.layers.Input(shape=(data_dim,)) \n",
    "output_layer = tf.keras.layers.Dense(1)(input_layer)\n",
    "#A keras model is a way of going from one layer to the next\n",
    "sine_model=tf.keras.models.Model(input_layer,output_layer)\n",
    "sine_model.compile(loss='mse',optimizer='adam')\n",
    "sine_model.fit(X,Y,epochs=15,validation_split=0.5) #Have Keras make a test/validation split for us\n",
    "\n",
    "\n",
    "\n"
   ]
  },
  {
   "cell_type": "code",
   "execution_count": 22,
   "metadata": {
    "slideshow": {
     "slide_type": "slide"
    }
   },
   "outputs": [
    {
     "data": {
      "text/plain": [
       "<matplotlib.legend.Legend at 0x2aac2410e3a0>"
      ]
     },
     "execution_count": 22,
     "metadata": {},
     "output_type": "execute_result"
    },
    {
     "data": {
      "image/png": "[encoded data removed]",
      "text/plain": [
       "<Figure size 432x288 with 1 Axes>"
      ]
     },
     "metadata": {
      "needs_background": "light"
     },
     "output_type": "display_data"
    }
   ],
   "source": [
    "X_test=np.random.uniform(0,10,size=(100,data_dim))\n",
    "X_test[:,0]=np.linspace(-5,15,100)\n",
    "Y_test=func(X_test)\n",
    "Y_pred=sine_model.predict(X_test)\n",
    "\n",
    "plt.scatter(X_test[:,0],Y_pred,label='prediction')\n",
    "plt.scatter(X_test[:,0],Y_test,label='truth')\n",
    "plt.xlabel('X[:,0]')\n",
    "plt.ylabel('Y')\n",
    "plt.legend()\n"
   ]
  },
  {
   "cell_type": "markdown",
   "metadata": {
    "slideshow": {
     "slide_type": "slide"
    }
   },
   "source": [
    "Oops this didn't work. Why? So far what we wrote above can only represent linear functions\n",
    "\n",
    "<p style=\"text-align: center;\">\n",
    "$O_i = \\sum_n W_{i,n}*X_n+B_i$    \n",
    "</p>\n",
    "\n",
    "we need to add something called an activation function $\\sigma$\n",
    "\n",
    "<p style=\"text-align: center;\">\n",
    "$O_i = \\sigma(\\sum_n W_{i,n}*X_n+B_i)$    \n",
    "</p>\n",
    "\n",
    "$\\sigma$ has to be non-linear and a good choice is a LeakyReLU\n",
    "\n",
    "<img src='../assets/leakyReLU.png'>\n",
    "\n",
    "an activation can be added just like any other layer\n",
    "\n",
    "\n"
   ]
  },
  {
   "cell_type": "code",
   "execution_count": 23,
   "metadata": {},
   "outputs": [
    {
     "name": "stdout",
     "output_type": "stream",
     "text": [
      "Epoch 1/20\n",
      "157/157 [==============================] - 1s 2ms/step - loss: 15.1586 - val_loss: 11.4824\n",
      "Epoch 2/20\n",
      "157/157 [==============================] - 0s 2ms/step - loss: 9.6832 - val_loss: 8.0470\n",
      "Epoch 3/20\n",
      "157/157 [==============================] - 0s 2ms/step - loss: 6.7769 - val_loss: 5.5696\n",
      "Epoch 4/20\n",
      "157/157 [==============================] - 0s 2ms/step - loss: 4.6824 - val_loss: 3.8073\n",
      "Epoch 5/20\n",
      "157/157 [==============================] - 0s 2ms/step - loss: 3.1789 - val_loss: 2.5625\n",
      "Epoch 6/20\n",
      "157/157 [==============================] - 0s 2ms/step - loss: 2.1360 - val_loss: 1.7244\n",
      "Epoch 7/20\n",
      "157/157 [==============================] - 0s 2ms/step - loss: 1.4461 - val_loss: 1.1785\n",
      "Epoch 8/20\n",
      "157/157 [==============================] - 0s 2ms/step - loss: 1.0098 - val_loss: 0.8461\n",
      "Epoch 9/20\n",
      "157/157 [==============================] - 0s 2ms/step - loss: 0.7465 - val_loss: 0.6556\n",
      "Epoch 10/20\n",
      "157/157 [==============================] - 0s 2ms/step - loss: 0.5983 - val_loss: 0.5525\n",
      "Epoch 11/20\n",
      "157/157 [==============================] - 0s 2ms/step - loss: 0.5192 - val_loss: 0.4998\n",
      "Epoch 12/20\n",
      "157/157 [==============================] - 0s 2ms/step - loss: 0.4801 - val_loss: 0.4757\n",
      "Epoch 13/20\n",
      "157/157 [==============================] - 0s 2ms/step - loss: 0.4613 - val_loss: 0.4656\n",
      "Epoch 14/20\n",
      "157/157 [==============================] - 0s 2ms/step - loss: 0.4527 - val_loss: 0.4627\n",
      "Epoch 15/20\n",
      "157/157 [==============================] - 0s 2ms/step - loss: 0.4495 - val_loss: 0.4586\n",
      "Epoch 16/20\n",
      "157/157 [==============================] - 0s 2ms/step - loss: 0.4472 - val_loss: 0.4581\n",
      "Epoch 17/20\n",
      "157/157 [==============================] - 0s 2ms/step - loss: 0.4463 - val_loss: 0.4570\n",
      "Epoch 18/20\n",
      "157/157 [==============================] - 0s 2ms/step - loss: 0.4454 - val_loss: 0.4568\n",
      "Epoch 19/20\n",
      "157/157 [==============================] - 0s 2ms/step - loss: 0.4450 - val_loss: 0.4560\n",
      "Epoch 20/20\n",
      "157/157 [==============================] - 0s 2ms/step - loss: 0.4444 - val_loss: 0.4553\n"
     ]
    },
    {
     "data": {
      "text/plain": [
       "<matplotlib.legend.Legend at 0x2aac251f9d00>"
      ]
     },
     "execution_count": 23,
     "metadata": {},
     "output_type": "execute_result"
    },
    {
     "data": {
      "image/png": "[encoded data removed]",
      "text/plain": [
       "<Figure size 432x288 with 1 Axes>"
      ]
     },
     "metadata": {
      "needs_background": "light"
     },
     "output_type": "display_data"
    }
   ],
   "source": [
    "\n",
    "# All models start out with an input layer\n",
    "\n",
    "input_layer=tf.keras.layers.Input(shape=(data_dim,)) \n",
    "\n",
    "activation_layer = tf.keras.layers.LeakyReLU()(input_layer)\n",
    "\n",
    "output_layer = tf.keras.layers.Dense(1)(activation_layer)\n",
    "\n",
    "#A keras model is a way of going from one layer to the next\n",
    "sine_model=tf.keras.models.Model(input_layer,output_layer)\n",
    "\n",
    "sine_model.compile(loss='mse',optimizer='adam')\n",
    "sine_model.fit(X,Y,epochs=20,validation_split=0.5) #Have Keras make a test/validation split for us\n",
    "\n",
    "Y_pred=sine_model.predict(X_test)\n",
    "\n",
    "plt.scatter(X_test[:,0],Y_pred,label='prediction')\n",
    "plt.scatter(X_test[:,0],Y_test,label='truth')\n",
    "plt.xlabel('X[:,0]')\n",
    "plt.ylabel('Y')\n",
    "plt.legend()"
   ]
  },
  {
   "cell_type": "markdown",
   "metadata": {},
   "source": [
    "#  Still not very good, let's add an activated hidden layer to get more flexibility"
   ]
  },
  {
   "cell_type": "code",
   "execution_count": 24,
   "metadata": {},
   "outputs": [
    {
     "name": "stdout",
     "output_type": "stream",
     "text": [
      "Epoch 1/200\n",
      "157/157 [==============================] - 1s 2ms/step - loss: 1.2220 - val_loss: 0.4909\n",
      "Epoch 2/200\n",
      "157/157 [==============================] - 0s 2ms/step - loss: 0.4679 - val_loss: 0.4841\n",
      "Epoch 3/200\n",
      "157/157 [==============================] - 0s 2ms/step - loss: 0.4591 - val_loss: 0.4814\n",
      "Epoch 4/200\n",
      "157/157 [==============================] - 0s 2ms/step - loss: 0.4558 - val_loss: 0.4629\n",
      "Epoch 5/200\n",
      "157/157 [==============================] - 0s 2ms/step - loss: 0.4495 - val_loss: 0.4647\n",
      "Epoch 6/200\n",
      "157/157 [==============================] - 0s 2ms/step - loss: 0.4470 - val_loss: 0.4552\n",
      "Epoch 7/200\n",
      "157/157 [==============================] - 0s 2ms/step - loss: 0.4411 - val_loss: 0.4512\n",
      "Epoch 8/200\n",
      "157/157 [==============================] - 0s 2ms/step - loss: 0.4381 - val_loss: 0.4498\n",
      "Epoch 9/200\n",
      "157/157 [==============================] - 0s 2ms/step - loss: 0.4338 - val_loss: 0.4414\n",
      "Epoch 10/200\n",
      "157/157 [==============================] - 0s 2ms/step - loss: 0.4338 - val_loss: 0.4445\n",
      "Epoch 11/200\n",
      "157/157 [==============================] - 0s 2ms/step - loss: 0.4259 - val_loss: 0.4343\n",
      "Epoch 12/200\n",
      "157/157 [==============================] - 0s 2ms/step - loss: 0.4226 - val_loss: 0.4334\n",
      "Epoch 13/200\n",
      "157/157 [==============================] - 0s 2ms/step - loss: 0.4147 - val_loss: 0.4204\n",
      "Epoch 14/200\n",
      "157/157 [==============================] - 0s 2ms/step - loss: 0.4053 - val_loss: 0.4096\n",
      "Epoch 15/200\n",
      "157/157 [==============================] - 0s 2ms/step - loss: 0.3987 - val_loss: 0.4003\n",
      "Epoch 16/200\n",
      "157/157 [==============================] - 0s 2ms/step - loss: 0.3898 - val_loss: 0.3955\n",
      "Epoch 17/200\n",
      "157/157 [==============================] - 0s 2ms/step - loss: 0.3820 - val_loss: 0.3809\n",
      "Epoch 18/200\n",
      "157/157 [==============================] - 0s 2ms/step - loss: 0.3760 - val_loss: 0.3752\n",
      "Epoch 19/200\n",
      "157/157 [==============================] - 0s 2ms/step - loss: 0.3695 - val_loss: 0.3665\n",
      "Epoch 20/200\n",
      "157/157 [==============================] - 0s 2ms/step - loss: 0.3615 - val_loss: 0.3843\n",
      "Epoch 21/200\n",
      "157/157 [==============================] - 0s 2ms/step - loss: 0.3560 - val_loss: 0.3586\n",
      "Epoch 22/200\n",
      "157/157 [==============================] - 0s 2ms/step - loss: 0.3511 - val_loss: 0.3540\n",
      "Epoch 23/200\n",
      "157/157 [==============================] - 0s 2ms/step - loss: 0.3500 - val_loss: 0.3561\n",
      "Epoch 24/200\n",
      "157/157 [==============================] - 0s 2ms/step - loss: 0.3489 - val_loss: 0.3427\n",
      "Epoch 25/200\n",
      "157/157 [==============================] - 0s 2ms/step - loss: 0.3434 - val_loss: 0.3585\n",
      "Epoch 26/200\n",
      "157/157 [==============================] - 0s 2ms/step - loss: 0.3444 - val_loss: 0.3381\n",
      "Epoch 27/200\n",
      "157/157 [==============================] - 0s 2ms/step - loss: 0.3399 - val_loss: 0.3371\n",
      "Epoch 28/200\n",
      "157/157 [==============================] - 0s 2ms/step - loss: 0.3370 - val_loss: 0.3358\n",
      "Epoch 29/200\n",
      "157/157 [==============================] - 0s 2ms/step - loss: 0.3369 - val_loss: 0.3419\n",
      "Epoch 30/200\n",
      "157/157 [==============================] - 0s 2ms/step - loss: 0.3338 - val_loss: 0.3324\n",
      "Epoch 31/200\n",
      "157/157 [==============================] - 0s 2ms/step - loss: 0.3353 - val_loss: 0.3353\n",
      "Epoch 32/200\n",
      "157/157 [==============================] - 0s 2ms/step - loss: 0.3299 - val_loss: 0.3410\n",
      "Epoch 33/200\n",
      "157/157 [==============================] - 0s 2ms/step - loss: 0.3262 - val_loss: 0.3247\n",
      "Epoch 34/200\n",
      "157/157 [==============================] - 0s 2ms/step - loss: 0.3250 - val_loss: 0.3342\n",
      "Epoch 35/200\n",
      "157/157 [==============================] - 0s 2ms/step - loss: 0.3259 - val_loss: 0.3518\n",
      "Epoch 36/200\n",
      "157/157 [==============================] - 0s 2ms/step - loss: 0.3243 - val_loss: 0.3272\n",
      "Epoch 37/200\n",
      "157/157 [==============================] - 0s 2ms/step - loss: 0.3204 - val_loss: 0.3281\n",
      "Epoch 38/200\n",
      "157/157 [==============================] - 0s 2ms/step - loss: 0.3191 - val_loss: 0.3155\n",
      "Epoch 39/200\n",
      "157/157 [==============================] - 0s 2ms/step - loss: 0.3191 - val_loss: 0.3263\n",
      "Epoch 40/200\n",
      "157/157 [==============================] - 0s 2ms/step - loss: 0.3146 - val_loss: 0.3164\n",
      "Epoch 41/200\n",
      "157/157 [==============================] - 0s 2ms/step - loss: 0.3137 - val_loss: 0.3170\n",
      "Epoch 42/200\n",
      "157/157 [==============================] - 0s 2ms/step - loss: 0.3137 - val_loss: 0.3112\n",
      "Epoch 43/200\n",
      "157/157 [==============================] - 0s 2ms/step - loss: 0.3097 - val_loss: 0.3103\n",
      "Epoch 44/200\n",
      "157/157 [==============================] - 0s 2ms/step - loss: 0.3076 - val_loss: 0.3076\n",
      "Epoch 45/200\n",
      "157/157 [==============================] - 0s 2ms/step - loss: 0.3086 - val_loss: 0.3454\n",
      "Epoch 46/200\n",
      "157/157 [==============================] - 0s 2ms/step - loss: 0.3076 - val_loss: 0.3058\n",
      "Epoch 47/200\n",
      "157/157 [==============================] - 0s 2ms/step - loss: 0.3045 - val_loss: 0.3073\n",
      "Epoch 48/200\n",
      "157/157 [==============================] - 0s 2ms/step - loss: 0.3011 - val_loss: 0.3110\n",
      "Epoch 49/200\n",
      "157/157 [==============================] - 0s 2ms/step - loss: 0.3021 - val_loss: 0.3050\n",
      "Epoch 50/200\n",
      "157/157 [==============================] - 0s 2ms/step - loss: 0.2991 - val_loss: 0.3029\n",
      "Epoch 51/200\n",
      "157/157 [==============================] - 0s 2ms/step - loss: 0.2965 - val_loss: 0.2965\n",
      "Epoch 52/200\n",
      "157/157 [==============================] - 0s 2ms/step - loss: 0.2986 - val_loss: 0.2961\n",
      "Epoch 53/200\n",
      "157/157 [==============================] - 0s 2ms/step - loss: 0.2956 - val_loss: 0.3026\n",
      "Epoch 54/200\n",
      "157/157 [==============================] - 0s 2ms/step - loss: 0.2955 - val_loss: 0.2972\n",
      "Epoch 55/200\n",
      "157/157 [==============================] - 0s 2ms/step - loss: 0.2937 - val_loss: 0.2922\n",
      "Epoch 56/200\n",
      "157/157 [==============================] - 0s 2ms/step - loss: 0.2909 - val_loss: 0.2928\n",
      "Epoch 57/200\n",
      "157/157 [==============================] - 0s 2ms/step - loss: 0.2917 - val_loss: 0.2922\n",
      "Epoch 58/200\n",
      "157/157 [==============================] - 0s 2ms/step - loss: 0.2878 - val_loss: 0.2899\n",
      "Epoch 59/200\n",
      "157/157 [==============================] - 0s 2ms/step - loss: 0.2883 - val_loss: 0.2908\n",
      "Epoch 60/200\n",
      "157/157 [==============================] - 0s 2ms/step - loss: 0.2861 - val_loss: 0.2956\n",
      "Epoch 61/200\n",
      "157/157 [==============================] - 0s 2ms/step - loss: 0.2906 - val_loss: 0.2885\n",
      "Epoch 62/200\n",
      "157/157 [==============================] - 0s 2ms/step - loss: 0.2886 - val_loss: 0.2860\n",
      "Epoch 63/200\n",
      "157/157 [==============================] - 0s 2ms/step - loss: 0.2830 - val_loss: 0.2865\n",
      "Epoch 64/200\n",
      "157/157 [==============================] - 0s 2ms/step - loss: 0.2851 - val_loss: 0.2835\n",
      "Epoch 65/200\n",
      "157/157 [==============================] - 0s 2ms/step - loss: 0.2826 - val_loss: 0.2840\n",
      "Epoch 66/200\n",
      "157/157 [==============================] - 0s 2ms/step - loss: 0.2811 - val_loss: 0.2855\n",
      "Epoch 67/200\n",
      "157/157 [==============================] - 0s 2ms/step - loss: 0.2773 - val_loss: 0.2805\n",
      "Epoch 68/200\n",
      "157/157 [==============================] - 0s 2ms/step - loss: 0.2808 - val_loss: 0.2803\n",
      "Epoch 69/200\n",
      "157/157 [==============================] - 0s 2ms/step - loss: 0.2771 - val_loss: 0.2787\n",
      "Epoch 70/200\n",
      "157/157 [==============================] - 0s 2ms/step - loss: 0.2768 - val_loss: 0.2785\n",
      "Epoch 71/200\n",
      "157/157 [==============================] - 0s 2ms/step - loss: 0.2770 - val_loss: 0.2765\n",
      "Epoch 72/200\n",
      "157/157 [==============================] - 0s 2ms/step - loss: 0.2739 - val_loss: 0.2829\n",
      "Epoch 73/200\n",
      "157/157 [==============================] - 0s 2ms/step - loss: 0.2744 - val_loss: 0.2888\n",
      "Epoch 74/200\n",
      "157/157 [==============================] - 0s 2ms/step - loss: 0.2753 - val_loss: 0.2782\n",
      "Epoch 75/200\n",
      "157/157 [==============================] - 0s 2ms/step - loss: 0.2768 - val_loss: 0.2828\n",
      "Epoch 76/200\n",
      "157/157 [==============================] - 0s 2ms/step - loss: 0.2706 - val_loss: 0.2783\n",
      "Epoch 77/200\n",
      "157/157 [==============================] - 0s 2ms/step - loss: 0.2740 - val_loss: 0.2759\n",
      "Epoch 78/200\n",
      "157/157 [==============================] - 0s 2ms/step - loss: 0.2730 - val_loss: 0.2736\n",
      "Epoch 79/200\n",
      "157/157 [==============================] - 0s 2ms/step - loss: 0.2688 - val_loss: 0.2727\n",
      "Epoch 80/200\n",
      "157/157 [==============================] - 0s 2ms/step - loss: 0.2689 - val_loss: 0.2720\n",
      "Epoch 81/200\n",
      "157/157 [==============================] - 0s 2ms/step - loss: 0.2684 - val_loss: 0.2734\n",
      "Epoch 82/200\n",
      "157/157 [==============================] - 0s 2ms/step - loss: 0.2673 - val_loss: 0.2738\n",
      "Epoch 83/200\n",
      "157/157 [==============================] - 0s 2ms/step - loss: 0.2690 - val_loss: 0.2696\n",
      "Epoch 84/200\n",
      "157/157 [==============================] - 0s 2ms/step - loss: 0.2661 - val_loss: 0.3084\n",
      "Epoch 85/200\n",
      "157/157 [==============================] - 0s 2ms/step - loss: 0.2680 - val_loss: 0.2803\n",
      "Epoch 86/200\n",
      "157/157 [==============================] - 0s 2ms/step - loss: 0.2648 - val_loss: 0.2677\n",
      "Epoch 87/200\n",
      "157/157 [==============================] - 0s 2ms/step - loss: 0.2627 - val_loss: 0.2670\n",
      "Epoch 88/200\n",
      "157/157 [==============================] - 0s 2ms/step - loss: 0.2646 - val_loss: 0.2709\n",
      "Epoch 89/200\n",
      "157/157 [==============================] - 0s 2ms/step - loss: 0.2655 - val_loss: 0.2664\n",
      "Epoch 90/200\n",
      "157/157 [==============================] - 0s 2ms/step - loss: 0.2626 - val_loss: 0.2689\n",
      "Epoch 91/200\n",
      "157/157 [==============================] - 0s 2ms/step - loss: 0.2622 - val_loss: 0.2676\n",
      "Epoch 92/200\n",
      "157/157 [==============================] - 0s 2ms/step - loss: 0.2617 - val_loss: 0.2646\n",
      "Epoch 93/200\n",
      "157/157 [==============================] - 0s 2ms/step - loss: 0.2580 - val_loss: 0.2727\n",
      "Epoch 94/200\n",
      "157/157 [==============================] - 0s 2ms/step - loss: 0.2612 - val_loss: 0.2635\n",
      "Epoch 95/200\n",
      "157/157 [==============================] - 0s 2ms/step - loss: 0.2611 - val_loss: 0.2632\n",
      "Epoch 96/200\n",
      "157/157 [==============================] - 0s 2ms/step - loss: 0.2588 - val_loss: 0.2711\n",
      "Epoch 97/200\n",
      "157/157 [==============================] - 0s 2ms/step - loss: 0.2639 - val_loss: 0.2642\n",
      "Epoch 98/200\n",
      "157/157 [==============================] - 0s 2ms/step - loss: 0.2584 - val_loss: 0.2625\n",
      "Epoch 99/200\n",
      "157/157 [==============================] - 0s 2ms/step - loss: 0.2594 - val_loss: 0.2622\n",
      "Epoch 100/200\n",
      "157/157 [==============================] - 0s 2ms/step - loss: 0.2577 - val_loss: 0.2646\n",
      "Epoch 101/200\n",
      "157/157 [==============================] - 0s 2ms/step - loss: 0.2612 - val_loss: 0.2617\n",
      "Epoch 102/200\n",
      "157/157 [==============================] - 0s 2ms/step - loss: 0.2565 - val_loss: 0.2612\n",
      "Epoch 103/200\n",
      "157/157 [==============================] - 0s 2ms/step - loss: 0.2564 - val_loss: 0.2612\n",
      "Epoch 104/200\n",
      "157/157 [==============================] - 0s 2ms/step - loss: 0.2552 - val_loss: 0.2762\n",
      "Epoch 105/200\n",
      "157/157 [==============================] - 0s 2ms/step - loss: 0.2585 - val_loss: 0.2667\n",
      "Epoch 106/200\n",
      "157/157 [==============================] - 0s 2ms/step - loss: 0.2546 - val_loss: 0.2822\n",
      "Epoch 107/200\n",
      "157/157 [==============================] - 0s 2ms/step - loss: 0.2586 - val_loss: 0.2601\n",
      "Epoch 108/200\n",
      "157/157 [==============================] - 0s 2ms/step - loss: 0.2586 - val_loss: 0.2592\n",
      "Epoch 109/200\n",
      "157/157 [==============================] - 0s 2ms/step - loss: 0.2580 - val_loss: 0.2787\n",
      "Epoch 110/200\n",
      "157/157 [==============================] - 0s 2ms/step - loss: 0.2556 - val_loss: 0.2575\n",
      "Epoch 111/200\n",
      "157/157 [==============================] - 0s 2ms/step - loss: 0.2574 - val_loss: 0.2597\n",
      "Epoch 112/200\n",
      "157/157 [==============================] - 0s 2ms/step - loss: 0.2549 - val_loss: 0.2597\n",
      "Epoch 113/200\n",
      "157/157 [==============================] - 0s 2ms/step - loss: 0.2535 - val_loss: 0.2614\n",
      "Epoch 114/200\n",
      "157/157 [==============================] - 0s 2ms/step - loss: 0.2548 - val_loss: 0.2557\n",
      "Epoch 115/200\n",
      "157/157 [==============================] - 0s 2ms/step - loss: 0.2520 - val_loss: 0.2567\n",
      "Epoch 116/200\n",
      "157/157 [==============================] - 0s 2ms/step - loss: 0.2516 - val_loss: 0.2584\n",
      "Epoch 117/200\n",
      "157/157 [==============================] - 0s 2ms/step - loss: 0.2527 - val_loss: 0.2551\n",
      "Epoch 118/200\n",
      "157/157 [==============================] - 0s 2ms/step - loss: 0.2508 - val_loss: 0.2577\n",
      "Epoch 119/200\n",
      "157/157 [==============================] - 0s 2ms/step - loss: 0.2561 - val_loss: 0.2642\n",
      "Epoch 120/200\n",
      "157/157 [==============================] - 0s 2ms/step - loss: 0.2507 - val_loss: 0.2635\n",
      "Epoch 121/200\n",
      "157/157 [==============================] - 0s 2ms/step - loss: 0.2524 - val_loss: 0.2555\n",
      "Epoch 122/200\n",
      "157/157 [==============================] - 0s 2ms/step - loss: 0.2510 - val_loss: 0.2857\n",
      "Epoch 123/200\n",
      "157/157 [==============================] - 0s 2ms/step - loss: 0.2517 - val_loss: 0.2545\n",
      "Epoch 124/200\n",
      "157/157 [==============================] - 0s 2ms/step - loss: 0.2497 - val_loss: 0.2569\n",
      "Epoch 125/200\n",
      "157/157 [==============================] - 0s 2ms/step - loss: 0.2505 - val_loss: 0.2649\n",
      "Epoch 126/200\n",
      "157/157 [==============================] - 0s 2ms/step - loss: 0.2496 - val_loss: 0.2706\n",
      "Epoch 127/200\n",
      "157/157 [==============================] - 0s 2ms/step - loss: 0.2493 - val_loss: 0.2557\n",
      "Epoch 128/200\n",
      "157/157 [==============================] - 0s 2ms/step - loss: 0.2489 - val_loss: 0.2533\n",
      "Epoch 129/200\n",
      "157/157 [==============================] - 0s 2ms/step - loss: 0.2495 - val_loss: 0.2620\n",
      "Epoch 130/200\n",
      "157/157 [==============================] - 0s 2ms/step - loss: 0.2507 - val_loss: 0.2591\n",
      "Epoch 131/200\n",
      "157/157 [==============================] - 0s 2ms/step - loss: 0.2504 - val_loss: 0.2536\n",
      "Epoch 132/200\n",
      "157/157 [==============================] - 0s 2ms/step - loss: 0.2468 - val_loss: 0.2592\n",
      "Epoch 133/200\n",
      "157/157 [==============================] - 0s 2ms/step - loss: 0.2510 - val_loss: 0.2524\n",
      "Epoch 134/200\n",
      "157/157 [==============================] - 0s 2ms/step - loss: 0.2475 - val_loss: 0.2593\n",
      "Epoch 135/200\n",
      "157/157 [==============================] - 0s 2ms/step - loss: 0.2486 - val_loss: 0.2534\n",
      "Epoch 136/200\n",
      "157/157 [==============================] - 0s 2ms/step - loss: 0.2475 - val_loss: 0.2563\n",
      "Epoch 137/200\n",
      "157/157 [==============================] - 0s 2ms/step - loss: 0.2474 - val_loss: 0.2541\n",
      "Epoch 138/200\n",
      "157/157 [==============================] - 0s 2ms/step - loss: 0.2471 - val_loss: 0.2671\n",
      "Epoch 139/200\n",
      "157/157 [==============================] - 0s 2ms/step - loss: 0.2460 - val_loss: 0.2524\n",
      "Epoch 140/200\n",
      "157/157 [==============================] - 0s 2ms/step - loss: 0.2467 - val_loss: 0.2544\n",
      "Epoch 141/200\n",
      "157/157 [==============================] - 0s 2ms/step - loss: 0.2466 - val_loss: 0.2524\n",
      "Epoch 142/200\n",
      "157/157 [==============================] - 0s 2ms/step - loss: 0.2452 - val_loss: 0.2531\n",
      "Epoch 143/200\n",
      "157/157 [==============================] - 0s 2ms/step - loss: 0.2442 - val_loss: 0.2497\n",
      "Epoch 144/200\n",
      "157/157 [==============================] - 0s 2ms/step - loss: 0.2458 - val_loss: 0.2529\n",
      "Epoch 145/200\n",
      "157/157 [==============================] - 0s 2ms/step - loss: 0.2452 - val_loss: 0.2511\n",
      "Epoch 146/200\n",
      "157/157 [==============================] - 0s 2ms/step - loss: 0.2425 - val_loss: 0.2519\n",
      "Epoch 147/200\n",
      "157/157 [==============================] - 0s 2ms/step - loss: 0.2448 - val_loss: 0.2502\n",
      "Epoch 148/200\n",
      "157/157 [==============================] - 0s 2ms/step - loss: 0.2462 - val_loss: 0.2619\n",
      "Epoch 149/200\n",
      "157/157 [==============================] - 0s 2ms/step - loss: 0.2448 - val_loss: 0.2488\n",
      "Epoch 150/200\n",
      "157/157 [==============================] - 0s 2ms/step - loss: 0.2435 - val_loss: 0.2549\n",
      "Epoch 151/200\n",
      "157/157 [==============================] - 0s 2ms/step - loss: 0.2432 - val_loss: 0.2479\n",
      "Epoch 152/200\n",
      "157/157 [==============================] - 0s 2ms/step - loss: 0.2438 - val_loss: 0.2518\n",
      "Epoch 153/200\n",
      "157/157 [==============================] - 0s 2ms/step - loss: 0.2440 - val_loss: 0.2511\n",
      "Epoch 154/200\n",
      "157/157 [==============================] - 0s 2ms/step - loss: 0.2416 - val_loss: 0.2778\n",
      "Epoch 155/200\n",
      "157/157 [==============================] - 0s 2ms/step - loss: 0.2428 - val_loss: 0.2464\n",
      "Epoch 156/200\n",
      "157/157 [==============================] - 0s 2ms/step - loss: 0.2403 - val_loss: 0.2520\n",
      "Epoch 157/200\n",
      "157/157 [==============================] - 0s 2ms/step - loss: 0.2403 - val_loss: 0.2445\n",
      "Epoch 158/200\n",
      "157/157 [==============================] - 0s 2ms/step - loss: 0.2396 - val_loss: 0.2445\n",
      "Epoch 159/200\n",
      "157/157 [==============================] - 0s 2ms/step - loss: 0.2393 - val_loss: 0.2425\n",
      "Epoch 160/200\n",
      "157/157 [==============================] - 0s 2ms/step - loss: 0.2370 - val_loss: 0.2408\n",
      "Epoch 161/200\n",
      "157/157 [==============================] - 0s 2ms/step - loss: 0.2357 - val_loss: 0.2375\n",
      "Epoch 162/200\n",
      "157/157 [==============================] - 0s 2ms/step - loss: 0.2319 - val_loss: 0.2511\n",
      "Epoch 163/200\n",
      "157/157 [==============================] - 0s 2ms/step - loss: 0.2278 - val_loss: 0.2309\n",
      "Epoch 164/200\n",
      "157/157 [==============================] - 0s 2ms/step - loss: 0.2276 - val_loss: 0.2526\n",
      "Epoch 165/200\n",
      "157/157 [==============================] - 0s 2ms/step - loss: 0.2271 - val_loss: 0.2265\n",
      "Epoch 166/200\n",
      "157/157 [==============================] - 0s 2ms/step - loss: 0.2247 - val_loss: 0.2465\n",
      "Epoch 167/200\n",
      "157/157 [==============================] - 0s 2ms/step - loss: 0.2207 - val_loss: 0.2230\n",
      "Epoch 168/200\n",
      "157/157 [==============================] - 0s 2ms/step - loss: 0.2173 - val_loss: 0.2201\n",
      "Epoch 169/200\n",
      "157/157 [==============================] - 0s 2ms/step - loss: 0.2154 - val_loss: 0.2184\n",
      "Epoch 170/200\n",
      "157/157 [==============================] - 0s 2ms/step - loss: 0.2106 - val_loss: 0.2144\n",
      "Epoch 171/200\n",
      "157/157 [==============================] - 0s 2ms/step - loss: 0.2110 - val_loss: 0.2192\n",
      "Epoch 172/200\n",
      "157/157 [==============================] - 0s 2ms/step - loss: 0.2087 - val_loss: 0.2110\n",
      "Epoch 173/200\n",
      "157/157 [==============================] - 0s 2ms/step - loss: 0.2047 - val_loss: 0.2106\n",
      "Epoch 174/200\n",
      "157/157 [==============================] - 0s 2ms/step - loss: 0.2029 - val_loss: 0.2079\n",
      "Epoch 175/200\n",
      "157/157 [==============================] - 0s 2ms/step - loss: 0.2014 - val_loss: 0.2052\n",
      "Epoch 176/200\n",
      "157/157 [==============================] - 0s 2ms/step - loss: 0.1999 - val_loss: 0.2043\n",
      "Epoch 177/200\n",
      "157/157 [==============================] - 0s 2ms/step - loss: 0.1974 - val_loss: 0.2061\n",
      "Epoch 178/200\n",
      "157/157 [==============================] - 0s 2ms/step - loss: 0.1954 - val_loss: 0.2058\n",
      "Epoch 179/200\n",
      "157/157 [==============================] - 0s 2ms/step - loss: 0.1962 - val_loss: 0.1991\n",
      "Epoch 180/200\n",
      "157/157 [==============================] - 0s 2ms/step - loss: 0.1934 - val_loss: 0.2079\n",
      "Epoch 181/200\n",
      "157/157 [==============================] - 0s 2ms/step - loss: 0.1923 - val_loss: 0.2144\n",
      "Epoch 182/200\n",
      "157/157 [==============================] - 0s 2ms/step - loss: 0.1908 - val_loss: 0.1951\n",
      "Epoch 183/200\n",
      "157/157 [==============================] - 0s 2ms/step - loss: 0.1923 - val_loss: 0.2062\n",
      "Epoch 184/200\n",
      "157/157 [==============================] - 0s 2ms/step - loss: 0.1861 - val_loss: 0.1930\n",
      "Epoch 185/200\n",
      "157/157 [==============================] - 0s 2ms/step - loss: 0.1855 - val_loss: 0.1985\n",
      "Epoch 186/200\n",
      "157/157 [==============================] - 0s 2ms/step - loss: 0.1868 - val_loss: 0.2156\n",
      "Epoch 187/200\n",
      "157/157 [==============================] - 0s 2ms/step - loss: 0.1841 - val_loss: 0.1874\n",
      "Epoch 188/200\n",
      "157/157 [==============================] - 0s 2ms/step - loss: 0.1841 - val_loss: 0.1876\n",
      "Epoch 189/200\n",
      "157/157 [==============================] - 0s 2ms/step - loss: 0.1821 - val_loss: 0.1945\n",
      "Epoch 190/200\n",
      "157/157 [==============================] - 0s 2ms/step - loss: 0.1810 - val_loss: 0.1855\n",
      "Epoch 191/200\n",
      "157/157 [==============================] - 0s 2ms/step - loss: 0.1770 - val_loss: 0.2032\n",
      "Epoch 192/200\n",
      "157/157 [==============================] - 0s 2ms/step - loss: 0.1805 - val_loss: 0.1816\n",
      "Epoch 193/200\n",
      "157/157 [==============================] - 0s 2ms/step - loss: 0.1782 - val_loss: 0.1807\n",
      "Epoch 194/200\n",
      "157/157 [==============================] - 0s 2ms/step - loss: 0.1738 - val_loss: 0.1800\n",
      "Epoch 195/200\n",
      "157/157 [==============================] - 0s 2ms/step - loss: 0.1730 - val_loss: 0.1811\n",
      "Epoch 196/200\n",
      "157/157 [==============================] - 0s 2ms/step - loss: 0.1709 - val_loss: 0.1812\n",
      "Epoch 197/200\n",
      "157/157 [==============================] - 0s 2ms/step - loss: 0.1719 - val_loss: 0.1818\n",
      "Epoch 198/200\n",
      "157/157 [==============================] - 0s 2ms/step - loss: 0.1702 - val_loss: 0.1756\n",
      "Epoch 199/200\n",
      "157/157 [==============================] - 0s 2ms/step - loss: 0.1697 - val_loss: 0.1790\n",
      "Epoch 200/200\n",
      "157/157 [==============================] - 0s 2ms/step - loss: 0.1677 - val_loss: 0.1771\n"
     ]
    },
    {
     "data": {
      "text/plain": [
       "<matplotlib.legend.Legend at 0x2aac2598eca0>"
      ]
     },
     "execution_count": 24,
     "metadata": {},
     "output_type": "execute_result"
    },
    {
     "data": {
      "image/png": "[encoded data removed]",
      "text/plain": [
       "<Figure size 432x288 with 1 Axes>"
      ]
     },
     "metadata": {
      "needs_background": "light"
     },
     "output_type": "display_data"
    }
   ],
   "source": [
    "# All models start out with an input layer\n",
    "\n",
    "input_layer=tf.keras.layers.Input(shape=(data_dim,)) \n",
    "hidden_layer = tf.keras.layers.Dense(20)(input_layer)\n",
    "activation_layer = tf.keras.layers.LeakyReLU()(hidden_layer)\n",
    "output_layer = tf.keras.layers.Dense(1)(activation_layer)\n",
    "#A keras model is a way of going from one layer to the next\n",
    "sine_model=tf.keras.models.Model(input_layer,output_layer)\n",
    "\n",
    "sine_model.compile(loss='mse',optimizer='adam')\n",
    "sine_model.fit(X,Y,epochs=200,validation_split=0.5) #Have Keras make a test/validation split for us\n",
    "\n",
    "Y_pred=sine_model.predict(X_test)\n",
    "\n",
    "plt.scatter(X_test[:,0],Y_pred,label='prediction')\n",
    "plt.scatter(X_test[:,0],Y_test,label='truth')\n",
    "plt.xlabel('X[:,0]')\n",
    "plt.ylabel('Y')\n",
    "plt.legend()"
   ]
  },
  {
   "cell_type": "markdown",
   "metadata": {},
   "source": [
    "\n",
    "Still not very good. Let's also make our model a bit more powerful, by adding more layers $l$\n",
    "\n",
    "<p style=\"text-align: center;\">\n",
    "$O_i,o=X_i$\n",
    "</p>\n",
    " \n",
    "<p style=\"text-align: center;\">  \n",
    "$O_{i,l} = \\sigma(\\sum_n W_{i,l,n}*O_{i,l-1}+B_{i,l})$    \n",
    "</p>"
   ]
  },
  {
   "cell_type": "code",
   "execution_count": 25,
   "metadata": {},
   "outputs": [
    {
     "name": "stdout",
     "output_type": "stream",
     "text": [
      "Epoch 1/200\n",
      "157/157 [==============================] - 1s 3ms/step - loss: 0.4775 - val_loss: 0.4482\n",
      "Epoch 2/200\n",
      "157/157 [==============================] - 0s 2ms/step - loss: 0.4157 - val_loss: 0.4112\n",
      "Epoch 3/200\n",
      "157/157 [==============================] - 0s 2ms/step - loss: 0.3827 - val_loss: 0.3738\n",
      "Epoch 4/200\n",
      "157/157 [==============================] - 0s 2ms/step - loss: 0.3490 - val_loss: 0.3408\n",
      "Epoch 5/200\n",
      "157/157 [==============================] - 0s 2ms/step - loss: 0.3145 - val_loss: 0.2953\n",
      "Epoch 6/200\n",
      "157/157 [==============================] - 0s 2ms/step - loss: 0.2771 - val_loss: 0.2661\n",
      "Epoch 7/200\n",
      "157/157 [==============================] - 0s 2ms/step - loss: 0.2497 - val_loss: 0.2579\n",
      "Epoch 8/200\n",
      "157/157 [==============================] - 0s 2ms/step - loss: 0.2340 - val_loss: 0.2249\n",
      "Epoch 9/200\n",
      "157/157 [==============================] - 0s 2ms/step - loss: 0.2205 - val_loss: 0.1964\n",
      "Epoch 10/200\n",
      "157/157 [==============================] - 0s 2ms/step - loss: 0.1935 - val_loss: 0.1925\n",
      "Epoch 11/200\n",
      "157/157 [==============================] - 0s 2ms/step - loss: 0.1760 - val_loss: 0.1775\n",
      "Epoch 12/200\n",
      "157/157 [==============================] - 0s 2ms/step - loss: 0.1646 - val_loss: 0.1702\n",
      "Epoch 13/200\n",
      "157/157 [==============================] - 0s 2ms/step - loss: 0.1452 - val_loss: 0.1362\n",
      "Epoch 14/200\n",
      "157/157 [==============================] - 0s 2ms/step - loss: 0.1294 - val_loss: 0.1203\n",
      "Epoch 15/200\n",
      "157/157 [==============================] - 0s 2ms/step - loss: 0.1158 - val_loss: 0.1128\n",
      "Epoch 16/200\n",
      "157/157 [==============================] - 0s 2ms/step - loss: 0.1046 - val_loss: 0.0988\n",
      "Epoch 17/200\n",
      "157/157 [==============================] - 0s 2ms/step - loss: 0.0881 - val_loss: 0.0845\n",
      "Epoch 18/200\n",
      "157/157 [==============================] - 0s 2ms/step - loss: 0.0689 - val_loss: 0.0583\n",
      "Epoch 19/200\n",
      "157/157 [==============================] - 0s 2ms/step - loss: 0.0511 - val_loss: 0.0426\n",
      "Epoch 20/200\n",
      "157/157 [==============================] - 0s 2ms/step - loss: 0.0367 - val_loss: 0.0345\n",
      "Epoch 21/200\n",
      "157/157 [==============================] - 0s 2ms/step - loss: 0.0263 - val_loss: 0.0191\n",
      "Epoch 22/200\n",
      "157/157 [==============================] - 0s 2ms/step - loss: 0.0156 - val_loss: 0.0156\n",
      "Epoch 23/200\n",
      "157/157 [==============================] - 0s 2ms/step - loss: 0.0129 - val_loss: 0.0119\n",
      "Epoch 24/200\n",
      "157/157 [==============================] - 0s 2ms/step - loss: 0.0102 - val_loss: 0.0099\n",
      "Epoch 25/200\n",
      "157/157 [==============================] - 0s 2ms/step - loss: 0.0087 - val_loss: 0.0097\n",
      "Epoch 26/200\n",
      "157/157 [==============================] - 0s 2ms/step - loss: 0.0075 - val_loss: 0.0086\n",
      "Epoch 27/200\n",
      "157/157 [==============================] - 0s 2ms/step - loss: 0.0060 - val_loss: 0.0049\n",
      "Epoch 28/200\n",
      "157/157 [==============================] - 0s 2ms/step - loss: 0.0057 - val_loss: 0.0048\n",
      "Epoch 29/200\n",
      "157/157 [==============================] - 0s 2ms/step - loss: 0.0045 - val_loss: 0.0040\n",
      "Epoch 30/200\n",
      "157/157 [==============================] - 0s 2ms/step - loss: 0.0048 - val_loss: 0.0041\n",
      "Epoch 31/200\n",
      "157/157 [==============================] - 0s 2ms/step - loss: 0.0049 - val_loss: 0.0057\n",
      "Epoch 32/200\n",
      "157/157 [==============================] - 0s 2ms/step - loss: 0.0051 - val_loss: 0.0057\n",
      "Epoch 33/200\n",
      "157/157 [==============================] - 0s 2ms/step - loss: 0.0039 - val_loss: 0.0033\n",
      "Epoch 34/200\n",
      "157/157 [==============================] - 0s 2ms/step - loss: 0.0045 - val_loss: 0.0049\n",
      "Epoch 35/200\n",
      "157/157 [==============================] - 0s 2ms/step - loss: 0.0056 - val_loss: 0.0026\n",
      "Epoch 36/200\n",
      "157/157 [==============================] - 0s 2ms/step - loss: 0.0042 - val_loss: 0.0043\n",
      "Epoch 37/200\n",
      "157/157 [==============================] - 0s 2ms/step - loss: 0.0029 - val_loss: 0.0034\n",
      "Epoch 38/200\n",
      "157/157 [==============================] - 0s 2ms/step - loss: 0.0033 - val_loss: 0.0025\n",
      "Epoch 39/200\n",
      "157/157 [==============================] - 0s 2ms/step - loss: 0.0025 - val_loss: 0.0044\n",
      "Epoch 40/200\n",
      "157/157 [==============================] - 0s 2ms/step - loss: 0.0026 - val_loss: 0.0020\n",
      "Epoch 41/200\n",
      "157/157 [==============================] - 0s 2ms/step - loss: 0.0025 - val_loss: 0.0022\n",
      "Epoch 42/200\n",
      "157/157 [==============================] - 0s 2ms/step - loss: 0.0026 - val_loss: 0.0054\n",
      "Epoch 43/200\n",
      "157/157 [==============================] - 0s 2ms/step - loss: 0.0033 - val_loss: 0.0027\n",
      "Epoch 44/200\n",
      "157/157 [==============================] - 0s 2ms/step - loss: 0.0026 - val_loss: 0.0031\n",
      "Epoch 45/200\n",
      "157/157 [==============================] - 0s 2ms/step - loss: 0.0024 - val_loss: 0.0037\n",
      "Epoch 46/200\n",
      "157/157 [==============================] - 0s 2ms/step - loss: 0.0034 - val_loss: 0.0094\n",
      "Epoch 47/200\n",
      "157/157 [==============================] - 0s 2ms/step - loss: 0.0023 - val_loss: 0.0019\n",
      "Epoch 48/200\n",
      "157/157 [==============================] - 0s 2ms/step - loss: 0.0017 - val_loss: 0.0018\n",
      "Epoch 49/200\n",
      "157/157 [==============================] - 0s 2ms/step - loss: 0.0020 - val_loss: 0.0023\n",
      "Epoch 50/200\n",
      "157/157 [==============================] - 0s 2ms/step - loss: 0.0027 - val_loss: 0.0018\n",
      "Epoch 51/200\n",
      "157/157 [==============================] - 0s 2ms/step - loss: 0.0019 - val_loss: 0.0022\n",
      "Epoch 52/200\n",
      "157/157 [==============================] - 0s 2ms/step - loss: 0.0021 - val_loss: 0.0060\n",
      "Epoch 53/200\n",
      "157/157 [==============================] - 0s 2ms/step - loss: 0.0029 - val_loss: 0.0019\n",
      "Epoch 54/200\n",
      "157/157 [==============================] - 0s 2ms/step - loss: 0.0019 - val_loss: 0.0016\n",
      "Epoch 55/200\n",
      "157/157 [==============================] - 0s 2ms/step - loss: 0.0016 - val_loss: 0.0015\n",
      "Epoch 56/200\n",
      "157/157 [==============================] - 0s 2ms/step - loss: 0.0018 - val_loss: 0.0012\n",
      "Epoch 57/200\n",
      "157/157 [==============================] - 0s 2ms/step - loss: 0.0015 - val_loss: 0.0014\n",
      "Epoch 58/200\n",
      "157/157 [==============================] - 0s 2ms/step - loss: 0.0024 - val_loss: 0.0023\n",
      "Epoch 59/200\n",
      "157/157 [==============================] - 0s 2ms/step - loss: 0.0044 - val_loss: 0.0050\n",
      "Epoch 60/200\n",
      "157/157 [==============================] - 0s 2ms/step - loss: 0.0019 - val_loss: 0.0011\n",
      "Epoch 61/200\n",
      "157/157 [==============================] - 0s 2ms/step - loss: 0.0013 - val_loss: 0.0019\n",
      "Epoch 62/200\n",
      "157/157 [==============================] - 0s 2ms/step - loss: 0.0016 - val_loss: 0.0018\n",
      "Epoch 63/200\n",
      "157/157 [==============================] - 0s 2ms/step - loss: 0.0013 - val_loss: 0.0035\n",
      "Epoch 64/200\n",
      "157/157 [==============================] - 0s 2ms/step - loss: 0.0015 - val_loss: 0.0026\n",
      "Epoch 65/200\n",
      "157/157 [==============================] - 0s 2ms/step - loss: 0.0012 - val_loss: 0.0021\n",
      "Epoch 66/200\n",
      "157/157 [==============================] - 0s 2ms/step - loss: 0.0019 - val_loss: 0.0028\n",
      "Epoch 67/200\n",
      "157/157 [==============================] - 0s 2ms/step - loss: 0.0017 - val_loss: 0.0022\n",
      "Epoch 68/200\n",
      "157/157 [==============================] - 0s 2ms/step - loss: 0.0034 - val_loss: 0.0026\n",
      "Epoch 69/200\n",
      "157/157 [==============================] - 0s 2ms/step - loss: 0.0012 - val_loss: 0.0016\n",
      "Epoch 70/200\n",
      "157/157 [==============================] - 0s 2ms/step - loss: 0.0012 - val_loss: 7.1648e-04\n",
      "Epoch 71/200\n",
      "157/157 [==============================] - 0s 2ms/step - loss: 0.0016 - val_loss: 0.0073\n",
      "Epoch 72/200\n",
      "157/157 [==============================] - 0s 2ms/step - loss: 0.0023 - val_loss: 0.0011\n",
      "Epoch 73/200\n",
      "157/157 [==============================] - 0s 2ms/step - loss: 8.7271e-04 - val_loss: 0.0010\n",
      "Epoch 74/200\n",
      "157/157 [==============================] - 0s 2ms/step - loss: 0.0012 - val_loss: 0.0011\n",
      "Epoch 75/200\n",
      "157/157 [==============================] - 0s 2ms/step - loss: 9.9007e-04 - val_loss: 9.3522e-04\n",
      "Epoch 76/200\n",
      "157/157 [==============================] - 0s 2ms/step - loss: 0.0020 - val_loss: 0.0044\n",
      "Epoch 77/200\n",
      "157/157 [==============================] - 0s 2ms/step - loss: 0.0014 - val_loss: 0.0013\n",
      "Epoch 78/200\n",
      "157/157 [==============================] - 0s 2ms/step - loss: 0.0012 - val_loss: 9.9129e-04\n",
      "Epoch 79/200\n",
      "157/157 [==============================] - 0s 2ms/step - loss: 0.0017 - val_loss: 0.0082\n",
      "Epoch 80/200\n",
      "157/157 [==============================] - 0s 2ms/step - loss: 0.0015 - val_loss: 0.0013\n",
      "Epoch 81/200\n",
      "157/157 [==============================] - 0s 2ms/step - loss: 8.1104e-04 - val_loss: 0.0011\n",
      "Epoch 82/200\n",
      "157/157 [==============================] - 0s 2ms/step - loss: 0.0016 - val_loss: 8.1662e-04\n",
      "Epoch 83/200\n",
      "157/157 [==============================] - 0s 2ms/step - loss: 8.0805e-04 - val_loss: 0.0018\n",
      "Epoch 84/200\n",
      "157/157 [==============================] - 0s 2ms/step - loss: 0.0012 - val_loss: 0.0012\n",
      "Epoch 85/200\n",
      "157/157 [==============================] - 0s 2ms/step - loss: 0.0012 - val_loss: 0.0027\n",
      "Epoch 86/200\n",
      "157/157 [==============================] - 0s 2ms/step - loss: 0.0014 - val_loss: 7.6936e-04\n",
      "Epoch 87/200\n",
      "157/157 [==============================] - 0s 2ms/step - loss: 0.0011 - val_loss: 0.0052\n",
      "Epoch 88/200\n",
      "157/157 [==============================] - 0s 2ms/step - loss: 0.0011 - val_loss: 7.8247e-04\n",
      "Epoch 89/200\n",
      "157/157 [==============================] - 0s 2ms/step - loss: 0.0010 - val_loss: 0.0019\n",
      "Epoch 90/200\n",
      "157/157 [==============================] - 0s 2ms/step - loss: 0.0022 - val_loss: 0.0010\n",
      "Epoch 91/200\n",
      "157/157 [==============================] - 0s 2ms/step - loss: 7.7858e-04 - val_loss: 6.6753e-04\n",
      "Epoch 92/200\n",
      "157/157 [==============================] - 0s 2ms/step - loss: 8.8116e-04 - val_loss: 5.6585e-04\n",
      "Epoch 93/200\n",
      "157/157 [==============================] - 0s 2ms/step - loss: 6.2376e-04 - val_loss: 0.0013\n",
      "Epoch 94/200\n",
      "157/157 [==============================] - 0s 2ms/step - loss: 8.3926e-04 - val_loss: 7.4877e-04\n",
      "Epoch 95/200\n",
      "157/157 [==============================] - 0s 2ms/step - loss: 0.0010 - val_loss: 7.8530e-04\n",
      "Epoch 96/200\n",
      "157/157 [==============================] - 0s 2ms/step - loss: 0.0014 - val_loss: 5.7884e-04\n",
      "Epoch 97/200\n",
      "157/157 [==============================] - 0s 2ms/step - loss: 0.0055 - val_loss: 0.0010\n",
      "Epoch 98/200\n",
      "157/157 [==============================] - 0s 2ms/step - loss: 6.1416e-04 - val_loss: 4.6598e-04\n",
      "Epoch 99/200\n",
      "157/157 [==============================] - 0s 2ms/step - loss: 6.1700e-04 - val_loss: 8.5070e-04\n",
      "Epoch 100/200\n",
      "157/157 [==============================] - 0s 2ms/step - loss: 7.1697e-04 - val_loss: 6.9633e-04\n",
      "Epoch 101/200\n",
      "157/157 [==============================] - 0s 2ms/step - loss: 9.3097e-04 - val_loss: 0.0012\n",
      "Epoch 102/200\n",
      "157/157 [==============================] - 0s 2ms/step - loss: 0.0020 - val_loss: 7.8982e-04\n",
      "Epoch 103/200\n",
      "157/157 [==============================] - 0s 2ms/step - loss: 9.2560e-04 - val_loss: 4.4247e-04\n",
      "Epoch 104/200\n",
      "157/157 [==============================] - 0s 2ms/step - loss: 5.1893e-04 - val_loss: 8.3841e-04\n",
      "Epoch 105/200\n",
      "157/157 [==============================] - 0s 2ms/step - loss: 8.5361e-04 - val_loss: 5.7881e-04\n",
      "Epoch 106/200\n",
      "157/157 [==============================] - 0s 2ms/step - loss: 6.9543e-04 - val_loss: 4.3612e-04\n",
      "Epoch 107/200\n",
      "157/157 [==============================] - 0s 2ms/step - loss: 0.0016 - val_loss: 6.8931e-04\n",
      "Epoch 108/200\n",
      "157/157 [==============================] - 0s 2ms/step - loss: 9.5715e-04 - val_loss: 4.2567e-04\n",
      "Epoch 109/200\n",
      "157/157 [==============================] - 0s 2ms/step - loss: 6.7517e-04 - val_loss: 4.6281e-04\n",
      "Epoch 110/200\n",
      "157/157 [==============================] - 0s 2ms/step - loss: 6.3412e-04 - val_loss: 3.7821e-04\n",
      "Epoch 111/200\n",
      "157/157 [==============================] - 0s 2ms/step - loss: 6.5263e-04 - val_loss: 5.1773e-04\n",
      "Epoch 112/200\n",
      "157/157 [==============================] - 0s 2ms/step - loss: 0.0010 - val_loss: 0.0016\n",
      "Epoch 113/200\n",
      "157/157 [==============================] - 0s 2ms/step - loss: 8.4572e-04 - val_loss: 7.5778e-04\n",
      "Epoch 114/200\n",
      "157/157 [==============================] - 0s 2ms/step - loss: 0.0014 - val_loss: 6.4986e-04\n",
      "Epoch 115/200\n",
      "157/157 [==============================] - 0s 2ms/step - loss: 0.0014 - val_loss: 3.5821e-04\n",
      "Epoch 116/200\n",
      "157/157 [==============================] - 0s 2ms/step - loss: 6.8263e-04 - val_loss: 5.5500e-04\n",
      "Epoch 117/200\n",
      "157/157 [==============================] - 0s 2ms/step - loss: 7.5599e-04 - val_loss: 5.2981e-04\n",
      "Epoch 118/200\n",
      "157/157 [==============================] - 0s 2ms/step - loss: 6.8037e-04 - val_loss: 6.5119e-04\n",
      "Epoch 119/200\n",
      "157/157 [==============================] - 0s 2ms/step - loss: 6.2516e-04 - val_loss: 8.1116e-04\n",
      "Epoch 120/200\n",
      "157/157 [==============================] - 0s 2ms/step - loss: 5.8421e-04 - val_loss: 0.0020\n",
      "Epoch 121/200\n",
      "157/157 [==============================] - 0s 2ms/step - loss: 0.0064 - val_loss: 0.0084\n",
      "Epoch 122/200\n",
      "157/157 [==============================] - 0s 2ms/step - loss: 8.0785e-04 - val_loss: 4.4531e-04\n",
      "Epoch 123/200\n",
      "157/157 [==============================] - 0s 2ms/step - loss: 4.1535e-04 - val_loss: 3.7408e-04\n",
      "Epoch 124/200\n",
      "157/157 [==============================] - 0s 2ms/step - loss: 3.8616e-04 - val_loss: 5.7866e-04\n",
      "Epoch 125/200\n",
      "157/157 [==============================] - 0s 2ms/step - loss: 4.0406e-04 - val_loss: 6.2979e-04\n",
      "Epoch 126/200\n",
      "157/157 [==============================] - 0s 2ms/step - loss: 4.6337e-04 - val_loss: 5.3687e-04\n",
      "Epoch 127/200\n",
      "157/157 [==============================] - 0s 2ms/step - loss: 6.0185e-04 - val_loss: 3.3314e-04\n",
      "Epoch 128/200\n",
      "157/157 [==============================] - 0s 2ms/step - loss: 6.3756e-04 - val_loss: 0.0013\n",
      "Epoch 129/200\n",
      "157/157 [==============================] - 0s 2ms/step - loss: 5.7800e-04 - val_loss: 6.9468e-04\n",
      "Epoch 130/200\n",
      "157/157 [==============================] - 0s 2ms/step - loss: 5.1342e-04 - val_loss: 5.7262e-04\n",
      "Epoch 131/200\n",
      "157/157 [==============================] - 0s 2ms/step - loss: 5.8218e-04 - val_loss: 5.0875e-04\n",
      "Epoch 132/200\n",
      "157/157 [==============================] - 0s 2ms/step - loss: 6.9919e-04 - val_loss: 3.6613e-04\n",
      "Epoch 133/200\n",
      "157/157 [==============================] - 0s 2ms/step - loss: 6.3025e-04 - val_loss: 0.0012\n",
      "Epoch 134/200\n",
      "157/157 [==============================] - 0s 2ms/step - loss: 0.0023 - val_loss: 2.6259e-04\n",
      "Epoch 135/200\n",
      "157/157 [==============================] - 0s 2ms/step - loss: 5.6291e-04 - val_loss: 0.0012\n",
      "Epoch 136/200\n",
      "157/157 [==============================] - 0s 2ms/step - loss: 4.6442e-04 - val_loss: 7.3234e-04\n",
      "Epoch 137/200\n",
      "157/157 [==============================] - 0s 2ms/step - loss: 5.4995e-04 - val_loss: 0.0016\n",
      "Epoch 138/200\n",
      "157/157 [==============================] - 0s 2ms/step - loss: 0.0033 - val_loss: 3.9541e-04\n",
      "Epoch 139/200\n",
      "157/157 [==============================] - 0s 2ms/step - loss: 0.0010 - val_loss: 7.6836e-04\n",
      "Epoch 140/200\n",
      "157/157 [==============================] - 0s 2ms/step - loss: 4.4049e-04 - val_loss: 3.6942e-04\n",
      "Epoch 141/200\n",
      "157/157 [==============================] - 0s 2ms/step - loss: 3.2557e-04 - val_loss: 2.6491e-04\n",
      "Epoch 142/200\n",
      "157/157 [==============================] - 0s 2ms/step - loss: 5.9247e-04 - val_loss: 2.5056e-04\n",
      "Epoch 143/200\n",
      "157/157 [==============================] - 0s 2ms/step - loss: 4.6311e-04 - val_loss: 8.6352e-04\n",
      "Epoch 144/200\n",
      "157/157 [==============================] - 0s 2ms/step - loss: 3.7111e-04 - val_loss: 4.1507e-04\n",
      "Epoch 145/200\n",
      "157/157 [==============================] - 0s 2ms/step - loss: 5.4654e-04 - val_loss: 4.8072e-04\n",
      "Epoch 146/200\n",
      "157/157 [==============================] - 0s 2ms/step - loss: 0.0011 - val_loss: 3.4986e-04\n",
      "Epoch 147/200\n",
      "157/157 [==============================] - 0s 2ms/step - loss: 9.0113e-04 - val_loss: 0.0012\n",
      "Epoch 148/200\n",
      "157/157 [==============================] - 0s 2ms/step - loss: 0.0016 - val_loss: 5.6587e-04\n",
      "Epoch 149/200\n",
      "157/157 [==============================] - 0s 2ms/step - loss: 3.4171e-04 - val_loss: 2.2437e-04\n",
      "Epoch 150/200\n",
      "157/157 [==============================] - 0s 2ms/step - loss: 3.7644e-04 - val_loss: 5.0645e-04\n",
      "Epoch 151/200\n",
      "157/157 [==============================] - 0s 2ms/step - loss: 5.5319e-04 - val_loss: 0.0011\n",
      "Epoch 152/200\n",
      "157/157 [==============================] - 0s 2ms/step - loss: 5.9866e-04 - val_loss: 0.0010\n",
      "Epoch 153/200\n",
      "157/157 [==============================] - 0s 2ms/step - loss: 4.9723e-04 - val_loss: 7.6394e-04\n",
      "Epoch 154/200\n",
      "157/157 [==============================] - 0s 2ms/step - loss: 0.0011 - val_loss: 5.8203e-04\n",
      "Epoch 155/200\n",
      "157/157 [==============================] - 0s 2ms/step - loss: 0.0011 - val_loss: 2.7373e-04\n",
      "Epoch 156/200\n",
      "157/157 [==============================] - 0s 2ms/step - loss: 4.0691e-04 - val_loss: 0.0010\n",
      "Epoch 157/200\n",
      "157/157 [==============================] - 0s 2ms/step - loss: 5.8257e-04 - val_loss: 7.2659e-04\n",
      "Epoch 158/200\n",
      "157/157 [==============================] - 0s 2ms/step - loss: 0.0013 - val_loss: 0.0023\n",
      "Epoch 159/200\n",
      "157/157 [==============================] - 0s 2ms/step - loss: 0.0014 - val_loss: 3.6911e-04\n",
      "Epoch 160/200\n",
      "157/157 [==============================] - 0s 2ms/step - loss: 8.4761e-04 - val_loss: 8.3184e-04\n",
      "Epoch 161/200\n",
      "157/157 [==============================] - 0s 2ms/step - loss: 5.8979e-04 - val_loss: 2.7302e-04\n",
      "Epoch 162/200\n",
      "157/157 [==============================] - 0s 2ms/step - loss: 7.4177e-04 - val_loss: 5.3168e-04\n",
      "Epoch 163/200\n",
      "157/157 [==============================] - 0s 2ms/step - loss: 7.2397e-04 - val_loss: 3.8040e-04\n",
      "Epoch 164/200\n",
      "157/157 [==============================] - 0s 2ms/step - loss: 8.5045e-04 - val_loss: 4.7140e-04\n",
      "Epoch 165/200\n",
      "157/157 [==============================] - 0s 2ms/step - loss: 0.0011 - val_loss: 3.2692e-04\n",
      "Epoch 166/200\n",
      "157/157 [==============================] - 0s 2ms/step - loss: 5.2432e-04 - val_loss: 5.1733e-04\n",
      "Epoch 167/200\n",
      "157/157 [==============================] - 0s 2ms/step - loss: 3.3649e-04 - val_loss: 3.2751e-04\n",
      "Epoch 168/200\n",
      "157/157 [==============================] - 0s 2ms/step - loss: 3.6593e-04 - val_loss: 4.6481e-04\n",
      "Epoch 169/200\n",
      "157/157 [==============================] - 0s 2ms/step - loss: 4.4088e-04 - val_loss: 0.0039\n",
      "Epoch 170/200\n",
      "157/157 [==============================] - 0s 2ms/step - loss: 9.6746e-04 - val_loss: 2.6849e-04\n",
      "Epoch 171/200\n",
      "157/157 [==============================] - 0s 2ms/step - loss: 4.0527e-04 - val_loss: 2.4919e-04\n",
      "Epoch 172/200\n",
      "157/157 [==============================] - 0s 2ms/step - loss: 3.7256e-04 - val_loss: 0.0020\n",
      "Epoch 173/200\n",
      "157/157 [==============================] - 0s 2ms/step - loss: 4.7899e-04 - val_loss: 2.1354e-04\n",
      "Epoch 174/200\n",
      "157/157 [==============================] - 0s 2ms/step - loss: 3.5935e-04 - val_loss: 8.0029e-04\n",
      "Epoch 175/200\n",
      "157/157 [==============================] - 0s 2ms/step - loss: 6.5917e-04 - val_loss: 9.1147e-04\n",
      "Epoch 176/200\n",
      "157/157 [==============================] - 0s 2ms/step - loss: 5.8589e-04 - val_loss: 7.4967e-04\n",
      "Epoch 177/200\n",
      "157/157 [==============================] - 0s 2ms/step - loss: 5.0869e-04 - val_loss: 3.1233e-04\n",
      "Epoch 178/200\n",
      "157/157 [==============================] - 0s 2ms/step - loss: 0.0011 - val_loss: 0.0018\n",
      "Epoch 179/200\n",
      "157/157 [==============================] - 0s 2ms/step - loss: 8.2432e-04 - val_loss: 2.3395e-04\n",
      "Epoch 180/200\n",
      "157/157 [==============================] - 0s 2ms/step - loss: 5.2980e-04 - val_loss: 0.0080\n",
      "Epoch 181/200\n",
      "157/157 [==============================] - 0s 2ms/step - loss: 0.0031 - val_loss: 2.6630e-04\n",
      "Epoch 182/200\n",
      "157/157 [==============================] - 0s 2ms/step - loss: 0.0012 - val_loss: 0.0076\n",
      "Epoch 183/200\n",
      "157/157 [==============================] - 0s 2ms/step - loss: 8.9712e-04 - val_loss: 2.7621e-04\n",
      "Epoch 184/200\n",
      "157/157 [==============================] - 0s 2ms/step - loss: 4.3233e-04 - val_loss: 6.6486e-04\n",
      "Epoch 185/200\n",
      "157/157 [==============================] - 0s 2ms/step - loss: 3.1715e-04 - val_loss: 0.0013\n",
      "Epoch 186/200\n",
      "157/157 [==============================] - 0s 2ms/step - loss: 9.6301e-04 - val_loss: 2.9817e-04\n",
      "Epoch 187/200\n",
      "157/157 [==============================] - 0s 2ms/step - loss: 3.4411e-04 - val_loss: 3.9056e-04\n",
      "Epoch 188/200\n",
      "157/157 [==============================] - 0s 2ms/step - loss: 4.8037e-04 - val_loss: 4.3199e-04\n",
      "Epoch 189/200\n",
      "157/157 [==============================] - 0s 2ms/step - loss: 3.7585e-04 - val_loss: 2.5044e-04\n",
      "Epoch 190/200\n",
      "157/157 [==============================] - 0s 2ms/step - loss: 4.2915e-04 - val_loss: 7.7051e-04\n",
      "Epoch 191/200\n",
      "157/157 [==============================] - 0s 2ms/step - loss: 8.6755e-04 - val_loss: 0.0024\n",
      "Epoch 192/200\n",
      "157/157 [==============================] - 0s 2ms/step - loss: 6.3225e-04 - val_loss: 3.9384e-04\n",
      "Epoch 193/200\n",
      "157/157 [==============================] - 0s 2ms/step - loss: 3.9707e-04 - val_loss: 2.6097e-04\n",
      "Epoch 194/200\n",
      "157/157 [==============================] - 0s 2ms/step - loss: 7.1096e-04 - val_loss: 3.7086e-04\n",
      "Epoch 195/200\n",
      "157/157 [==============================] - 0s 2ms/step - loss: 0.0016 - val_loss: 4.8011e-04\n",
      "Epoch 196/200\n",
      "157/157 [==============================] - 0s 2ms/step - loss: 3.5361e-04 - val_loss: 2.1308e-04\n",
      "Epoch 197/200\n",
      "157/157 [==============================] - 0s 2ms/step - loss: 3.0412e-04 - val_loss: 3.5911e-04\n",
      "Epoch 198/200\n",
      "157/157 [==============================] - 0s 2ms/step - loss: 3.9597e-04 - val_loss: 0.0011\n",
      "Epoch 199/200\n",
      "157/157 [==============================] - 0s 2ms/step - loss: 4.3464e-04 - val_loss: 5.3139e-04\n",
      "Epoch 200/200\n",
      "157/157 [==============================] - 0s 2ms/step - loss: 4.3904e-04 - val_loss: 3.6667e-04\n"
     ]
    },
    {
     "data": {
      "text/plain": [
       "<matplotlib.legend.Legend at 0x2aac2615bd60>"
      ]
     },
     "execution_count": 25,
     "metadata": {},
     "output_type": "execute_result"
    },
    {
     "data": {
      "image/png": "[encoded data removed]",
      "text/plain": [
       "<Figure size 432x288 with 1 Axes>"
      ]
     },
     "metadata": {
      "needs_background": "light"
     },
     "output_type": "display_data"
    }
   ],
   "source": [
    "# All models start out with an input layer\n",
    "\n",
    "input_layer=tf.keras.layers.Input(shape=(data_dim,)) \n",
    "\n",
    "hidden_layer = tf.keras.layers.Dense(20)(input_layer)\n",
    "activation_layer = tf.keras.layers.LeakyReLU()(hidden_layer)\n",
    "\n",
    "hidden_layer = tf.keras.layers.Dense(20)(activation_layer)\n",
    "activation_layer = tf.keras.layers.LeakyReLU()(hidden_layer)\n",
    "\n",
    "hidden_layer = tf.keras.layers.Dense(20)(activation_layer)\n",
    "activation_layer = tf.keras.layers.LeakyReLU()(hidden_layer)\n",
    "\n",
    "hidden_layer = tf.keras.layers.Dense(20)(activation_layer)\n",
    "activation_layer = tf.keras.layers.LeakyReLU()(hidden_layer)\n",
    "\n",
    "\n",
    "output_layer = tf.keras.layers.Dense(1)(activation_layer)\n",
    "#A keras model is a way of going from one layer to the next\n",
    "sine_model=tf.keras.models.Model(input_layer,output_layer)\n",
    "\n",
    "sine_model.compile(loss='mse',optimizer='adam')\n",
    "sine_model.fit(X,Y,epochs=200,validation_split=0.5) #Have Keras make a test/validation split for us\n",
    "\n",
    "Y_pred=sine_model.predict(X_test)\n",
    "\n",
    "plt.scatter(X_test[:,0],Y_pred,label='prediction')\n",
    "plt.scatter(X_test[:,0],Y_test,label='truth')\n",
    "plt.xlabel('X[:,0]')\n",
    "plt.ylabel('Y')\n",
    "plt.legend()"
   ]
  },
  {
   "cell_type": "markdown",
   "metadata": {
    "slideshow": {
     "slide_type": "fragment"
    }
   },
   "source": [
    "The data fits the sin curve perfectly where it had seen training data 0-10, and not so well where there was no training data. Neural networks are universal function approximators, you have little control of what they predict when given data that is completely new. \n"
   ]
  },
  {
   "cell_type": "markdown",
   "metadata": {},
   "source": [
    "# Vocab Review\n",
    "**Hyper Parmeter** Anything that goes into the model number layers, number of units..., or model fit learning rates, optimizers, etc.\n",
    "\n",
    "**batch size**: The number of examples seen when doing gradient decent \n",
    "\n",
    "**epoch**: The number of times the entire dataset has been used (selected in batch sized chunks)\n",
    "\n",
    "**learning rate**: Controls the distance of each gradient step\n",
    "\n",
    "**optimizer**: Algorithm that (using the learning rate) decides on how big a gradient step to take\n",
    "  * sgd\n",
    "  * adam\n",
    "  * rmsprop\n",
    "\n"
   ]
  },
  {
   "cell_type": "code",
   "execution_count": 26,
   "metadata": {},
   "outputs": [],
   "source": [
    "# This code is used to reset the weights of the model below, so we can experiment with training\n",
    "def reset_weights(model):\n",
    "    for layer in model.layers:\n",
    "        if isinstance(layer, tf.keras.Model): #if you're using a model as a layer\n",
    "            reset_weights(layer) #apply function recursively\n",
    "            continue\n",
    "\n",
    "        #where are the initializers?\n",
    "        if hasattr(layer, 'cell'):\n",
    "            init_container = layer.cell\n",
    "        else:\n",
    "            init_container = layer\n",
    "\n",
    "        for key, initializer in init_container.__dict__.items():\n",
    "            if \"initializer\" not in key: #is this item an initializer?\n",
    "                  continue #if no, skip it\n",
    "\n",
    "            # find the corresponding variable, like the kernel or the bias\n",
    "            if key == 'recurrent_initializer': #special case check\n",
    "                var = getattr(init_container, 'recurrent_kernel')\n",
    "            else:\n",
    "                var = getattr(init_container, key.replace(\"_initializer\", \"\"))\n",
    "\n",
    "            var.assign(initializer(var.shape, var.dtype))\n",
    "            #use the initializer"
   ]
  },
  {
   "cell_type": "markdown",
   "metadata": {},
   "source": [
    "# Let's Experiment\n",
    "\n",
    "Try adjusting hyperparameters used for fitting, see how long it takes and how low the val_loss is"
   ]
  },
  {
   "cell_type": "code",
   "execution_count": 27,
   "metadata": {},
   "outputs": [
    {
     "name": "stderr",
     "output_type": "stream",
     "text": [
      "/packages/miniconda/20190102/envs/jupyterlab-tf-pyt-20211020/lib/python3.9/site-packages/keras/optimizer_v2/optimizer_v2.py:355: UserWarning: The `lr` argument is deprecated, use `learning_rate` instead.\n",
      "  warnings.warn(\n"
     ]
    },
    {
     "name": "stdout",
     "output_type": "stream",
     "text": [
      "Epoch 1/10\n",
      "500/500 [==============================] - 1s 2ms/step - loss: 0.4308 - val_loss: 0.3317\n",
      "Epoch 2/10\n",
      "500/500 [==============================] - 1s 2ms/step - loss: 0.2808 - val_loss: 0.2500\n",
      "Epoch 3/10\n",
      "500/500 [==============================] - 1s 2ms/step - loss: 0.2226 - val_loss: 0.1945\n",
      "Epoch 4/10\n",
      "500/500 [==============================] - 1s 2ms/step - loss: 0.1793 - val_loss: 0.1581\n",
      "Epoch 5/10\n",
      "500/500 [==============================] - 1s 2ms/step - loss: 0.1433 - val_loss: 0.1252\n",
      "Epoch 6/10\n",
      "500/500 [==============================] - 1s 2ms/step - loss: 0.1150 - val_loss: 0.1087\n",
      "Epoch 7/10\n",
      "500/500 [==============================] - 1s 2ms/step - loss: 0.0864 - val_loss: 0.0712\n",
      "Epoch 8/10\n",
      "500/500 [==============================] - 1s 2ms/step - loss: 0.0568 - val_loss: 0.0350\n",
      "Epoch 9/10\n",
      "500/500 [==============================] - 1s 2ms/step - loss: 0.0310 - val_loss: 0.0177\n",
      "Epoch 10/10\n",
      "500/500 [==============================] - 1s 2ms/step - loss: 0.0177 - val_loss: 0.0221\n",
      "9.59353232383728\n"
     ]
    },
    {
     "data": {
      "text/plain": [
       "<matplotlib.legend.Legend at 0x2aac268f38e0>"
      ]
     },
     "execution_count": 27,
     "metadata": {},
     "output_type": "execute_result"
    },
    {
     "data": {
      "image/png": "[encoded data removed]",
      "text/plain": [
       "<Figure size 432x288 with 1 Axes>"
      ]
     },
     "metadata": {
      "needs_background": "light"
     },
     "output_type": "display_data"
    }
   ],
   "source": [
    "import time\n",
    "optimizer=tf.keras.optimizers.Adam(lr=1e-3)\n",
    "#optimizer=tf.keras.optimizers.RMSprop(lr=1e-3)\n",
    "#optimizer=tf.keras.optimizers.SGD(lr=1e-4)\n",
    "sine_model.compile(loss='mse',optimizer=optimizer)\n",
    "\n",
    "\n",
    "reset_weights(sine_model)\n",
    "\n",
    "i_time=time.time()\n",
    "sine_model.fit(X,Y,epochs=10,validation_split=0.5,batch_size=10) #Have Keras make a test/validation split for us\n",
    "\n",
    "print(time.time()-i_time)\n",
    "\n",
    "Y_pred=sine_model.predict(X_test)\n",
    "plt.scatter(X_test[:,0],Y_pred,label='prediction')\n",
    "plt.scatter(X_test[:,0],Y_test,label='truth')\n",
    "plt.xlabel('X[:,0]')\n",
    "plt.ylabel('Y')\n",
    "plt.legend()"
   ]
  },
  {
   "cell_type": "markdown",
   "metadata": {},
   "source": [
    "# What did you see ?\n",
    "\n",
    "Does the code run faster or slower with a larger batch size?\n",
    "   * Is the loss better or worse\n",
    "Which optimizer gives the best results (SGD, Adam, RMSProp)?\n",
    "   * What is the effect of the learning rate on each optimizer\n",
    "    \n"
   ]
  },
  {
   "cell_type": "markdown",
   "metadata": {
    "tags": []
   },
   "source": [
    "## Overfitting\n",
    "\n",
    "Overfitting is when a model memorizes it's training data. If your training data is noisy this is a problem because it tries to recreate meaningless bumps and wiggles. This hurts the preformance on new data! \n",
    "* Since overfitting hurts preformance on new data, we can use a witheld chunk of data to check for it"
   ]
  },
  {
   "cell_type": "code",
   "execution_count": 28,
   "metadata": {},
   "outputs": [
    {
     "data": {
      "image/png": "[encoded data removed]",
      "text/plain": [
       "<Figure size 432x288 with 1 Axes>"
      ]
     },
     "metadata": {
      "needs_background": "light"
     },
     "output_type": "display_data"
    },
    {
     "data": {
      "image/png": "[encoded data removed]",
      "text/plain": [
       "<Figure size 432x288 with 1 Axes>"
      ]
     },
     "metadata": {
      "needs_background": "light"
     },
     "output_type": "display_data"
    },
    {
     "data": {
      "image/png": "[encoded data removed]",
      "text/plain": [
       "<Figure size 432x288 with 1 Axes>"
      ]
     },
     "metadata": {
      "needs_background": "light"
     },
     "output_type": "display_data"
    },
    {
     "data": {
      "image/png": "[encoded data removed]",
      "text/plain": [
       "<Figure size 432x288 with 1 Axes>"
      ]
     },
     "metadata": {
      "needs_background": "light"
     },
     "output_type": "display_data"
    },
    {
     "data": {
      "image/png": "[encoded data removed]",
      "text/plain": [
       "<Figure size 432x288 with 1 Axes>"
      ]
     },
     "metadata": {
      "needs_background": "light"
     },
     "output_type": "display_data"
    },
    {
     "data": {
      "image/png": "[encoded data removed]",
      "text/plain": [
       "<Figure size 432x288 with 1 Axes>"
      ]
     },
     "metadata": {
      "needs_background": "light"
     },
     "output_type": "display_data"
    },
    {
     "data": {
      "image/png": "[encoded data removed]",
      "text/plain": [
       "<Figure size 432x288 with 1 Axes>"
      ]
     },
     "metadata": {
      "needs_background": "light"
     },
     "output_type": "display_data"
    },
    {
     "data": {
      "image/png": "[encoded data removed]",
      "text/plain": [
       "<Figure size 432x288 with 1 Axes>"
      ]
     },
     "metadata": {
      "needs_background": "light"
     },
     "output_type": "display_data"
    },
    {
     "data": {
      "image/png": "[encoded data removed]",
      "text/plain": [
       "<Figure size 432x288 with 1 Axes>"
      ]
     },
     "metadata": {
      "needs_background": "light"
     },
     "output_type": "display_data"
    },
    {
     "data": {
      "image/png": "[encoded data removed]",
      "text/plain": [
       "<Figure size 432x288 with 1 Axes>"
      ]
     },
     "metadata": {
      "needs_background": "light"
     },
     "output_type": "display_data"
    }
   ],
   "source": [
    "# All models start out with an input layer\n",
    "\n",
    "data_dim=1\n",
    "optimizer=tf.keras.optimizers.SGD(1e-4)\n",
    "optimizer=tf.keras.optimizers.Adam()#(1e-4)\n",
    "\n",
    "X=np.random.uniform(0,10,size=(100,data_dim))\n",
    "x_plot=np.random.uniform(0,10,size=(1000,data_dim))\n",
    "x_plot[:,0]=np.linspace(0,10,1000)\n",
    "\n",
    "def func(X,noise=True):\n",
    "    return np.sin(X[:,0])+np.random.normal(0,.3,size=(X[:,0].shape))*int(noise)  # #Ignore all other input have the output only depend on the first dimention\n",
    "\n",
    "\n",
    "Y=func(X)\n",
    "y_true=func(x_plot,noise=False)\n",
    "split=int(0.5*len(X))\n",
    "x_train=X[0:split]\n",
    "y_train=Y[0:split]\n",
    "\n",
    "\n",
    "x_test=X[split:]\n",
    "y_test=Y[split:]\n",
    "\n",
    "\n",
    "input_layer=tf.keras.layers.Input(shape=(data_dim,)) \n",
    "\n",
    "hidden_layer = tf.keras.layers.Dense(40)(input_layer)\n",
    "activation_layer = tf.keras.layers.Activation('relu')(hidden_layer)\n",
    "\n",
    "hidden_layer = tf.keras.layers.Dense(40)(activation_layer)\n",
    "activation_layer = tf.keras.layers.Activation('relu')(hidden_layer)\n",
    "\n",
    "\n",
    "hidden_layer = tf.keras.layers.Dense(40)(activation_layer)\n",
    "activation_layer = tf.keras.layers.Activation('relu')(hidden_layer)\n",
    "\n",
    "\n",
    "hidden_layer = tf.keras.layers.Dense(40)(activation_layer)\n",
    "activation_layer = tf.keras.layers.Activation('relu')(hidden_layer)\n",
    "\n",
    "\n",
    "\n",
    "output_layer = tf.keras.layers.Dense(1)(activation_layer)\n",
    "#A keras model is a way of going from one layer to the next\n",
    "sine_model=tf.keras.models.Model(input_layer,output_layer)\n",
    "\n",
    "sine_model.compile(loss='mse',optimizer=optimizer)\n",
    "\n",
    "batch_size=32\n",
    "\n",
    "test_loss=[]\n",
    "train_loss=[]\n",
    "\n",
    "for i in range(500):\n",
    "    \n",
    "    history=sine_model.fit(x_train,y_train,epochs=int(50//(len(x_train)/batch_size)),batch_size=batch_size,verbose=0) #Have Keras make a test/validation split for us\n",
    "    y_pred=sine_model.predict(x_test)[:,0]\n",
    "    y_plot=sine_model.predict(x_plot)[:,0]\n",
    "    y_predt=sine_model.predict(x_train)[:,0]\n",
    "\n",
    "    test_loss.append(np.mean((y_pred-y_test)**2))\n",
    "    train_loss.append(np.mean((y_predt-y_train)**2))\n",
    "\n",
    "    if i %50==0:\n",
    "\n",
    "        plt.scatter(x_train[:,0],y_train,label='train pred')\n",
    "        plt.scatter(x_test[:,0],y_test,label='test pred')\n",
    "\n",
    "        plt.plot(x_plot[:,0],y_true,color='gray',label='truth')\n",
    "        plt.plot(x_plot[:,0],y_plot,label='func',color='red')\n",
    "   \n",
    "    \n",
    "        plt.ylim((-1.6,1.6))\n",
    "        plt.xlabel('X[:,0]')\n",
    "        plt.ylabel('Y')\n",
    "        plt.legend()\n",
    "        plt.show()"
   ]
  },
  {
   "cell_type": "code",
   "execution_count": 29,
   "metadata": {},
   "outputs": [
    {
     "data": {
      "image/png": "[encoded data removed]",
      "text/plain": [
       "<Figure size 432x288 with 1 Axes>"
      ]
     },
     "metadata": {
      "needs_background": "light"
     },
     "output_type": "display_data"
    }
   ],
   "source": [
    "plt.plot(train_loss,label='Train Loss')\n",
    "plt.plot(test_loss,label='Test Loss')\n",
    "plt.legend()\n",
    "plt.show()\n",
    "\n"
   ]
  },
  {
   "cell_type": "markdown",
   "metadata": {},
   "source": [
    "### One of the easiets ways to prevent overfitting is to train for fewer epochs (or fewer steps)\n",
    "### The more data you have the harder it is to overfit "
   ]
  },
  {
   "cell_type": "markdown",
   "metadata": {},
   "source": [
    "# Real Problem MPG problem\n",
    "\n",
    "Lets look at a real world dataset. This datasets has a number of features about vechicles. The question is based on this data can we predict a vechilce MPG?"
   ]
  },
  {
   "cell_type": "code",
   "execution_count": 30,
   "metadata": {},
   "outputs": [],
   "source": [
    "import pandas as pd\n",
    "\n",
    "column_names = ['MPG', 'Cylinders', 'Displacement', 'Horsepower', 'Weight',\n",
    "                'Acceleration', 'Model Year', 'Origin']\n",
    "\n",
    "raw_dataset = pd.read_csv('/gpfs/projects/bgmp/shared/2019_ML_workshop/datasets/mpg/auto-mpg.data', names=column_names,\n",
    "                          na_values='?', comment='\\t',\n",
    "                          sep=' ', skipinitialspace=True)\n",
    "\n",
    "\n"
   ]
  },
  {
   "cell_type": "code",
   "execution_count": 31,
   "metadata": {},
   "outputs": [],
   "source": [
    "Y=raw_dataset['MPG']\n",
    "X=raw_dataset[['Cylinders','Displacement','Horsepower','Weight','Acceleration','Model Year','Origin']]"
   ]
  },
  {
   "cell_type": "code",
   "execution_count": 32,
   "metadata": {},
   "outputs": [
    {
     "name": "stdout",
     "output_type": "stream",
     "text": [
      "0    18.0\n",
      "1    15.0\n",
      "2    18.0\n",
      "3    16.0\n",
      "4    17.0\n",
      "5    15.0\n",
      "6    14.0\n",
      "7    14.0\n",
      "8    14.0\n",
      "9    15.0\n",
      "Name: MPG, dtype: float64\n",
      "   Cylinders  Displacement  Horsepower  Weight  Acceleration  Model Year  \\\n",
      "0          8         307.0       130.0  3504.0          12.0          70   \n",
      "1          8         350.0       165.0  3693.0          11.5          70   \n",
      "2          8         318.0       150.0  3436.0          11.0          70   \n",
      "3          8         304.0       150.0  3433.0          12.0          70   \n",
      "4          8         302.0       140.0  3449.0          10.5          70   \n",
      "5          8         429.0       198.0  4341.0          10.0          70   \n",
      "6          8         454.0       220.0  4354.0           9.0          70   \n",
      "7          8         440.0       215.0  4312.0           8.5          70   \n",
      "8          8         455.0       225.0  4425.0          10.0          70   \n",
      "9          8         390.0       190.0  3850.0           8.5          70   \n",
      "\n",
      "   Origin  \n",
      "0       1  \n",
      "1       1  \n",
      "2       1  \n",
      "3       1  \n",
      "4       1  \n",
      "5       1  \n",
      "6       1  \n",
      "7       1  \n",
      "8       1  \n",
      "9       1  \n"
     ]
    }
   ],
   "source": [
    "print(Y[0:10])\n",
    "print(X[0:10])\n",
    "# what "
   ]
  },
  {
   "cell_type": "code",
   "execution_count": 33,
   "metadata": {},
   "outputs": [
    {
     "name": "stdout",
     "output_type": "stream",
     "text": [
      "Model: \"model_12\"\n",
      "_________________________________________________________________\n",
      "Layer (type)                 Output Shape              Param #   \n",
      "=================================================================\n",
      "input_13 (InputLayer)        [(None, 7)]               0         \n",
      "_________________________________________________________________\n",
      "dense_26 (Dense)             (None, 64)                512       \n",
      "_________________________________________________________________\n",
      "activation_4 (Activation)    (None, 64)                0         \n",
      "_________________________________________________________________\n",
      "dense_27 (Dense)             (None, 64)                4160      \n",
      "_________________________________________________________________\n",
      "activation_5 (Activation)    (None, 64)                0         \n",
      "_________________________________________________________________\n",
      "dense_28 (Dense)             (None, 1)                 65        \n",
      "=================================================================\n",
      "Total params: 4,737\n",
      "Trainable params: 4,737\n",
      "Non-trainable params: 0\n",
      "_________________________________________________________________\n",
      "Epoch 1/100\n",
      "7/7 [==============================] - 1s 17ms/step - loss: nan - val_loss: nan\n",
      "Epoch 2/100\n",
      "7/7 [==============================] - 0s 4ms/step - loss: nan - val_loss: nan\n",
      "Epoch 3/100\n",
      "7/7 [==============================] - 0s 4ms/step - loss: nan - val_loss: nan\n",
      "Epoch 4/100\n",
      "7/7 [==============================] - 0s 4ms/step - loss: nan - val_loss: nan\n",
      "Epoch 5/100\n",
      "7/7 [==============================] - 0s 4ms/step - loss: nan - val_loss: nan\n",
      "Epoch 6/100\n",
      "7/7 [==============================] - 0s 4ms/step - loss: nan - val_loss: nan\n",
      "Epoch 7/100\n",
      "7/7 [==============================] - 0s 4ms/step - loss: nan - val_loss: nan\n",
      "Epoch 8/100\n",
      "7/7 [==============================] - 0s 4ms/step - loss: nan - val_loss: nan\n",
      "Epoch 9/100\n",
      "7/7 [==============================] - 0s 4ms/step - loss: nan - val_loss: nan\n",
      "Epoch 10/100\n",
      "7/7 [==============================] - 0s 4ms/step - loss: nan - val_loss: nan\n",
      "Epoch 11/100\n",
      "7/7 [==============================] - 0s 4ms/step - loss: nan - val_loss: nan\n",
      "Epoch 12/100\n",
      "7/7 [==============================] - 0s 4ms/step - loss: nan - val_loss: nan\n",
      "Epoch 13/100\n",
      "7/7 [==============================] - 0s 4ms/step - loss: nan - val_loss: nan\n",
      "Epoch 14/100\n",
      "7/7 [==============================] - 0s 4ms/step - loss: nan - val_loss: nan\n",
      "Epoch 15/100\n",
      "7/7 [==============================] - 0s 4ms/step - loss: nan - val_loss: nan\n",
      "Epoch 16/100\n",
      "7/7 [==============================] - 0s 4ms/step - loss: nan - val_loss: nan\n",
      "Epoch 17/100\n",
      "7/7 [==============================] - 0s 4ms/step - loss: nan - val_loss: nan\n",
      "Epoch 18/100\n",
      "7/7 [==============================] - 0s 4ms/step - loss: nan - val_loss: nan\n",
      "Epoch 19/100\n",
      "7/7 [==============================] - 0s 4ms/step - loss: nan - val_loss: nan\n",
      "Epoch 20/100\n",
      "7/7 [==============================] - 0s 4ms/step - loss: nan - val_loss: nan\n",
      "Epoch 21/100\n",
      "7/7 [==============================] - 0s 4ms/step - loss: nan - val_loss: nan\n",
      "Epoch 22/100\n",
      "7/7 [==============================] - 0s 4ms/step - loss: nan - val_loss: nan\n",
      "Epoch 23/100\n",
      "7/7 [==============================] - 0s 4ms/step - loss: nan - val_loss: nan\n",
      "Epoch 24/100\n",
      "7/7 [==============================] - 0s 4ms/step - loss: nan - val_loss: nan\n",
      "Epoch 25/100\n",
      "7/7 [==============================] - 0s 4ms/step - loss: nan - val_loss: nan\n",
      "Epoch 26/100\n",
      "7/7 [==============================] - 0s 4ms/step - loss: nan - val_loss: nan\n",
      "Epoch 27/100\n",
      "7/7 [==============================] - 0s 4ms/step - loss: nan - val_loss: nan\n",
      "Epoch 28/100\n",
      "7/7 [==============================] - 0s 4ms/step - loss: nan - val_loss: nan\n",
      "Epoch 29/100\n",
      "7/7 [==============================] - 0s 4ms/step - loss: nan - val_loss: nan\n",
      "Epoch 30/100\n",
      "7/7 [==============================] - 0s 4ms/step - loss: nan - val_loss: nan\n",
      "Epoch 31/100\n",
      "7/7 [==============================] - 0s 4ms/step - loss: nan - val_loss: nan\n",
      "Epoch 32/100\n",
      "7/7 [==============================] - 0s 4ms/step - loss: nan - val_loss: nan\n",
      "Epoch 33/100\n",
      "7/7 [==============================] - 0s 4ms/step - loss: nan - val_loss: nan\n",
      "Epoch 34/100\n",
      "7/7 [==============================] - 0s 4ms/step - loss: nan - val_loss: nan\n",
      "Epoch 35/100\n",
      "7/7 [==============================] - 0s 4ms/step - loss: nan - val_loss: nan\n",
      "Epoch 36/100\n",
      "7/7 [==============================] - 0s 4ms/step - loss: nan - val_loss: nan\n",
      "Epoch 37/100\n",
      "7/7 [==============================] - 0s 4ms/step - loss: nan - val_loss: nan\n",
      "Epoch 38/100\n",
      "7/7 [==============================] - 0s 4ms/step - loss: nan - val_loss: nan\n",
      "Epoch 39/100\n",
      "7/7 [==============================] - 0s 4ms/step - loss: nan - val_loss: nan\n",
      "Epoch 40/100\n",
      "7/7 [==============================] - 0s 4ms/step - loss: nan - val_loss: nan\n",
      "Epoch 41/100\n",
      "7/7 [==============================] - 0s 4ms/step - loss: nan - val_loss: nan\n",
      "Epoch 42/100\n",
      "7/7 [==============================] - 0s 4ms/step - loss: nan - val_loss: nan\n",
      "Epoch 43/100\n",
      "7/7 [==============================] - 0s 4ms/step - loss: nan - val_loss: nan\n",
      "Epoch 44/100\n",
      "7/7 [==============================] - 0s 4ms/step - loss: nan - val_loss: nan\n",
      "Epoch 45/100\n",
      "7/7 [==============================] - 0s 4ms/step - loss: nan - val_loss: nan\n",
      "Epoch 46/100\n",
      "7/7 [==============================] - 0s 4ms/step - loss: nan - val_loss: nan\n",
      "Epoch 47/100\n",
      "7/7 [==============================] - 0s 4ms/step - loss: nan - val_loss: nan\n",
      "Epoch 48/100\n",
      "7/7 [==============================] - 0s 4ms/step - loss: nan - val_loss: nan\n",
      "Epoch 49/100\n",
      "7/7 [==============================] - 0s 4ms/step - loss: nan - val_loss: nan\n",
      "Epoch 50/100\n",
      "7/7 [==============================] - 0s 4ms/step - loss: nan - val_loss: nan\n",
      "Epoch 51/100\n",
      "7/7 [==============================] - 0s 4ms/step - loss: nan - val_loss: nan\n",
      "Epoch 52/100\n",
      "7/7 [==============================] - 0s 4ms/step - loss: nan - val_loss: nan\n",
      "Epoch 53/100\n",
      "7/7 [==============================] - 0s 4ms/step - loss: nan - val_loss: nan\n",
      "Epoch 54/100\n",
      "7/7 [==============================] - 0s 4ms/step - loss: nan - val_loss: nan\n",
      "Epoch 55/100\n",
      "7/7 [==============================] - 0s 4ms/step - loss: nan - val_loss: nan\n",
      "Epoch 56/100\n",
      "7/7 [==============================] - 0s 4ms/step - loss: nan - val_loss: nan\n",
      "Epoch 57/100\n",
      "7/7 [==============================] - 0s 4ms/step - loss: nan - val_loss: nan\n",
      "Epoch 58/100\n",
      "7/7 [==============================] - 0s 4ms/step - loss: nan - val_loss: nan\n",
      "Epoch 59/100\n",
      "7/7 [==============================] - 0s 5ms/step - loss: nan - val_loss: nan\n",
      "Epoch 60/100\n",
      "7/7 [==============================] - 0s 4ms/step - loss: nan - val_loss: nan\n",
      "Epoch 61/100\n",
      "7/7 [==============================] - 0s 4ms/step - loss: nan - val_loss: nan\n",
      "Epoch 62/100\n",
      "7/7 [==============================] - 0s 4ms/step - loss: nan - val_loss: nan\n",
      "Epoch 63/100\n",
      "7/7 [==============================] - 0s 4ms/step - loss: nan - val_loss: nan\n",
      "Epoch 64/100\n",
      "7/7 [==============================] - 0s 4ms/step - loss: nan - val_loss: nan\n",
      "Epoch 65/100\n",
      "7/7 [==============================] - 0s 4ms/step - loss: nan - val_loss: nan\n",
      "Epoch 66/100\n",
      "7/7 [==============================] - 0s 4ms/step - loss: nan - val_loss: nan\n",
      "Epoch 67/100\n",
      "7/7 [==============================] - 0s 7ms/step - loss: nan - val_loss: nan\n",
      "Epoch 68/100\n",
      "7/7 [==============================] - 0s 4ms/step - loss: nan - val_loss: nan\n",
      "Epoch 69/100\n",
      "7/7 [==============================] - 0s 4ms/step - loss: nan - val_loss: nan\n",
      "Epoch 70/100\n",
      "7/7 [==============================] - 0s 4ms/step - loss: nan - val_loss: nan\n",
      "Epoch 71/100\n",
      "7/7 [==============================] - 0s 4ms/step - loss: nan - val_loss: nan\n",
      "Epoch 72/100\n",
      "7/7 [==============================] - 0s 4ms/step - loss: nan - val_loss: nan\n",
      "Epoch 73/100\n",
      "7/7 [==============================] - 0s 4ms/step - loss: nan - val_loss: nan\n",
      "Epoch 74/100\n",
      "7/7 [==============================] - 0s 4ms/step - loss: nan - val_loss: nan\n",
      "Epoch 75/100\n",
      "7/7 [==============================] - 0s 4ms/step - loss: nan - val_loss: nan\n",
      "Epoch 76/100\n",
      "7/7 [==============================] - 0s 4ms/step - loss: nan - val_loss: nan\n",
      "Epoch 77/100\n",
      "7/7 [==============================] - 0s 4ms/step - loss: nan - val_loss: nan\n",
      "Epoch 78/100\n",
      "7/7 [==============================] - 0s 4ms/step - loss: nan - val_loss: nan\n",
      "Epoch 79/100\n",
      "7/7 [==============================] - 0s 4ms/step - loss: nan - val_loss: nan\n",
      "Epoch 80/100\n",
      "7/7 [==============================] - 0s 4ms/step - loss: nan - val_loss: nan\n",
      "Epoch 81/100\n",
      "7/7 [==============================] - 0s 4ms/step - loss: nan - val_loss: nan\n",
      "Epoch 82/100\n",
      "7/7 [==============================] - 0s 4ms/step - loss: nan - val_loss: nan\n",
      "Epoch 83/100\n",
      "7/7 [==============================] - 0s 4ms/step - loss: nan - val_loss: nan\n",
      "Epoch 84/100\n",
      "7/7 [==============================] - 0s 4ms/step - loss: nan - val_loss: nan\n",
      "Epoch 85/100\n",
      "7/7 [==============================] - 0s 4ms/step - loss: nan - val_loss: nan\n",
      "Epoch 86/100\n",
      "7/7 [==============================] - 0s 4ms/step - loss: nan - val_loss: nan\n",
      "Epoch 87/100\n",
      "7/7 [==============================] - 0s 4ms/step - loss: nan - val_loss: nan\n",
      "Epoch 88/100\n",
      "7/7 [==============================] - 0s 4ms/step - loss: nan - val_loss: nan\n",
      "Epoch 89/100\n",
      "7/7 [==============================] - 0s 4ms/step - loss: nan - val_loss: nan\n",
      "Epoch 90/100\n",
      "7/7 [==============================] - 0s 4ms/step - loss: nan - val_loss: nan\n",
      "Epoch 91/100\n",
      "7/7 [==============================] - 0s 4ms/step - loss: nan - val_loss: nan\n",
      "Epoch 92/100\n",
      "7/7 [==============================] - 0s 4ms/step - loss: nan - val_loss: nan\n",
      "Epoch 93/100\n",
      "7/7 [==============================] - 0s 4ms/step - loss: nan - val_loss: nan\n",
      "Epoch 94/100\n",
      "7/7 [==============================] - 0s 4ms/step - loss: nan - val_loss: nan\n",
      "Epoch 95/100\n",
      "7/7 [==============================] - 0s 4ms/step - loss: nan - val_loss: nan\n",
      "Epoch 96/100\n",
      "7/7 [==============================] - 0s 4ms/step - loss: nan - val_loss: nan\n",
      "Epoch 97/100\n",
      "7/7 [==============================] - 0s 4ms/step - loss: nan - val_loss: nan\n",
      "Epoch 98/100\n",
      "7/7 [==============================] - 0s 4ms/step - loss: nan - val_loss: nan\n",
      "Epoch 99/100\n",
      "7/7 [==============================] - 0s 4ms/step - loss: nan - val_loss: nan\n",
      "Epoch 100/100\n",
      "7/7 [==============================] - 0s 4ms/step - loss: nan - val_loss: nan\n"
     ]
    },
    {
     "data": {
      "text/plain": [
       "<keras.callbacks.History at 0x2aac26273070>"
      ]
     },
     "execution_count": 33,
     "metadata": {},
     "output_type": "execute_result"
    }
   ],
   "source": [
    "\n",
    "optimizer=tf.keras.optimizers.Adam()#(1e-4)\n",
    "\n",
    "\n",
    "input_layer=tf.keras.layers.Input(shape=(7,)) \n",
    "normalizer = tf.keras.layers.Normalization(axis=-1)(input_layer)\n",
    "\n",
    "hidden_layer = tf.keras.layers.Dense(64)(input_layer)\n",
    "activation_layer = tf.keras.layers.Activation('relu')(hidden_layer)\n",
    "\n",
    "hidden_layer = tf.keras.layers.Dense(64)(activation_layer)\n",
    "activation_layer = tf.keras.layers.Activation('relu')(hidden_layer)\n",
    "\n",
    "output_layer = tf.keras.layers.Dense(1)(activation_layer)\n",
    "#A keras model is a way of going from one layer to the next\n",
    "MPG_model=tf.keras.models.Model(input_layer,output_layer)\n",
    "MPG_model.summary()\n",
    "MPG_model.compile(loss='mse',optimizer=optimizer)\n",
    "\n",
    "batch_size=32\n",
    "\n",
    "MPG_model.fit(X,Y,validation_split=0.5,epochs=100)\n"
   ]
  },
  {
   "cell_type": "markdown",
   "metadata": {},
   "source": [
    "# Nan :(\n",
    "A lot of real world data needs to be cleaned up before it can be used in a neural network\n",
    "* Missing data or data with Nans need to be removed\n",
    "* Input features need to be normalized by subtracting the mean, and dividing by the standard deviation\n",
    "* Categorical Variables need to be One-Hot encoded\n"
   ]
  },
  {
   "cell_type": "code",
   "execution_count": 34,
   "metadata": {},
   "outputs": [
    {
     "name": "stdout",
     "output_type": "stream",
     "text": [
      "Cylinders       False\n",
      "Displacement    False\n",
      "Horsepower       True\n",
      "Weight          False\n",
      "Acceleration    False\n",
      "Model Year      False\n",
      "Origin          False\n",
      "dtype: bool\n"
     ]
    }
   ],
   "source": [
    "## Normalization and Data Cleaning\n",
    "\n",
    "print(np.isnan(X).any())\n"
   ]
  },
  {
   "cell_type": "code",
   "execution_count": 35,
   "metadata": {},
   "outputs": [
    {
     "name": "stdout",
     "output_type": "stream",
     "text": [
      "314\n",
      "Cylinders       False\n",
      "Displacement    False\n",
      "Horsepower      False\n",
      "Weight          False\n",
      "Acceleration    False\n",
      "USA             False\n",
      "Europe          False\n",
      "Japan           False\n",
      "Model Year      False\n",
      "dtype: bool\n",
      "False\n",
      "Model: \"model_13\"\n",
      "_________________________________________________________________\n",
      "Layer (type)                 Output Shape              Param #   \n",
      "=================================================================\n",
      "input_14 (InputLayer)        [(None, 9)]               0         \n",
      "_________________________________________________________________\n",
      "normalization_1 (Normalizati (None, 9)                 19        \n",
      "_________________________________________________________________\n",
      "dense_29 (Dense)             (None, 64)                640       \n",
      "_________________________________________________________________\n",
      "activation_6 (Activation)    (None, 64)                0         \n",
      "_________________________________________________________________\n",
      "dense_30 (Dense)             (None, 64)                4160      \n",
      "_________________________________________________________________\n",
      "activation_7 (Activation)    (None, 64)                0         \n",
      "_________________________________________________________________\n",
      "dense_31 (Dense)             (None, 1)                 65        \n",
      "=================================================================\n",
      "Total params: 4,884\n",
      "Trainable params: 4,865\n",
      "Non-trainable params: 19\n",
      "_________________________________________________________________\n"
     ]
    },
    {
     "name": "stderr",
     "output_type": "stream",
     "text": [
      "/tmp/ipykernel_32410/3416731147.py:4: SettingWithCopyWarning: \n",
      "A value is trying to be set on a copy of a slice from a DataFrame.\n",
      "Try using .loc[row_indexer,col_indexer] = value instead\n",
      "\n",
      "See the caveats in the documentation: https://pandas.pydata.org/pandas-docs/stable/user_guide/indexing.html#returning-a-view-versus-a-copy\n",
      "  cleaner_dataset['Origin_text'] = cleaner_dataset['Origin'].map({1: 'USA', 2: 'Europe', 3: 'Japan'})\n"
     ]
    }
   ],
   "source": [
    "\n",
    "#Clean Nan Values\n",
    "\n",
    "cleaner_dataset=raw_dataset.dropna()\n",
    "cleaner_dataset['Origin_text'] = cleaner_dataset['Origin'].map({1: 'USA', 2: 'Europe', 3: 'Japan'})\n",
    "\n",
    "# Encode Orgin into a one-hot or dummy encoding\n",
    "cleaner_dataset=pd.get_dummies(cleaner_dataset, columns=['Origin_text'], prefix='', prefix_sep='')\n",
    "\n",
    "# Split dataset using Pandas\n",
    "train_dataset = cleaner_dataset.sample(frac=0.8, random_state=0)\n",
    "test_dataset = cleaner_dataset.drop(train_dataset.index)\n",
    "\n",
    "Y=train_dataset['MPG']\n",
    "X=train_dataset[['Cylinders','Displacement','Horsepower','Weight','Acceleration','USA','Europe','Japan','Model Year']]\n",
    "\n",
    "Y_test=test_dataset['MPG']\n",
    "X_test=test_dataset[['Cylinders','Displacement','Horsepower','Weight','Acceleration','USA','Europe','Japan','Model Year']]\n",
    "\n",
    "\n",
    "print(len(X))\n",
    "print(np.isnan(X).any())\n",
    "print(np.isnan(Y).any())\n",
    "\n",
    "\n",
    "\n",
    "optimizer=tf.keras.optimizers.Adam(1e-2)\n",
    "\n",
    "\n",
    "input_layer=tf.keras.layers.Input(shape=(9,)) \n",
    "#New Keras Layer Does the Normalization for you!!!\n",
    "normalizer = tf.keras.layers.Normalization(axis=-1)(input_layer)\n",
    "\n",
    "hidden_layer = tf.keras.layers.Dense(64)(normalizer)\n",
    "activation_layer = tf.keras.layers.Activation('elu')(hidden_layer)\n",
    "#activation_layer = tf.keras.layers.LeakyReLU()(hidden_layer)\n",
    "\n",
    "hidden_layer = tf.keras.layers.Dense(64)(activation_layer)\n",
    "activation_layer = tf.keras.layers.Activation('elu')(hidden_layer)\n",
    "\n",
    "output_layer = tf.keras.layers.Dense(1)(activation_layer)\n",
    "#A keras model is a way of going from one layer to the next\n",
    "MPG_model=tf.keras.models.Model(input_layer,output_layer)\n",
    "MPG_model.summary()\n",
    "MPG_model.compile(loss='mse',optimizer=optimizer)\n",
    "\n",
    "\n",
    "history=MPG_model.fit(X,Y,validation_split=0.2,epochs=200,verbose=0)\n",
    "\n",
    "\n",
    "\n",
    "\n"
   ]
  },
  {
   "cell_type": "markdown",
   "metadata": {},
   "source": [
    "## Some plots you should look at\n",
    "* History of training and validation loss - Is the model overfit?\n",
    "* Histogram of truth-prediction - are there outliers how good is the prediction?\n",
    "* Scatter Chart of Truth vs. Prediction - Is there any trend to your errors?"
   ]
  },
  {
   "cell_type": "code",
   "execution_count": 36,
   "metadata": {},
   "outputs": [
    {
     "data": {
      "image/png": "[encoded data removed]",
      "text/plain": [
       "<Figure size 432x288 with 1 Axes>"
      ]
     },
     "metadata": {
      "needs_background": "light"
     },
     "output_type": "display_data"
    },
    {
     "name": "stdout",
     "output_type": "stream",
     "text": [
      "(78,) (314,)\n"
     ]
    },
    {
     "data": {
      "image/png": "[encoded data removed]",
      "text/plain": [
       "<Figure size 432x288 with 1 Axes>"
      ]
     },
     "metadata": {
      "needs_background": "light"
     },
     "output_type": "display_data"
    },
    {
     "name": "stdout",
     "output_type": "stream",
     "text": [
      "2.6509563274872607\n",
      "3.3584542911186084\n"
     ]
    },
    {
     "data": {
      "text/plain": [
       "<matplotlib.collections.PathCollection at 0x2aac240e3850>"
      ]
     },
     "execution_count": 36,
     "metadata": {},
     "output_type": "execute_result"
    },
    {
     "data": {
      "image/png": "[encoded data removed]",
      "text/plain": [
       "<Figure size 432x288 with 1 Axes>"
      ]
     },
     "metadata": {
      "needs_background": "light"
     },
     "output_type": "display_data"
    }
   ],
   "source": [
    "plt.plot(history.history['loss'])\n",
    "plt.plot(history.history['val_loss'])\n",
    "plt.yscale('log')\n",
    "plt.show()\n",
    "Y_pred=MPG_model.predict(X_test)[:,0]\n",
    "print(Y_pred.shape,Y.shape)\n",
    "plt.show()\n",
    "\n",
    "prediction=plt.hist(Y_pred-Y_test)\n",
    "plt.show()\n",
    "print(np.mean(Y_pred-Y_test))\n",
    "print(np.std(Y_pred-Y_test))\n",
    "plt.scatter(Y_pred,Y_test)\n"
   ]
  }
 ],
 "metadata": {
  "celltoolbar": "Slideshow",
  "kernelspec": {
   "display_name": "Python 3 (ipykernel)",
   "language": "python",
   "name": "python3"
  },
  "language_info": {
   "codemirror_mode": {
    "name": "ipython",
    "version": 3
   },
   "file_extension": ".py",
   "mimetype": "text/x-python",
   "name": "python",
   "nbconvert_exporter": "python",
   "pygments_lexer": "ipython3",
   "version": "3.9.7"
  }
 },
 "nbformat": 4,
 "nbformat_minor": 4
}
