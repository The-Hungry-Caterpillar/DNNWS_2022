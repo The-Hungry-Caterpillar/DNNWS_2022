{
 "cells": [
  {
   "cell_type": "markdown",
   "metadata": {
    "slideshow": {
     "slide_type": "slide"
    }
   },
   "source": [
    "# Intro to Machine Learning in Python\n",
    "\n",
    "Learn how to get started training Neural Networks with keras\n"
   ]
  },
  {
   "cell_type": "markdown",
   "metadata": {
    "slideshow": {
     "slide_type": "slide"
    }
   },
   "source": [
    "# Warning \n",
    "<img src=\"https://upload.wikimedia.org/wikipedia/commons/thumb/e/ea/Mauritius_Road_Signs_-_Warning_Sign_-_Other_dangers.svg/556px-Mauritius_Road_Signs_-_Warning_Sign_-_Other_dangers.svg.png\" style=\"width:50px\">\n",
    "\n",
    "It's actually pretty easy to get started training Machine learning algorithms, but be aware there are plenty of examples of well trained, well coded, and well intentioned ML algorithms that do harmful things.\n",
    "\n",
    "\n",
    "<a href=\"https://www.technologyreview.com/s/613274/facebook-algorithm-discriminates-ai-bias\"> Facebook’s ad-serving algorithm discriminates by gender and race\n",
    " </a>\n",
    "    \n",
    "<a href=\"https://www.reuters.com/article/us-amazon-com-jobs-automation-insight/amazon-scraps-secret-ai-recruiting-tool-that-showed-bias-against-women-idUSKCN1MK08G\"> Amazon scraps secret AI recruiting tool that showed bias against women\n",
    " </a>\n",
    "\n",
    "<a href=\"https://www.thedailybeast.com/why-doctors-arent-afraid-of-better-more-efficient-ai-diagnosing-cancer\"> Ruler in picture an indicator for Cancer </a>\n",
    "\n",
    "<a href=\"https://www.theverge.com/2016/3/24/11297050/tay-microsoft-chatbot-racist\"> Twitter taught Microsoft’s AI chatbot to be a racist asshole in less than a day </a>\n",
    "\n",
    "Be aware and careful before you deploy.\n"
   ]
  },
  {
   "cell_type": "markdown",
   "metadata": {
    "slideshow": {
     "slide_type": "slide"
    }
   },
   "source": [
    "<img src=\"https://s3.ap-south-1.amazonaws.com/techleer/207.jpg\">"
   ]
  },
  {
   "cell_type": "markdown",
   "metadata": {
    "slideshow": {
     "slide_type": "slide"
    }
   },
   "source": [
    "# Vocab\n",
    "## Artificial Intelligence\n",
    "An all encompassing term for a broad field the most promising of which is currently machine learning\n",
    "    \n",
    "## Machine Learning\n",
    "* Deep Learning - Deep Neural Networks of all forms\n",
    "* ‘Traditional’ Machine Learning  - Pretty much everything else\n",
    "    Trees, SVMs, Linear Regression, Naive Bayes...\n",
    "* **X’s = Input variables**\n",
    "* **Y’s = Target Variables**\n",
    "* Loss function - Numerical Goal of the Model\n"
   ]
  },
  {
   "cell_type": "markdown",
   "metadata": {
    "slideshow": {
     "slide_type": "slide"
    }
   },
   "source": [
    "# Machine Learning\n",
    "* Find f(x) such that f(x) best approximates y\n",
    "* Examples:\n",
    "    * Given some pixels (x) tell me the probability it’s a cat (y)\n",
    "    * Given news articles (x) tell me a stocks value (y)\n",
    "    * Given some sequences x find some low dimensional space (z) that represent my data \n",
    "      * f1(x)=z f2(z)=x  \n",
    "* **Important Note: No prediction of causality** \n",
    "* Function outputs and targets can be stochastic \n"
   ]
  },
  {
   "cell_type": "markdown",
   "metadata": {
    "slideshow": {
     "slide_type": "slide"
    }
   },
   "source": [
    "# Outline\n",
    "* Dense (Fully Connected Neural Networks)\n",
    "  * Example Fits\n",
    "* Sequences and Recurrent Neural Networks\n",
    "  * Learning to Count\n",
    "* Sentiment Analysis on movie reviews"
   ]
  },
  {
   "cell_type": "markdown",
   "metadata": {
    "slideshow": {
     "slide_type": "slide"
    }
   },
   "source": [
    "# Packages"
   ]
  },
  {
   "cell_type": "code",
   "execution_count": 1,
   "metadata": {
    "slideshow": {
     "slide_type": "fragment"
    }
   },
   "outputs": [],
   "source": [
    "import tensorflow as tf\n",
    "import numpy as np\n",
    "import matplotlib.pyplot as plt"
   ]
  },
  {
   "cell_type": "markdown",
   "metadata": {
    "slideshow": {
     "slide_type": "slide"
    }
   },
   "source": [
    "Machine learning algorithms all start form a series data examples\n",
    "\n",
    "\n",
    "# Input Data\n",
    "* **numpy arrays** \n",
    "* pandas dataframes\n",
    "* hdf5, etc\n",
    "* **shape = (examples x data dimentions)** \n",
    "    * RGB Image Dataset (Number of images x Height x Width x 3) *(3=RGB)\n",
    "    * Text (Text blocks x ? ) examples with varying length can have an unspecified dimension size\n",
    "        * When training each batch needs to be the same length\n",
    "* Divide into 2 or 3 splits\n",
    "  * 2 Training/Testing (one for training and one for checking for over-fitting)\n",
    "  * 3 Training/Development/Testing \n",
    "      * One for training, one for checking for over-fitting (Development) )\n",
    "      * One for testing performance, but not for making any modeling decisions\n",
    "          * i.e. in this case testing is the data you want the model to actually work with  \n",
    "          \n",
    "\n",
    "          "
   ]
  },
  {
   "cell_type": "code",
   "execution_count": 2,
   "metadata": {
    "slideshow": {
     "slide_type": "fragment"
    }
   },
   "outputs": [],
   "source": [
    "# Lets start with a simple prediction a straight Line\n",
    "data_dim=5\n",
    "\n",
    "X=np.random.uniform(0,10,size=(10000,data_dim))\n",
    "def func(X):\n",
    "    return 2*X[:,0]+1 #Ignore all other input have the output only depend on the first dimention\n",
    "Y=func(X)\n",
    "\n",
    "\n",
    "\n",
    "\n",
    "    \n",
    "    "
   ]
  },
  {
   "cell_type": "markdown",
   "metadata": {
    "slideshow": {
     "slide_type": "slide"
    }
   },
   "source": [
    "# Our first Layer\n",
    "A Dense or fully connected layer\n",
    "\n",
    "<img src=\"../assets/dense.png\">\n",
    "\n",
    "A dense layer has a connection between every input variable and every output node. Each connection is represented by a weight $W_{i,n}$ from and input $X_n$ to an output $O_i$. The output is a sum over all the input variables times there weights plus a bias $B_i$\n",
    "<p style=\"text-align: center;\">\n",
    "$O_i = \\sum_n W_{i,n}*X_n+B_i$    \n",
    "</p>\n",
    "\n",
    "We will need to fit this to data, which means finding the best values for $W_{i,n}$ and $B_i$ to approximate our data.\n"
   ]
  },
  {
   "cell_type": "code",
   "execution_count": 3,
   "metadata": {
    "slideshow": {
     "slide_type": "slide"
    }
   },
   "outputs": [
    {
     "name": "stdout",
     "output_type": "stream",
     "text": [
      "WARNING:tensorflow:From /home/jsearcy/anaconda3/envs/tensorflow/lib/python3.7/site-packages/tensorflow/python/ops/resource_variable_ops.py:435: colocate_with (from tensorflow.python.framework.ops) is deprecated and will be removed in a future version.\n",
      "Instructions for updating:\n",
      "Colocations handled automatically by placer.\n",
      "WARNING:tensorflow:From /home/jsearcy/anaconda3/envs/tensorflow/lib/python3.7/site-packages/tensorflow/python/keras/utils/losses_utils.py:170: to_float (from tensorflow.python.ops.math_ops) is deprecated and will be removed in a future version.\n",
      "Instructions for updating:\n",
      "Use tf.cast instead.\n",
      "Train on 5000 samples, validate on 5000 samples\n",
      "WARNING:tensorflow:From /home/jsearcy/anaconda3/envs/tensorflow/lib/python3.7/site-packages/tensorflow/python/ops/math_ops.py:3066: to_int32 (from tensorflow.python.ops.math_ops) is deprecated and will be removed in a future version.\n",
      "Instructions for updating:\n",
      "Use tf.cast instead.\n",
      "Epoch 1/100\n",
      "5000/5000 [==============================] - 0s 48us/sample - loss: 125.3614 - val_loss: 87.2678\n",
      "Epoch 2/100\n",
      "5000/5000 [==============================] - 0s 22us/sample - loss: 69.2855 - val_loss: 50.1583\n",
      "Epoch 3/100\n",
      "5000/5000 [==============================] - 0s 21us/sample - loss: 42.6983 - val_loss: 34.1084\n",
      "Epoch 4/100\n",
      "5000/5000 [==============================] - 0s 22us/sample - loss: 31.2755 - val_loss: 27.4743\n",
      "Epoch 5/100\n",
      "5000/5000 [==============================] - 0s 22us/sample - loss: 26.2939 - val_loss: 24.1254\n",
      "Epoch 6/100\n",
      "5000/5000 [==============================] - 0s 22us/sample - loss: 23.2431 - val_loss: 21.5440\n",
      "Epoch 7/100\n",
      "5000/5000 [==============================] - 0s 22us/sample - loss: 20.6449 - val_loss: 19.1112\n",
      "Epoch 8/100\n",
      "5000/5000 [==============================] - 0s 22us/sample - loss: 18.1927 - val_loss: 16.7545\n",
      "Epoch 9/100\n",
      "5000/5000 [==============================] - 0s 22us/sample - loss: 15.8593 - val_loss: 14.5015\n",
      "Epoch 10/100\n",
      "5000/5000 [==============================] - 0s 22us/sample - loss: 13.6578 - val_loss: 12.4170\n",
      "Epoch 11/100\n",
      "5000/5000 [==============================] - 0s 22us/sample - loss: 11.6181 - val_loss: 10.4983\n",
      "Epoch 12/100\n",
      "5000/5000 [==============================] - 0s 21us/sample - loss: 9.7651 - val_loss: 8.7627\n",
      "Epoch 13/100\n",
      "5000/5000 [==============================] - 0s 22us/sample - loss: 8.1025 - val_loss: 7.2209\n",
      "Epoch 14/100\n",
      "5000/5000 [==============================] - 0s 22us/sample - loss: 6.6369 - val_loss: 5.8761\n",
      "Epoch 15/100\n",
      "5000/5000 [==============================] - 0s 22us/sample - loss: 5.3632 - val_loss: 4.7147\n",
      "Epoch 16/100\n",
      "5000/5000 [==============================] - 0s 23us/sample - loss: 4.2681 - val_loss: 3.7213\n",
      "Epoch 17/100\n",
      "5000/5000 [==============================] - 0s 22us/sample - loss: 3.3439 - val_loss: 2.8909\n",
      "Epoch 18/100\n",
      "5000/5000 [==============================] - 0s 21us/sample - loss: 2.5805 - val_loss: 2.2088\n",
      "Epoch 19/100\n",
      "5000/5000 [==============================] - 0s 22us/sample - loss: 1.9571 - val_loss: 1.6601\n",
      "Epoch 20/100\n",
      "5000/5000 [==============================] - 0s 22us/sample - loss: 1.4573 - val_loss: 1.2233\n",
      "Epoch 21/100\n",
      "5000/5000 [==============================] - 0s 22us/sample - loss: 1.0647 - val_loss: 0.8839\n",
      "Epoch 22/100\n",
      "5000/5000 [==============================] - 0s 22us/sample - loss: 0.7624 - val_loss: 0.6261\n",
      "Epoch 23/100\n",
      "5000/5000 [==============================] - 0s 22us/sample - loss: 0.5343 - val_loss: 0.4335\n",
      "Epoch 24/100\n",
      "5000/5000 [==============================] - 0s 23us/sample - loss: 0.3657 - val_loss: 0.2934\n",
      "Epoch 25/100\n",
      "5000/5000 [==============================] - 0s 23us/sample - loss: 0.2445 - val_loss: 0.1934\n",
      "Epoch 26/100\n",
      "5000/5000 [==============================] - 0s 23us/sample - loss: 0.1600 - val_loss: 0.1253\n",
      "Epoch 27/100\n",
      "5000/5000 [==============================] - 0s 22us/sample - loss: 0.1025 - val_loss: 0.0793\n",
      "Epoch 28/100\n",
      "5000/5000 [==============================] - 0s 23us/sample - loss: 0.0647 - val_loss: 0.0497\n",
      "Epoch 29/100\n",
      "5000/5000 [==============================] - 0s 23us/sample - loss: 0.0404 - val_loss: 0.0309\n",
      "Epoch 30/100\n",
      "5000/5000 [==============================] - 0s 22us/sample - loss: 0.0255 - val_loss: 0.0197\n",
      "Epoch 31/100\n",
      "5000/5000 [==============================] - 0s 24us/sample - loss: 0.0166 - val_loss: 0.0131\n",
      "Epoch 32/100\n",
      "5000/5000 [==============================] - 0s 27us/sample - loss: 0.0115 - val_loss: 0.0094\n",
      "Epoch 33/100\n",
      "5000/5000 [==============================] - 0s 22us/sample - loss: 0.0086 - val_loss: 0.0074\n",
      "Epoch 34/100\n",
      "5000/5000 [==============================] - 0s 22us/sample - loss: 0.0070 - val_loss: 0.0062\n",
      "Epoch 35/100\n",
      "5000/5000 [==============================] - 0s 21us/sample - loss: 0.0061 - val_loss: 0.0056\n",
      "Epoch 36/100\n",
      "5000/5000 [==============================] - 0s 22us/sample - loss: 0.0056 - val_loss: 0.0051\n",
      "Epoch 37/100\n",
      "5000/5000 [==============================] - 0s 22us/sample - loss: 0.0051 - val_loss: 0.0048\n",
      "Epoch 38/100\n",
      "5000/5000 [==============================] - 0s 22us/sample - loss: 0.0048 - val_loss: 0.0044\n",
      "Epoch 39/100\n",
      "5000/5000 [==============================] - 0s 21us/sample - loss: 0.0045 - val_loss: 0.0041\n",
      "Epoch 40/100\n",
      "5000/5000 [==============================] - 0s 21us/sample - loss: 0.0042 - val_loss: 0.0038\n",
      "Epoch 41/100\n",
      "5000/5000 [==============================] - 0s 23us/sample - loss: 0.0039 - val_loss: 0.0036\n",
      "Epoch 42/100\n",
      "5000/5000 [==============================] - 0s 22us/sample - loss: 0.0036 - val_loss: 0.0033\n",
      "Epoch 43/100\n",
      "5000/5000 [==============================] - 0s 22us/sample - loss: 0.0033 - val_loss: 0.0030\n",
      "Epoch 44/100\n",
      "5000/5000 [==============================] - 0s 22us/sample - loss: 0.0030 - val_loss: 0.0027\n",
      "Epoch 45/100\n",
      "5000/5000 [==============================] - 0s 21us/sample - loss: 0.0027 - val_loss: 0.0024\n",
      "Epoch 46/100\n",
      "5000/5000 [==============================] - 0s 22us/sample - loss: 0.0024 - val_loss: 0.0021\n",
      "Epoch 47/100\n",
      "5000/5000 [==============================] - 0s 22us/sample - loss: 0.0021 - val_loss: 0.0019\n",
      "Epoch 48/100\n",
      "5000/5000 [==============================] - 0s 22us/sample - loss: 0.0018 - val_loss: 0.0016\n",
      "Epoch 49/100\n",
      "5000/5000 [==============================] - 0s 21us/sample - loss: 0.0016 - val_loss: 0.0014\n",
      "Epoch 50/100\n",
      "5000/5000 [==============================] - 0s 21us/sample - loss: 0.0014 - val_loss: 0.0012\n",
      "Epoch 51/100\n",
      "5000/5000 [==============================] - 0s 21us/sample - loss: 0.0012 - val_loss: 0.0010\n",
      "Epoch 52/100\n",
      "5000/5000 [==============================] - 0s 21us/sample - loss: 9.7345e-04 - val_loss: 8.4356e-04\n",
      "Epoch 53/100\n",
      "5000/5000 [==============================] - 0s 22us/sample - loss: 8.0167e-04 - val_loss: 6.9017e-04\n",
      "Epoch 54/100\n",
      "5000/5000 [==============================] - 0s 21us/sample - loss: 6.5017e-04 - val_loss: 5.5523e-04\n",
      "Epoch 55/100\n",
      "5000/5000 [==============================] - 0s 22us/sample - loss: 5.1792e-04 - val_loss: 4.3666e-04\n",
      "Epoch 56/100\n",
      "5000/5000 [==============================] - 0s 22us/sample - loss: 4.0512e-04 - val_loss: 3.3857e-04\n",
      "Epoch 57/100\n",
      "5000/5000 [==============================] - 0s 21us/sample - loss: 3.1009e-04 - val_loss: 2.5667e-04\n",
      "Epoch 58/100\n",
      "5000/5000 [==============================] - 0s 21us/sample - loss: 2.3258e-04 - val_loss: 1.9009e-04\n",
      "Epoch 59/100\n",
      "5000/5000 [==============================] - 0s 22us/sample - loss: 1.7129e-04 - val_loss: 1.3907e-04\n",
      "Epoch 60/100\n",
      "5000/5000 [==============================] - 0s 21us/sample - loss: 1.2204e-04 - val_loss: 9.7079e-05\n",
      "Epoch 61/100\n",
      "5000/5000 [==============================] - 0s 22us/sample - loss: 8.4619e-05 - val_loss: 6.7516e-05\n",
      "Epoch 62/100\n",
      "5000/5000 [==============================] - 0s 21us/sample - loss: 5.7049e-05 - val_loss: 4.3601e-05\n",
      "Epoch 63/100\n",
      "5000/5000 [==============================] - 0s 21us/sample - loss: 3.7033e-05 - val_loss: 2.8060e-05\n",
      "Epoch 64/100\n",
      "5000/5000 [==============================] - 0s 22us/sample - loss: 2.3486e-05 - val_loss: 1.7247e-05\n",
      "Epoch 65/100\n",
      "5000/5000 [==============================] - 0s 22us/sample - loss: 1.4301e-05 - val_loss: 1.0440e-05\n",
      "Epoch 66/100\n",
      "5000/5000 [==============================] - 0s 21us/sample - loss: 8.2695e-06 - val_loss: 5.7747e-06\n",
      "Epoch 67/100\n",
      "5000/5000 [==============================] - 0s 22us/sample - loss: 4.6195e-06 - val_loss: 3.1755e-06\n",
      "Epoch 68/100\n",
      "5000/5000 [==============================] - 0s 21us/sample - loss: 2.4213e-06 - val_loss: 1.6124e-06\n",
      "Epoch 69/100\n",
      "5000/5000 [==============================] - 0s 22us/sample - loss: 1.2191e-06 - val_loss: 7.7628e-07\n",
      "Epoch 70/100\n",
      "5000/5000 [==============================] - 0s 22us/sample - loss: 5.7501e-07 - val_loss: 3.7315e-07\n",
      "Epoch 71/100\n",
      "5000/5000 [==============================] - 0s 22us/sample - loss: 2.5690e-07 - val_loss: 1.5323e-07\n",
      "Epoch 72/100\n",
      "5000/5000 [==============================] - 0s 22us/sample - loss: 1.0658e-07 - val_loss: 6.1660e-08\n",
      "Epoch 73/100\n",
      "5000/5000 [==============================] - 0s 22us/sample - loss: 4.1949e-08 - val_loss: 2.5065e-08\n",
      "Epoch 74/100\n",
      "5000/5000 [==============================] - 0s 21us/sample - loss: 1.5083e-08 - val_loss: 8.3026e-09\n",
      "Epoch 75/100\n",
      "5000/5000 [==============================] - 0s 23us/sample - loss: 4.8978e-09 - val_loss: 2.3869e-09\n",
      "Epoch 76/100\n",
      "5000/5000 [==============================] - 0s 23us/sample - loss: 1.4517e-09 - val_loss: 7.5099e-10\n",
      "Epoch 77/100\n",
      "5000/5000 [==============================] - 0s 23us/sample - loss: 4.1209e-10 - val_loss: 1.8985e-10\n",
      "Epoch 78/100\n",
      "5000/5000 [==============================] - 0s 22us/sample - loss: 1.1727e-10 - val_loss: 5.7652e-11\n",
      "Epoch 79/100\n",
      "5000/5000 [==============================] - 0s 21us/sample - loss: 3.5575e-11 - val_loss: 1.7936e-11\n",
      "Epoch 80/100\n",
      "5000/5000 [==============================] - 0s 22us/sample - loss: 1.4973e-11 - val_loss: 9.0340e-12\n",
      "Epoch 81/100\n",
      "5000/5000 [==============================] - 0s 22us/sample - loss: 7.8946e-12 - val_loss: 6.0007e-12\n",
      "Epoch 82/100\n",
      "5000/5000 [==============================] - 0s 23us/sample - loss: 7.0223e-12 - val_loss: 6.3739e-12\n",
      "Epoch 83/100\n",
      "5000/5000 [==============================] - 0s 22us/sample - loss: 6.4858e-12 - val_loss: 6.2371e-12\n",
      "Epoch 84/100\n",
      "5000/5000 [==============================] - 0s 22us/sample - loss: 5.7326e-12 - val_loss: 4.6024e-12\n",
      "Epoch 85/100\n",
      "5000/5000 [==============================] - 0s 22us/sample - loss: 4.5569e-12 - val_loss: 3.9334e-12\n",
      "Epoch 86/100\n",
      "5000/5000 [==============================] - 0s 22us/sample - loss: 3.7078e-12 - val_loss: 1.2855e-12\n",
      "Epoch 87/100\n",
      "5000/5000 [==============================] - 0s 22us/sample - loss: 1.3609e-12 - val_loss: 1.9350e-12\n",
      "Epoch 88/100\n",
      "5000/5000 [==============================] - 0s 22us/sample - loss: 2.0082e-12 - val_loss: 1.8662e-12\n",
      "Epoch 89/100\n",
      "5000/5000 [==============================] - 0s 22us/sample - loss: 2.2423e-12 - val_loss: 1.9880e-12\n",
      "Epoch 90/100\n",
      "5000/5000 [==============================] - 0s 22us/sample - loss: 2.1878e-12 - val_loss: 2.2353e-12\n",
      "Epoch 91/100\n",
      "5000/5000 [==============================] - 0s 22us/sample - loss: 2.0108e-12 - val_loss: 2.6281e-12\n"
     ]
    },
    {
     "data": {
      "text/plain": [
       "<tensorflow.python.keras.callbacks.History at 0x7ffb4cb50dd8>"
      ]
     },
     "execution_count": 3,
     "metadata": {},
     "output_type": "execute_result"
    }
   ],
   "source": [
    "# All models start out with an input layer\n",
    "\n",
    "input_layer=tf.keras.layers.Input(shape=(data_dim,)) \n",
    "output_layer = tf.keras.layers.Dense(1)(input_layer)\n",
    "#A keras model is class used for fitting it takes input layers and output layers\n",
    "model=tf.keras.models.Model(input_layer,output_layer)\n",
    "\n",
    "#MSE= Mean Squared Error \n",
    "model.compile(loss='mse',optimizer='adam')\n",
    "\n",
    "# Fit Our Simple Neural Network\n",
    "# Stop fitting when the validation loss stops improving\n",
    "es=tf.keras.callbacks.EarlyStopping(monitor='val_loss', min_delta=0, patience=5, verbose=0, mode='auto')\n",
    "#Fit\n",
    "model.fit(X,Y,epochs=100,validation_split=0.5,callbacks=[es]) #Have Keras make a test/validation split for us\n",
    "\n",
    "\n"
   ]
  },
  {
   "cell_type": "code",
   "execution_count": 4,
   "metadata": {
    "slideshow": {
     "slide_type": "slide"
    }
   },
   "outputs": [
    {
     "data": {
      "text/plain": [
       "<matplotlib.legend.Legend at 0x7ffb4c0f5898>"
      ]
     },
     "execution_count": 4,
     "metadata": {},
     "output_type": "execute_result"
    },
    {
     "data": {
      "image/png": "[encoded data removed]",
      "text/plain": [
       "<Figure size 432x288 with 1 Axes>"
      ]
     },
     "metadata": {
      "needs_background": "light"
     },
     "output_type": "display_data"
    }
   ],
   "source": [
    "X_test=np.random.uniform(0,10,size=(100,data_dim))\n",
    "X_test[:,0]=np.linspace(-5,15,100)\n",
    "Y_test=func(X_test)\n",
    "Y_pred=model.predict(X_test)\n",
    "\n",
    "plt.scatter(X_test[:,0],Y_pred,label='prediction')\n",
    "plt.scatter(X_test[:,0],Y_test,label='truth')\n",
    "plt.xlabel('X[:,0]')\n",
    "plt.ylabel('Y')\n",
    "plt.legend()\n",
    "\n"
   ]
  },
  {
   "cell_type": "markdown",
   "metadata": {
    "slideshow": {
     "slide_type": "slide"
    }
   },
   "source": [
    "We can look at a models weights"
   ]
  },
  {
   "cell_type": "code",
   "execution_count": 5,
   "metadata": {
    "slideshow": {
     "slide_type": "fragment"
    }
   },
   "outputs": [
    {
     "name": "stdout",
     "output_type": "stream",
     "text": [
      "2\n",
      "(5, 1) (1,)\n",
      "[[ 2.0000005e+00]\n",
      " [-5.2095615e-08]\n",
      " [-3.1360525e-08]\n",
      " [-1.3854486e-08]\n",
      " [-2.8575475e-09]]\n"
     ]
    }
   ],
   "source": [
    "weights=model.get_weights()\n",
    "print(len(weights))\n",
    "print(weights[0].shape,weights[1].shape)\n",
    "\n",
    "print(weights[0])\n",
    "\n"
   ]
  },
  {
   "cell_type": "markdown",
   "metadata": {
    "slideshow": {
     "slide_type": "fragment"
    }
   },
   "source": [
    "We expect $W_{0,0}$=2, and $B_0$=1"
   ]
  },
  {
   "cell_type": "code",
   "execution_count": 6,
   "metadata": {
    "slideshow": {
     "slide_type": "fragment"
    }
   },
   "outputs": [
    {
     "name": "stdout",
     "output_type": "stream",
     "text": [
      "W= [[ 2.0000005e+00]\n",
      " [-5.2095615e-08]\n",
      " [-3.1360525e-08]\n",
      " [-1.3854486e-08]\n",
      " [-2.8575475e-09]]\n",
      "W[0,0]= 2.0000005\n",
      "B= [0.99999756]\n"
     ]
    }
   ],
   "source": [
    "print(\"W=\",weights[0])\n",
    "print(\"W[0,0]=\",weights[0][0,0])\n",
    "print(\"B=\",weights[1])\n"
   ]
  },
  {
   "cell_type": "markdown",
   "metadata": {
    "slideshow": {
     "slide_type": "slide"
    }
   },
   "source": [
    "Lets try something a bit more complicated a sin wave"
   ]
  },
  {
   "cell_type": "code",
   "execution_count": 7,
   "metadata": {},
   "outputs": [],
   "source": [
    "X=np.random.uniform(0,10,size=(10000,data_dim))\n",
    "def func(X):\n",
    "    return np.sin(X[:,0]) #Ignore all other input have the output only depend on the first dimention\n",
    "Y=func(X)\n"
   ]
  },
  {
   "cell_type": "code",
   "execution_count": 8,
   "metadata": {
    "slideshow": {
     "slide_type": "skip"
    }
   },
   "outputs": [
    {
     "name": "stdout",
     "output_type": "stream",
     "text": [
      "Train on 5000 samples, validate on 5000 samples\n",
      "Epoch 1/100\n",
      "5000/5000 [==============================] - 0s 48us/sample - loss: 126.7203 - val_loss: 90.3394\n",
      "Epoch 2/100\n",
      "5000/5000 [==============================] - 0s 22us/sample - loss: 62.1705 - val_loss: 42.6584\n",
      "Epoch 3/100\n",
      "5000/5000 [==============================] - 0s 22us/sample - loss: 28.5956 - val_loss: 19.7001\n",
      "Epoch 4/100\n",
      "5000/5000 [==============================] - 0s 22us/sample - loss: 13.5932 - val_loss: 10.1995\n",
      "Epoch 5/100\n",
      "5000/5000 [==============================] - 0s 25us/sample - loss: 7.8312 - val_loss: 6.7302\n",
      "Epoch 6/100\n",
      "5000/5000 [==============================] - 0s 24us/sample - loss: 5.8092 - val_loss: 5.4383\n",
      "Epoch 7/100\n",
      "5000/5000 [==============================] - 0s 24us/sample - loss: 4.9645 - val_loss: 4.7564\n",
      "Epoch 8/100\n",
      "5000/5000 [==============================] - 0s 23us/sample - loss: 4.4077 - val_loss: 4.2251\n",
      "Epoch 9/100\n",
      "5000/5000 [==============================] - 0s 24us/sample - loss: 3.9155 - val_loss: 3.7397\n",
      "Epoch 10/100\n",
      "5000/5000 [==============================] - 0s 23us/sample - loss: 3.4481 - val_loss: 3.2781\n",
      "Epoch 11/100\n",
      "5000/5000 [==============================] - 0s 23us/sample - loss: 3.0028 - val_loss: 2.8452\n",
      "Epoch 12/100\n",
      "5000/5000 [==============================] - 0s 24us/sample - loss: 2.5911 - val_loss: 2.4496\n",
      "Epoch 13/100\n",
      "5000/5000 [==============================] - 0s 24us/sample - loss: 2.2163 - val_loss: 2.0919\n",
      "Epoch 14/100\n",
      "5000/5000 [==============================] - 0s 24us/sample - loss: 1.8816 - val_loss: 1.7749\n",
      "Epoch 15/100\n",
      "5000/5000 [==============================] - 0s 22us/sample - loss: 1.5894 - val_loss: 1.5002\n",
      "Epoch 16/100\n",
      "5000/5000 [==============================] - 0s 22us/sample - loss: 1.3384 - val_loss: 1.2643\n",
      "Epoch 17/100\n",
      "5000/5000 [==============================] - 0s 22us/sample - loss: 1.1274 - val_loss: 1.0694\n",
      "Epoch 18/100\n",
      "5000/5000 [==============================] - 0s 22us/sample - loss: 0.9540 - val_loss: 0.9091\n",
      "Epoch 19/100\n",
      "5000/5000 [==============================] - 0s 22us/sample - loss: 0.8159 - val_loss: 0.7837\n",
      "Epoch 20/100\n",
      "5000/5000 [==============================] - 0s 24us/sample - loss: 0.7075 - val_loss: 0.6854\n",
      "Epoch 21/100\n",
      "5000/5000 [==============================] - 0s 24us/sample - loss: 0.6262 - val_loss: 0.6110\n",
      "Epoch 22/100\n",
      "5000/5000 [==============================] - 0s 23us/sample - loss: 0.5659 - val_loss: 0.5572\n",
      "Epoch 23/100\n",
      "5000/5000 [==============================] - 0s 25us/sample - loss: 0.5229 - val_loss: 0.5179\n",
      "Epoch 24/100\n",
      "5000/5000 [==============================] - 0s 25us/sample - loss: 0.4932 - val_loss: 0.4913\n",
      "Epoch 25/100\n",
      "5000/5000 [==============================] - 0s 24us/sample - loss: 0.4735 - val_loss: 0.4727\n",
      "Epoch 26/100\n",
      "5000/5000 [==============================] - 0s 24us/sample - loss: 0.4607 - val_loss: 0.4614\n",
      "Epoch 27/100\n",
      "5000/5000 [==============================] - 0s 25us/sample - loss: 0.4530 - val_loss: 0.4533\n",
      "Epoch 28/100\n",
      "5000/5000 [==============================] - 0s 24us/sample - loss: 0.4487 - val_loss: 0.4487\n",
      "Epoch 29/100\n",
      "5000/5000 [==============================] - 0s 22us/sample - loss: 0.4459 - val_loss: 0.4459\n",
      "Epoch 30/100\n",
      "5000/5000 [==============================] - 0s 25us/sample - loss: 0.4447 - val_loss: 0.4442\n",
      "Epoch 31/100\n",
      "5000/5000 [==============================] - 0s 23us/sample - loss: 0.4440 - val_loss: 0.4440\n",
      "Epoch 32/100\n",
      "5000/5000 [==============================] - 0s 23us/sample - loss: 0.4437 - val_loss: 0.4427\n",
      "Epoch 33/100\n",
      "5000/5000 [==============================] - 0s 24us/sample - loss: 0.4434 - val_loss: 0.4418\n",
      "Epoch 34/100\n",
      "5000/5000 [==============================] - 0s 24us/sample - loss: 0.4433 - val_loss: 0.4415\n",
      "Epoch 35/100\n",
      "5000/5000 [==============================] - 0s 23us/sample - loss: 0.4431 - val_loss: 0.4412\n",
      "Epoch 36/100\n",
      "5000/5000 [==============================] - 0s 23us/sample - loss: 0.4432 - val_loss: 0.4430\n",
      "Epoch 37/100\n",
      "5000/5000 [==============================] - 0s 25us/sample - loss: 0.4431 - val_loss: 0.4415\n",
      "Epoch 38/100\n",
      "5000/5000 [==============================] - 0s 23us/sample - loss: 0.4434 - val_loss: 0.4412\n",
      "Epoch 39/100\n",
      "5000/5000 [==============================] - 0s 22us/sample - loss: 0.4429 - val_loss: 0.4407\n",
      "Epoch 40/100\n",
      "5000/5000 [==============================] - 0s 23us/sample - loss: 0.4429 - val_loss: 0.4404\n",
      "Epoch 41/100\n",
      "5000/5000 [==============================] - 0s 24us/sample - loss: 0.4426 - val_loss: 0.4411\n",
      "Epoch 42/100\n",
      "5000/5000 [==============================] - 0s 24us/sample - loss: 0.4425 - val_loss: 0.4402\n",
      "Epoch 43/100\n",
      "5000/5000 [==============================] - 0s 24us/sample - loss: 0.4430 - val_loss: 0.4402\n",
      "Epoch 44/100\n",
      "5000/5000 [==============================] - 0s 24us/sample - loss: 0.4423 - val_loss: 0.4400\n",
      "Epoch 45/100\n",
      "5000/5000 [==============================] - 0s 24us/sample - loss: 0.4418 - val_loss: 0.4418\n",
      "Epoch 46/100\n",
      "5000/5000 [==============================] - 0s 23us/sample - loss: 0.4423 - val_loss: 0.4430\n",
      "Epoch 47/100\n",
      "5000/5000 [==============================] - 0s 22us/sample - loss: 0.4423 - val_loss: 0.4396\n",
      "Epoch 48/100\n",
      "5000/5000 [==============================] - 0s 24us/sample - loss: 0.4417 - val_loss: 0.4395\n",
      "Epoch 49/100\n",
      "5000/5000 [==============================] - 0s 24us/sample - loss: 0.4422 - val_loss: 0.4421\n",
      "Epoch 50/100\n",
      "5000/5000 [==============================] - 0s 24us/sample - loss: 0.4424 - val_loss: 0.4439\n",
      "Epoch 51/100\n",
      "5000/5000 [==============================] - 0s 22us/sample - loss: 0.4413 - val_loss: 0.4402\n",
      "Epoch 52/100\n",
      "5000/5000 [==============================] - 0s 22us/sample - loss: 0.4412 - val_loss: 0.4392\n",
      "Epoch 53/100\n",
      "5000/5000 [==============================] - 0s 24us/sample - loss: 0.4413 - val_loss: 0.4394\n",
      "Epoch 54/100\n",
      "5000/5000 [==============================] - 0s 23us/sample - loss: 0.4415 - val_loss: 0.4410\n",
      "Epoch 55/100\n",
      "5000/5000 [==============================] - 0s 24us/sample - loss: 0.4409 - val_loss: 0.4451\n",
      "Epoch 56/100\n",
      "5000/5000 [==============================] - 0s 23us/sample - loss: 0.4424 - val_loss: 0.4392\n",
      "Epoch 57/100\n",
      "5000/5000 [==============================] - 0s 22us/sample - loss: 0.4417 - val_loss: 0.4387\n",
      "Epoch 58/100\n",
      "5000/5000 [==============================] - 0s 22us/sample - loss: 0.4414 - val_loss: 0.4395\n",
      "Epoch 59/100\n",
      "5000/5000 [==============================] - 0s 23us/sample - loss: 0.4420 - val_loss: 0.4389\n",
      "Epoch 60/100\n",
      "5000/5000 [==============================] - 0s 22us/sample - loss: 0.4435 - val_loss: 0.4401\n",
      "Epoch 61/100\n",
      "5000/5000 [==============================] - 0s 24us/sample - loss: 0.4413 - val_loss: 0.4401\n",
      "Epoch 62/100\n",
      "5000/5000 [==============================] - 0s 23us/sample - loss: 0.4427 - val_loss: 0.4396\n"
     ]
    },
    {
     "data": {
      "text/plain": [
       "<tensorflow.python.keras.callbacks.History at 0x7ffb447d05c0>"
      ]
     },
     "execution_count": 8,
     "metadata": {},
     "output_type": "execute_result"
    }
   ],
   "source": [
    "\n",
    "# All models start out with an input layer\n",
    "\n",
    "input_layer=tf.keras.layers.Input(shape=(data_dim,)) \n",
    "output_layer = tf.keras.layers.Dense(1)(input_layer)\n",
    "#A keras model is a way of going from one layer to the next\n",
    "model=tf.keras.models.Model(input_layer,output_layer)\n",
    "model.compile(loss='mse',optimizer='adam')\n",
    "model.fit(X,Y,epochs=100,validation_split=0.5,callbacks=[es]) #Have Keras make a test/validation split for us\n",
    "\n",
    "\n",
    "\n"
   ]
  },
  {
   "cell_type": "code",
   "execution_count": 9,
   "metadata": {
    "slideshow": {
     "slide_type": "slide"
    }
   },
   "outputs": [
    {
     "data": {
      "text/plain": [
       "<matplotlib.legend.Legend at 0x7ffb4c053710>"
      ]
     },
     "execution_count": 9,
     "metadata": {},
     "output_type": "execute_result"
    },
    {
     "data": {
      "image/png": "[encoded data removed]",
      "text/plain": [
       "<Figure size 432x288 with 1 Axes>"
      ]
     },
     "metadata": {
      "needs_background": "light"
     },
     "output_type": "display_data"
    }
   ],
   "source": [
    "X_test=np.random.uniform(0,10,size=(100,data_dim))\n",
    "X_test[:,0]=np.linspace(-5,15,100)\n",
    "Y_test=func(X_test)\n",
    "Y_pred=model.predict(X_test)\n",
    "\n",
    "plt.scatter(X_test[:,0],Y_pred,label='prediction')\n",
    "plt.scatter(X_test[:,0],Y_test,label='truth')\n",
    "plt.xlabel('X[:,0]')\n",
    "plt.ylabel('Y')\n",
    "plt.legend()\n"
   ]
  },
  {
   "cell_type": "markdown",
   "metadata": {
    "slideshow": {
     "slide_type": "slide"
    }
   },
   "source": [
    "Oops this didn't work. So far what we wrote above can only be linear\n",
    "\n",
    "<p style=\"text-align: center;\">\n",
    "$O_i = \\sum_n W_{i,n}*X_n+B_i$    \n",
    "</p>\n",
    "\n",
    "we need to add something called an activation function $\\sigma$\n",
    "\n",
    "<p style=\"text-align: center;\">\n",
    "$O_i = \\sigma(\\sum_n W_{i,n}*X_n+B_i)$    \n",
    "</p>\n",
    "\n",
    "$\\sigma$ has to be non-linear and a good choice is a LeakyReLU\n",
    "\n",
    "<img src='../assets/leakyReLU.png'>\n",
    "\n",
    "Let's also make our model a bit more powerful, but adding more layers $l$\n",
    "\n",
    "<p style=\"text-align: center;\">\n",
    "$O_i,o=X_i$\n",
    "</p>\n",
    " \n",
    "<p style=\"text-align: center;\">  \n",
    "$O_{i,l} = \\sigma(\\sum_n W_{i,l,n}*O_{i,l-1}+B_{i,l})$    \n",
    "</p>\n"
   ]
  },
  {
   "cell_type": "code",
   "execution_count": 10,
   "metadata": {
    "slideshow": {
     "slide_type": "slide"
    }
   },
   "outputs": [
    {
     "name": "stdout",
     "output_type": "stream",
     "text": [
      "_________________________________________________________________\n",
      "Layer (type)                 Output Shape              Param #   \n",
      "=================================================================\n",
      "input_3 (InputLayer)         (None, 5)                 0         \n",
      "_________________________________________________________________\n",
      "dense_2 (Dense)              (None, 20)                120       \n",
      "_________________________________________________________________\n",
      "leaky_re_lu (LeakyReLU)      (None, 20)                0         \n",
      "_________________________________________________________________\n",
      "dense_3 (Dense)              (None, 20)                420       \n",
      "_________________________________________________________________\n",
      "leaky_re_lu_1 (LeakyReLU)    (None, 20)                0         \n",
      "_________________________________________________________________\n",
      "dense_4 (Dense)              (None, 20)                420       \n",
      "_________________________________________________________________\n",
      "leaky_re_lu_2 (LeakyReLU)    (None, 20)                0         \n",
      "_________________________________________________________________\n",
      "dense_5 (Dense)              (None, 1)                 21        \n",
      "=================================================================\n",
      "Total params: 981\n",
      "Trainable params: 981\n",
      "Non-trainable params: 0\n",
      "_________________________________________________________________\n"
     ]
    }
   ],
   "source": [
    "input_layer=tf.keras.layers.Input(shape=(data_dim,)) \n",
    "###Lets Add another layer and an Activation###\n",
    "nn = tf.keras.layers.Dense(20)(input_layer)\n",
    "nn = tf.keras.layers.LeakyReLU()(nn)\n",
    "\n",
    "nn = tf.keras.layers.Dense(20)(nn)\n",
    "nn = tf.keras.layers.LeakyReLU()(nn)\n",
    "\n",
    "nn = tf.keras.layers.Dense(20)(nn)\n",
    "nn = tf.keras.layers.LeakyReLU()(nn)\n",
    "\n",
    "output_layer = tf.keras.layers.Dense(1)(nn)\n",
    "#A keras model is a way of going from one layer to the next\n",
    "model=tf.keras.models.Model(input_layer,output_layer)\n",
    "model.summary()\n",
    "model.compile(loss='mse',optimizer='adam')"
   ]
  },
  {
   "cell_type": "code",
   "execution_count": 11,
   "metadata": {
    "slideshow": {
     "slide_type": "skip"
    }
   },
   "outputs": [
    {
     "name": "stdout",
     "output_type": "stream",
     "text": [
      "Train on 5000 samples, validate on 5000 samples\n",
      "Epoch 1/50\n",
      "5000/5000 [==============================] - 0s 79us/sample - loss: 0.5067 - val_loss: 0.4160\n",
      "Epoch 2/50\n",
      "5000/5000 [==============================] - 0s 36us/sample - loss: 0.3811 - val_loss: 0.3575\n",
      "Epoch 3/50\n",
      "5000/5000 [==============================] - 0s 33us/sample - loss: 0.3482 - val_loss: 0.3230\n",
      "Epoch 4/50\n",
      "5000/5000 [==============================] - 0s 33us/sample - loss: 0.3197 - val_loss: 0.3211\n",
      "Epoch 5/50\n",
      "5000/5000 [==============================] - 0s 35us/sample - loss: 0.3012 - val_loss: 0.2815\n",
      "Epoch 6/50\n",
      "5000/5000 [==============================] - 0s 33us/sample - loss: 0.2801 - val_loss: 0.2755\n",
      "Epoch 7/50\n",
      "5000/5000 [==============================] - 0s 32us/sample - loss: 0.2582 - val_loss: 0.2480\n",
      "Epoch 8/50\n",
      "5000/5000 [==============================] - 0s 34us/sample - loss: 0.2377 - val_loss: 0.2370\n",
      "Epoch 9/50\n",
      "5000/5000 [==============================] - 0s 34us/sample - loss: 0.2258 - val_loss: 0.2329\n",
      "Epoch 10/50\n",
      "5000/5000 [==============================] - 0s 34us/sample - loss: 0.2077 - val_loss: 0.1979\n",
      "Epoch 11/50\n",
      "5000/5000 [==============================] - 0s 33us/sample - loss: 0.1965 - val_loss: 0.1843\n",
      "Epoch 12/50\n",
      "5000/5000 [==============================] - 0s 36us/sample - loss: 0.1875 - val_loss: 0.1718\n",
      "Epoch 13/50\n",
      "5000/5000 [==============================] - 0s 34us/sample - loss: 0.1706 - val_loss: 0.1623\n",
      "Epoch 14/50\n",
      "5000/5000 [==============================] - 0s 38us/sample - loss: 0.1606 - val_loss: 0.1503\n",
      "Epoch 15/50\n",
      "5000/5000 [==============================] - 0s 33us/sample - loss: 0.1506 - val_loss: 0.1417\n",
      "Epoch 16/50\n",
      "5000/5000 [==============================] - 0s 33us/sample - loss: 0.1405 - val_loss: 0.1289\n",
      "Epoch 17/50\n",
      "5000/5000 [==============================] - 0s 35us/sample - loss: 0.1398 - val_loss: 0.1276\n",
      "Epoch 18/50\n",
      "5000/5000 [==============================] - 0s 33us/sample - loss: 0.1228 - val_loss: 0.1252\n",
      "Epoch 19/50\n",
      "5000/5000 [==============================] - 0s 33us/sample - loss: 0.1088 - val_loss: 0.0953\n",
      "Epoch 20/50\n",
      "5000/5000 [==============================] - 0s 33us/sample - loss: 0.0948 - val_loss: 0.0880\n",
      "Epoch 21/50\n",
      "5000/5000 [==============================] - 0s 36us/sample - loss: 0.0837 - val_loss: 0.0765\n",
      "Epoch 22/50\n",
      "5000/5000 [==============================] - 0s 33us/sample - loss: 0.0729 - val_loss: 0.1012\n",
      "Epoch 23/50\n",
      "5000/5000 [==============================] - 0s 34us/sample - loss: 0.0607 - val_loss: 0.0554\n",
      "Epoch 24/50\n",
      "5000/5000 [==============================] - 0s 33us/sample - loss: 0.0515 - val_loss: 0.0603\n",
      "Epoch 25/50\n",
      "5000/5000 [==============================] - 0s 36us/sample - loss: 0.0449 - val_loss: 0.0460\n",
      "Epoch 26/50\n",
      "5000/5000 [==============================] - 0s 33us/sample - loss: 0.0370 - val_loss: 0.0330\n",
      "Epoch 27/50\n",
      "5000/5000 [==============================] - 0s 33us/sample - loss: 0.0313 - val_loss: 0.0354\n",
      "Epoch 28/50\n",
      "5000/5000 [==============================] - 0s 33us/sample - loss: 0.0256 - val_loss: 0.0237\n",
      "Epoch 29/50\n",
      "5000/5000 [==============================] - 0s 34us/sample - loss: 0.0206 - val_loss: 0.0221\n",
      "Epoch 30/50\n",
      "5000/5000 [==============================] - 0s 33us/sample - loss: 0.0167 - val_loss: 0.0167\n",
      "Epoch 31/50\n",
      "5000/5000 [==============================] - 0s 33us/sample - loss: 0.0155 - val_loss: 0.0163\n",
      "Epoch 32/50\n",
      "5000/5000 [==============================] - 0s 34us/sample - loss: 0.0143 - val_loss: 0.0119\n",
      "Epoch 33/50\n",
      "5000/5000 [==============================] - 0s 33us/sample - loss: 0.0117 - val_loss: 0.0107\n",
      "Epoch 34/50\n",
      "5000/5000 [==============================] - 0s 34us/sample - loss: 0.0103 - val_loss: 0.0097\n",
      "Epoch 35/50\n",
      "5000/5000 [==============================] - 0s 33us/sample - loss: 0.0092 - val_loss: 0.0098\n",
      "Epoch 36/50\n",
      "5000/5000 [==============================] - 0s 33us/sample - loss: 0.0087 - val_loss: 0.0077\n",
      "Epoch 37/50\n",
      "5000/5000 [==============================] - 0s 36us/sample - loss: 0.0071 - val_loss: 0.0067\n",
      "Epoch 38/50\n",
      "5000/5000 [==============================] - 0s 44us/sample - loss: 0.0066 - val_loss: 0.0055\n",
      "Epoch 39/50\n",
      "5000/5000 [==============================] - 0s 36us/sample - loss: 0.0061 - val_loss: 0.0094\n",
      "Epoch 40/50\n",
      "5000/5000 [==============================] - 0s 34us/sample - loss: 0.0053 - val_loss: 0.0050\n",
      "Epoch 41/50\n",
      "5000/5000 [==============================] - 0s 34us/sample - loss: 0.0050 - val_loss: 0.0050\n",
      "Epoch 42/50\n",
      "5000/5000 [==============================] - 0s 33us/sample - loss: 0.0048 - val_loss: 0.0067\n",
      "Epoch 43/50\n",
      "5000/5000 [==============================] - 0s 34us/sample - loss: 0.0057 - val_loss: 0.0050\n",
      "Epoch 44/50\n",
      "5000/5000 [==============================] - 0s 33us/sample - loss: 0.0039 - val_loss: 0.0089\n",
      "Epoch 45/50\n",
      "5000/5000 [==============================] - 0s 33us/sample - loss: 0.0040 - val_loss: 0.0038\n",
      "Epoch 46/50\n",
      "5000/5000 [==============================] - 0s 33us/sample - loss: 0.0041 - val_loss: 0.0044\n",
      "Epoch 47/50\n",
      "5000/5000 [==============================] - 0s 33us/sample - loss: 0.0034 - val_loss: 0.0029\n",
      "Epoch 48/50\n",
      "5000/5000 [==============================] - 0s 33us/sample - loss: 0.0031 - val_loss: 0.0054\n",
      "Epoch 49/50\n",
      "5000/5000 [==============================] - 0s 34us/sample - loss: 0.0034 - val_loss: 0.0047\n",
      "Epoch 50/50\n",
      "5000/5000 [==============================] - 0s 33us/sample - loss: 0.0032 - val_loss: 0.0022\n"
     ]
    },
    {
     "data": {
      "text/plain": [
       "<tensorflow.python.keras.callbacks.History at 0x7ffb3c5c16a0>"
      ]
     },
     "execution_count": 11,
     "metadata": {},
     "output_type": "execute_result"
    }
   ],
   "source": [
    "model.fit(X,Y,epochs=50,validation_split=0.5,callbacks=[es]) #Have Keras make a test/validation split for us\n"
   ]
  },
  {
   "cell_type": "code",
   "execution_count": 12,
   "metadata": {
    "slideshow": {
     "slide_type": "slide"
    }
   },
   "outputs": [
    {
     "data": {
      "text/plain": [
       "<matplotlib.legend.Legend at 0x7ffb3c567908>"
      ]
     },
     "execution_count": 12,
     "metadata": {},
     "output_type": "execute_result"
    },
    {
     "data": {
      "image/png": "[encoded data removed]",
      "text/plain": [
       "<Figure size 432x288 with 1 Axes>"
      ]
     },
     "metadata": {
      "needs_background": "light"
     },
     "output_type": "display_data"
    }
   ],
   "source": [
    "\n",
    "X_test=np.random.uniform(0,10,size=(100,data_dim))\n",
    "X_test[:,0]=np.linspace(-5,15,100)\n",
    "Y_test=func(X_test)\n",
    "Y_pred=model.predict(X_test)\n",
    "\n",
    "plt.scatter(X_test[:,0],Y_pred,label='prediction')\n",
    "plt.scatter(X_test[:,0],Y_test,label='truth')\n",
    "plt.xlabel('X[:,0]')\n",
    "plt.ylabel('Y')\n",
    "plt.legend()\n"
   ]
  },
  {
   "cell_type": "markdown",
   "metadata": {
    "slideshow": {
     "slide_type": "fragment"
    }
   },
   "source": [
    "The data fits the sin curve perfectly where it had seen training data 0-10, and not so well where there was no training data. Neural networks are universal function approximators, you have little control of what they predict when given data that is completely new. \n"
   ]
  },
  {
   "cell_type": "markdown",
   "metadata": {
    "slideshow": {
     "slide_type": "slide"
    }
   },
   "source": [
    "# Dense network summary\n",
    "\n",
    "* Dense networks take fixed length input and have a fixed length output\n",
    "* Like All Neural Network layers they require an activation function\n",
    "* They can be stacked to represent more complicated functions\n",
    "* You're taking your chances when predicting data that's very different from you're training data\n"
   ]
  },
  {
   "cell_type": "code",
   "execution_count": null,
   "metadata": {},
   "outputs": [],
   "source": [
    "\n"
   ]
  },
  {
   "cell_type": "markdown",
   "metadata": {
    "slideshow": {
     "slide_type": "slide"
    }
   },
   "source": [
    "# Sequences\n",
    "A lot of data we have doesn't have a fixed dimension, for example text. To make our predictions we need another kind of layer called a recurrent layer. \n",
    "\n",
    "<img src=\"../assets/rnn.gif\">\n",
    "\n",
    "Recurrent layers step through each data point in a sequence, and output one number at the end (or another sequence)\n",
    "Examples:\n",
    "* RNN : First simplest recurrent layer\n",
    "* LSTM: Long Short Term Memory Networks\n",
    "* GRU: Gated Recurrent Unit\n",
    "\n",
    "All of the above are implemented differently with different strengths, but for now lets stick with an LSTM\n",
    "\n"
   ]
  },
  {
   "cell_type": "code",
   "execution_count": 13,
   "metadata": {
    "slideshow": {
     "slide_type": "slide"
    }
   },
   "outputs": [
    {
     "name": "stdout",
     "output_type": "stream",
     "text": [
      "[[19.]\n",
      " [20.]\n",
      " [21.]\n",
      " [22.]\n",
      " [23.]] 24.0\n",
      "(10000, 5, 1)\n"
     ]
    }
   ],
   "source": [
    "X=[]\n",
    "Y=[]\n",
    "for i in range(10000):\n",
    "    _dp=[]\n",
    "    _dp=np.random.randint(50)+np.linspace(0,4,5)\n",
    "    Y.append(_dp[-1]+1)\n",
    "    X.append(np.expand_dims(_dp,-1))\n",
    "X=np.array(X)\n",
    "Y=np.array(Y)\n",
    "print(X[0],Y[0])\n",
    "\n",
    "print(X.shape)\n",
    "\n",
    "\n"
   ]
  },
  {
   "cell_type": "code",
   "execution_count": 27,
   "metadata": {
    "slideshow": {
     "slide_type": "slide"
    }
   },
   "outputs": [
    {
     "name": "stdout",
     "output_type": "stream",
     "text": [
      "Tensor(\"input_7:0\", shape=(?, ?, 1), dtype=float32)\n",
      "_________________________________________________________________\n",
      "Layer (type)                 Output Shape              Param #   \n",
      "=================================================================\n",
      "input_7 (InputLayer)         (None, None, 1)           0         \n",
      "_________________________________________________________________\n",
      "lstm_3 (LSTM)                (None, 1)                 12        \n",
      "=================================================================\n",
      "Total params: 12\n",
      "Trainable params: 12\n",
      "Non-trainable params: 0\n",
      "_________________________________________________________________\n",
      "Train on 5000 samples, validate on 5000 samples\n",
      "Epoch 1/100\n",
      "5000/5000 [==============================] - 1s 258us/sample - loss: 523.2997 - val_loss: 313.9036\n",
      "Epoch 2/100\n",
      "5000/5000 [==============================] - 1s 102us/sample - loss: 197.6597 - val_loss: 115.7130\n",
      "Epoch 3/100\n",
      "5000/5000 [==============================] - 1s 102us/sample - loss: 72.1972 - val_loss: 40.6802\n",
      "Epoch 4/100\n",
      "5000/5000 [==============================] - 1s 101us/sample - loss: 25.9955 - val_loss: 15.4394\n",
      "Epoch 5/100\n",
      "5000/5000 [==============================] - 1s 101us/sample - loss: 10.9359 - val_loss: 7.4971\n",
      "Epoch 6/100\n",
      "5000/5000 [==============================] - 1s 103us/sample - loss: 6.0313 - val_loss: 4.7683\n",
      "Epoch 7/100\n",
      "5000/5000 [==============================] - 1s 103us/sample - loss: 4.1488 - val_loss: 3.5220\n",
      "Epoch 8/100\n",
      "5000/5000 [==============================] - 1s 101us/sample - loss: 3.1525 - val_loss: 2.7842\n",
      "Epoch 9/100\n",
      "5000/5000 [==============================] - 1s 102us/sample - loss: 2.5422 - val_loss: 2.2953\n",
      "Epoch 10/100\n",
      "5000/5000 [==============================] - 1s 101us/sample - loss: 2.1153 - val_loss: 1.9627\n",
      "Epoch 11/100\n",
      "5000/5000 [==============================] - 1s 102us/sample - loss: 1.8040 - val_loss: 1.6884\n",
      "Epoch 12/100\n",
      "5000/5000 [==============================] - 1s 102us/sample - loss: 1.5670 - val_loss: 1.4965\n",
      "Epoch 13/100\n",
      "5000/5000 [==============================] - 1s 104us/sample - loss: 1.3867 - val_loss: 1.3273\n",
      "Epoch 14/100\n",
      "5000/5000 [==============================] - 1s 101us/sample - loss: 1.2340 - val_loss: 1.1923\n",
      "Epoch 15/100\n",
      "5000/5000 [==============================] - 1s 102us/sample - loss: 1.1194 - val_loss: 1.0851\n",
      "Epoch 16/100\n",
      "5000/5000 [==============================] - 1s 102us/sample - loss: 1.0214 - val_loss: 0.9915\n",
      "Epoch 17/100\n",
      "5000/5000 [==============================] - 1s 103us/sample - loss: 0.9346 - val_loss: 0.9077\n",
      "Epoch 18/100\n",
      "5000/5000 [==============================] - 1s 102us/sample - loss: 0.8577 - val_loss: 0.7640\n",
      "Epoch 19/100\n",
      "5000/5000 [==============================] - 1s 111us/sample - loss: 0.3430 - val_loss: 0.2674\n",
      "Epoch 20/100\n",
      "5000/5000 [==============================] - 1s 103us/sample - loss: 0.2318 - val_loss: 0.2380\n",
      "Epoch 21/100\n",
      "5000/5000 [==============================] - 1s 109us/sample - loss: 0.2023 - val_loss: 0.2078\n",
      "Epoch 22/100\n",
      "5000/5000 [==============================] - 1s 103us/sample - loss: 0.1794 - val_loss: 0.1888\n",
      "Epoch 23/100\n",
      "5000/5000 [==============================] - 1s 104us/sample - loss: 0.1649 - val_loss: 0.1726\n",
      "Epoch 24/100\n",
      "5000/5000 [==============================] - 1s 102us/sample - loss: 0.1531 - val_loss: 0.1672\n",
      "Epoch 25/100\n",
      "5000/5000 [==============================] - 1s 111us/sample - loss: 0.1448 - val_loss: 0.1543\n",
      "Epoch 26/100\n",
      "5000/5000 [==============================] - 1s 102us/sample - loss: 0.1367 - val_loss: 0.1445\n",
      "Epoch 27/100\n",
      "5000/5000 [==============================] - 1s 104us/sample - loss: 0.1307 - val_loss: 0.1390\n",
      "Epoch 28/100\n",
      "5000/5000 [==============================] - 1s 102us/sample - loss: 0.1243 - val_loss: 0.1330\n",
      "Epoch 29/100\n",
      "5000/5000 [==============================] - 1s 104us/sample - loss: 0.1195 - val_loss: 0.1256\n",
      "Epoch 30/100\n",
      "5000/5000 [==============================] - 1s 107us/sample - loss: 0.1149 - val_loss: 0.1205\n",
      "Epoch 31/100\n",
      "5000/5000 [==============================] - 1s 103us/sample - loss: 0.1094 - val_loss: 0.1135\n",
      "Epoch 32/100\n",
      "5000/5000 [==============================] - 1s 101us/sample - loss: 0.1034 - val_loss: 0.1068\n",
      "Epoch 33/100\n",
      "5000/5000 [==============================] - 1s 102us/sample - loss: 0.0986 - val_loss: 0.1018\n",
      "Epoch 34/100\n",
      "5000/5000 [==============================] - 1s 103us/sample - loss: 0.0949 - val_loss: 0.0979\n",
      "Epoch 35/100\n",
      "5000/5000 [==============================] - 1s 104us/sample - loss: 0.0921 - val_loss: 0.0951\n",
      "Epoch 36/100\n",
      "5000/5000 [==============================] - 1s 103us/sample - loss: 0.0896 - val_loss: 0.0917\n",
      "Epoch 37/100\n",
      "5000/5000 [==============================] - 1s 101us/sample - loss: 0.0873 - val_loss: 0.0896\n",
      "Epoch 38/100\n",
      "5000/5000 [==============================] - 1s 103us/sample - loss: 0.0859 - val_loss: 0.0881\n",
      "Epoch 39/100\n",
      "5000/5000 [==============================] - 1s 103us/sample - loss: 0.0846 - val_loss: 0.0861\n",
      "Epoch 40/100\n",
      "5000/5000 [==============================] - 1s 107us/sample - loss: 0.0821 - val_loss: 0.0830\n",
      "Epoch 41/100\n",
      "5000/5000 [==============================] - 1s 104us/sample - loss: 0.0797 - val_loss: 0.0812\n",
      "Epoch 42/100\n",
      "5000/5000 [==============================] - 1s 102us/sample - loss: 0.0782 - val_loss: 0.0799\n",
      "Epoch 43/100\n",
      "5000/5000 [==============================] - 1s 102us/sample - loss: 0.0768 - val_loss: 0.0774\n",
      "Epoch 44/100\n",
      "5000/5000 [==============================] - 1s 102us/sample - loss: 0.0752 - val_loss: 0.0759\n",
      "Epoch 45/100\n",
      "5000/5000 [==============================] - 1s 102us/sample - loss: 0.0737 - val_loss: 0.0738\n",
      "Epoch 46/100\n",
      "5000/5000 [==============================] - 1s 103us/sample - loss: 0.0724 - val_loss: 0.0729\n",
      "Epoch 47/100\n",
      "5000/5000 [==============================] - 1s 100us/sample - loss: 0.0708 - val_loss: 0.0706\n",
      "Epoch 48/100\n",
      "5000/5000 [==============================] - 1s 101us/sample - loss: 0.0687 - val_loss: 0.0688\n",
      "Epoch 49/100\n",
      "5000/5000 [==============================] - 1s 107us/sample - loss: 0.0675 - val_loss: 0.0677\n",
      "Epoch 50/100\n",
      "5000/5000 [==============================] - 1s 108us/sample - loss: 0.0664 - val_loss: 0.0671\n",
      "Epoch 51/100\n",
      "5000/5000 [==============================] - 1s 110us/sample - loss: 0.0656 - val_loss: 0.0663\n",
      "Epoch 52/100\n",
      "5000/5000 [==============================] - 1s 102us/sample - loss: 0.0651 - val_loss: 0.0658\n",
      "Epoch 53/100\n",
      "5000/5000 [==============================] - 1s 116us/sample - loss: 0.0640 - val_loss: 0.0638\n",
      "Epoch 54/100\n",
      "5000/5000 [==============================] - 1s 103us/sample - loss: 0.0614 - val_loss: 0.0608\n",
      "Epoch 55/100\n",
      "5000/5000 [==============================] - 1s 102us/sample - loss: 0.0581 - val_loss: 0.0579\n",
      "Epoch 56/100\n",
      "5000/5000 [==============================] - 1s 101us/sample - loss: 0.0554 - val_loss: 0.0552\n",
      "Epoch 57/100\n",
      "5000/5000 [==============================] - 1s 113us/sample - loss: 0.0531 - val_loss: 0.0529\n",
      "Epoch 58/100\n",
      "5000/5000 [==============================] - 1s 106us/sample - loss: 0.0511 - val_loss: 0.0510\n",
      "Epoch 59/100\n",
      "5000/5000 [==============================] - 1s 107us/sample - loss: 0.0494 - val_loss: 0.0495\n",
      "Epoch 60/100\n",
      "5000/5000 [==============================] - 1s 107us/sample - loss: 0.0477 - val_loss: 0.0477\n",
      "Epoch 61/100\n",
      "5000/5000 [==============================] - 1s 100us/sample - loss: 0.0464 - val_loss: 0.0463\n",
      "Epoch 62/100\n",
      "5000/5000 [==============================] - 1s 104us/sample - loss: 0.0451 - val_loss: 0.0472\n",
      "Epoch 63/100\n",
      "5000/5000 [==============================] - 1s 102us/sample - loss: 0.0441 - val_loss: 0.0443\n",
      "Epoch 64/100\n",
      "5000/5000 [==============================] - 1s 101us/sample - loss: 0.0431 - val_loss: 0.0433\n",
      "Epoch 65/100\n",
      "5000/5000 [==============================] - 1s 107us/sample - loss: 0.0423 - val_loss: 0.0422\n",
      "Epoch 66/100\n",
      "5000/5000 [==============================] - 1s 102us/sample - loss: 0.0409 - val_loss: 0.0409\n",
      "Epoch 67/100\n",
      "5000/5000 [==============================] - 1s 100us/sample - loss: 0.0398 - val_loss: 0.0422\n",
      "Epoch 68/100\n",
      "5000/5000 [==============================] - 1s 100us/sample - loss: 0.0386 - val_loss: 0.0388\n",
      "Epoch 69/100\n",
      "5000/5000 [==============================] - 1s 100us/sample - loss: 0.0380 - val_loss: 0.0374\n",
      "Epoch 70/100\n",
      "5000/5000 [==============================] - 0s 100us/sample - loss: 0.0362 - val_loss: 0.0398\n",
      "Epoch 71/100\n",
      "5000/5000 [==============================] - 1s 102us/sample - loss: 0.0359 - val_loss: 0.0352\n",
      "Epoch 72/100\n",
      "5000/5000 [==============================] - 1s 100us/sample - loss: 0.0340 - val_loss: 0.0345\n",
      "Epoch 73/100\n",
      "5000/5000 [==============================] - 1s 104us/sample - loss: 0.0327 - val_loss: 0.0334\n",
      "Epoch 74/100\n",
      "5000/5000 [==============================] - 1s 101us/sample - loss: 0.0316 - val_loss: 0.0324\n",
      "Epoch 75/100\n",
      "5000/5000 [==============================] - 1s 108us/sample - loss: 0.0313 - val_loss: 0.0326\n",
      "Epoch 76/100\n",
      "5000/5000 [==============================] - 1s 106us/sample - loss: 0.0306 - val_loss: 0.0317\n",
      "Epoch 77/100\n",
      "5000/5000 [==============================] - 1s 106us/sample - loss: 0.0302 - val_loss: 0.0309\n",
      "Epoch 78/100\n",
      "5000/5000 [==============================] - 1s 105us/sample - loss: 0.0300 - val_loss: 0.0303\n",
      "Epoch 79/100\n",
      "5000/5000 [==============================] - 1s 104us/sample - loss: 0.0297 - val_loss: 0.0313\n",
      "Epoch 80/100\n",
      "5000/5000 [==============================] - 1s 106us/sample - loss: 0.0294 - val_loss: 0.0299\n",
      "Epoch 81/100\n",
      "5000/5000 [==============================] - 1s 105us/sample - loss: 0.0292 - val_loss: 0.0297\n",
      "Epoch 82/100\n",
      "5000/5000 [==============================] - 1s 106us/sample - loss: 0.0287 - val_loss: 0.0303\n",
      "Epoch 83/100\n",
      "5000/5000 [==============================] - 1s 108us/sample - loss: 0.0288 - val_loss: 0.0295\n",
      "Epoch 84/100\n",
      "5000/5000 [==============================] - 1s 102us/sample - loss: 0.0280 - val_loss: 0.0288\n",
      "Epoch 85/100\n",
      "5000/5000 [==============================] - 1s 107us/sample - loss: 0.0283 - val_loss: 0.0288\n",
      "Epoch 86/100\n",
      "5000/5000 [==============================] - 1s 106us/sample - loss: 0.0276 - val_loss: 0.0284\n",
      "Epoch 87/100\n",
      "5000/5000 [==============================] - 1s 106us/sample - loss: 0.0278 - val_loss: 0.0292\n",
      "Epoch 88/100\n",
      "5000/5000 [==============================] - 1s 106us/sample - loss: 0.0273 - val_loss: 0.0275\n",
      "Epoch 89/100\n",
      "5000/5000 [==============================] - 1s 106us/sample - loss: 0.0270 - val_loss: 0.0274\n",
      "Epoch 90/100\n",
      "5000/5000 [==============================] - 1s 107us/sample - loss: 0.0261 - val_loss: 0.0274\n",
      "Epoch 91/100\n",
      "5000/5000 [==============================] - 1s 107us/sample - loss: 0.0261 - val_loss: 0.0265\n",
      "Epoch 92/100\n",
      "5000/5000 [==============================] - 1s 105us/sample - loss: 0.0256 - val_loss: 0.0288\n",
      "Epoch 93/100\n",
      "5000/5000 [==============================] - 1s 105us/sample - loss: 0.0241 - val_loss: 0.0238\n",
      "Epoch 94/100\n",
      "5000/5000 [==============================] - 1s 107us/sample - loss: 0.0224 - val_loss: 0.0228\n",
      "Epoch 95/100\n",
      "5000/5000 [==============================] - 1s 108us/sample - loss: 0.0218 - val_loss: 0.0220\n",
      "Epoch 96/100\n",
      "5000/5000 [==============================] - 1s 104us/sample - loss: 0.0216 - val_loss: 0.0215\n",
      "Epoch 97/100\n",
      "5000/5000 [==============================] - 1s 106us/sample - loss: 0.0202 - val_loss: 0.0206\n",
      "Epoch 98/100\n",
      "5000/5000 [==============================] - 1s 106us/sample - loss: 0.0200 - val_loss: 0.0214\n",
      "Epoch 99/100\n",
      "5000/5000 [==============================] - 1s 106us/sample - loss: 0.0190 - val_loss: 0.0190\n",
      "Epoch 100/100\n",
      "5000/5000 [==============================] - 1s 109us/sample - loss: 0.0180 - val_loss: 0.0183\n"
     ]
    },
    {
     "data": {
      "text/plain": [
       "<tensorflow.python.keras.callbacks.History at 0x7ffab71ccf60>"
      ]
     },
     "execution_count": 27,
     "metadata": {},
     "output_type": "execute_result"
    }
   ],
   "source": [
    "input_layer=tf.keras.layers.Input((None,1))\n",
    "print(input_layer)\n",
    "output_layer=tf.keras.layers.LSTM(1,activation='linear')(input_layer)\n",
    "model=tf.keras.models.Model([input_layer],[output_layer])\n",
    "opt=tf.keras.optimizers.Adam(lr=1e-3)\n",
    "\n",
    "model.compile(loss='mse',optimizer=opt)\n",
    "model.summary()\n",
    "es=tf.keras.callbacks.EarlyStopping(monitor='val_loss', min_delta=0, patience=5, verbose=0, mode='auto')\n",
    "\n",
    "\n",
    "model.fit(X,Y,validation_split=0.5,epochs=100,callbacks=[es])\n",
    "\n"
   ]
  },
  {
   "cell_type": "code",
   "execution_count": 29,
   "metadata": {
    "slideshow": {
     "slide_type": "slide"
    }
   },
   "outputs": [
    {
     "data": {
      "text/plain": [
       "array([[7.0952587]], dtype=float32)"
      ]
     },
     "execution_count": 29,
     "metadata": {},
     "output_type": "execute_result"
    }
   ],
   "source": [
    "model.predict(np.expand_dims([[2,3,4,5,6]],-1) )"
   ]
  },
  {
   "cell_type": "markdown",
   "metadata": {
    "slideshow": {
     "slide_type": "slide"
    }
   },
   "source": [
    "## Text Data\n",
    "The coding/research part of most machine learning algorithms is how to utilize data in a way an algorthim understands.\n",
    "\n",
    "### Goal\n",
    "Read the raw the raw text from these movie reviews, and predict wether the review is positive or not\n",
    "* Need to go from an array (1-D unknown length) to a probability (1 number)\n",
    "* Need to build a series of layers to make that possible\n",
    "* We will take text that is transformed into an sequence of integers\n",
    "  * For this data we assign each word (token) in a sentence a unique integer\n",
    "* We will transform the sequence of integers into an sequence of vectors\n",
    "    * Do this with a new Embedding Layer\n",
    "* Then use an LSTM layer, and a Dense layer to make a prediction\n",
    "\n",
    "Array of Ints -> **Embedding** -> Array of Vectors -> **RNN** -> fixed output -> **Dense** -> Probability\n"
   ]
  },
  {
   "cell_type": "code",
   "execution_count": 16,
   "metadata": {
    "slideshow": {
     "slide_type": "slide"
    }
   },
   "outputs": [
    {
     "name": "stdout",
     "output_type": "stream",
     "text": [
      "Downloading data from https://storage.googleapis.com/tensorflow/tf-keras-datasets/imdb_word_index.json\n",
      "1646592/1641221 [==============================] - 0s 0us/step\n"
     ]
    }
   ],
   "source": [
    "# Lets load some input data in the 2-split format\n",
    "index_from=3\n",
    "(x_train, y_train), (x_test, y_test) = tf.keras.datasets.imdb.load_data(path=\"imdb.npz\",\n",
    "                                                      num_words=None,\n",
    "                                                      skip_top=0,\n",
    "                                                      maxlen=None,\n",
    "                                                      seed=113,\n",
    "                                                      start_char=1,\n",
    "                                                      oov_char=2,\n",
    "                                                      index_from=index_from)\n",
    "\n",
    "\n",
    "word_2_index={k:(v+index_from) for k,v in tf.keras.datasets.imdb.get_word_index().items()}\n",
    "word_2_index['<PAD>']=0\n",
    "word_2_index['<START>']=1\n",
    "word_2_index['<UNK>']=2\n",
    "\n",
    "index_2_word={}\n",
    "\n",
    "for word in word_2_index:\n",
    "    index_2_word[ word_2_index[word]]=word\n"
   ]
  },
  {
   "cell_type": "code",
   "execution_count": 17,
   "metadata": {
    "slideshow": {
     "slide_type": "slide"
    }
   },
   "outputs": [
    {
     "name": "stdout",
     "output_type": "stream",
     "text": [
      "['this', 'is', 'a', 'sentence'] [14, 9, 6, 4130]\n"
     ]
    }
   ],
   "source": [
    "check=['this','is','a','sentence']\n",
    "print(check, [word_2_index[i] for i in check])"
   ]
  },
  {
   "cell_type": "code",
   "execution_count": 18,
   "metadata": {
    "slideshow": {
     "slide_type": "slide"
    }
   },
   "outputs": [],
   "source": [
    "last_word=np.max(list(word_2_index.values()))"
   ]
  },
  {
   "cell_type": "code",
   "execution_count": 19,
   "metadata": {
    "slideshow": {
     "slide_type": "slide"
    }
   },
   "outputs": [
    {
     "name": "stdout",
     "output_type": "stream",
     "text": [
      "(25000,)\n",
      "(25000,)\n",
      "[1, 14, 22, 16, 43, 530, 973, 1622, 1385, 65, 458, 4468, 66, 3941, 4, 173, 36, 256, 5, 25, 100, 43, 838, 112, 50, 670, 22665, 9, 35, 480, 284, 5, 150, 4, 172, 112, 167, 21631, 336, 385, 39, 4, 172, 4536, 1111, 17, 546, 38, 13, 447, 4, 192, 50, 16, 6, 147, 2025, 19, 14, 22, 4, 1920, 4613, 469, 4, 22, 71, 87, 12, 16, 43, 530, 38, 76, 15, 13, 1247, 4, 22, 17, 515, 17, 12, 16, 626, 18, 19193, 5, 62, 386, 12, 8, 316, 8, 106, 5, 4, 2223, 5244, 16, 480, 66, 3785, 33, 4, 130, 12, 16, 38, 619, 5, 25, 124, 51, 36, 135, 48, 25, 1415, 33, 6, 22, 12, 215, 28, 77, 52, 5, 14, 407, 16, 82, 10311, 8, 4, 107, 117, 5952, 15, 256, 4, 31050, 7, 3766, 5, 723, 36, 71, 43, 530, 476, 26, 400, 317, 46, 7, 4, 12118, 1029, 13, 104, 88, 4, 381, 15, 297, 98, 32, 2071, 56, 26, 141, 6, 194, 7486, 18, 4, 226, 22, 21, 134, 476, 26, 480, 5, 144, 30, 5535, 18, 51, 36, 28, 224, 92, 25, 104, 4, 226, 65, 16, 38, 1334, 88, 12, 16, 283, 5, 16, 4472, 113, 103, 32, 15, 16, 5345, 19, 178, 32]\n",
      "1\n",
      "<START> this film was just brilliant casting location scenery story direction everyone's really suited the part they played and you could just imagine being there robert redford's is an amazing actor and now the same being director norman's father came from the same scottish island as myself so i loved the fact there was a real connection with this film the witty remarks throughout the film were great it was just brilliant so much that i bought the film as soon as it was released for retail and would recommend it to everyone to watch and the fly fishing was amazing really cried at the end it was so sad and you know what they say if you cry at a film it must have been good and this definitely was also congratulations to the two little boy's that played the part's of norman and paul they were just brilliant children are often left out of the praising list i think because the stars that play them all grown up are such a big profile for the whole film but these children are amazing and should be praised for what they have done don't you think the whole story was so lovely because it was true and was someone's life after all that was shared with us all\n",
      "1 = Positive Review 0 = Negative Review \n",
      "label 1\n"
     ]
    }
   ],
   "source": [
    "print(x_train.shape)\n",
    "print(y_train.shape)\n",
    "\n",
    "print(x_train[0])\n",
    "print(y_train[0])\n",
    "\n",
    "\n",
    "print(\" \".join([index_2_word[i] for i in x_train[0]]))\n",
    "\n",
    "print('1 = Positive Review','0 = Negative Review ')\n",
    "print('label',y_train[0])"
   ]
  },
  {
   "cell_type": "markdown",
   "metadata": {
    "slideshow": {
     "slide_type": "slide"
    }
   },
   "source": [
    "**Note:**\n",
    "This data has already been 'tokenized' meaning the text has been pre-processed. In this case made lowercase with punctuation removed. There are many different ways of doing this.\n"
   ]
  },
  {
   "cell_type": "code",
   "execution_count": 20,
   "metadata": {
    "slideshow": {
     "slide_type": "slide"
    }
   },
   "outputs": [
    {
     "name": "stdout",
     "output_type": "stream",
     "text": [
      "Tensor(\"input_5:0\", shape=(?, ?), dtype=float32)\n"
     ]
    }
   ],
   "source": [
    "input_layer=tf.keras.layers.Input( (None,))\n",
    "print(input_layer)"
   ]
  },
  {
   "cell_type": "code",
   "execution_count": 21,
   "metadata": {
    "slideshow": {
     "slide_type": "fragment"
    }
   },
   "outputs": [
    {
     "name": "stdout",
     "output_type": "stream",
     "text": [
      "_________________________________________________________________\n",
      "Layer (type)                 Output Shape              Param #   \n",
      "=================================================================\n",
      "input_5 (InputLayer)         (None, None)              0         \n",
      "_________________________________________________________________\n",
      "embedding (Embedding)        (None, None, 100)         8858700   \n",
      "_________________________________________________________________\n",
      "lstm_1 (LSTM)                (None, 10)                4440      \n",
      "_________________________________________________________________\n",
      "dense_6 (Dense)              (None, 10)                110       \n",
      "_________________________________________________________________\n",
      "leaky_re_lu_3 (LeakyReLU)    (None, 10)                0         \n",
      "_________________________________________________________________\n",
      "dense_7 (Dense)              (None, 1)                 11        \n",
      "=================================================================\n",
      "Total params: 8,863,261\n",
      "Trainable params: 8,863,261\n",
      "Non-trainable params: 0\n",
      "_________________________________________________________________\n"
     ]
    }
   ],
   "source": [
    "nn=tf.keras.layers.Embedding(last_word,100)(input_layer)\n",
    "nn=tf.keras.layers.LSTM(10)(nn)\n",
    "nn=tf.keras.layers.Dense(10)(nn)\n",
    "nn=tf.keras.layers.LeakyReLU()(nn)\n",
    "output=tf.keras.layers.Dense(1,activation='sigmoid')(nn)\n",
    "\n",
    "model=tf.keras.models.Model(input_layer,output)\n",
    "model.compile(loss='binary_crossentropy',optimizer='adam',metrics=['accuracy'])\n",
    "model.summary()"
   ]
  },
  {
   "cell_type": "markdown",
   "metadata": {
    "slideshow": {
     "slide_type": "subslide"
    }
   },
   "source": [
    "## Binary Cross Entropy\n",
    "\n",
    "Our last layer here is using a sigmoid activation, which is bounded between zero and 1\n",
    "\n",
    "<img src=\"../assets/sigmoid.png\">\n",
    "\n",
    "The activation on your last layer has to match your loss function in this case 'Binary Cross-Entropy'\n",
    "<p style=\"text-align: center;\">\n",
    "$L= -1*\\sum_i y_{true,i}*ln(y_{pred,i}) + (1-y_{true,i})*ln(1-y_{pred,i}) $\n",
    "</p>\n",
    "Which is minimized when $y_{pred}=y_{true}$\n"
   ]
  },
  {
   "cell_type": "code",
   "execution_count": 22,
   "metadata": {
    "slideshow": {
     "slide_type": "slide"
    }
   },
   "outputs": [],
   "source": [
    "# We need each batch given to the model to have the same size\n",
    "# For right now we will just make all the data the same size by padding or cropping to a length of 200\n",
    "\n",
    "x_train=tf.keras.preprocessing.sequence.pad_sequences(x_train, maxlen=200, dtype='int32',value=0.0)\n",
    "x_test=tf.keras.preprocessing.sequence.pad_sequences(x_test, maxlen=200, dtype='int32',value=0.0)\n",
    "\n"
   ]
  },
  {
   "cell_type": "code",
   "execution_count": 23,
   "metadata": {
    "slideshow": {
     "slide_type": "slide"
    }
   },
   "outputs": [
    {
     "name": "stdout",
     "output_type": "stream",
     "text": [
      "Train on 25000 samples, validate on 25000 samples\n",
      "Epoch 1/10\n",
      "25000/25000 [==============================] - 137s 5ms/sample - loss: 0.4627 - acc: 0.7792 - val_loss: 0.3602 - val_acc: 0.8487\n",
      "Epoch 2/10\n",
      "25000/25000 [==============================] - 136s 5ms/sample - loss: 0.2134 - acc: 0.9193 - val_loss: 0.3915 - val_acc: 0.8471\n"
     ]
    }
   ],
   "source": [
    "es=tf.keras.callbacks.EarlyStopping(monitor='val_loss', min_delta=0, patience=1, verbose=0, mode='auto')\n",
    "history=model.fit(x_train,y_train,validation_data=(x_test,y_test),epochs=10,callbacks=[es])"
   ]
  },
  {
   "cell_type": "code",
   "execution_count": 24,
   "metadata": {
    "slideshow": {
     "slide_type": "slide"
    }
   },
   "outputs": [],
   "source": [
    "def sentence_2_ints(sentence):\n",
    "    return np.array([[word_2_index[s] for s in sentence.split()]])\n",
    "    \n",
    "    "
   ]
  },
  {
   "cell_type": "code",
   "execution_count": 25,
   "metadata": {
    "slideshow": {
     "slide_type": "slide"
    }
   },
   "outputs": [
    {
     "name": "stdout",
     "output_type": "stream",
     "text": [
      "[[0.87367845]]\n",
      "[[0.5959961]]\n",
      "[[0.73580027]]\n",
      "[[0.10441049]]\n",
      "[[0.44264108]]\n",
      "[[0.3767595]]\n",
      "[[0.3082046]]\n"
     ]
    }
   ],
   "source": [
    "print(model.predict(sentence_2_ints('<START> this movie is the very best i have ever seen') ))\n",
    "\n",
    "print(model.predict(sentence_2_ints('<START> i have mixed feelings about this movie') ))\n",
    "print(model.predict(sentence_2_ints('<START> i have mixed feelings about this movie i may like it in the end') ))\n",
    "\n",
    "print(model.predict(sentence_2_ints('<START> i have never seen a worse film') ))\n",
    "print(model.predict(sentence_2_ints('<START> hi is this where i google the information') ))\n",
    "\n",
    "print(model.predict(sentence_2_ints('<START> star trek') ))\n",
    "print(model.predict(sentence_2_ints('<START> star wars') ))\n"
   ]
  },
  {
   "cell_type": "code",
   "execution_count": null,
   "metadata": {},
   "outputs": [],
   "source": []
  },
  {
   "cell_type": "markdown",
   "metadata": {
    "slideshow": {
     "slide_type": "slide"
    }
   },
   "source": [
    "# A short Menu of other ML layers\n",
    "* Convolutional Layers (Conv1D, Conv2D, Conv3D)\n",
    "    * Input sequences of fixed or varying length best when array values that are close together are correlate i.e pictures\n",
    "    * Output a new sequence normally lower dimension, but with more channels    \n",
    "* Recurrent Neural Networks (RNN, LSTM, GRUS)\n",
    "    * Input sequence\n",
    "    * Output sequence or a fixed dimensional output    \n",
    "\n",
    "* Embedding Network\n",
    "    * A learnable mapping from a large set of integers, to a fixed output\n",
    "    * Input integer\n",
    "    * Ouput vector\n",
    "\n",
    "* Dense Network\n",
    "    * Fixed Input\n",
    "    * Fixed Output\n",
    "\n",
    "* Dropout\n",
    "    * Good at preventing overfitting"
   ]
  },
  {
   "cell_type": "code",
   "execution_count": null,
   "metadata": {},
   "outputs": [],
   "source": []
  }
 ],
 "metadata": {
  "celltoolbar": "Slideshow",
  "kernelspec": {
   "display_name": "Python 3",
   "language": "python",
   "name": "python3"
  },
  "language_info": {
   "codemirror_mode": {
    "name": "ipython",
    "version": 3
   },
   "file_extension": ".py",
   "mimetype": "text/x-python",
   "name": "python",
   "nbconvert_exporter": "python",
   "pygments_lexer": "ipython3",
   "version": "3.6.7"
  }
 },
 "nbformat": 4,
 "nbformat_minor": 2
}
